{
 "cells": [
  {
   "cell_type": "code",
   "id": "initial_id",
   "metadata": {
    "collapsed": true,
    "ExecuteTime": {
     "end_time": "2025-03-26T02:28:29.740131Z",
     "start_time": "2025-03-26T02:28:15.769721Z"
    }
   },
   "source": [
    "import os\n",
    "import torch\n",
    "import pandas as pd\n",
    "import numpy as np\n",
    "from collections import Counter\n",
    "from imblearn.over_sampling import RandomOverSampler\n",
    "from transformers import LongformerTokenizer, LongformerModel, AutoTokenizer, AutoModel\n",
    "from pycaret.classification import *\n",
    "\n",
    "device = torch.device(\"cuda\" if torch.cuda.is_available() else \"cpu\")\n",
    "device"
   ],
   "outputs": [
    {
     "data": {
      "text/plain": [
       "device(type='cpu')"
      ]
     },
     "execution_count": 1,
     "metadata": {},
     "output_type": "execute_result"
    }
   ],
   "execution_count": 1
  },
  {
   "metadata": {
    "ExecuteTime": {
     "end_time": "2025-03-26T02:29:26.102783Z",
     "start_time": "2025-03-26T02:29:26.094783Z"
    }
   },
   "cell_type": "code",
   "source": [
    "# Get the root directory of the project (assuming the notebook is inside \"notebook/\")\n",
    "notebook_dir = os.getcwd()  # Gets the current working directory\n",
    "project_root = os.path.abspath(os.path.join(notebook_dir, \"..\"))  # Moves one level up\n",
    "project_root"
   ],
   "id": "578e2ec766ecb0dd",
   "outputs": [
    {
     "data": {
      "text/plain": [
       "'C:\\\\Users\\\\jeiso\\\\Documents\\\\Maestria\\\\Semestre #1\\\\NLP\\\\IberLEF2025\\\\MentalRiskES'"
      ]
     },
     "execution_count": 2,
     "metadata": {},
     "output_type": "execute_result"
    }
   ],
   "execution_count": 2
  },
  {
   "metadata": {
    "ExecuteTime": {
     "end_time": "2025-03-26T02:29:37.493818Z",
     "start_time": "2025-03-26T02:29:37.312798Z"
    }
   },
   "cell_type": "code",
   "source": [
    "path_dataset = os.path.join(project_root, \"data\", \"dataset_tasks.xlsx\")\n",
    "dataset = pd.read_excel(path_dataset)\n",
    "dataset['message'] = dataset['message'].fillna(\"\").astype(str)\n",
    "dataset.head()"
   ],
   "id": "79e9c339634884f9",
   "outputs": [
    {
     "data": {
      "text/plain": [
       "                                             message label_text  level  label\n",
       "0  el canal del amigo se llama loco por el tradin...    trading      0      1\n",
       "1  ganancia e ganancia chico [SEP] si lo conseguí...    trading      0      1\n",
       "2  fijate cuanto e el margen en negativo y le agr...    trading      1      1\n",
       "3  alguna entradita .. ? [SEP] spot está funciona...    trading      0      1\n",
       "4  voy cargando la escopeta pa longuear alguna mo...    trading      1      1"
      ],
      "text/html": [
       "<div>\n",
       "<style scoped>\n",
       "    .dataframe tbody tr th:only-of-type {\n",
       "        vertical-align: middle;\n",
       "    }\n",
       "\n",
       "    .dataframe tbody tr th {\n",
       "        vertical-align: top;\n",
       "    }\n",
       "\n",
       "    .dataframe thead th {\n",
       "        text-align: right;\n",
       "    }\n",
       "</style>\n",
       "<table border=\"1\" class=\"dataframe\">\n",
       "  <thead>\n",
       "    <tr style=\"text-align: right;\">\n",
       "      <th></th>\n",
       "      <th>message</th>\n",
       "      <th>label_text</th>\n",
       "      <th>level</th>\n",
       "      <th>label</th>\n",
       "    </tr>\n",
       "  </thead>\n",
       "  <tbody>\n",
       "    <tr>\n",
       "      <th>0</th>\n",
       "      <td>el canal del amigo se llama loco por el tradin...</td>\n",
       "      <td>trading</td>\n",
       "      <td>0</td>\n",
       "      <td>1</td>\n",
       "    </tr>\n",
       "    <tr>\n",
       "      <th>1</th>\n",
       "      <td>ganancia e ganancia chico [SEP] si lo conseguí...</td>\n",
       "      <td>trading</td>\n",
       "      <td>0</td>\n",
       "      <td>1</td>\n",
       "    </tr>\n",
       "    <tr>\n",
       "      <th>2</th>\n",
       "      <td>fijate cuanto e el margen en negativo y le agr...</td>\n",
       "      <td>trading</td>\n",
       "      <td>1</td>\n",
       "      <td>1</td>\n",
       "    </tr>\n",
       "    <tr>\n",
       "      <th>3</th>\n",
       "      <td>alguna entradita .. ? [SEP] spot está funciona...</td>\n",
       "      <td>trading</td>\n",
       "      <td>0</td>\n",
       "      <td>1</td>\n",
       "    </tr>\n",
       "    <tr>\n",
       "      <th>4</th>\n",
       "      <td>voy cargando la escopeta pa longuear alguna mo...</td>\n",
       "      <td>trading</td>\n",
       "      <td>1</td>\n",
       "      <td>1</td>\n",
       "    </tr>\n",
       "  </tbody>\n",
       "</table>\n",
       "</div>"
      ]
     },
     "execution_count": 4,
     "metadata": {},
     "output_type": "execute_result"
    }
   ],
   "execution_count": 4
  },
  {
   "metadata": {},
   "cell_type": "markdown",
   "source": "# TASK 1: BINARY CLASSIFICATION",
   "id": "9e50501543cae871"
  },
  {
   "metadata": {
    "ExecuteTime": {
     "end_time": "2025-03-26T02:29:41.453394Z",
     "start_time": "2025-03-26T02:29:41.449394Z"
    }
   },
   "cell_type": "code",
   "source": [
    "x_task1 = dataset['message']\n",
    "y_task1 = dataset['level']"
   ],
   "id": "7713a639d317c6d4",
   "outputs": [],
   "execution_count": 5
  },
  {
   "metadata": {
    "ExecuteTime": {
     "end_time": "2025-03-26T02:29:52.709950Z",
     "start_time": "2025-03-26T02:29:51.740069Z"
    }
   },
   "cell_type": "code",
   "source": [
    "# load model and tokenizer\n",
    "\n",
    "# Longformer\n",
    "model_name = \"PlanTL-GOB-ES/longformer-base-4096-bne-es\"\n",
    "tokenizer = LongformerTokenizer.from_pretrained(model_name)\n",
    "model = LongformerModel.from_pretrained(model_name).to(device)\n",
    "\n",
    "# BETO\n",
    "# model_name = \"dccuchile/bert-base-spanish-wwm-cased\"\n",
    "# tokenizer = AutoTokenizer.from_pretrained(model_name)\n",
    "# model = AutoModel.from_pretrained(model_name).to(device)"
   ],
   "id": "ed352186066d7533",
   "outputs": [
    {
     "name": "stderr",
     "output_type": "stream",
     "text": [
      "The tokenizer class you load from this checkpoint is not the same type as the class this function is called from. It may result in unexpected tokenization. \n",
      "The tokenizer class you load from this checkpoint is 'RobertaTokenizer'. \n",
      "The class this function is called from is 'LongformerTokenizer'.\n",
      "Some weights of LongformerModel were not initialized from the model checkpoint at PlanTL-GOB-ES/longformer-base-4096-bne-es and are newly initialized: ['longformer.pooler.dense.bias', 'longformer.pooler.dense.weight']\n",
      "You should probably TRAIN this model on a down-stream task to be able to use it for predictions and inference.\n"
     ]
    }
   ],
   "execution_count": 6
  },
  {
   "metadata": {
    "ExecuteTime": {
     "end_time": "2025-03-26T02:43:15.567922Z",
     "start_time": "2025-03-26T02:29:56.105255Z"
    }
   },
   "cell_type": "code",
   "source": [
    "def get_longformer_embedding(text):\n",
    "    inputs = tokenizer(\n",
    "        text,\n",
    "        return_tensors=\"pt\",\n",
    "        truncation=True,\n",
    "        padding=\"max_length\",\n",
    "        max_length=4096\n",
    "    )\n",
    "    # Mover los tensores de entrada a GPU\n",
    "    inputs = {k: v.to(device) for k, v in inputs.items()}\n",
    "    with torch.no_grad():\n",
    "        outputs = model(**inputs)\n",
    "    # Convertir los resultados a CPU para trabajar con numpy\n",
    "    return outputs.last_hidden_state.mean(dim=1).squeeze().cpu().numpy()\n",
    "\n",
    "# Aplicamos la función a todos los mensajes\n",
    "x_task1_embeddings = np.array([get_longformer_embedding(text) for text in x_task1])"
   ],
   "id": "988b0b2ee2599394",
   "outputs": [],
   "execution_count": 7
  },
  {
   "metadata": {
    "ExecuteTime": {
     "end_time": "2025-03-23T03:09:28.512157Z",
     "start_time": "2025-03-23T03:09:28.504152Z"
    }
   },
   "cell_type": "code",
   "source": "x_task1_embeddings",
   "id": "7a1eca9924ab5381",
   "outputs": [
    {
     "data": {
      "text/plain": [
       "array([[-0.01389358, -0.20139731, -0.13571012, ...,  0.15468991,\n",
       "        -0.3734635 ,  0.13759978],\n",
       "       [-0.02577653, -0.18896374, -0.08829255, ...,  0.12269702,\n",
       "        -0.3488162 ,  0.12038291],\n",
       "       [-0.03637802, -0.19033602, -0.06889474, ...,  0.11036424,\n",
       "        -0.3143504 ,  0.11575615],\n",
       "       ...,\n",
       "       [ 0.02749947, -0.2446506 , -0.23755276, ...,  0.19614716,\n",
       "        -0.41240108,  0.16012979],\n",
       "       [ 0.02731508, -0.24558362, -0.23764598, ...,  0.19622123,\n",
       "        -0.4123838 ,  0.15980375],\n",
       "       [ 0.02829135, -0.24712177, -0.23836268, ...,  0.19791567,\n",
       "        -0.41369712,  0.16134548]], dtype=float32)"
      ]
     },
     "execution_count": 7,
     "metadata": {},
     "output_type": "execute_result"
    }
   ],
   "execution_count": 7
  },
  {
   "metadata": {
    "ExecuteTime": {
     "end_time": "2025-03-23T03:09:37.550190Z",
     "start_time": "2025-03-23T03:09:37.535203Z"
    }
   },
   "cell_type": "code",
   "source": "print('**Sample train:', sorted(Counter(y_task1).items()))",
   "id": "bd29c562e5ba1fc2",
   "outputs": [
    {
     "name": "stdout",
     "output_type": "stream",
     "text": [
      "**Sample train: [(0, 178), (1, 231)]\n"
     ]
    }
   ],
   "execution_count": 8
  },
  {
   "metadata": {
    "ExecuteTime": {
     "end_time": "2025-03-23T03:09:39.449543Z",
     "start_time": "2025-03-23T03:09:39.441542Z"
    }
   },
   "cell_type": "code",
   "source": [
    "# We create an instance of RandomOverSampler to balance the classes.\n",
    "# - random_state=10000: A seed is set for reproducibility.\n",
    "\n",
    "ros_task1 = RandomOverSampler(random_state=10000)\n",
    "\n",
    "# We apply oversampling to generate new instances of the minority classes to equal the amount of the majority class.\n",
    "x_task1, y_task1 = ros_task1.fit_resample(x_task1_embeddings, y_task1)\n",
    "\n",
    "# We show the distribution of classes after oversampling.\n",
    "print('**OverSample train:', sorted(Counter(y_task1).items()))"
   ],
   "id": "b788adac722ed003",
   "outputs": [
    {
     "name": "stdout",
     "output_type": "stream",
     "text": [
      "**OverSample train: [(0, 231), (1, 231)]\n"
     ]
    }
   ],
   "execution_count": 9
  },
  {
   "metadata": {
    "ExecuteTime": {
     "end_time": "2025-03-23T03:09:41.618938Z",
     "start_time": "2025-03-23T03:09:41.612934Z"
    }
   },
   "cell_type": "code",
   "source": "x_task1",
   "id": "d14b3192e7b6b79",
   "outputs": [
    {
     "data": {
      "text/plain": [
       "array([[-0.01389358, -0.20139731, -0.13571012, ...,  0.15468991,\n",
       "        -0.3734635 ,  0.13759978],\n",
       "       [-0.02577653, -0.18896374, -0.08829255, ...,  0.12269702,\n",
       "        -0.3488162 ,  0.12038291],\n",
       "       [-0.03637802, -0.19033602, -0.06889474, ...,  0.11036424,\n",
       "        -0.3143504 ,  0.11575615],\n",
       "       ...,\n",
       "       [-0.02577653, -0.18896374, -0.08829255, ...,  0.12269702,\n",
       "        -0.3488162 ,  0.12038291],\n",
       "       [ 0.02551345, -0.24446988, -0.23358415, ...,  0.1940257 ,\n",
       "        -0.41138715,  0.159543  ],\n",
       "       [ 0.02655768, -0.24491458, -0.23420362, ...,  0.19573209,\n",
       "        -0.41067088,  0.16035587]], dtype=float32)"
      ]
     },
     "execution_count": 10,
     "metadata": {},
     "output_type": "execute_result"
    }
   ],
   "execution_count": 10
  },
  {
   "metadata": {
    "ExecuteTime": {
     "end_time": "2025-03-23T03:09:47.936037Z",
     "start_time": "2025-03-23T03:09:46.159833Z"
    }
   },
   "cell_type": "code",
   "source": [
    "setup_task1 = setup(\n",
    "    data=x_task1, # Input data set (feature matrix)\n",
    "    target=y_task1, # Target variable (classification labels)\n",
    "    session_id=123, # Random seed to ensure reproducibility\n",
    "    train_size=0.8, # Percentage of data used for training (80%)\n",
    "    log_experiment=True, # Enable experiment logging (mlflow)\n",
    "    experiment_name='Mentalrisk_task1' # Name of experiment for tracking (mlflow)\n",
    ")"
   ],
   "id": "75dc176106b681fd",
   "outputs": [
    {
     "data": {
      "text/plain": [
       "<pandas.io.formats.style.Styler at 0x2afaf3ef310>"
      ],
      "text/html": [
       "<style type=\"text/css\">\n",
       "#T_49cac_row8_col1 {\n",
       "  background-color: lightgreen;\n",
       "}\n",
       "</style>\n",
       "<table id=\"T_49cac\">\n",
       "  <thead>\n",
       "    <tr>\n",
       "      <th class=\"blank level0\" >&nbsp;</th>\n",
       "      <th id=\"T_49cac_level0_col0\" class=\"col_heading level0 col0\" >Description</th>\n",
       "      <th id=\"T_49cac_level0_col1\" class=\"col_heading level0 col1\" >Value</th>\n",
       "    </tr>\n",
       "  </thead>\n",
       "  <tbody>\n",
       "    <tr>\n",
       "      <th id=\"T_49cac_level0_row0\" class=\"row_heading level0 row0\" >0</th>\n",
       "      <td id=\"T_49cac_row0_col0\" class=\"data row0 col0\" >Session id</td>\n",
       "      <td id=\"T_49cac_row0_col1\" class=\"data row0 col1\" >123</td>\n",
       "    </tr>\n",
       "    <tr>\n",
       "      <th id=\"T_49cac_level0_row1\" class=\"row_heading level0 row1\" >1</th>\n",
       "      <td id=\"T_49cac_row1_col0\" class=\"data row1 col0\" >Target</td>\n",
       "      <td id=\"T_49cac_row1_col1\" class=\"data row1 col1\" >level</td>\n",
       "    </tr>\n",
       "    <tr>\n",
       "      <th id=\"T_49cac_level0_row2\" class=\"row_heading level0 row2\" >2</th>\n",
       "      <td id=\"T_49cac_row2_col0\" class=\"data row2 col0\" >Target type</td>\n",
       "      <td id=\"T_49cac_row2_col1\" class=\"data row2 col1\" >Binary</td>\n",
       "    </tr>\n",
       "    <tr>\n",
       "      <th id=\"T_49cac_level0_row3\" class=\"row_heading level0 row3\" >3</th>\n",
       "      <td id=\"T_49cac_row3_col0\" class=\"data row3 col0\" >Original data shape</td>\n",
       "      <td id=\"T_49cac_row3_col1\" class=\"data row3 col1\" >(462, 769)</td>\n",
       "    </tr>\n",
       "    <tr>\n",
       "      <th id=\"T_49cac_level0_row4\" class=\"row_heading level0 row4\" >4</th>\n",
       "      <td id=\"T_49cac_row4_col0\" class=\"data row4 col0\" >Transformed data shape</td>\n",
       "      <td id=\"T_49cac_row4_col1\" class=\"data row4 col1\" >(462, 769)</td>\n",
       "    </tr>\n",
       "    <tr>\n",
       "      <th id=\"T_49cac_level0_row5\" class=\"row_heading level0 row5\" >5</th>\n",
       "      <td id=\"T_49cac_row5_col0\" class=\"data row5 col0\" >Transformed train set shape</td>\n",
       "      <td id=\"T_49cac_row5_col1\" class=\"data row5 col1\" >(369, 769)</td>\n",
       "    </tr>\n",
       "    <tr>\n",
       "      <th id=\"T_49cac_level0_row6\" class=\"row_heading level0 row6\" >6</th>\n",
       "      <td id=\"T_49cac_row6_col0\" class=\"data row6 col0\" >Transformed test set shape</td>\n",
       "      <td id=\"T_49cac_row6_col1\" class=\"data row6 col1\" >(93, 769)</td>\n",
       "    </tr>\n",
       "    <tr>\n",
       "      <th id=\"T_49cac_level0_row7\" class=\"row_heading level0 row7\" >7</th>\n",
       "      <td id=\"T_49cac_row7_col0\" class=\"data row7 col0\" >Numeric features</td>\n",
       "      <td id=\"T_49cac_row7_col1\" class=\"data row7 col1\" >768</td>\n",
       "    </tr>\n",
       "    <tr>\n",
       "      <th id=\"T_49cac_level0_row8\" class=\"row_heading level0 row8\" >8</th>\n",
       "      <td id=\"T_49cac_row8_col0\" class=\"data row8 col0\" >Preprocess</td>\n",
       "      <td id=\"T_49cac_row8_col1\" class=\"data row8 col1\" >True</td>\n",
       "    </tr>\n",
       "    <tr>\n",
       "      <th id=\"T_49cac_level0_row9\" class=\"row_heading level0 row9\" >9</th>\n",
       "      <td id=\"T_49cac_row9_col0\" class=\"data row9 col0\" >Imputation type</td>\n",
       "      <td id=\"T_49cac_row9_col1\" class=\"data row9 col1\" >simple</td>\n",
       "    </tr>\n",
       "    <tr>\n",
       "      <th id=\"T_49cac_level0_row10\" class=\"row_heading level0 row10\" >10</th>\n",
       "      <td id=\"T_49cac_row10_col0\" class=\"data row10 col0\" >Numeric imputation</td>\n",
       "      <td id=\"T_49cac_row10_col1\" class=\"data row10 col1\" >mean</td>\n",
       "    </tr>\n",
       "    <tr>\n",
       "      <th id=\"T_49cac_level0_row11\" class=\"row_heading level0 row11\" >11</th>\n",
       "      <td id=\"T_49cac_row11_col0\" class=\"data row11 col0\" >Categorical imputation</td>\n",
       "      <td id=\"T_49cac_row11_col1\" class=\"data row11 col1\" >mode</td>\n",
       "    </tr>\n",
       "    <tr>\n",
       "      <th id=\"T_49cac_level0_row12\" class=\"row_heading level0 row12\" >12</th>\n",
       "      <td id=\"T_49cac_row12_col0\" class=\"data row12 col0\" >Fold Generator</td>\n",
       "      <td id=\"T_49cac_row12_col1\" class=\"data row12 col1\" >StratifiedKFold</td>\n",
       "    </tr>\n",
       "    <tr>\n",
       "      <th id=\"T_49cac_level0_row13\" class=\"row_heading level0 row13\" >13</th>\n",
       "      <td id=\"T_49cac_row13_col0\" class=\"data row13 col0\" >Fold Number</td>\n",
       "      <td id=\"T_49cac_row13_col1\" class=\"data row13 col1\" >10</td>\n",
       "    </tr>\n",
       "    <tr>\n",
       "      <th id=\"T_49cac_level0_row14\" class=\"row_heading level0 row14\" >14</th>\n",
       "      <td id=\"T_49cac_row14_col0\" class=\"data row14 col0\" >CPU Jobs</td>\n",
       "      <td id=\"T_49cac_row14_col1\" class=\"data row14 col1\" >-1</td>\n",
       "    </tr>\n",
       "    <tr>\n",
       "      <th id=\"T_49cac_level0_row15\" class=\"row_heading level0 row15\" >15</th>\n",
       "      <td id=\"T_49cac_row15_col0\" class=\"data row15 col0\" >Use GPU</td>\n",
       "      <td id=\"T_49cac_row15_col1\" class=\"data row15 col1\" >False</td>\n",
       "    </tr>\n",
       "    <tr>\n",
       "      <th id=\"T_49cac_level0_row16\" class=\"row_heading level0 row16\" >16</th>\n",
       "      <td id=\"T_49cac_row16_col0\" class=\"data row16 col0\" >Log Experiment</td>\n",
       "      <td id=\"T_49cac_row16_col1\" class=\"data row16 col1\" >MlflowLogger</td>\n",
       "    </tr>\n",
       "    <tr>\n",
       "      <th id=\"T_49cac_level0_row17\" class=\"row_heading level0 row17\" >17</th>\n",
       "      <td id=\"T_49cac_row17_col0\" class=\"data row17 col0\" >Experiment Name</td>\n",
       "      <td id=\"T_49cac_row17_col1\" class=\"data row17 col1\" >Mentalrisk_task1</td>\n",
       "    </tr>\n",
       "    <tr>\n",
       "      <th id=\"T_49cac_level0_row18\" class=\"row_heading level0 row18\" >18</th>\n",
       "      <td id=\"T_49cac_row18_col0\" class=\"data row18 col0\" >USI</td>\n",
       "      <td id=\"T_49cac_row18_col1\" class=\"data row18 col1\" >ce8b</td>\n",
       "    </tr>\n",
       "  </tbody>\n",
       "</table>\n"
      ]
     },
     "metadata": {},
     "output_type": "display_data"
    }
   ],
   "execution_count": 11
  },
  {
   "metadata": {
    "ExecuteTime": {
     "end_time": "2025-03-23T03:10:17.269890Z",
     "start_time": "2025-03-23T03:09:53.690187Z"
    }
   },
   "cell_type": "code",
   "source": [
    "# We compared multiple classification models using cross-validation with 10 folds.\n",
    "model_task1 = compare_models(fold=10)"
   ],
   "id": "37e9ab1d8482eb9f",
   "outputs": [
    {
     "data": {
      "text/plain": [
       "                                                                    \n",
       "                                                                    \n",
       "Initiated  . . . . . . . . . . . . . . . . . .              22:09:53\n",
       "Status     . . . . . . . . . . . . . . . . . .  Loading Dependencies\n",
       "Estimator  . . . . . . . . . . . . . . . . . .     Compiling Library"
      ],
      "text/html": [
       "<div>\n",
       "<style scoped>\n",
       "    .dataframe tbody tr th:only-of-type {\n",
       "        vertical-align: middle;\n",
       "    }\n",
       "\n",
       "    .dataframe tbody tr th {\n",
       "        vertical-align: top;\n",
       "    }\n",
       "\n",
       "    .dataframe thead th {\n",
       "        text-align: right;\n",
       "    }\n",
       "</style>\n",
       "<table border=\"1\" class=\"dataframe\">\n",
       "  <thead>\n",
       "    <tr style=\"text-align: right;\">\n",
       "      <th></th>\n",
       "      <th></th>\n",
       "      <th></th>\n",
       "    </tr>\n",
       "    <tr>\n",
       "      <th></th>\n",
       "      <th></th>\n",
       "      <th></th>\n",
       "    </tr>\n",
       "  </thead>\n",
       "  <tbody>\n",
       "    <tr>\n",
       "      <th>Initiated</th>\n",
       "      <td>. . . . . . . . . . . . . . . . . .</td>\n",
       "      <td>22:09:53</td>\n",
       "    </tr>\n",
       "    <tr>\n",
       "      <th>Status</th>\n",
       "      <td>. . . . . . . . . . . . . . . . . .</td>\n",
       "      <td>Loading Dependencies</td>\n",
       "    </tr>\n",
       "    <tr>\n",
       "      <th>Estimator</th>\n",
       "      <td>. . . . . . . . . . . . . . . . . .</td>\n",
       "      <td>Compiling Library</td>\n",
       "    </tr>\n",
       "  </tbody>\n",
       "</table>\n",
       "</div>"
      ]
     },
     "metadata": {},
     "output_type": "display_data"
    },
    {
     "data": {
      "text/plain": [
       "<IPython.core.display.HTML object>"
      ],
      "text/html": []
     },
     "metadata": {},
     "output_type": "display_data"
    },
    {
     "data": {
      "text/plain": [
       "<pandas.io.formats.style.Styler at 0x2b0381f4a90>"
      ],
      "text/html": [
       "<style type=\"text/css\">\n",
       "#T_0a2c0 th {\n",
       "  text-align: left;\n",
       "}\n",
       "#T_0a2c0_row0_col0, #T_0a2c0_row0_col2, #T_0a2c0_row0_col3, #T_0a2c0_row0_col5, #T_0a2c0_row1_col0, #T_0a2c0_row1_col1, #T_0a2c0_row1_col2, #T_0a2c0_row1_col3, #T_0a2c0_row1_col4, #T_0a2c0_row1_col5, #T_0a2c0_row1_col6, #T_0a2c0_row1_col7, #T_0a2c0_row2_col0, #T_0a2c0_row2_col1, #T_0a2c0_row2_col3, #T_0a2c0_row2_col4, #T_0a2c0_row2_col5, #T_0a2c0_row2_col6, #T_0a2c0_row2_col7, #T_0a2c0_row3_col0, #T_0a2c0_row3_col1, #T_0a2c0_row3_col2, #T_0a2c0_row3_col3, #T_0a2c0_row3_col4, #T_0a2c0_row3_col5, #T_0a2c0_row3_col6, #T_0a2c0_row3_col7, #T_0a2c0_row4_col0, #T_0a2c0_row4_col1, #T_0a2c0_row4_col2, #T_0a2c0_row4_col3, #T_0a2c0_row4_col4, #T_0a2c0_row4_col5, #T_0a2c0_row4_col6, #T_0a2c0_row4_col7, #T_0a2c0_row5_col0, #T_0a2c0_row5_col1, #T_0a2c0_row5_col2, #T_0a2c0_row5_col3, #T_0a2c0_row5_col4, #T_0a2c0_row5_col5, #T_0a2c0_row5_col6, #T_0a2c0_row5_col7, #T_0a2c0_row6_col0, #T_0a2c0_row6_col1, #T_0a2c0_row6_col2, #T_0a2c0_row6_col4, #T_0a2c0_row6_col6, #T_0a2c0_row6_col7, #T_0a2c0_row7_col0, #T_0a2c0_row7_col1, #T_0a2c0_row7_col2, #T_0a2c0_row7_col3, #T_0a2c0_row7_col4, #T_0a2c0_row7_col5, #T_0a2c0_row7_col6, #T_0a2c0_row7_col7, #T_0a2c0_row8_col0, #T_0a2c0_row8_col1, #T_0a2c0_row8_col2, #T_0a2c0_row8_col3, #T_0a2c0_row8_col4, #T_0a2c0_row8_col5, #T_0a2c0_row8_col6, #T_0a2c0_row8_col7, #T_0a2c0_row9_col0, #T_0a2c0_row9_col1, #T_0a2c0_row9_col2, #T_0a2c0_row9_col3, #T_0a2c0_row9_col4, #T_0a2c0_row9_col5, #T_0a2c0_row9_col6, #T_0a2c0_row9_col7, #T_0a2c0_row10_col0, #T_0a2c0_row10_col1, #T_0a2c0_row10_col2, #T_0a2c0_row10_col3, #T_0a2c0_row10_col4, #T_0a2c0_row10_col5, #T_0a2c0_row10_col6, #T_0a2c0_row10_col7, #T_0a2c0_row11_col0, #T_0a2c0_row11_col1, #T_0a2c0_row11_col2, #T_0a2c0_row11_col3, #T_0a2c0_row11_col4, #T_0a2c0_row11_col5, #T_0a2c0_row11_col6, #T_0a2c0_row11_col7, #T_0a2c0_row12_col0, #T_0a2c0_row12_col1, #T_0a2c0_row12_col2, #T_0a2c0_row12_col3, #T_0a2c0_row12_col4, #T_0a2c0_row12_col5, #T_0a2c0_row12_col6, #T_0a2c0_row12_col7, #T_0a2c0_row13_col0, #T_0a2c0_row13_col1, #T_0a2c0_row13_col2, #T_0a2c0_row13_col3, #T_0a2c0_row13_col4, #T_0a2c0_row13_col5, #T_0a2c0_row13_col6, #T_0a2c0_row13_col7 {\n",
       "  text-align: left;\n",
       "}\n",
       "#T_0a2c0_row0_col1, #T_0a2c0_row0_col4, #T_0a2c0_row0_col6, #T_0a2c0_row0_col7, #T_0a2c0_row2_col2, #T_0a2c0_row6_col3, #T_0a2c0_row6_col5 {\n",
       "  text-align: left;\n",
       "  background-color: yellow;\n",
       "}\n",
       "#T_0a2c0_row0_col8, #T_0a2c0_row1_col8, #T_0a2c0_row2_col8, #T_0a2c0_row3_col8, #T_0a2c0_row4_col8, #T_0a2c0_row5_col8, #T_0a2c0_row6_col8, #T_0a2c0_row7_col8, #T_0a2c0_row8_col8, #T_0a2c0_row9_col8, #T_0a2c0_row10_col8, #T_0a2c0_row12_col8, #T_0a2c0_row13_col8 {\n",
       "  text-align: left;\n",
       "  background-color: lightgrey;\n",
       "}\n",
       "#T_0a2c0_row11_col8 {\n",
       "  text-align: left;\n",
       "  background-color: yellow;\n",
       "  background-color: lightgrey;\n",
       "}\n",
       "</style>\n",
       "<table id=\"T_0a2c0\">\n",
       "  <thead>\n",
       "    <tr>\n",
       "      <th class=\"blank level0\" >&nbsp;</th>\n",
       "      <th id=\"T_0a2c0_level0_col0\" class=\"col_heading level0 col0\" >Model</th>\n",
       "      <th id=\"T_0a2c0_level0_col1\" class=\"col_heading level0 col1\" >Accuracy</th>\n",
       "      <th id=\"T_0a2c0_level0_col2\" class=\"col_heading level0 col2\" >AUC</th>\n",
       "      <th id=\"T_0a2c0_level0_col3\" class=\"col_heading level0 col3\" >Recall</th>\n",
       "      <th id=\"T_0a2c0_level0_col4\" class=\"col_heading level0 col4\" >Prec.</th>\n",
       "      <th id=\"T_0a2c0_level0_col5\" class=\"col_heading level0 col5\" >F1</th>\n",
       "      <th id=\"T_0a2c0_level0_col6\" class=\"col_heading level0 col6\" >Kappa</th>\n",
       "      <th id=\"T_0a2c0_level0_col7\" class=\"col_heading level0 col7\" >MCC</th>\n",
       "      <th id=\"T_0a2c0_level0_col8\" class=\"col_heading level0 col8\" >TT (Sec)</th>\n",
       "    </tr>\n",
       "  </thead>\n",
       "  <tbody>\n",
       "    <tr>\n",
       "      <th id=\"T_0a2c0_level0_row0\" class=\"row_heading level0 row0\" >rf</th>\n",
       "      <td id=\"T_0a2c0_row0_col0\" class=\"data row0 col0\" >Random Forest Classifier</td>\n",
       "      <td id=\"T_0a2c0_row0_col1\" class=\"data row0 col1\" >0.7530</td>\n",
       "      <td id=\"T_0a2c0_row0_col2\" class=\"data row0 col2\" >0.8279</td>\n",
       "      <td id=\"T_0a2c0_row0_col3\" class=\"data row0 col3\" >0.6909</td>\n",
       "      <td id=\"T_0a2c0_row0_col4\" class=\"data row0 col4\" >0.7926</td>\n",
       "      <td id=\"T_0a2c0_row0_col5\" class=\"data row0 col5\" >0.7351</td>\n",
       "      <td id=\"T_0a2c0_row0_col6\" class=\"data row0 col6\" >0.5059</td>\n",
       "      <td id=\"T_0a2c0_row0_col7\" class=\"data row0 col7\" >0.5128</td>\n",
       "      <td id=\"T_0a2c0_row0_col8\" class=\"data row0 col8\" >0.0570</td>\n",
       "    </tr>\n",
       "    <tr>\n",
       "      <th id=\"T_0a2c0_level0_row1\" class=\"row_heading level0 row1\" >lightgbm</th>\n",
       "      <td id=\"T_0a2c0_row1_col0\" class=\"data row1 col0\" >Light Gradient Boosting Machine</td>\n",
       "      <td id=\"T_0a2c0_row1_col1\" class=\"data row1 col1\" >0.7394</td>\n",
       "      <td id=\"T_0a2c0_row1_col2\" class=\"data row1 col2\" >0.8393</td>\n",
       "      <td id=\"T_0a2c0_row1_col3\" class=\"data row1 col3\" >0.7079</td>\n",
       "      <td id=\"T_0a2c0_row1_col4\" class=\"data row1 col4\" >0.7620</td>\n",
       "      <td id=\"T_0a2c0_row1_col5\" class=\"data row1 col5\" >0.7295</td>\n",
       "      <td id=\"T_0a2c0_row1_col6\" class=\"data row1 col6\" >0.4788</td>\n",
       "      <td id=\"T_0a2c0_row1_col7\" class=\"data row1 col7\" >0.4848</td>\n",
       "      <td id=\"T_0a2c0_row1_col8\" class=\"data row1 col8\" >0.1380</td>\n",
       "    </tr>\n",
       "    <tr>\n",
       "      <th id=\"T_0a2c0_level0_row2\" class=\"row_heading level0 row2\" >gbc</th>\n",
       "      <td id=\"T_0a2c0_row2_col0\" class=\"data row2 col0\" >Gradient Boosting Classifier</td>\n",
       "      <td id=\"T_0a2c0_row2_col1\" class=\"data row2 col1\" >0.7369</td>\n",
       "      <td id=\"T_0a2c0_row2_col2\" class=\"data row2 col2\" >0.8462</td>\n",
       "      <td id=\"T_0a2c0_row2_col3\" class=\"data row2 col3\" >0.6746</td>\n",
       "      <td id=\"T_0a2c0_row2_col4\" class=\"data row2 col4\" >0.7720</td>\n",
       "      <td id=\"T_0a2c0_row2_col5\" class=\"data row2 col5\" >0.7163</td>\n",
       "      <td id=\"T_0a2c0_row2_col6\" class=\"data row2 col6\" >0.4732</td>\n",
       "      <td id=\"T_0a2c0_row2_col7\" class=\"data row2 col7\" >0.4794</td>\n",
       "      <td id=\"T_0a2c0_row2_col8\" class=\"data row2 col8\" >0.5980</td>\n",
       "    </tr>\n",
       "    <tr>\n",
       "      <th id=\"T_0a2c0_level0_row3\" class=\"row_heading level0 row3\" >ada</th>\n",
       "      <td id=\"T_0a2c0_row3_col0\" class=\"data row3 col0\" >Ada Boost Classifier</td>\n",
       "      <td id=\"T_0a2c0_row3_col1\" class=\"data row3 col1\" >0.7289</td>\n",
       "      <td id=\"T_0a2c0_row3_col2\" class=\"data row3 col2\" >0.7762</td>\n",
       "      <td id=\"T_0a2c0_row3_col3\" class=\"data row3 col3\" >0.6699</td>\n",
       "      <td id=\"T_0a2c0_row3_col4\" class=\"data row3 col4\" >0.7780</td>\n",
       "      <td id=\"T_0a2c0_row3_col5\" class=\"data row3 col5\" >0.7108</td>\n",
       "      <td id=\"T_0a2c0_row3_col6\" class=\"data row3 col6\" >0.4579</td>\n",
       "      <td id=\"T_0a2c0_row3_col7\" class=\"data row3 col7\" >0.4712</td>\n",
       "      <td id=\"T_0a2c0_row3_col8\" class=\"data row3 col8\" >0.1320</td>\n",
       "    </tr>\n",
       "    <tr>\n",
       "      <th id=\"T_0a2c0_level0_row4\" class=\"row_heading level0 row4\" >et</th>\n",
       "      <td id=\"T_0a2c0_row4_col0\" class=\"data row4 col0\" >Extra Trees Classifier</td>\n",
       "      <td id=\"T_0a2c0_row4_col1\" class=\"data row4 col1\" >0.7177</td>\n",
       "      <td id=\"T_0a2c0_row4_col2\" class=\"data row4 col2\" >0.8167</td>\n",
       "      <td id=\"T_0a2c0_row4_col3\" class=\"data row4 col3\" >0.6640</td>\n",
       "      <td id=\"T_0a2c0_row4_col4\" class=\"data row4 col4\" >0.7460</td>\n",
       "      <td id=\"T_0a2c0_row4_col5\" class=\"data row4 col5\" >0.6948</td>\n",
       "      <td id=\"T_0a2c0_row4_col6\" class=\"data row4 col6\" >0.4350</td>\n",
       "      <td id=\"T_0a2c0_row4_col7\" class=\"data row4 col7\" >0.4430</td>\n",
       "      <td id=\"T_0a2c0_row4_col8\" class=\"data row4 col8\" >0.0400</td>\n",
       "    </tr>\n",
       "    <tr>\n",
       "      <th id=\"T_0a2c0_level0_row5\" class=\"row_heading level0 row5\" >dt</th>\n",
       "      <td id=\"T_0a2c0_row5_col0\" class=\"data row5 col0\" >Decision Tree Classifier</td>\n",
       "      <td id=\"T_0a2c0_row5_col1\" class=\"data row5 col1\" >0.6856</td>\n",
       "      <td id=\"T_0a2c0_row5_col2\" class=\"data row5 col2\" >0.6855</td>\n",
       "      <td id=\"T_0a2c0_row5_col3\" class=\"data row5 col3\" >0.6801</td>\n",
       "      <td id=\"T_0a2c0_row5_col4\" class=\"data row5 col4\" >0.6881</td>\n",
       "      <td id=\"T_0a2c0_row5_col5\" class=\"data row5 col5\" >0.6810</td>\n",
       "      <td id=\"T_0a2c0_row5_col6\" class=\"data row5 col6\" >0.3709</td>\n",
       "      <td id=\"T_0a2c0_row5_col7\" class=\"data row5 col7\" >0.3750</td>\n",
       "      <td id=\"T_0a2c0_row5_col8\" class=\"data row5 col8\" >0.0320</td>\n",
       "    </tr>\n",
       "    <tr>\n",
       "      <th id=\"T_0a2c0_level0_row6\" class=\"row_heading level0 row6\" >qda</th>\n",
       "      <td id=\"T_0a2c0_row6_col0\" class=\"data row6 col0\" >Quadratic Discriminant Analysis</td>\n",
       "      <td id=\"T_0a2c0_row6_col1\" class=\"data row6 col1\" >0.6586</td>\n",
       "      <td id=\"T_0a2c0_row6_col2\" class=\"data row6 col2\" >0.5829</td>\n",
       "      <td id=\"T_0a2c0_row6_col3\" class=\"data row6 col3\" >0.9895</td>\n",
       "      <td id=\"T_0a2c0_row6_col4\" class=\"data row6 col4\" >0.5980</td>\n",
       "      <td id=\"T_0a2c0_row6_col5\" class=\"data row6 col5\" >0.7445</td>\n",
       "      <td id=\"T_0a2c0_row6_col6\" class=\"data row6 col6\" >0.3156</td>\n",
       "      <td id=\"T_0a2c0_row6_col7\" class=\"data row6 col7\" >0.4241</td>\n",
       "      <td id=\"T_0a2c0_row6_col8\" class=\"data row6 col8\" >0.0250</td>\n",
       "    </tr>\n",
       "    <tr>\n",
       "      <th id=\"T_0a2c0_level0_row7\" class=\"row_heading level0 row7\" >knn</th>\n",
       "      <td id=\"T_0a2c0_row7_col0\" class=\"data row7 col0\" >K Neighbors Classifier</td>\n",
       "      <td id=\"T_0a2c0_row7_col1\" class=\"data row7 col1\" >0.6583</td>\n",
       "      <td id=\"T_0a2c0_row7_col2\" class=\"data row7 col2\" >0.7163</td>\n",
       "      <td id=\"T_0a2c0_row7_col3\" class=\"data row7 col3\" >0.5626</td>\n",
       "      <td id=\"T_0a2c0_row7_col4\" class=\"data row7 col4\" >0.6996</td>\n",
       "      <td id=\"T_0a2c0_row7_col5\" class=\"data row7 col5\" >0.6196</td>\n",
       "      <td id=\"T_0a2c0_row7_col6\" class=\"data row7 col6\" >0.3179</td>\n",
       "      <td id=\"T_0a2c0_row7_col7\" class=\"data row7 col7\" >0.3263</td>\n",
       "      <td id=\"T_0a2c0_row7_col8\" class=\"data row7 col8\" >0.1980</td>\n",
       "    </tr>\n",
       "    <tr>\n",
       "      <th id=\"T_0a2c0_level0_row8\" class=\"row_heading level0 row8\" >lda</th>\n",
       "      <td id=\"T_0a2c0_row8_col0\" class=\"data row8 col0\" >Linear Discriminant Analysis</td>\n",
       "      <td id=\"T_0a2c0_row8_col1\" class=\"data row8 col1\" >0.6342</td>\n",
       "      <td id=\"T_0a2c0_row8_col2\" class=\"data row8 col2\" >0.6181</td>\n",
       "      <td id=\"T_0a2c0_row8_col3\" class=\"data row8 col3\" >0.6582</td>\n",
       "      <td id=\"T_0a2c0_row8_col4\" class=\"data row8 col4\" >0.6359</td>\n",
       "      <td id=\"T_0a2c0_row8_col5\" class=\"data row8 col5\" >0.6437</td>\n",
       "      <td id=\"T_0a2c0_row8_col6\" class=\"data row8 col6\" >0.2662</td>\n",
       "      <td id=\"T_0a2c0_row8_col7\" class=\"data row8 col7\" >0.2691</td>\n",
       "      <td id=\"T_0a2c0_row8_col8\" class=\"data row8 col8\" >0.0220</td>\n",
       "    </tr>\n",
       "    <tr>\n",
       "      <th id=\"T_0a2c0_level0_row9\" class=\"row_heading level0 row9\" >ridge</th>\n",
       "      <td id=\"T_0a2c0_row9_col0\" class=\"data row9 col0\" >Ridge Classifier</td>\n",
       "      <td id=\"T_0a2c0_row9_col1\" class=\"data row9 col1\" >0.5959</td>\n",
       "      <td id=\"T_0a2c0_row9_col2\" class=\"data row9 col2\" >0.7041</td>\n",
       "      <td id=\"T_0a2c0_row9_col3\" class=\"data row9 col3\" >0.6640</td>\n",
       "      <td id=\"T_0a2c0_row9_col4\" class=\"data row9 col4\" >0.5941</td>\n",
       "      <td id=\"T_0a2c0_row9_col5\" class=\"data row9 col5\" >0.6244</td>\n",
       "      <td id=\"T_0a2c0_row9_col6\" class=\"data row9 col6\" >0.1909</td>\n",
       "      <td id=\"T_0a2c0_row9_col7\" class=\"data row9 col7\" >0.1921</td>\n",
       "      <td id=\"T_0a2c0_row9_col8\" class=\"data row9 col8\" >0.0190</td>\n",
       "    </tr>\n",
       "    <tr>\n",
       "      <th id=\"T_0a2c0_level0_row10\" class=\"row_heading level0 row10\" >lr</th>\n",
       "      <td id=\"T_0a2c0_row10_col0\" class=\"data row10 col0\" >Logistic Regression</td>\n",
       "      <td id=\"T_0a2c0_row10_col1\" class=\"data row10 col1\" >0.5932</td>\n",
       "      <td id=\"T_0a2c0_row10_col2\" class=\"data row10 col2\" >0.6633</td>\n",
       "      <td id=\"T_0a2c0_row10_col3\" class=\"data row10 col3\" >0.6152</td>\n",
       "      <td id=\"T_0a2c0_row10_col4\" class=\"data row10 col4\" >0.5972</td>\n",
       "      <td id=\"T_0a2c0_row10_col5\" class=\"data row10 col5\" >0.6007</td>\n",
       "      <td id=\"T_0a2c0_row10_col6\" class=\"data row10 col6\" >0.1860</td>\n",
       "      <td id=\"T_0a2c0_row10_col7\" class=\"data row10 col7\" >0.1879</td>\n",
       "      <td id=\"T_0a2c0_row10_col8\" class=\"data row10 col8\" >0.2430</td>\n",
       "    </tr>\n",
       "    <tr>\n",
       "      <th id=\"T_0a2c0_level0_row11\" class=\"row_heading level0 row11\" >nb</th>\n",
       "      <td id=\"T_0a2c0_row11_col0\" class=\"data row11 col0\" >Naive Bayes</td>\n",
       "      <td id=\"T_0a2c0_row11_col1\" class=\"data row11 col1\" >0.5688</td>\n",
       "      <td id=\"T_0a2c0_row11_col2\" class=\"data row11 col2\" >0.5710</td>\n",
       "      <td id=\"T_0a2c0_row11_col3\" class=\"data row11 col3\" >0.5339</td>\n",
       "      <td id=\"T_0a2c0_row11_col4\" class=\"data row11 col4\" >0.5808</td>\n",
       "      <td id=\"T_0a2c0_row11_col5\" class=\"data row11 col5\" >0.5517</td>\n",
       "      <td id=\"T_0a2c0_row11_col6\" class=\"data row11 col6\" >0.1370</td>\n",
       "      <td id=\"T_0a2c0_row11_col7\" class=\"data row11 col7\" >0.1387</td>\n",
       "      <td id=\"T_0a2c0_row11_col8\" class=\"data row11 col8\" >0.0180</td>\n",
       "    </tr>\n",
       "    <tr>\n",
       "      <th id=\"T_0a2c0_level0_row12\" class=\"row_heading level0 row12\" >svm</th>\n",
       "      <td id=\"T_0a2c0_row12_col0\" class=\"data row12 col0\" >SVM - Linear Kernel</td>\n",
       "      <td id=\"T_0a2c0_row12_col1\" class=\"data row12 col1\" >0.5446</td>\n",
       "      <td id=\"T_0a2c0_row12_col2\" class=\"data row12 col2\" >0.6489</td>\n",
       "      <td id=\"T_0a2c0_row12_col3\" class=\"data row12 col3\" >0.4749</td>\n",
       "      <td id=\"T_0a2c0_row12_col4\" class=\"data row12 col4\" >0.3462</td>\n",
       "      <td id=\"T_0a2c0_row12_col5\" class=\"data row12 col5\" >0.3836</td>\n",
       "      <td id=\"T_0a2c0_row12_col6\" class=\"data row12 col6\" >0.0916</td>\n",
       "      <td id=\"T_0a2c0_row12_col7\" class=\"data row12 col7\" >0.1061</td>\n",
       "      <td id=\"T_0a2c0_row12_col8\" class=\"data row12 col8\" >0.0210</td>\n",
       "    </tr>\n",
       "    <tr>\n",
       "      <th id=\"T_0a2c0_level0_row13\" class=\"row_heading level0 row13\" >dummy</th>\n",
       "      <td id=\"T_0a2c0_row13_col0\" class=\"data row13 col0\" >Dummy Classifier</td>\n",
       "      <td id=\"T_0a2c0_row13_col1\" class=\"data row13 col1\" >0.4878</td>\n",
       "      <td id=\"T_0a2c0_row13_col2\" class=\"data row13 col2\" >0.5000</td>\n",
       "      <td id=\"T_0a2c0_row13_col3\" class=\"data row13 col3\" >0.5000</td>\n",
       "      <td id=\"T_0a2c0_row13_col4\" class=\"data row13 col4\" >0.2446</td>\n",
       "      <td id=\"T_0a2c0_row13_col5\" class=\"data row13 col5\" >0.3285</td>\n",
       "      <td id=\"T_0a2c0_row13_col6\" class=\"data row13 col6\" >0.0000</td>\n",
       "      <td id=\"T_0a2c0_row13_col7\" class=\"data row13 col7\" >0.0000</td>\n",
       "      <td id=\"T_0a2c0_row13_col8\" class=\"data row13 col8\" >0.0220</td>\n",
       "    </tr>\n",
       "  </tbody>\n",
       "</table>\n"
      ]
     },
     "metadata": {},
     "output_type": "display_data"
    },
    {
     "name": "stderr",
     "output_type": "stream",
     "text": [
      "2025/03/22 22:10:13 WARNING mlflow.models.model: Model logged without a signature and input example. Please set `input_example` parameter when logging the model to auto infer the model signature.\n",
      "2025/03/22 22:10:13 WARNING mlflow.models.model: Model logged without a signature and input example. Please set `input_example` parameter when logging the model to auto infer the model signature.\n",
      "2025/03/22 22:10:14 WARNING mlflow.models.model: Model logged without a signature and input example. Please set `input_example` parameter when logging the model to auto infer the model signature.\n",
      "2025/03/22 22:10:14 WARNING mlflow.models.model: Model logged without a signature and input example. Please set `input_example` parameter when logging the model to auto infer the model signature.\n",
      "2025/03/22 22:10:14 WARNING mlflow.models.model: Model logged without a signature and input example. Please set `input_example` parameter when logging the model to auto infer the model signature.\n",
      "2025/03/22 22:10:15 WARNING mlflow.models.model: Model logged without a signature and input example. Please set `input_example` parameter when logging the model to auto infer the model signature.\n",
      "2025/03/22 22:10:15 WARNING mlflow.models.model: Model logged without a signature and input example. Please set `input_example` parameter when logging the model to auto infer the model signature.\n",
      "2025/03/22 22:10:15 WARNING mlflow.models.model: Model logged without a signature and input example. Please set `input_example` parameter when logging the model to auto infer the model signature.\n",
      "2025/03/22 22:10:15 WARNING mlflow.models.model: Model logged without a signature and input example. Please set `input_example` parameter when logging the model to auto infer the model signature.\n",
      "2025/03/22 22:10:16 WARNING mlflow.models.model: Model logged without a signature and input example. Please set `input_example` parameter when logging the model to auto infer the model signature.\n",
      "2025/03/22 22:10:16 WARNING mlflow.models.model: Model logged without a signature and input example. Please set `input_example` parameter when logging the model to auto infer the model signature.\n",
      "2025/03/22 22:10:16 WARNING mlflow.models.model: Model logged without a signature and input example. Please set `input_example` parameter when logging the model to auto infer the model signature.\n",
      "2025/03/22 22:10:16 WARNING mlflow.models.model: Model logged without a signature and input example. Please set `input_example` parameter when logging the model to auto infer the model signature.\n",
      "2025/03/22 22:10:17 WARNING mlflow.models.model: Model logged without a signature and input example. Please set `input_example` parameter when logging the model to auto infer the model signature.\n"
     ]
    }
   ],
   "execution_count": 12
  },
  {
   "metadata": {
    "ExecuteTime": {
     "end_time": "2025-03-23T03:12:31.714706Z",
     "start_time": "2025-03-23T03:12:29.898293Z"
    }
   },
   "cell_type": "code",
   "source": [
    "# We create a classification model.\n",
    "best_model = create_model('rf')"
   ],
   "id": "60599c3d030cc1cf",
   "outputs": [
    {
     "data": {
      "text/plain": [
       "                                                                    \n",
       "                                                                    \n",
       "Initiated  . . . . . . . . . . . . . . . . . .              22:12:29\n",
       "Status     . . . . . . . . . . . . . . . . . .  Loading Dependencies\n",
       "Estimator  . . . . . . . . . . . . . . . . . .     Compiling Library"
      ],
      "text/html": [
       "<div>\n",
       "<style scoped>\n",
       "    .dataframe tbody tr th:only-of-type {\n",
       "        vertical-align: middle;\n",
       "    }\n",
       "\n",
       "    .dataframe tbody tr th {\n",
       "        vertical-align: top;\n",
       "    }\n",
       "\n",
       "    .dataframe thead th {\n",
       "        text-align: right;\n",
       "    }\n",
       "</style>\n",
       "<table border=\"1\" class=\"dataframe\">\n",
       "  <thead>\n",
       "    <tr style=\"text-align: right;\">\n",
       "      <th></th>\n",
       "      <th></th>\n",
       "      <th></th>\n",
       "    </tr>\n",
       "    <tr>\n",
       "      <th></th>\n",
       "      <th></th>\n",
       "      <th></th>\n",
       "    </tr>\n",
       "  </thead>\n",
       "  <tbody>\n",
       "    <tr>\n",
       "      <th>Initiated</th>\n",
       "      <td>. . . . . . . . . . . . . . . . . .</td>\n",
       "      <td>22:12:29</td>\n",
       "    </tr>\n",
       "    <tr>\n",
       "      <th>Status</th>\n",
       "      <td>. . . . . . . . . . . . . . . . . .</td>\n",
       "      <td>Loading Dependencies</td>\n",
       "    </tr>\n",
       "    <tr>\n",
       "      <th>Estimator</th>\n",
       "      <td>. . . . . . . . . . . . . . . . . .</td>\n",
       "      <td>Compiling Library</td>\n",
       "    </tr>\n",
       "  </tbody>\n",
       "</table>\n",
       "</div>"
      ]
     },
     "metadata": {},
     "output_type": "display_data"
    },
    {
     "data": {
      "text/plain": [
       "<IPython.core.display.HTML object>"
      ],
      "text/html": []
     },
     "metadata": {},
     "output_type": "display_data"
    },
    {
     "data": {
      "text/plain": [
       "<pandas.io.formats.style.Styler at 0x2b0383740d0>"
      ],
      "text/html": [
       "<style type=\"text/css\">\n",
       "#T_e331a_row10_col0, #T_e331a_row10_col1, #T_e331a_row10_col2, #T_e331a_row10_col3, #T_e331a_row10_col4, #T_e331a_row10_col5, #T_e331a_row10_col6 {\n",
       "  background: yellow;\n",
       "}\n",
       "</style>\n",
       "<table id=\"T_e331a\">\n",
       "  <thead>\n",
       "    <tr>\n",
       "      <th class=\"blank level0\" >&nbsp;</th>\n",
       "      <th id=\"T_e331a_level0_col0\" class=\"col_heading level0 col0\" >Accuracy</th>\n",
       "      <th id=\"T_e331a_level0_col1\" class=\"col_heading level0 col1\" >AUC</th>\n",
       "      <th id=\"T_e331a_level0_col2\" class=\"col_heading level0 col2\" >Recall</th>\n",
       "      <th id=\"T_e331a_level0_col3\" class=\"col_heading level0 col3\" >Prec.</th>\n",
       "      <th id=\"T_e331a_level0_col4\" class=\"col_heading level0 col4\" >F1</th>\n",
       "      <th id=\"T_e331a_level0_col5\" class=\"col_heading level0 col5\" >Kappa</th>\n",
       "      <th id=\"T_e331a_level0_col6\" class=\"col_heading level0 col6\" >MCC</th>\n",
       "    </tr>\n",
       "    <tr>\n",
       "      <th class=\"index_name level0\" >Fold</th>\n",
       "      <th class=\"blank col0\" >&nbsp;</th>\n",
       "      <th class=\"blank col1\" >&nbsp;</th>\n",
       "      <th class=\"blank col2\" >&nbsp;</th>\n",
       "      <th class=\"blank col3\" >&nbsp;</th>\n",
       "      <th class=\"blank col4\" >&nbsp;</th>\n",
       "      <th class=\"blank col5\" >&nbsp;</th>\n",
       "      <th class=\"blank col6\" >&nbsp;</th>\n",
       "    </tr>\n",
       "  </thead>\n",
       "  <tbody>\n",
       "    <tr>\n",
       "      <th id=\"T_e331a_level0_row0\" class=\"row_heading level0 row0\" >0</th>\n",
       "      <td id=\"T_e331a_row0_col0\" class=\"data row0 col0\" >0.6757</td>\n",
       "      <td id=\"T_e331a_row0_col1\" class=\"data row0 col1\" >0.8158</td>\n",
       "      <td id=\"T_e331a_row0_col2\" class=\"data row0 col2\" >0.5789</td>\n",
       "      <td id=\"T_e331a_row0_col3\" class=\"data row0 col3\" >0.7333</td>\n",
       "      <td id=\"T_e331a_row0_col4\" class=\"data row0 col4\" >0.6471</td>\n",
       "      <td id=\"T_e331a_row0_col5\" class=\"data row0 col5\" >0.3547</td>\n",
       "      <td id=\"T_e331a_row0_col6\" class=\"data row0 col6\" >0.3632</td>\n",
       "    </tr>\n",
       "    <tr>\n",
       "      <th id=\"T_e331a_level0_row1\" class=\"row_heading level0 row1\" >1</th>\n",
       "      <td id=\"T_e331a_row1_col0\" class=\"data row1 col0\" >0.6757</td>\n",
       "      <td id=\"T_e331a_row1_col1\" class=\"data row1 col1\" >0.7412</td>\n",
       "      <td id=\"T_e331a_row1_col2\" class=\"data row1 col2\" >0.7368</td>\n",
       "      <td id=\"T_e331a_row1_col3\" class=\"data row1 col3\" >0.6667</td>\n",
       "      <td id=\"T_e331a_row1_col4\" class=\"data row1 col4\" >0.7000</td>\n",
       "      <td id=\"T_e331a_row1_col5\" class=\"data row1 col5\" >0.3490</td>\n",
       "      <td id=\"T_e331a_row1_col6\" class=\"data row1 col6\" >0.3510</td>\n",
       "    </tr>\n",
       "    <tr>\n",
       "      <th id=\"T_e331a_level0_row2\" class=\"row_heading level0 row2\" >2</th>\n",
       "      <td id=\"T_e331a_row2_col0\" class=\"data row2 col0\" >0.8108</td>\n",
       "      <td id=\"T_e331a_row2_col1\" class=\"data row2 col1\" >0.8918</td>\n",
       "      <td id=\"T_e331a_row2_col2\" class=\"data row2 col2\" >0.6842</td>\n",
       "      <td id=\"T_e331a_row2_col3\" class=\"data row2 col3\" >0.9286</td>\n",
       "      <td id=\"T_e331a_row2_col4\" class=\"data row2 col4\" >0.7879</td>\n",
       "      <td id=\"T_e331a_row2_col5\" class=\"data row2 col5\" >0.6241</td>\n",
       "      <td id=\"T_e331a_row2_col6\" class=\"data row2 col6\" >0.6479</td>\n",
       "    </tr>\n",
       "    <tr>\n",
       "      <th id=\"T_e331a_level0_row3\" class=\"row_heading level0 row3\" >3</th>\n",
       "      <td id=\"T_e331a_row3_col0\" class=\"data row3 col0\" >0.8378</td>\n",
       "      <td id=\"T_e331a_row3_col1\" class=\"data row3 col1\" >0.8772</td>\n",
       "      <td id=\"T_e331a_row3_col2\" class=\"data row3 col2\" >0.7895</td>\n",
       "      <td id=\"T_e331a_row3_col3\" class=\"data row3 col3\" >0.8824</td>\n",
       "      <td id=\"T_e331a_row3_col4\" class=\"data row3 col4\" >0.8333</td>\n",
       "      <td id=\"T_e331a_row3_col5\" class=\"data row3 col5\" >0.6764</td>\n",
       "      <td id=\"T_e331a_row3_col6\" class=\"data row3 col6\" >0.6804</td>\n",
       "    </tr>\n",
       "    <tr>\n",
       "      <th id=\"T_e331a_level0_row4\" class=\"row_heading level0 row4\" >4</th>\n",
       "      <td id=\"T_e331a_row4_col0\" class=\"data row4 col0\" >0.8919</td>\n",
       "      <td id=\"T_e331a_row4_col1\" class=\"data row4 col1\" >0.9357</td>\n",
       "      <td id=\"T_e331a_row4_col2\" class=\"data row4 col2\" >0.8421</td>\n",
       "      <td id=\"T_e331a_row4_col3\" class=\"data row4 col3\" >0.9412</td>\n",
       "      <td id=\"T_e331a_row4_col4\" class=\"data row4 col4\" >0.8889</td>\n",
       "      <td id=\"T_e331a_row4_col5\" class=\"data row4 col5\" >0.7843</td>\n",
       "      <td id=\"T_e331a_row4_col6\" class=\"data row4 col6\" >0.7889</td>\n",
       "    </tr>\n",
       "    <tr>\n",
       "      <th id=\"T_e331a_level0_row5\" class=\"row_heading level0 row5\" >5</th>\n",
       "      <td id=\"T_e331a_row5_col0\" class=\"data row5 col0\" >0.6486</td>\n",
       "      <td id=\"T_e331a_row5_col1\" class=\"data row5 col1\" >0.7120</td>\n",
       "      <td id=\"T_e331a_row5_col2\" class=\"data row5 col2\" >0.6111</td>\n",
       "      <td id=\"T_e331a_row5_col3\" class=\"data row5 col3\" >0.6471</td>\n",
       "      <td id=\"T_e331a_row5_col4\" class=\"data row5 col4\" >0.6286</td>\n",
       "      <td id=\"T_e331a_row5_col5\" class=\"data row5 col5\" >0.2958</td>\n",
       "      <td id=\"T_e331a_row5_col6\" class=\"data row5 col6\" >0.2962</td>\n",
       "    </tr>\n",
       "    <tr>\n",
       "      <th id=\"T_e331a_level0_row6\" class=\"row_heading level0 row6\" >6</th>\n",
       "      <td id=\"T_e331a_row6_col0\" class=\"data row6 col0\" >0.8919</td>\n",
       "      <td id=\"T_e331a_row6_col1\" class=\"data row6 col1\" >0.9211</td>\n",
       "      <td id=\"T_e331a_row6_col2\" class=\"data row6 col2\" >0.8333</td>\n",
       "      <td id=\"T_e331a_row6_col3\" class=\"data row6 col3\" >0.9375</td>\n",
       "      <td id=\"T_e331a_row6_col4\" class=\"data row6 col4\" >0.8824</td>\n",
       "      <td id=\"T_e331a_row6_col5\" class=\"data row6 col5\" >0.7830</td>\n",
       "      <td id=\"T_e331a_row6_col6\" class=\"data row6 col6\" >0.7876</td>\n",
       "    </tr>\n",
       "    <tr>\n",
       "      <th id=\"T_e331a_level0_row7\" class=\"row_heading level0 row7\" >7</th>\n",
       "      <td id=\"T_e331a_row7_col0\" class=\"data row7 col0\" >0.7297</td>\n",
       "      <td id=\"T_e331a_row7_col1\" class=\"data row7 col1\" >0.8348</td>\n",
       "      <td id=\"T_e331a_row7_col2\" class=\"data row7 col2\" >0.7222</td>\n",
       "      <td id=\"T_e331a_row7_col3\" class=\"data row7 col3\" >0.7222</td>\n",
       "      <td id=\"T_e331a_row7_col4\" class=\"data row7 col4\" >0.7222</td>\n",
       "      <td id=\"T_e331a_row7_col5\" class=\"data row7 col5\" >0.4591</td>\n",
       "      <td id=\"T_e331a_row7_col6\" class=\"data row7 col6\" >0.4591</td>\n",
       "    </tr>\n",
       "    <tr>\n",
       "      <th id=\"T_e331a_level0_row8\" class=\"row_heading level0 row8\" >8</th>\n",
       "      <td id=\"T_e331a_row8_col0\" class=\"data row8 col0\" >0.7568</td>\n",
       "      <td id=\"T_e331a_row8_col1\" class=\"data row8 col1\" >0.8026</td>\n",
       "      <td id=\"T_e331a_row8_col2\" class=\"data row8 col2\" >0.6667</td>\n",
       "      <td id=\"T_e331a_row8_col3\" class=\"data row8 col3\" >0.8000</td>\n",
       "      <td id=\"T_e331a_row8_col4\" class=\"data row8 col4\" >0.7273</td>\n",
       "      <td id=\"T_e331a_row8_col5\" class=\"data row8 col5\" >0.5110</td>\n",
       "      <td id=\"T_e331a_row8_col6\" class=\"data row8 col6\" >0.5179</td>\n",
       "    </tr>\n",
       "    <tr>\n",
       "      <th id=\"T_e331a_level0_row9\" class=\"row_heading level0 row9\" >9</th>\n",
       "      <td id=\"T_e331a_row9_col0\" class=\"data row9 col0\" >0.6111</td>\n",
       "      <td id=\"T_e331a_row9_col1\" class=\"data row9 col1\" >0.7469</td>\n",
       "      <td id=\"T_e331a_row9_col2\" class=\"data row9 col2\" >0.4444</td>\n",
       "      <td id=\"T_e331a_row9_col3\" class=\"data row9 col3\" >0.6667</td>\n",
       "      <td id=\"T_e331a_row9_col4\" class=\"data row9 col4\" >0.5333</td>\n",
       "      <td id=\"T_e331a_row9_col5\" class=\"data row9 col5\" >0.2222</td>\n",
       "      <td id=\"T_e331a_row9_col6\" class=\"data row9 col6\" >0.2357</td>\n",
       "    </tr>\n",
       "    <tr>\n",
       "      <th id=\"T_e331a_level0_row10\" class=\"row_heading level0 row10\" >Mean</th>\n",
       "      <td id=\"T_e331a_row10_col0\" class=\"data row10 col0\" >0.7530</td>\n",
       "      <td id=\"T_e331a_row10_col1\" class=\"data row10 col1\" >0.8279</td>\n",
       "      <td id=\"T_e331a_row10_col2\" class=\"data row10 col2\" >0.6909</td>\n",
       "      <td id=\"T_e331a_row10_col3\" class=\"data row10 col3\" >0.7926</td>\n",
       "      <td id=\"T_e331a_row10_col4\" class=\"data row10 col4\" >0.7351</td>\n",
       "      <td id=\"T_e331a_row10_col5\" class=\"data row10 col5\" >0.5059</td>\n",
       "      <td id=\"T_e331a_row10_col6\" class=\"data row10 col6\" >0.5128</td>\n",
       "    </tr>\n",
       "    <tr>\n",
       "      <th id=\"T_e331a_level0_row11\" class=\"row_heading level0 row11\" >Std</th>\n",
       "      <td id=\"T_e331a_row11_col0\" class=\"data row11 col0\" >0.0963</td>\n",
       "      <td id=\"T_e331a_row11_col1\" class=\"data row11 col1\" >0.0743</td>\n",
       "      <td id=\"T_e331a_row11_col2\" class=\"data row11 col2\" >0.1167</td>\n",
       "      <td id=\"T_e331a_row11_col3\" class=\"data row11 col3\" >0.1145</td>\n",
       "      <td id=\"T_e331a_row11_col4\" class=\"data row11 col4\" >0.1091</td>\n",
       "      <td id=\"T_e331a_row11_col5\" class=\"data row11 col5\" >0.1928</td>\n",
       "      <td id=\"T_e331a_row11_col6\" class=\"data row11 col6\" >0.1932</td>\n",
       "    </tr>\n",
       "  </tbody>\n",
       "</table>\n"
      ]
     },
     "metadata": {},
     "output_type": "display_data"
    },
    {
     "name": "stderr",
     "output_type": "stream",
     "text": [
      "2025/03/22 22:12:31 WARNING mlflow.models.model: Model logged without a signature and input example. Please set `input_example` parameter when logging the model to auto infer the model signature.\n"
     ]
    }
   ],
   "execution_count": 13
  },
  {
   "metadata": {
    "ExecuteTime": {
     "end_time": "2025-03-23T03:13:16.510576Z",
     "start_time": "2025-03-23T03:13:16.498585Z"
    }
   },
   "cell_type": "code",
   "source": "print(best_model)",
   "id": "5f02e3f80d7cbedf",
   "outputs": [
    {
     "name": "stdout",
     "output_type": "stream",
     "text": [
      "RandomForestClassifier(bootstrap=True, ccp_alpha=0.0, class_weight=None,\n",
      "                       criterion='gini', max_depth=None, max_features='sqrt',\n",
      "                       max_leaf_nodes=None, max_samples=None,\n",
      "                       min_impurity_decrease=0.0, min_samples_leaf=1,\n",
      "                       min_samples_split=2, min_weight_fraction_leaf=0.0,\n",
      "                       monotonic_cst=None, n_estimators=100, n_jobs=-1,\n",
      "                       oob_score=False, random_state=123, verbose=0,\n",
      "                       warm_start=False)\n"
     ]
    }
   ],
   "execution_count": 14
  },
  {
   "metadata": {
    "ExecuteTime": {
     "end_time": "2025-03-23T03:13:20.679941Z",
     "start_time": "2025-03-23T03:13:19.763734Z"
    }
   },
   "cell_type": "code",
   "source": "plot_model(best_model, plot='confusion_matrix')",
   "id": "dafdbf91a3fcb8f9",
   "outputs": [
    {
     "data": {
      "text/plain": [
       "<IPython.core.display.HTML object>"
      ],
      "text/html": []
     },
     "metadata": {},
     "output_type": "display_data"
    },
    {
     "data": {
      "text/plain": [
       "<Figure size 800x550 with 1 Axes>"
      ],
      "image/png": "[encoded data removed]"
     },
     "metadata": {},
     "output_type": "display_data"
    }
   ],
   "execution_count": 15
  },
  {
   "metadata": {
    "ExecuteTime": {
     "end_time": "2025-03-23T03:13:42.549853Z",
     "start_time": "2025-03-23T03:13:42.300827Z"
    }
   },
   "cell_type": "code",
   "source": "evaluate_model(best_model)",
   "id": "ef4a4a27932e4984",
   "outputs": [
    {
     "data": {
      "text/plain": [
       "interactive(children=(ToggleButtons(description='Plot Type:', icons=('',), options=(('Pipeline Plot', 'pipelin…"
      ],
      "application/vnd.jupyter.widget-view+json": {
       "version_major": 2,
       "version_minor": 0,
       "model_id": "c6d84f515b594057bab420935f60c9f8"
      }
     },
     "metadata": {},
     "output_type": "display_data"
    }
   ],
   "execution_count": 16
  },
  {
   "metadata": {
    "ExecuteTime": {
     "end_time": "2025-03-23T03:13:51.873457Z",
     "start_time": "2025-03-23T03:13:51.707368Z"
    }
   },
   "cell_type": "code",
   "source": "save_model(best_model, 'rf_task1')",
   "id": "317265488f5adeac",
   "outputs": [
    {
     "name": "stdout",
     "output_type": "stream",
     "text": [
      "Transformation Pipeline and Model Successfully Saved\n"
     ]
    },
    {
     "data": {
      "text/plain": [
       "(Pipeline(memory=Memory(location=None),\n",
       "          steps=[('numerical_imputer',\n",
       "                  TransformerWrapper(exclude=None,\n",
       "                                     include=['feature_1', 'feature_2',\n",
       "                                              'feature_3', 'feature_4',\n",
       "                                              'feature_5', 'feature_6',\n",
       "                                              'feature_7', 'feature_8',\n",
       "                                              'feature_9', 'feature_10',\n",
       "                                              'feature_11', 'feature_12',\n",
       "                                              'feature_13', 'feature_14',\n",
       "                                              'feature_15', 'feature_16',\n",
       "                                              'feature_17', 'feature_18',\n",
       "                                              'feature_19', 'feat...\n",
       "                  RandomForestClassifier(bootstrap=True, ccp_alpha=0.0,\n",
       "                                         class_weight=None, criterion='gini',\n",
       "                                         max_depth=None, max_features='sqrt',\n",
       "                                         max_leaf_nodes=None, max_samples=None,\n",
       "                                         min_impurity_decrease=0.0,\n",
       "                                         min_samples_leaf=1, min_samples_split=2,\n",
       "                                         min_weight_fraction_leaf=0.0,\n",
       "                                         monotonic_cst=None, n_estimators=100,\n",
       "                                         n_jobs=-1, oob_score=False,\n",
       "                                         random_state=123, verbose=0,\n",
       "                                         warm_start=False))],\n",
       "          verbose=False),\n",
       " 'rf_task1.pkl')"
      ]
     },
     "execution_count": 17,
     "metadata": {},
     "output_type": "execute_result"
    }
   ],
   "execution_count": 17
  },
  {
   "metadata": {},
   "cell_type": "markdown",
   "source": "",
   "id": "f7379603beb8ee0"
  }
 ],
 "metadata": {
  "kernelspec": {
   "display_name": "Python 3",
   "language": "python",
   "name": "python3"
  },
  "language_info": {
   "codemirror_mode": {
    "name": "ipython",
    "version": 2
   },
   "file_extension": ".py",
   "mimetype": "text/x-python",
   "name": "python",
   "nbconvert_exporter": "python",
   "pygments_lexer": "ipython2",
   "version": "2.7.6"
  }
 },
 "nbformat": 4,
 "nbformat_minor": 5
}
