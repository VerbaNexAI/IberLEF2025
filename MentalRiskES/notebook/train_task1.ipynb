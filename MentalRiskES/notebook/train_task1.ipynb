{
 "cells": [
  {
   "cell_type": "code",
   "id": "initial_id",
   "metadata": {
    "collapsed": true,
    "ExecuteTime": {
     "end_time": "2025-04-09T00:55:01.603512Z",
     "start_time": "2025-04-09T00:54:46.032812Z"
    }
   },
   "source": [
    "import os\n",
    "import torch\n",
    "import pandas as pd\n",
    "import numpy as np\n",
    "from collections import Counter\n",
    "from imblearn.over_sampling import RandomOverSampler\n",
    "from transformers import LongformerTokenizer, LongformerModel, AutoTokenizer, AutoModel\n",
    "from pycaret.classification import *\n",
    "\n",
    "device = torch.device(\"cuda\" if torch.cuda.is_available() else \"cpu\")\n",
    "device"
   ],
   "outputs": [
    {
     "data": {
      "text/plain": [
       "device(type='cpu')"
      ]
     },
     "execution_count": 1,
     "metadata": {},
     "output_type": "execute_result"
    }
   ],
   "execution_count": 1
  },
  {
   "metadata": {
    "ExecuteTime": {
     "end_time": "2025-04-09T00:55:04.451505Z",
     "start_time": "2025-04-09T00:55:04.433268Z"
    }
   },
   "cell_type": "code",
   "source": [
    "# Get the root directory of the project (assuming the notebook is inside \"notebook/\")\n",
    "notebook_dir = os.getcwd()  # Gets the current working directory\n",
    "project_root = os.path.abspath(os.path.join(notebook_dir, \"..\"))  # Moves one level up\n",
    "project_root"
   ],
   "id": "578e2ec766ecb0dd",
   "outputs": [
    {
     "data": {
      "text/plain": [
       "'C:\\\\Users\\\\jeiso\\\\Documents\\\\Maestria\\\\Semestre #1\\\\NLP\\\\IberLEF2025\\\\MentalRiskES'"
      ]
     },
     "execution_count": 2,
     "metadata": {},
     "output_type": "execute_result"
    }
   ],
   "execution_count": 2
  },
  {
   "metadata": {
    "ExecuteTime": {
     "end_time": "2025-04-09T00:55:07.544305Z",
     "start_time": "2025-04-09T00:55:07.256143Z"
    }
   },
   "cell_type": "code",
   "source": [
    "path_dataset = os.path.join(project_root, \"data\", \"dataset_task2.xlsx\")\n",
    "dataset = pd.read_excel(path_dataset)\n",
    "dataset['message'] = dataset['message'].fillna(\"\").astype(str)\n",
    "dataset.head()"
   ],
   "id": "79e9c339634884f9",
   "outputs": [
    {
     "data": {
      "text/plain": [
       "                                             message label_text  level  label\n",
       "0  el canal del amigo se llama loco por el tradin...    trading      0      1\n",
       "1  ganancia e ganancia chico [SEP] si lo conseguí...    trading      0      1\n",
       "2  fijate cuanto e el margen en negativo y le agr...    trading      1      1\n",
       "3  alguna entradita .. ? [SEP] spot está funciona...    trading      0      1\n",
       "4  voy cargando la escopeta pa longuear alguna mo...    trading      1      1"
      ],
      "text/html": [
       "<div>\n",
       "<style scoped>\n",
       "    .dataframe tbody tr th:only-of-type {\n",
       "        vertical-align: middle;\n",
       "    }\n",
       "\n",
       "    .dataframe tbody tr th {\n",
       "        vertical-align: top;\n",
       "    }\n",
       "\n",
       "    .dataframe thead th {\n",
       "        text-align: right;\n",
       "    }\n",
       "</style>\n",
       "<table border=\"1\" class=\"dataframe\">\n",
       "  <thead>\n",
       "    <tr style=\"text-align: right;\">\n",
       "      <th></th>\n",
       "      <th>message</th>\n",
       "      <th>label_text</th>\n",
       "      <th>level</th>\n",
       "      <th>label</th>\n",
       "    </tr>\n",
       "  </thead>\n",
       "  <tbody>\n",
       "    <tr>\n",
       "      <th>0</th>\n",
       "      <td>el canal del amigo se llama loco por el tradin...</td>\n",
       "      <td>trading</td>\n",
       "      <td>0</td>\n",
       "      <td>1</td>\n",
       "    </tr>\n",
       "    <tr>\n",
       "      <th>1</th>\n",
       "      <td>ganancia e ganancia chico [SEP] si lo conseguí...</td>\n",
       "      <td>trading</td>\n",
       "      <td>0</td>\n",
       "      <td>1</td>\n",
       "    </tr>\n",
       "    <tr>\n",
       "      <th>2</th>\n",
       "      <td>fijate cuanto e el margen en negativo y le agr...</td>\n",
       "      <td>trading</td>\n",
       "      <td>1</td>\n",
       "      <td>1</td>\n",
       "    </tr>\n",
       "    <tr>\n",
       "      <th>3</th>\n",
       "      <td>alguna entradita .. ? [SEP] spot está funciona...</td>\n",
       "      <td>trading</td>\n",
       "      <td>0</td>\n",
       "      <td>1</td>\n",
       "    </tr>\n",
       "    <tr>\n",
       "      <th>4</th>\n",
       "      <td>voy cargando la escopeta pa longuear alguna mo...</td>\n",
       "      <td>trading</td>\n",
       "      <td>1</td>\n",
       "      <td>1</td>\n",
       "    </tr>\n",
       "  </tbody>\n",
       "</table>\n",
       "</div>"
      ]
     },
     "execution_count": 3,
     "metadata": {},
     "output_type": "execute_result"
    }
   ],
   "execution_count": 3
  },
  {
   "metadata": {},
   "cell_type": "markdown",
   "source": "# TASK 1: BINARY CLASSIFICATION",
   "id": "9e50501543cae871"
  },
  {
   "metadata": {
    "ExecuteTime": {
     "end_time": "2025-04-09T00:55:11.039417Z",
     "start_time": "2025-04-09T00:55:11.026404Z"
    }
   },
   "cell_type": "code",
   "source": [
    "x_task1 = dataset['message']\n",
    "y_task1 = dataset['level']"
   ],
   "id": "7713a639d317c6d4",
   "outputs": [],
   "execution_count": 4
  },
  {
   "metadata": {
    "ExecuteTime": {
     "end_time": "2025-04-09T00:55:14.522685Z",
     "start_time": "2025-04-09T00:55:13.435200Z"
    }
   },
   "cell_type": "code",
   "source": [
    "# load model and tokenizer\n",
    "\n",
    "# Longformer\n",
    "#model_name = \"PlanTL-GOB-ES/longformer-base-4096-bne-es\"\n",
    "#tokenizer = LongformerTokenizer.from_pretrained(model_name)\n",
    "#model = LongformerModel.from_pretrained(model_name).to(device)\n",
    "\n",
    "# BETO\n",
    "model_name = \"dccuchile/bert-base-spanish-wwm-cased\"\n",
    "tokenizer = AutoTokenizer.from_pretrained(model_name)\n",
    "model = AutoModel.from_pretrained(model_name).to(device)"
   ],
   "id": "ed352186066d7533",
   "outputs": [
    {
     "name": "stderr",
     "output_type": "stream",
     "text": [
      "Some weights of BertModel were not initialized from the model checkpoint at dccuchile/bert-base-spanish-wwm-cased and are newly initialized: ['bert.pooler.dense.bias', 'bert.pooler.dense.weight']\n",
      "You should probably TRAIN this model on a down-stream task to be able to use it for predictions and inference.\n"
     ]
    }
   ],
   "execution_count": 5
  },
  {
   "metadata": {
    "ExecuteTime": {
     "end_time": "2025-04-09T00:56:33.113213Z",
     "start_time": "2025-04-09T00:55:21.609099Z"
    }
   },
   "cell_type": "code",
   "source": [
    "def get_longformer_embedding(text):\n",
    "    inputs = tokenizer(\n",
    "        text,\n",
    "        return_tensors=\"pt\",\n",
    "        truncation=True,\n",
    "        padding=\"max_length\",\n",
    "        max_length=512\n",
    "    )\n",
    "    # Mover los tensores de entrada a GPU\n",
    "    inputs = {k: v.to(device) for k, v in inputs.items()}\n",
    "    with torch.no_grad():\n",
    "        outputs = model(**inputs)\n",
    "    # Convertir los resultados a CPU para trabajar con numpy\n",
    "    return outputs.last_hidden_state.mean(dim=1).squeeze().cpu().numpy()\n",
    "\n",
    "# Aplicamos la función a todos los mensajes\n",
    "x_task1_embeddings = np.array([get_longformer_embedding(text) for text in x_task1])"
   ],
   "id": "988b0b2ee2599394",
   "outputs": [],
   "execution_count": 6
  },
  {
   "metadata": {
    "ExecuteTime": {
     "end_time": "2025-04-06T12:22:44.408175Z",
     "start_time": "2025-04-06T12:22:44.393058Z"
    }
   },
   "cell_type": "code",
   "source": "x_task1_embeddings",
   "id": "7a1eca9924ab5381",
   "outputs": [
    {
     "data": {
      "text/plain": [
       "array([[-0.09902813, -0.15904334, -0.30138153, ..., -0.33458328,\n",
       "         0.2695182 ,  0.22862685],\n",
       "       [-0.14719549, -0.1112902 , -0.16692387, ..., -0.23385125,\n",
       "         0.05203149,  0.10748015],\n",
       "       [-0.1551729 , -0.03288925, -0.22002526, ..., -0.17964064,\n",
       "         0.0976115 ,  0.19014117],\n",
       "       ...,\n",
       "       [ 0.13345632, -0.08678578, -0.04402681, ..., -0.30821866,\n",
       "         0.23617628, -0.03853274],\n",
       "       [ 0.2602157 ,  0.07340417,  0.06921416, ..., -0.2064684 ,\n",
       "         0.52956724,  0.15044431],\n",
       "       [-0.22404031,  0.09983473, -0.14697447, ..., -0.11260161,\n",
       "         0.27668977,  0.23247115]], dtype=float32)"
      ]
     },
     "execution_count": 7,
     "metadata": {},
     "output_type": "execute_result"
    }
   ],
   "execution_count": 7
  },
  {
   "metadata": {
    "ExecuteTime": {
     "end_time": "2025-04-06T12:22:44.456177Z",
     "start_time": "2025-04-06T12:22:44.441176Z"
    }
   },
   "cell_type": "code",
   "source": "print('**Sample train:', sorted(Counter(y_task1).items()))",
   "id": "bd29c562e5ba1fc2",
   "outputs": [
    {
     "name": "stdout",
     "output_type": "stream",
     "text": [
      "**Sample train: [(0, 178), (1, 231)]\n"
     ]
    }
   ],
   "execution_count": 8
  },
  {
   "metadata": {
    "ExecuteTime": {
     "end_time": "2025-04-06T12:22:44.520296Z",
     "start_time": "2025-04-06T12:22:44.506299Z"
    }
   },
   "cell_type": "code",
   "source": [
    "# We create an instance of RandomOverSampler to balance the classes.\n",
    "# - random_state=10000: A seed is set for reproducibility.\n",
    "\n",
    "ros_task1 = RandomOverSampler(random_state=10000)\n",
    "\n",
    "# We apply oversampling to generate new instances of the minority classes to equal the amount of the majority class.\n",
    "x_task1, y_task1 = ros_task1.fit_resample(x_task1_embeddings, y_task1)\n",
    "\n",
    "# We show the distribution of classes after oversampling.\n",
    "print('**OverSample train:', sorted(Counter(y_task1).items()))"
   ],
   "id": "b788adac722ed003",
   "outputs": [
    {
     "name": "stdout",
     "output_type": "stream",
     "text": [
      "**OverSample train: [(0, 231), (1, 231)]\n"
     ]
    }
   ],
   "execution_count": 9
  },
  {
   "metadata": {
    "ExecuteTime": {
     "end_time": "2025-04-06T12:22:45.207794Z",
     "start_time": "2025-04-06T12:22:45.194290Z"
    }
   },
   "cell_type": "code",
   "source": "x_task1",
   "id": "d14b3192e7b6b79",
   "outputs": [
    {
     "data": {
      "text/plain": [
       "array([[-0.09902813, -0.15904334, -0.30138153, ..., -0.33458328,\n",
       "         0.2695182 ,  0.22862685],\n",
       "       [-0.14719549, -0.1112902 , -0.16692387, ..., -0.23385125,\n",
       "         0.05203149,  0.10748015],\n",
       "       [-0.1551729 , -0.03288925, -0.22002526, ..., -0.17964064,\n",
       "         0.0976115 ,  0.19014117],\n",
       "       ...,\n",
       "       [-0.14719549, -0.1112902 , -0.16692387, ..., -0.23385125,\n",
       "         0.05203149,  0.10748015],\n",
       "       [-0.12730634, -0.09077215, -0.11596057, ..., -0.24794453,\n",
       "         0.24860023,  0.27696827],\n",
       "       [ 0.02016972, -0.36212692, -0.10957462, ..., -0.10649268,\n",
       "         0.2479343 ,  0.10699616]], dtype=float32)"
      ]
     },
     "execution_count": 10,
     "metadata": {},
     "output_type": "execute_result"
    }
   ],
   "execution_count": 10
  },
  {
   "metadata": {
    "ExecuteTime": {
     "end_time": "2025-04-06T12:22:47.034868Z",
     "start_time": "2025-04-06T12:22:45.449609Z"
    }
   },
   "cell_type": "code",
   "source": [
    "setup_task1 = setup(\n",
    "    data=x_task1, # Input data set (feature matrix)\n",
    "    target=y_task1, # Target variable (classification labels)\n",
    "    session_id=123, # Random seed to ensure reproducibility\n",
    "    train_size=0.80, # Percentage of data used for training (80%)\n",
    "    log_experiment=True, # Enable experiment logging (mlflow)\n",
    "    experiment_name='Mentalrisk_task1' # Name of experiment for tracking (mlflow)\n",
    ")"
   ],
   "id": "75dc176106b681fd",
   "outputs": [
    {
     "data": {
      "text/plain": [
       "<pandas.io.formats.style.Styler at 0x21946ce46d0>"
      ],
      "text/html": [
       "<style type=\"text/css\">\n",
       "#T_49a02_row8_col1 {\n",
       "  background-color: lightgreen;\n",
       "}\n",
       "</style>\n",
       "<table id=\"T_49a02\">\n",
       "  <thead>\n",
       "    <tr>\n",
       "      <th class=\"blank level0\" >&nbsp;</th>\n",
       "      <th id=\"T_49a02_level0_col0\" class=\"col_heading level0 col0\" >Description</th>\n",
       "      <th id=\"T_49a02_level0_col1\" class=\"col_heading level0 col1\" >Value</th>\n",
       "    </tr>\n",
       "  </thead>\n",
       "  <tbody>\n",
       "    <tr>\n",
       "      <th id=\"T_49a02_level0_row0\" class=\"row_heading level0 row0\" >0</th>\n",
       "      <td id=\"T_49a02_row0_col0\" class=\"data row0 col0\" >Session id</td>\n",
       "      <td id=\"T_49a02_row0_col1\" class=\"data row0 col1\" >123</td>\n",
       "    </tr>\n",
       "    <tr>\n",
       "      <th id=\"T_49a02_level0_row1\" class=\"row_heading level0 row1\" >1</th>\n",
       "      <td id=\"T_49a02_row1_col0\" class=\"data row1 col0\" >Target</td>\n",
       "      <td id=\"T_49a02_row1_col1\" class=\"data row1 col1\" >level</td>\n",
       "    </tr>\n",
       "    <tr>\n",
       "      <th id=\"T_49a02_level0_row2\" class=\"row_heading level0 row2\" >2</th>\n",
       "      <td id=\"T_49a02_row2_col0\" class=\"data row2 col0\" >Target type</td>\n",
       "      <td id=\"T_49a02_row2_col1\" class=\"data row2 col1\" >Binary</td>\n",
       "    </tr>\n",
       "    <tr>\n",
       "      <th id=\"T_49a02_level0_row3\" class=\"row_heading level0 row3\" >3</th>\n",
       "      <td id=\"T_49a02_row3_col0\" class=\"data row3 col0\" >Original data shape</td>\n",
       "      <td id=\"T_49a02_row3_col1\" class=\"data row3 col1\" >(462, 769)</td>\n",
       "    </tr>\n",
       "    <tr>\n",
       "      <th id=\"T_49a02_level0_row4\" class=\"row_heading level0 row4\" >4</th>\n",
       "      <td id=\"T_49a02_row4_col0\" class=\"data row4 col0\" >Transformed data shape</td>\n",
       "      <td id=\"T_49a02_row4_col1\" class=\"data row4 col1\" >(462, 769)</td>\n",
       "    </tr>\n",
       "    <tr>\n",
       "      <th id=\"T_49a02_level0_row5\" class=\"row_heading level0 row5\" >5</th>\n",
       "      <td id=\"T_49a02_row5_col0\" class=\"data row5 col0\" >Transformed train set shape</td>\n",
       "      <td id=\"T_49a02_row5_col1\" class=\"data row5 col1\" >(369, 769)</td>\n",
       "    </tr>\n",
       "    <tr>\n",
       "      <th id=\"T_49a02_level0_row6\" class=\"row_heading level0 row6\" >6</th>\n",
       "      <td id=\"T_49a02_row6_col0\" class=\"data row6 col0\" >Transformed test set shape</td>\n",
       "      <td id=\"T_49a02_row6_col1\" class=\"data row6 col1\" >(93, 769)</td>\n",
       "    </tr>\n",
       "    <tr>\n",
       "      <th id=\"T_49a02_level0_row7\" class=\"row_heading level0 row7\" >7</th>\n",
       "      <td id=\"T_49a02_row7_col0\" class=\"data row7 col0\" >Numeric features</td>\n",
       "      <td id=\"T_49a02_row7_col1\" class=\"data row7 col1\" >768</td>\n",
       "    </tr>\n",
       "    <tr>\n",
       "      <th id=\"T_49a02_level0_row8\" class=\"row_heading level0 row8\" >8</th>\n",
       "      <td id=\"T_49a02_row8_col0\" class=\"data row8 col0\" >Preprocess</td>\n",
       "      <td id=\"T_49a02_row8_col1\" class=\"data row8 col1\" >True</td>\n",
       "    </tr>\n",
       "    <tr>\n",
       "      <th id=\"T_49a02_level0_row9\" class=\"row_heading level0 row9\" >9</th>\n",
       "      <td id=\"T_49a02_row9_col0\" class=\"data row9 col0\" >Imputation type</td>\n",
       "      <td id=\"T_49a02_row9_col1\" class=\"data row9 col1\" >simple</td>\n",
       "    </tr>\n",
       "    <tr>\n",
       "      <th id=\"T_49a02_level0_row10\" class=\"row_heading level0 row10\" >10</th>\n",
       "      <td id=\"T_49a02_row10_col0\" class=\"data row10 col0\" >Numeric imputation</td>\n",
       "      <td id=\"T_49a02_row10_col1\" class=\"data row10 col1\" >mean</td>\n",
       "    </tr>\n",
       "    <tr>\n",
       "      <th id=\"T_49a02_level0_row11\" class=\"row_heading level0 row11\" >11</th>\n",
       "      <td id=\"T_49a02_row11_col0\" class=\"data row11 col0\" >Categorical imputation</td>\n",
       "      <td id=\"T_49a02_row11_col1\" class=\"data row11 col1\" >mode</td>\n",
       "    </tr>\n",
       "    <tr>\n",
       "      <th id=\"T_49a02_level0_row12\" class=\"row_heading level0 row12\" >12</th>\n",
       "      <td id=\"T_49a02_row12_col0\" class=\"data row12 col0\" >Fold Generator</td>\n",
       "      <td id=\"T_49a02_row12_col1\" class=\"data row12 col1\" >StratifiedKFold</td>\n",
       "    </tr>\n",
       "    <tr>\n",
       "      <th id=\"T_49a02_level0_row13\" class=\"row_heading level0 row13\" >13</th>\n",
       "      <td id=\"T_49a02_row13_col0\" class=\"data row13 col0\" >Fold Number</td>\n",
       "      <td id=\"T_49a02_row13_col1\" class=\"data row13 col1\" >10</td>\n",
       "    </tr>\n",
       "    <tr>\n",
       "      <th id=\"T_49a02_level0_row14\" class=\"row_heading level0 row14\" >14</th>\n",
       "      <td id=\"T_49a02_row14_col0\" class=\"data row14 col0\" >CPU Jobs</td>\n",
       "      <td id=\"T_49a02_row14_col1\" class=\"data row14 col1\" >-1</td>\n",
       "    </tr>\n",
       "    <tr>\n",
       "      <th id=\"T_49a02_level0_row15\" class=\"row_heading level0 row15\" >15</th>\n",
       "      <td id=\"T_49a02_row15_col0\" class=\"data row15 col0\" >Use GPU</td>\n",
       "      <td id=\"T_49a02_row15_col1\" class=\"data row15 col1\" >False</td>\n",
       "    </tr>\n",
       "    <tr>\n",
       "      <th id=\"T_49a02_level0_row16\" class=\"row_heading level0 row16\" >16</th>\n",
       "      <td id=\"T_49a02_row16_col0\" class=\"data row16 col0\" >Log Experiment</td>\n",
       "      <td id=\"T_49a02_row16_col1\" class=\"data row16 col1\" >MlflowLogger</td>\n",
       "    </tr>\n",
       "    <tr>\n",
       "      <th id=\"T_49a02_level0_row17\" class=\"row_heading level0 row17\" >17</th>\n",
       "      <td id=\"T_49a02_row17_col0\" class=\"data row17 col0\" >Experiment Name</td>\n",
       "      <td id=\"T_49a02_row17_col1\" class=\"data row17 col1\" >Mentalrisk_task1</td>\n",
       "    </tr>\n",
       "    <tr>\n",
       "      <th id=\"T_49a02_level0_row18\" class=\"row_heading level0 row18\" >18</th>\n",
       "      <td id=\"T_49a02_row18_col0\" class=\"data row18 col0\" >USI</td>\n",
       "      <td id=\"T_49a02_row18_col1\" class=\"data row18 col1\" >9fce</td>\n",
       "    </tr>\n",
       "  </tbody>\n",
       "</table>\n"
      ]
     },
     "metadata": {},
     "output_type": "display_data"
    }
   ],
   "execution_count": 11
  },
  {
   "metadata": {
    "ExecuteTime": {
     "end_time": "2025-04-06T12:23:12.958235Z",
     "start_time": "2025-04-06T12:22:47.083381Z"
    }
   },
   "cell_type": "code",
   "source": [
    "# We compared multiple classification models using cross-validation with 10 folds.\n",
    "model_task1 = compare_models(fold=10)"
   ],
   "id": "37e9ab1d8482eb9f",
   "outputs": [
    {
     "data": {
      "text/plain": [
       "                                                                    \n",
       "                                                                    \n",
       "Initiated  . . . . . . . . . . . . . . . . . .              07:22:47\n",
       "Status     . . . . . . . . . . . . . . . . . .  Loading Dependencies\n",
       "Estimator  . . . . . . . . . . . . . . . . . .     Compiling Library"
      ],
      "text/html": [
       "<div>\n",
       "<style scoped>\n",
       "    .dataframe tbody tr th:only-of-type {\n",
       "        vertical-align: middle;\n",
       "    }\n",
       "\n",
       "    .dataframe tbody tr th {\n",
       "        vertical-align: top;\n",
       "    }\n",
       "\n",
       "    .dataframe thead th {\n",
       "        text-align: right;\n",
       "    }\n",
       "</style>\n",
       "<table border=\"1\" class=\"dataframe\">\n",
       "  <thead>\n",
       "    <tr style=\"text-align: right;\">\n",
       "      <th></th>\n",
       "      <th></th>\n",
       "      <th></th>\n",
       "    </tr>\n",
       "    <tr>\n",
       "      <th></th>\n",
       "      <th></th>\n",
       "      <th></th>\n",
       "    </tr>\n",
       "  </thead>\n",
       "  <tbody>\n",
       "    <tr>\n",
       "      <th>Initiated</th>\n",
       "      <td>. . . . . . . . . . . . . . . . . .</td>\n",
       "      <td>07:22:47</td>\n",
       "    </tr>\n",
       "    <tr>\n",
       "      <th>Status</th>\n",
       "      <td>. . . . . . . . . . . . . . . . . .</td>\n",
       "      <td>Loading Dependencies</td>\n",
       "    </tr>\n",
       "    <tr>\n",
       "      <th>Estimator</th>\n",
       "      <td>. . . . . . . . . . . . . . . . . .</td>\n",
       "      <td>Compiling Library</td>\n",
       "    </tr>\n",
       "  </tbody>\n",
       "</table>\n",
       "</div>"
      ]
     },
     "metadata": {},
     "output_type": "display_data"
    },
    {
     "data": {
      "text/plain": [
       "<IPython.core.display.HTML object>"
      ],
      "text/html": []
     },
     "metadata": {},
     "output_type": "display_data"
    },
    {
     "data": {
      "text/plain": [
       "<pandas.io.formats.style.Styler at 0x2194fece530>"
      ],
      "text/html": [
       "<style type=\"text/css\">\n",
       "#T_8d30f th {\n",
       "  text-align: left;\n",
       "}\n",
       "#T_8d30f_row0_col0, #T_8d30f_row0_col2, #T_8d30f_row0_col3, #T_8d30f_row0_col4, #T_8d30f_row0_col5, #T_8d30f_row1_col0, #T_8d30f_row1_col1, #T_8d30f_row1_col2, #T_8d30f_row1_col3, #T_8d30f_row1_col4, #T_8d30f_row1_col5, #T_8d30f_row1_col6, #T_8d30f_row1_col7, #T_8d30f_row2_col0, #T_8d30f_row2_col1, #T_8d30f_row2_col2, #T_8d30f_row2_col3, #T_8d30f_row2_col4, #T_8d30f_row2_col5, #T_8d30f_row2_col6, #T_8d30f_row2_col7, #T_8d30f_row3_col0, #T_8d30f_row3_col1, #T_8d30f_row3_col2, #T_8d30f_row3_col3, #T_8d30f_row3_col4, #T_8d30f_row3_col5, #T_8d30f_row3_col6, #T_8d30f_row3_col7, #T_8d30f_row4_col0, #T_8d30f_row4_col1, #T_8d30f_row4_col3, #T_8d30f_row4_col4, #T_8d30f_row4_col5, #T_8d30f_row4_col6, #T_8d30f_row4_col7, #T_8d30f_row5_col0, #T_8d30f_row5_col1, #T_8d30f_row5_col2, #T_8d30f_row5_col3, #T_8d30f_row5_col4, #T_8d30f_row5_col5, #T_8d30f_row5_col6, #T_8d30f_row5_col7, #T_8d30f_row6_col0, #T_8d30f_row6_col1, #T_8d30f_row6_col2, #T_8d30f_row6_col3, #T_8d30f_row6_col4, #T_8d30f_row6_col5, #T_8d30f_row6_col6, #T_8d30f_row6_col7, #T_8d30f_row7_col0, #T_8d30f_row7_col1, #T_8d30f_row7_col2, #T_8d30f_row7_col3, #T_8d30f_row7_col5, #T_8d30f_row7_col6, #T_8d30f_row7_col7, #T_8d30f_row8_col0, #T_8d30f_row8_col1, #T_8d30f_row8_col2, #T_8d30f_row8_col3, #T_8d30f_row8_col4, #T_8d30f_row8_col5, #T_8d30f_row8_col6, #T_8d30f_row8_col7, #T_8d30f_row9_col0, #T_8d30f_row9_col1, #T_8d30f_row9_col2, #T_8d30f_row9_col3, #T_8d30f_row9_col4, #T_8d30f_row9_col5, #T_8d30f_row9_col6, #T_8d30f_row9_col7, #T_8d30f_row10_col0, #T_8d30f_row10_col1, #T_8d30f_row10_col2, #T_8d30f_row10_col3, #T_8d30f_row10_col4, #T_8d30f_row10_col5, #T_8d30f_row10_col6, #T_8d30f_row10_col7, #T_8d30f_row11_col0, #T_8d30f_row11_col1, #T_8d30f_row11_col2, #T_8d30f_row11_col4, #T_8d30f_row11_col6, #T_8d30f_row11_col7, #T_8d30f_row12_col0, #T_8d30f_row12_col1, #T_8d30f_row12_col2, #T_8d30f_row12_col3, #T_8d30f_row12_col4, #T_8d30f_row12_col5, #T_8d30f_row12_col6, #T_8d30f_row12_col7, #T_8d30f_row13_col0, #T_8d30f_row13_col1, #T_8d30f_row13_col2, #T_8d30f_row13_col3, #T_8d30f_row13_col4, #T_8d30f_row13_col5, #T_8d30f_row13_col6, #T_8d30f_row13_col7 {\n",
       "  text-align: left;\n",
       "}\n",
       "#T_8d30f_row0_col1, #T_8d30f_row0_col6, #T_8d30f_row0_col7, #T_8d30f_row4_col2, #T_8d30f_row7_col4, #T_8d30f_row11_col3, #T_8d30f_row11_col5 {\n",
       "  text-align: left;\n",
       "  background-color: yellow;\n",
       "}\n",
       "#T_8d30f_row0_col8, #T_8d30f_row1_col8, #T_8d30f_row2_col8, #T_8d30f_row3_col8, #T_8d30f_row4_col8, #T_8d30f_row5_col8, #T_8d30f_row6_col8, #T_8d30f_row7_col8, #T_8d30f_row8_col8, #T_8d30f_row9_col8, #T_8d30f_row10_col8, #T_8d30f_row11_col8, #T_8d30f_row13_col8 {\n",
       "  text-align: left;\n",
       "  background-color: lightgrey;\n",
       "}\n",
       "#T_8d30f_row12_col8 {\n",
       "  text-align: left;\n",
       "  background-color: yellow;\n",
       "  background-color: lightgrey;\n",
       "}\n",
       "</style>\n",
       "<table id=\"T_8d30f\">\n",
       "  <thead>\n",
       "    <tr>\n",
       "      <th class=\"blank level0\" >&nbsp;</th>\n",
       "      <th id=\"T_8d30f_level0_col0\" class=\"col_heading level0 col0\" >Model</th>\n",
       "      <th id=\"T_8d30f_level0_col1\" class=\"col_heading level0 col1\" >Accuracy</th>\n",
       "      <th id=\"T_8d30f_level0_col2\" class=\"col_heading level0 col2\" >AUC</th>\n",
       "      <th id=\"T_8d30f_level0_col3\" class=\"col_heading level0 col3\" >Recall</th>\n",
       "      <th id=\"T_8d30f_level0_col4\" class=\"col_heading level0 col4\" >Prec.</th>\n",
       "      <th id=\"T_8d30f_level0_col5\" class=\"col_heading level0 col5\" >F1</th>\n",
       "      <th id=\"T_8d30f_level0_col6\" class=\"col_heading level0 col6\" >Kappa</th>\n",
       "      <th id=\"T_8d30f_level0_col7\" class=\"col_heading level0 col7\" >MCC</th>\n",
       "      <th id=\"T_8d30f_level0_col8\" class=\"col_heading level0 col8\" >TT (Sec)</th>\n",
       "    </tr>\n",
       "  </thead>\n",
       "  <tbody>\n",
       "    <tr>\n",
       "      <th id=\"T_8d30f_level0_row0\" class=\"row_heading level0 row0\" >lightgbm</th>\n",
       "      <td id=\"T_8d30f_row0_col0\" class=\"data row0 col0\" >Light Gradient Boosting Machine</td>\n",
       "      <td id=\"T_8d30f_row0_col1\" class=\"data row0 col1\" >0.7505</td>\n",
       "      <td id=\"T_8d30f_row0_col2\" class=\"data row0 col2\" >0.8301</td>\n",
       "      <td id=\"T_8d30f_row0_col3\" class=\"data row0 col3\" >0.6909</td>\n",
       "      <td id=\"T_8d30f_row0_col4\" class=\"data row0 col4\" >0.7839</td>\n",
       "      <td id=\"T_8d30f_row0_col5\" class=\"data row0 col5\" >0.7315</td>\n",
       "      <td id=\"T_8d30f_row0_col6\" class=\"data row0 col6\" >0.5005</td>\n",
       "      <td id=\"T_8d30f_row0_col7\" class=\"data row0 col7\" >0.5072</td>\n",
       "      <td id=\"T_8d30f_row0_col8\" class=\"data row0 col8\" >0.1270</td>\n",
       "    </tr>\n",
       "    <tr>\n",
       "      <th id=\"T_8d30f_level0_row1\" class=\"row_heading level0 row1\" >lr</th>\n",
       "      <td id=\"T_8d30f_row1_col0\" class=\"data row1 col0\" >Logistic Regression</td>\n",
       "      <td id=\"T_8d30f_row1_col1\" class=\"data row1 col1\" >0.7426</td>\n",
       "      <td id=\"T_8d30f_row1_col2\" class=\"data row1 col2\" >0.8272</td>\n",
       "      <td id=\"T_8d30f_row1_col3\" class=\"data row1 col3\" >0.7120</td>\n",
       "      <td id=\"T_8d30f_row1_col4\" class=\"data row1 col4\" >0.7601</td>\n",
       "      <td id=\"T_8d30f_row1_col5\" class=\"data row1 col5\" >0.7303</td>\n",
       "      <td id=\"T_8d30f_row1_col6\" class=\"data row1 col6\" >0.4846</td>\n",
       "      <td id=\"T_8d30f_row1_col7\" class=\"data row1 col7\" >0.4906</td>\n",
       "      <td id=\"T_8d30f_row1_col8\" class=\"data row1 col8\" >0.2830</td>\n",
       "    </tr>\n",
       "    <tr>\n",
       "      <th id=\"T_8d30f_level0_row2\" class=\"row_heading level0 row2\" >ridge</th>\n",
       "      <td id=\"T_8d30f_row2_col0\" class=\"data row2 col0\" >Ridge Classifier</td>\n",
       "      <td id=\"T_8d30f_row2_col1\" class=\"data row2 col1\" >0.7424</td>\n",
       "      <td id=\"T_8d30f_row2_col2\" class=\"data row2 col2\" >0.8211</td>\n",
       "      <td id=\"T_8d30f_row2_col3\" class=\"data row2 col3\" >0.7026</td>\n",
       "      <td id=\"T_8d30f_row2_col4\" class=\"data row2 col4\" >0.7657</td>\n",
       "      <td id=\"T_8d30f_row2_col5\" class=\"data row2 col5\" >0.7288</td>\n",
       "      <td id=\"T_8d30f_row2_col6\" class=\"data row2 col6\" >0.4852</td>\n",
       "      <td id=\"T_8d30f_row2_col7\" class=\"data row2 col7\" >0.4906</td>\n",
       "      <td id=\"T_8d30f_row2_col8\" class=\"data row2 col8\" >0.0270</td>\n",
       "    </tr>\n",
       "    <tr>\n",
       "      <th id=\"T_8d30f_level0_row3\" class=\"row_heading level0 row3\" >et</th>\n",
       "      <td id=\"T_8d30f_row3_col0\" class=\"data row3 col0\" >Extra Trees Classifier</td>\n",
       "      <td id=\"T_8d30f_row3_col1\" class=\"data row3 col1\" >0.7397</td>\n",
       "      <td id=\"T_8d30f_row3_col2\" class=\"data row3 col2\" >0.8303</td>\n",
       "      <td id=\"T_8d30f_row3_col3\" class=\"data row3 col3\" >0.6798</td>\n",
       "      <td id=\"T_8d30f_row3_col4\" class=\"data row3 col4\" >0.7742</td>\n",
       "      <td id=\"T_8d30f_row3_col5\" class=\"data row3 col5\" >0.7221</td>\n",
       "      <td id=\"T_8d30f_row3_col6\" class=\"data row3 col6\" >0.4785</td>\n",
       "      <td id=\"T_8d30f_row3_col7\" class=\"data row3 col7\" >0.4837</td>\n",
       "      <td id=\"T_8d30f_row3_col8\" class=\"data row3 col8\" >0.0410</td>\n",
       "    </tr>\n",
       "    <tr>\n",
       "      <th id=\"T_8d30f_level0_row4\" class=\"row_heading level0 row4\" >rf</th>\n",
       "      <td id=\"T_8d30f_row4_col0\" class=\"data row4 col0\" >Random Forest Classifier</td>\n",
       "      <td id=\"T_8d30f_row4_col1\" class=\"data row4 col1\" >0.7289</td>\n",
       "      <td id=\"T_8d30f_row4_col2\" class=\"data row4 col2\" >0.8333</td>\n",
       "      <td id=\"T_8d30f_row4_col3\" class=\"data row4 col3\" >0.6532</td>\n",
       "      <td id=\"T_8d30f_row4_col4\" class=\"data row4 col4\" >0.7721</td>\n",
       "      <td id=\"T_8d30f_row4_col5\" class=\"data row4 col5\" >0.7053</td>\n",
       "      <td id=\"T_8d30f_row4_col6\" class=\"data row4 col6\" >0.4576</td>\n",
       "      <td id=\"T_8d30f_row4_col7\" class=\"data row4 col7\" >0.4650</td>\n",
       "      <td id=\"T_8d30f_row4_col8\" class=\"data row4 col8\" >0.0620</td>\n",
       "    </tr>\n",
       "    <tr>\n",
       "      <th id=\"T_8d30f_level0_row5\" class=\"row_heading level0 row5\" >ada</th>\n",
       "      <td id=\"T_8d30f_row5_col0\" class=\"data row5 col0\" >Ada Boost Classifier</td>\n",
       "      <td id=\"T_8d30f_row5_col1\" class=\"data row5 col1\" >0.7208</td>\n",
       "      <td id=\"T_8d30f_row5_col2\" class=\"data row5 col2\" >0.7743</td>\n",
       "      <td id=\"T_8d30f_row5_col3\" class=\"data row5 col3\" >0.6754</td>\n",
       "      <td id=\"T_8d30f_row5_col4\" class=\"data row5 col4\" >0.7637</td>\n",
       "      <td id=\"T_8d30f_row5_col5\" class=\"data row5 col5\" >0.7088</td>\n",
       "      <td id=\"T_8d30f_row5_col6\" class=\"data row5 col6\" >0.4419</td>\n",
       "      <td id=\"T_8d30f_row5_col7\" class=\"data row5 col7\" >0.4541</td>\n",
       "      <td id=\"T_8d30f_row5_col8\" class=\"data row5 col8\" >0.1500</td>\n",
       "    </tr>\n",
       "    <tr>\n",
       "      <th id=\"T_8d30f_level0_row6\" class=\"row_heading level0 row6\" >gbc</th>\n",
       "      <td id=\"T_8d30f_row6_col0\" class=\"data row6 col0\" >Gradient Boosting Classifier</td>\n",
       "      <td id=\"T_8d30f_row6_col1\" class=\"data row6 col1\" >0.7179</td>\n",
       "      <td id=\"T_8d30f_row6_col2\" class=\"data row6 col2\" >0.8099</td>\n",
       "      <td id=\"T_8d30f_row6_col3\" class=\"data row6 col3\" >0.6863</td>\n",
       "      <td id=\"T_8d30f_row6_col4\" class=\"data row6 col4\" >0.7392</td>\n",
       "      <td id=\"T_8d30f_row6_col5\" class=\"data row6 col5\" >0.7092</td>\n",
       "      <td id=\"T_8d30f_row6_col6\" class=\"data row6 col6\" >0.4358</td>\n",
       "      <td id=\"T_8d30f_row6_col7\" class=\"data row6 col7\" >0.4396</td>\n",
       "      <td id=\"T_8d30f_row6_col8\" class=\"data row6 col8\" >0.6700</td>\n",
       "    </tr>\n",
       "    <tr>\n",
       "      <th id=\"T_8d30f_level0_row7\" class=\"row_heading level0 row7\" >svm</th>\n",
       "      <td id=\"T_8d30f_row7_col0\" class=\"data row7 col0\" >SVM - Linear Kernel</td>\n",
       "      <td id=\"T_8d30f_row7_col1\" class=\"data row7 col1\" >0.7047</td>\n",
       "      <td id=\"T_8d30f_row7_col2\" class=\"data row7 col2\" >0.8249</td>\n",
       "      <td id=\"T_8d30f_row7_col3\" class=\"data row7 col3\" >0.6319</td>\n",
       "      <td id=\"T_8d30f_row7_col4\" class=\"data row7 col4\" >0.7974</td>\n",
       "      <td id=\"T_8d30f_row7_col5\" class=\"data row7 col5\" >0.6549</td>\n",
       "      <td id=\"T_8d30f_row7_col6\" class=\"data row7 col6\" >0.4090</td>\n",
       "      <td id=\"T_8d30f_row7_col7\" class=\"data row7 col7\" >0.4561</td>\n",
       "      <td id=\"T_8d30f_row7_col8\" class=\"data row7 col8\" >0.0250</td>\n",
       "    </tr>\n",
       "    <tr>\n",
       "      <th id=\"T_8d30f_level0_row8\" class=\"row_heading level0 row8\" >lda</th>\n",
       "      <td id=\"T_8d30f_row8_col0\" class=\"data row8 col0\" >Linear Discriminant Analysis</td>\n",
       "      <td id=\"T_8d30f_row8_col1\" class=\"data row8 col1\" >0.6965</td>\n",
       "      <td id=\"T_8d30f_row8_col2\" class=\"data row8 col2\" >0.6962</td>\n",
       "      <td id=\"T_8d30f_row8_col3\" class=\"data row8 col3\" >0.6588</td>\n",
       "      <td id=\"T_8d30f_row8_col4\" class=\"data row8 col4\" >0.7254</td>\n",
       "      <td id=\"T_8d30f_row8_col5\" class=\"data row8 col5\" >0.6802</td>\n",
       "      <td id=\"T_8d30f_row8_col6\" class=\"data row8 col6\" >0.3928</td>\n",
       "      <td id=\"T_8d30f_row8_col7\" class=\"data row8 col7\" >0.4029</td>\n",
       "      <td id=\"T_8d30f_row8_col8\" class=\"data row8 col8\" >0.0240</td>\n",
       "    </tr>\n",
       "    <tr>\n",
       "      <th id=\"T_8d30f_level0_row9\" class=\"row_heading level0 row9\" >knn</th>\n",
       "      <td id=\"T_8d30f_row9_col0\" class=\"data row9 col0\" >K Neighbors Classifier</td>\n",
       "      <td id=\"T_8d30f_row9_col1\" class=\"data row9 col1\" >0.6935</td>\n",
       "      <td id=\"T_8d30f_row9_col2\" class=\"data row9 col2\" >0.7523</td>\n",
       "      <td id=\"T_8d30f_row9_col3\" class=\"data row9 col3\" >0.6588</td>\n",
       "      <td id=\"T_8d30f_row9_col4\" class=\"data row9 col4\" >0.7088</td>\n",
       "      <td id=\"T_8d30f_row9_col5\" class=\"data row9 col5\" >0.6785</td>\n",
       "      <td id=\"T_8d30f_row9_col6\" class=\"data row9 col6\" >0.3869</td>\n",
       "      <td id=\"T_8d30f_row9_col7\" class=\"data row9 col7\" >0.3907</td>\n",
       "      <td id=\"T_8d30f_row9_col8\" class=\"data row9 col8\" >0.2260</td>\n",
       "    </tr>\n",
       "    <tr>\n",
       "      <th id=\"T_8d30f_level0_row10\" class=\"row_heading level0 row10\" >dt</th>\n",
       "      <td id=\"T_8d30f_row10_col0\" class=\"data row10 col0\" >Decision Tree Classifier</td>\n",
       "      <td id=\"T_8d30f_row10_col1\" class=\"data row10 col1\" >0.6803</td>\n",
       "      <td id=\"T_8d30f_row10_col2\" class=\"data row10 col2\" >0.6801</td>\n",
       "      <td id=\"T_8d30f_row10_col3\" class=\"data row10 col3\" >0.6708</td>\n",
       "      <td id=\"T_8d30f_row10_col4\" class=\"data row10 col4\" >0.7008</td>\n",
       "      <td id=\"T_8d30f_row10_col5\" class=\"data row10 col5\" >0.6778</td>\n",
       "      <td id=\"T_8d30f_row10_col6\" class=\"data row10 col6\" >0.3600</td>\n",
       "      <td id=\"T_8d30f_row10_col7\" class=\"data row10 col7\" >0.3681</td>\n",
       "      <td id=\"T_8d30f_row10_col8\" class=\"data row10 col8\" >0.0320</td>\n",
       "    </tr>\n",
       "    <tr>\n",
       "      <th id=\"T_8d30f_level0_row11\" class=\"row_heading level0 row11\" >qda</th>\n",
       "      <td id=\"T_8d30f_row11_col0\" class=\"data row11 col0\" >Quadratic Discriminant Analysis</td>\n",
       "      <td id=\"T_8d30f_row11_col1\" class=\"data row11 col1\" >0.6613</td>\n",
       "      <td id=\"T_8d30f_row11_col2\" class=\"data row11 col2\" >0.7704</td>\n",
       "      <td id=\"T_8d30f_row11_col3\" class=\"data row11 col3\" >0.9728</td>\n",
       "      <td id=\"T_8d30f_row11_col4\" class=\"data row11 col4\" >0.6045</td>\n",
       "      <td id=\"T_8d30f_row11_col5\" class=\"data row11 col5\" >0.7434</td>\n",
       "      <td id=\"T_8d30f_row11_col6\" class=\"data row11 col6\" >0.3214</td>\n",
       "      <td id=\"T_8d30f_row11_col7\" class=\"data row11 col7\" >0.4166</td>\n",
       "      <td id=\"T_8d30f_row11_col8\" class=\"data row11 col8\" >0.0290</td>\n",
       "    </tr>\n",
       "    <tr>\n",
       "      <th id=\"T_8d30f_level0_row12\" class=\"row_heading level0 row12\" >nb</th>\n",
       "      <td id=\"T_8d30f_row12_col0\" class=\"data row12 col0\" >Naive Bayes</td>\n",
       "      <td id=\"T_8d30f_row12_col1\" class=\"data row12 col1\" >0.6532</td>\n",
       "      <td id=\"T_8d30f_row12_col2\" class=\"data row12 col2\" >0.6673</td>\n",
       "      <td id=\"T_8d30f_row12_col3\" class=\"data row12 col3\" >0.4360</td>\n",
       "      <td id=\"T_8d30f_row12_col4\" class=\"data row12 col4\" >0.7586</td>\n",
       "      <td id=\"T_8d30f_row12_col5\" class=\"data row12 col5\" >0.5475</td>\n",
       "      <td id=\"T_8d30f_row12_col6\" class=\"data row12 col6\" >0.3052</td>\n",
       "      <td id=\"T_8d30f_row12_col7\" class=\"data row12 col7\" >0.3352</td>\n",
       "      <td id=\"T_8d30f_row12_col8\" class=\"data row12 col8\" >0.0210</td>\n",
       "    </tr>\n",
       "    <tr>\n",
       "      <th id=\"T_8d30f_level0_row13\" class=\"row_heading level0 row13\" >dummy</th>\n",
       "      <td id=\"T_8d30f_row13_col0\" class=\"data row13 col0\" >Dummy Classifier</td>\n",
       "      <td id=\"T_8d30f_row13_col1\" class=\"data row13 col1\" >0.4878</td>\n",
       "      <td id=\"T_8d30f_row13_col2\" class=\"data row13 col2\" >0.5000</td>\n",
       "      <td id=\"T_8d30f_row13_col3\" class=\"data row13 col3\" >0.5000</td>\n",
       "      <td id=\"T_8d30f_row13_col4\" class=\"data row13 col4\" >0.2446</td>\n",
       "      <td id=\"T_8d30f_row13_col5\" class=\"data row13 col5\" >0.3285</td>\n",
       "      <td id=\"T_8d30f_row13_col6\" class=\"data row13 col6\" >0.0000</td>\n",
       "      <td id=\"T_8d30f_row13_col7\" class=\"data row13 col7\" >0.0000</td>\n",
       "      <td id=\"T_8d30f_row13_col8\" class=\"data row13 col8\" >0.0260</td>\n",
       "    </tr>\n",
       "  </tbody>\n",
       "</table>\n"
      ]
     },
     "metadata": {},
     "output_type": "display_data"
    },
    {
     "name": "stderr",
     "output_type": "stream",
     "text": [
      "2025/04/06 07:23:09 WARNING mlflow.models.model: Model logged without a signature and input example. Please set `input_example` parameter when logging the model to auto infer the model signature.\n",
      "2025/04/06 07:23:09 WARNING mlflow.models.model: Model logged without a signature and input example. Please set `input_example` parameter when logging the model to auto infer the model signature.\n",
      "2025/04/06 07:23:09 WARNING mlflow.models.model: Model logged without a signature and input example. Please set `input_example` parameter when logging the model to auto infer the model signature.\n",
      "2025/04/06 07:23:10 WARNING mlflow.models.model: Model logged without a signature and input example. Please set `input_example` parameter when logging the model to auto infer the model signature.\n",
      "2025/04/06 07:23:10 WARNING mlflow.models.model: Model logged without a signature and input example. Please set `input_example` parameter when logging the model to auto infer the model signature.\n",
      "2025/04/06 07:23:10 WARNING mlflow.models.model: Model logged without a signature and input example. Please set `input_example` parameter when logging the model to auto infer the model signature.\n",
      "2025/04/06 07:23:10 WARNING mlflow.models.model: Model logged without a signature and input example. Please set `input_example` parameter when logging the model to auto infer the model signature.\n",
      "2025/04/06 07:23:11 WARNING mlflow.models.model: Model logged without a signature and input example. Please set `input_example` parameter when logging the model to auto infer the model signature.\n",
      "2025/04/06 07:23:11 WARNING mlflow.models.model: Model logged without a signature and input example. Please set `input_example` parameter when logging the model to auto infer the model signature.\n",
      "2025/04/06 07:23:11 WARNING mlflow.models.model: Model logged without a signature and input example. Please set `input_example` parameter when logging the model to auto infer the model signature.\n",
      "2025/04/06 07:23:12 WARNING mlflow.models.model: Model logged without a signature and input example. Please set `input_example` parameter when logging the model to auto infer the model signature.\n",
      "2025/04/06 07:23:12 WARNING mlflow.models.model: Model logged without a signature and input example. Please set `input_example` parameter when logging the model to auto infer the model signature.\n",
      "2025/04/06 07:23:12 WARNING mlflow.models.model: Model logged without a signature and input example. Please set `input_example` parameter when logging the model to auto infer the model signature.\n",
      "2025/04/06 07:23:12 WARNING mlflow.models.model: Model logged without a signature and input example. Please set `input_example` parameter when logging the model to auto infer the model signature.\n"
     ]
    }
   ],
   "execution_count": 12
  },
  {
   "metadata": {
    "ExecuteTime": {
     "end_time": "2025-04-06T12:53:42.010034Z",
     "start_time": "2025-04-06T12:53:36.991700Z"
    }
   },
   "cell_type": "code",
   "source": [
    "# We create a classification model.\n",
    "best_model = create_model('lightgbm')"
   ],
   "id": "60599c3d030cc1cf",
   "outputs": [
    {
     "data": {
      "text/plain": [
       "                                                                    \n",
       "                                                                    \n",
       "Initiated  . . . . . . . . . . . . . . . . . .              07:53:36\n",
       "Status     . . . . . . . . . . . . . . . . . .  Loading Dependencies\n",
       "Estimator  . . . . . . . . . . . . . . . . . .     Compiling Library"
      ],
      "text/html": [
       "<div>\n",
       "<style scoped>\n",
       "    .dataframe tbody tr th:only-of-type {\n",
       "        vertical-align: middle;\n",
       "    }\n",
       "\n",
       "    .dataframe tbody tr th {\n",
       "        vertical-align: top;\n",
       "    }\n",
       "\n",
       "    .dataframe thead th {\n",
       "        text-align: right;\n",
       "    }\n",
       "</style>\n",
       "<table border=\"1\" class=\"dataframe\">\n",
       "  <thead>\n",
       "    <tr style=\"text-align: right;\">\n",
       "      <th></th>\n",
       "      <th></th>\n",
       "      <th></th>\n",
       "    </tr>\n",
       "    <tr>\n",
       "      <th></th>\n",
       "      <th></th>\n",
       "      <th></th>\n",
       "    </tr>\n",
       "  </thead>\n",
       "  <tbody>\n",
       "    <tr>\n",
       "      <th>Initiated</th>\n",
       "      <td>. . . . . . . . . . . . . . . . . .</td>\n",
       "      <td>07:53:36</td>\n",
       "    </tr>\n",
       "    <tr>\n",
       "      <th>Status</th>\n",
       "      <td>. . . . . . . . . . . . . . . . . .</td>\n",
       "      <td>Loading Dependencies</td>\n",
       "    </tr>\n",
       "    <tr>\n",
       "      <th>Estimator</th>\n",
       "      <td>. . . . . . . . . . . . . . . . . .</td>\n",
       "      <td>Compiling Library</td>\n",
       "    </tr>\n",
       "  </tbody>\n",
       "</table>\n",
       "</div>"
      ]
     },
     "metadata": {},
     "output_type": "display_data"
    },
    {
     "data": {
      "text/plain": [
       "<IPython.core.display.HTML object>"
      ],
      "text/html": []
     },
     "metadata": {},
     "output_type": "display_data"
    },
    {
     "data": {
      "text/plain": [
       "<pandas.io.formats.style.Styler at 0x219516fca90>"
      ],
      "text/html": [
       "<style type=\"text/css\">\n",
       "#T_985b4_row10_col0, #T_985b4_row10_col1, #T_985b4_row10_col2, #T_985b4_row10_col3, #T_985b4_row10_col4, #T_985b4_row10_col5, #T_985b4_row10_col6 {\n",
       "  background: yellow;\n",
       "}\n",
       "</style>\n",
       "<table id=\"T_985b4\">\n",
       "  <thead>\n",
       "    <tr>\n",
       "      <th class=\"blank level0\" >&nbsp;</th>\n",
       "      <th id=\"T_985b4_level0_col0\" class=\"col_heading level0 col0\" >Accuracy</th>\n",
       "      <th id=\"T_985b4_level0_col1\" class=\"col_heading level0 col1\" >AUC</th>\n",
       "      <th id=\"T_985b4_level0_col2\" class=\"col_heading level0 col2\" >Recall</th>\n",
       "      <th id=\"T_985b4_level0_col3\" class=\"col_heading level0 col3\" >Prec.</th>\n",
       "      <th id=\"T_985b4_level0_col4\" class=\"col_heading level0 col4\" >F1</th>\n",
       "      <th id=\"T_985b4_level0_col5\" class=\"col_heading level0 col5\" >Kappa</th>\n",
       "      <th id=\"T_985b4_level0_col6\" class=\"col_heading level0 col6\" >MCC</th>\n",
       "    </tr>\n",
       "    <tr>\n",
       "      <th class=\"index_name level0\" >Fold</th>\n",
       "      <th class=\"blank col0\" >&nbsp;</th>\n",
       "      <th class=\"blank col1\" >&nbsp;</th>\n",
       "      <th class=\"blank col2\" >&nbsp;</th>\n",
       "      <th class=\"blank col3\" >&nbsp;</th>\n",
       "      <th class=\"blank col4\" >&nbsp;</th>\n",
       "      <th class=\"blank col5\" >&nbsp;</th>\n",
       "      <th class=\"blank col6\" >&nbsp;</th>\n",
       "    </tr>\n",
       "  </thead>\n",
       "  <tbody>\n",
       "    <tr>\n",
       "      <th id=\"T_985b4_level0_row0\" class=\"row_heading level0 row0\" >0</th>\n",
       "      <td id=\"T_985b4_row0_col0\" class=\"data row0 col0\" >0.7297</td>\n",
       "      <td id=\"T_985b4_row0_col1\" class=\"data row0 col1\" >0.8363</td>\n",
       "      <td id=\"T_985b4_row0_col2\" class=\"data row0 col2\" >0.6316</td>\n",
       "      <td id=\"T_985b4_row0_col3\" class=\"data row0 col3\" >0.8000</td>\n",
       "      <td id=\"T_985b4_row0_col4\" class=\"data row0 col4\" >0.7059</td>\n",
       "      <td id=\"T_985b4_row0_col5\" class=\"data row0 col5\" >0.4622</td>\n",
       "      <td id=\"T_985b4_row0_col6\" class=\"data row0 col6\" >0.4733</td>\n",
       "    </tr>\n",
       "    <tr>\n",
       "      <th id=\"T_985b4_level0_row1\" class=\"row_heading level0 row1\" >1</th>\n",
       "      <td id=\"T_985b4_row1_col0\" class=\"data row1 col0\" >0.7297</td>\n",
       "      <td id=\"T_985b4_row1_col1\" class=\"data row1 col1\" >0.8246</td>\n",
       "      <td id=\"T_985b4_row1_col2\" class=\"data row1 col2\" >0.6316</td>\n",
       "      <td id=\"T_985b4_row1_col3\" class=\"data row1 col3\" >0.8000</td>\n",
       "      <td id=\"T_985b4_row1_col4\" class=\"data row1 col4\" >0.7059</td>\n",
       "      <td id=\"T_985b4_row1_col5\" class=\"data row1 col5\" >0.4622</td>\n",
       "      <td id=\"T_985b4_row1_col6\" class=\"data row1 col6\" >0.4733</td>\n",
       "    </tr>\n",
       "    <tr>\n",
       "      <th id=\"T_985b4_level0_row2\" class=\"row_heading level0 row2\" >2</th>\n",
       "      <td id=\"T_985b4_row2_col0\" class=\"data row2 col0\" >0.8108</td>\n",
       "      <td id=\"T_985b4_row2_col1\" class=\"data row2 col1\" >0.8596</td>\n",
       "      <td id=\"T_985b4_row2_col2\" class=\"data row2 col2\" >0.7368</td>\n",
       "      <td id=\"T_985b4_row2_col3\" class=\"data row2 col3\" >0.8750</td>\n",
       "      <td id=\"T_985b4_row2_col4\" class=\"data row2 col4\" >0.8000</td>\n",
       "      <td id=\"T_985b4_row2_col5\" class=\"data row2 col5\" >0.6230</td>\n",
       "      <td id=\"T_985b4_row2_col6\" class=\"data row2 col6\" >0.6313</td>\n",
       "    </tr>\n",
       "    <tr>\n",
       "      <th id=\"T_985b4_level0_row3\" class=\"row_heading level0 row3\" >3</th>\n",
       "      <td id=\"T_985b4_row3_col0\" class=\"data row3 col0\" >0.8108</td>\n",
       "      <td id=\"T_985b4_row3_col1\" class=\"data row3 col1\" >0.8947</td>\n",
       "      <td id=\"T_985b4_row3_col2\" class=\"data row3 col2\" >0.8947</td>\n",
       "      <td id=\"T_985b4_row3_col3\" class=\"data row3 col3\" >0.7727</td>\n",
       "      <td id=\"T_985b4_row3_col4\" class=\"data row3 col4\" >0.8293</td>\n",
       "      <td id=\"T_985b4_row3_col5\" class=\"data row3 col5\" >0.6197</td>\n",
       "      <td id=\"T_985b4_row3_col6\" class=\"data row3 col6\" >0.6281</td>\n",
       "    </tr>\n",
       "    <tr>\n",
       "      <th id=\"T_985b4_level0_row4\" class=\"row_heading level0 row4\" >4</th>\n",
       "      <td id=\"T_985b4_row4_col0\" class=\"data row4 col0\" >0.7838</td>\n",
       "      <td id=\"T_985b4_row4_col1\" class=\"data row4 col1\" >0.9094</td>\n",
       "      <td id=\"T_985b4_row4_col2\" class=\"data row4 col2\" >0.7368</td>\n",
       "      <td id=\"T_985b4_row4_col3\" class=\"data row4 col3\" >0.8235</td>\n",
       "      <td id=\"T_985b4_row4_col4\" class=\"data row4 col4\" >0.7778</td>\n",
       "      <td id=\"T_985b4_row4_col5\" class=\"data row4 col5\" >0.5685</td>\n",
       "      <td id=\"T_985b4_row4_col6\" class=\"data row4 col6\" >0.5718</td>\n",
       "    </tr>\n",
       "    <tr>\n",
       "      <th id=\"T_985b4_level0_row5\" class=\"row_heading level0 row5\" >5</th>\n",
       "      <td id=\"T_985b4_row5_col0\" class=\"data row5 col0\" >0.6216</td>\n",
       "      <td id=\"T_985b4_row5_col1\" class=\"data row5 col1\" >0.7076</td>\n",
       "      <td id=\"T_985b4_row5_col2\" class=\"data row5 col2\" >0.5000</td>\n",
       "      <td id=\"T_985b4_row5_col3\" class=\"data row5 col3\" >0.6429</td>\n",
       "      <td id=\"T_985b4_row5_col4\" class=\"data row5 col4\" >0.5625</td>\n",
       "      <td id=\"T_985b4_row5_col5\" class=\"data row5 col5\" >0.2382</td>\n",
       "      <td id=\"T_985b4_row5_col6\" class=\"data row5 col6\" >0.2441</td>\n",
       "    </tr>\n",
       "    <tr>\n",
       "      <th id=\"T_985b4_level0_row6\" class=\"row_heading level0 row6\" >6</th>\n",
       "      <td id=\"T_985b4_row6_col0\" class=\"data row6 col0\" >0.7568</td>\n",
       "      <td id=\"T_985b4_row6_col1\" class=\"data row6 col1\" >0.8158</td>\n",
       "      <td id=\"T_985b4_row6_col2\" class=\"data row6 col2\" >0.6667</td>\n",
       "      <td id=\"T_985b4_row6_col3\" class=\"data row6 col3\" >0.8000</td>\n",
       "      <td id=\"T_985b4_row6_col4\" class=\"data row6 col4\" >0.7273</td>\n",
       "      <td id=\"T_985b4_row6_col5\" class=\"data row6 col5\" >0.5110</td>\n",
       "      <td id=\"T_985b4_row6_col6\" class=\"data row6 col6\" >0.5179</td>\n",
       "    </tr>\n",
       "    <tr>\n",
       "      <th id=\"T_985b4_level0_row7\" class=\"row_heading level0 row7\" >7</th>\n",
       "      <td id=\"T_985b4_row7_col0\" class=\"data row7 col0\" >0.8378</td>\n",
       "      <td id=\"T_985b4_row7_col1\" class=\"data row7 col1\" >0.8596</td>\n",
       "      <td id=\"T_985b4_row7_col2\" class=\"data row7 col2\" >0.8333</td>\n",
       "      <td id=\"T_985b4_row7_col3\" class=\"data row7 col3\" >0.8333</td>\n",
       "      <td id=\"T_985b4_row7_col4\" class=\"data row7 col4\" >0.8333</td>\n",
       "      <td id=\"T_985b4_row7_col5\" class=\"data row7 col5\" >0.6754</td>\n",
       "      <td id=\"T_985b4_row7_col6\" class=\"data row7 col6\" >0.6754</td>\n",
       "    </tr>\n",
       "    <tr>\n",
       "      <th id=\"T_985b4_level0_row8\" class=\"row_heading level0 row8\" >8</th>\n",
       "      <td id=\"T_985b4_row8_col0\" class=\"data row8 col0\" >0.7297</td>\n",
       "      <td id=\"T_985b4_row8_col1\" class=\"data row8 col1\" >0.8099</td>\n",
       "      <td id=\"T_985b4_row8_col2\" class=\"data row8 col2\" >0.6111</td>\n",
       "      <td id=\"T_985b4_row8_col3\" class=\"data row8 col3\" >0.7857</td>\n",
       "      <td id=\"T_985b4_row8_col4\" class=\"data row8 col4\" >0.6875</td>\n",
       "      <td id=\"T_985b4_row8_col5\" class=\"data row8 col5\" >0.4559</td>\n",
       "      <td id=\"T_985b4_row8_col6\" class=\"data row8 col6\" >0.4671</td>\n",
       "    </tr>\n",
       "    <tr>\n",
       "      <th id=\"T_985b4_level0_row9\" class=\"row_heading level0 row9\" >9</th>\n",
       "      <td id=\"T_985b4_row9_col0\" class=\"data row9 col0\" >0.6944</td>\n",
       "      <td id=\"T_985b4_row9_col1\" class=\"data row9 col1\" >0.7840</td>\n",
       "      <td id=\"T_985b4_row9_col2\" class=\"data row9 col2\" >0.6667</td>\n",
       "      <td id=\"T_985b4_row9_col3\" class=\"data row9 col3\" >0.7059</td>\n",
       "      <td id=\"T_985b4_row9_col4\" class=\"data row9 col4\" >0.6857</td>\n",
       "      <td id=\"T_985b4_row9_col5\" class=\"data row9 col5\" >0.3889</td>\n",
       "      <td id=\"T_985b4_row9_col6\" class=\"data row9 col6\" >0.3895</td>\n",
       "    </tr>\n",
       "    <tr>\n",
       "      <th id=\"T_985b4_level0_row10\" class=\"row_heading level0 row10\" >Mean</th>\n",
       "      <td id=\"T_985b4_row10_col0\" class=\"data row10 col0\" >0.7505</td>\n",
       "      <td id=\"T_985b4_row10_col1\" class=\"data row10 col1\" >0.8301</td>\n",
       "      <td id=\"T_985b4_row10_col2\" class=\"data row10 col2\" >0.6909</td>\n",
       "      <td id=\"T_985b4_row10_col3\" class=\"data row10 col3\" >0.7839</td>\n",
       "      <td id=\"T_985b4_row10_col4\" class=\"data row10 col4\" >0.7315</td>\n",
       "      <td id=\"T_985b4_row10_col5\" class=\"data row10 col5\" >0.5005</td>\n",
       "      <td id=\"T_985b4_row10_col6\" class=\"data row10 col6\" >0.5072</td>\n",
       "    </tr>\n",
       "    <tr>\n",
       "      <th id=\"T_985b4_level0_row11\" class=\"row_heading level0 row11\" >Std</th>\n",
       "      <td id=\"T_985b4_row11_col0\" class=\"data row11 col0\" >0.0609</td>\n",
       "      <td id=\"T_985b4_row11_col1\" class=\"data row11 col1\" >0.0548</td>\n",
       "      <td id=\"T_985b4_row11_col2\" class=\"data row11 col2\" >0.1082</td>\n",
       "      <td id=\"T_985b4_row11_col3\" class=\"data row11 col3\" >0.0626</td>\n",
       "      <td id=\"T_985b4_row11_col4\" class=\"data row11 col4\" >0.0779</td>\n",
       "      <td id=\"T_985b4_row11_col5\" class=\"data row11 col5\" >0.1228</td>\n",
       "      <td id=\"T_985b4_row11_col6\" class=\"data row11 col6\" >0.1223</td>\n",
       "    </tr>\n",
       "  </tbody>\n",
       "</table>\n"
      ]
     },
     "metadata": {},
     "output_type": "display_data"
    },
    {
     "name": "stderr",
     "output_type": "stream",
     "text": [
      "2025/04/06 07:53:41 WARNING mlflow.models.model: Model logged without a signature and input example. Please set `input_example` parameter when logging the model to auto infer the model signature.\n"
     ]
    }
   ],
   "execution_count": 32
  },
  {
   "metadata": {
    "ExecuteTime": {
     "end_time": "2025-04-06T12:53:46.542915Z",
     "start_time": "2025-04-06T12:53:46.531916Z"
    }
   },
   "cell_type": "code",
   "source": "print(best_model)",
   "id": "5f02e3f80d7cbedf",
   "outputs": [
    {
     "name": "stdout",
     "output_type": "stream",
     "text": [
      "LGBMClassifier(boosting_type='gbdt', class_weight=None, colsample_bytree=1.0,\n",
      "               importance_type='split', learning_rate=0.1, max_depth=-1,\n",
      "               min_child_samples=20, min_child_weight=0.001, min_split_gain=0.0,\n",
      "               n_estimators=100, n_jobs=-1, num_leaves=31, objective=None,\n",
      "               random_state=123, reg_alpha=0.0, reg_lambda=0.0, subsample=1.0,\n",
      "               subsample_for_bin=200000, subsample_freq=0)\n"
     ]
    }
   ],
   "execution_count": 33
  },
  {
   "metadata": {
    "ExecuteTime": {
     "end_time": "2025-04-06T12:53:50.828776Z",
     "start_time": "2025-04-06T12:53:50.136207Z"
    }
   },
   "cell_type": "code",
   "source": "plot_model(best_model, plot='confusion_matrix')",
   "id": "dafdbf91a3fcb8f9",
   "outputs": [
    {
     "data": {
      "text/plain": [
       "<IPython.core.display.HTML object>"
      ],
      "text/html": []
     },
     "metadata": {},
     "output_type": "display_data"
    },
    {
     "data": {
      "text/plain": [
       "<Figure size 800x550 with 1 Axes>"
      ],
      "image/png": "[encoded data removed]"
     },
     "metadata": {},
     "output_type": "display_data"
    }
   ],
   "execution_count": 34
  },
  {
   "metadata": {
    "ExecuteTime": {
     "end_time": "2025-04-06T12:54:09.742932Z",
     "start_time": "2025-04-06T12:54:09.489663Z"
    }
   },
   "cell_type": "code",
   "source": "evaluate_model(best_model)",
   "id": "ef4a4a27932e4984",
   "outputs": [
    {
     "data": {
      "text/plain": [
       "interactive(children=(ToggleButtons(description='Plot Type:', icons=('',), options=(('Pipeline Plot', 'pipelin…"
      ],
      "application/vnd.jupyter.widget-view+json": {
       "version_major": 2,
       "version_minor": 0,
       "model_id": "7a1a015924434c80b779494db02f8e27"
      }
     },
     "metadata": {},
     "output_type": "display_data"
    }
   ],
   "execution_count": 35
  },
  {
   "metadata": {
    "ExecuteTime": {
     "end_time": "2025-04-06T12:25:04.032574Z",
     "start_time": "2025-04-06T12:25:03.186042Z"
    }
   },
   "cell_type": "code",
   "source": "final_model = finalize_model(best_model)",
   "id": "86e5c40b0aa6e57",
   "outputs": [
    {
     "name": "stderr",
     "output_type": "stream",
     "text": [
      "2025/04/06 07:25:03 WARNING mlflow.models.model: Model logged without a signature and input example. Please set `input_example` parameter when logging the model to auto infer the model signature.\n"
     ]
    }
   ],
   "execution_count": 23
  },
  {
   "metadata": {
    "ExecuteTime": {
     "end_time": "2025-04-06T12:54:13.445729Z",
     "start_time": "2025-04-06T12:54:13.261712Z"
    }
   },
   "cell_type": "code",
   "source": "save_model(final_model, 'lightgbm_task1_final')",
   "id": "317265488f5adeac",
   "outputs": [
    {
     "name": "stdout",
     "output_type": "stream",
     "text": [
      "Transformation Pipeline and Model Successfully Saved\n"
     ]
    },
    {
     "data": {
      "text/plain": [
       "(Pipeline(memory=Memory(location=None),\n",
       "          steps=[('numerical_imputer',\n",
       "                  TransformerWrapper(exclude=None,\n",
       "                                     include=['feature_1', 'feature_2',\n",
       "                                              'feature_3', 'feature_4',\n",
       "                                              'feature_5', 'feature_6',\n",
       "                                              'feature_7', 'feature_8',\n",
       "                                              'feature_9', 'feature_10',\n",
       "                                              'feature_11', 'feature_12',\n",
       "                                              'feature_13', 'feature_14',\n",
       "                                              'feature_15', 'feature_16',\n",
       "                                              'feature_17', 'feature_18',\n",
       "                                              'feature_19', 'feat...\n",
       "                  LGBMClassifier(boosting_type='gbdt', class_weight=None,\n",
       "                                 colsample_bytree=1.0, importance_type='split',\n",
       "                                 learning_rate=0.1, max_depth=-1,\n",
       "                                 min_child_samples=20, min_child_weight=0.001,\n",
       "                                 min_split_gain=0.0, n_estimators=100, n_jobs=-1,\n",
       "                                 num_leaves=31, objective=None, random_state=123,\n",
       "                                 reg_alpha=0.0, reg_lambda=0.0, subsample=1.0,\n",
       "                                 subsample_for_bin=200000, subsample_freq=0))],\n",
       "          verbose=False),\n",
       " 'lightgbm_task1_final.pkl')"
      ]
     },
     "execution_count": 36,
     "metadata": {},
     "output_type": "execute_result"
    }
   ],
   "execution_count": 36
  },
  {
   "metadata": {},
   "cell_type": "markdown",
   "source": "",
   "id": "f7379603beb8ee0"
  }
 ],
 "metadata": {
  "kernelspec": {
   "display_name": "Python 3",
   "language": "python",
   "name": "python3"
  },
  "language_info": {
   "codemirror_mode": {
    "name": "ipython",
    "version": 2
   },
   "file_extension": ".py",
   "mimetype": "text/x-python",
   "name": "python",
   "nbconvert_exporter": "python",
   "pygments_lexer": "ipython2",
   "version": "2.7.6"
  }
 },
 "nbformat": 4,
 "nbformat_minor": 5
}
