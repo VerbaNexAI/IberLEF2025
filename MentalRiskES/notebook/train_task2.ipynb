{
 "cells": [
  {
   "cell_type": "code",
   "id": "initial_id",
   "metadata": {
    "collapsed": true,
    "ExecuteTime": {
     "end_time": "2025-03-23T03:19:12.820076Z",
     "start_time": "2025-03-23T03:18:38.357951Z"
    }
   },
   "source": [
    "import os\n",
    "import torch\n",
    "import pandas as pd\n",
    "import numpy as np\n",
    "from collections import Counter\n",
    "from imblearn.over_sampling import RandomOverSampler\n",
    "from transformers import LongformerTokenizer, LongformerModel, AutoTokenizer, AutoModel\n",
    "from pycaret.classification import *\n",
    "\n",
    "device = torch.device(\"cuda\" if torch.cuda.is_available() else \"cpu\")\n",
    "device"
   ],
   "outputs": [
    {
     "data": {
      "text/plain": [
       "device(type='cuda')"
      ]
     },
     "execution_count": 1,
     "metadata": {},
     "output_type": "execute_result"
    }
   ],
   "execution_count": 1
  },
  {
   "metadata": {
    "ExecuteTime": {
     "end_time": "2025-03-23T03:19:13.153607Z",
     "start_time": "2025-03-23T03:19:13.138603Z"
    }
   },
   "cell_type": "code",
   "source": [
    "# Get the root directory of the project (assuming the notebook is inside \"notebook/\")\n",
    "notebook_dir = os.getcwd()  # Gets the current working directory\n",
    "project_root = os.path.abspath(os.path.join(notebook_dir, \"..\"))  # Moves one level up\n",
    "project_root"
   ],
   "id": "4e666fbecf8ccab6",
   "outputs": [
    {
     "data": {
      "text/plain": [
       "'C:\\\\Users\\\\jeiso\\\\Documents\\\\Maestria\\\\Semestre #1\\\\Reto\\\\MentalRiskES-2025'"
      ]
     },
     "execution_count": 2,
     "metadata": {},
     "output_type": "execute_result"
    }
   ],
   "execution_count": 2
  },
  {
   "metadata": {
    "ExecuteTime": {
     "end_time": "2025-03-23T03:19:19.102538Z",
     "start_time": "2025-03-23T03:19:18.191953Z"
    }
   },
   "cell_type": "code",
   "source": [
    "path_dataset = os.path.join(project_root, \"notebook\", \"dataset_tasks.xlsx\")\n",
    "dataset = pd.read_excel(path_dataset)\n",
    "dataset['message'] = dataset['message'].fillna(\"\").astype(str)\n",
    "dataset.head()"
   ],
   "id": "79e9c339634884f9",
   "outputs": [
    {
     "data": {
      "text/plain": [
       "                                             message label_text  level  label\n",
       "0  el canal del amigo se llama loco por el tradin...    trading      0      1\n",
       "1  ganancia e ganancia chico [SEP] si lo conseguí...    trading      0      1\n",
       "2  fijate cuanto e el margen en negativo y le agr...    trading      1      1\n",
       "3  alguna entradita .. ? [SEP] spot está funciona...    trading      0      1\n",
       "4  voy cargando la escopeta pa longuear alguna mo...    trading      1      1"
      ],
      "text/html": [
       "<div>\n",
       "<style scoped>\n",
       "    .dataframe tbody tr th:only-of-type {\n",
       "        vertical-align: middle;\n",
       "    }\n",
       "\n",
       "    .dataframe tbody tr th {\n",
       "        vertical-align: top;\n",
       "    }\n",
       "\n",
       "    .dataframe thead th {\n",
       "        text-align: right;\n",
       "    }\n",
       "</style>\n",
       "<table border=\"1\" class=\"dataframe\">\n",
       "  <thead>\n",
       "    <tr style=\"text-align: right;\">\n",
       "      <th></th>\n",
       "      <th>message</th>\n",
       "      <th>label_text</th>\n",
       "      <th>level</th>\n",
       "      <th>label</th>\n",
       "    </tr>\n",
       "  </thead>\n",
       "  <tbody>\n",
       "    <tr>\n",
       "      <th>0</th>\n",
       "      <td>el canal del amigo se llama loco por el tradin...</td>\n",
       "      <td>trading</td>\n",
       "      <td>0</td>\n",
       "      <td>1</td>\n",
       "    </tr>\n",
       "    <tr>\n",
       "      <th>1</th>\n",
       "      <td>ganancia e ganancia chico [SEP] si lo conseguí...</td>\n",
       "      <td>trading</td>\n",
       "      <td>0</td>\n",
       "      <td>1</td>\n",
       "    </tr>\n",
       "    <tr>\n",
       "      <th>2</th>\n",
       "      <td>fijate cuanto e el margen en negativo y le agr...</td>\n",
       "      <td>trading</td>\n",
       "      <td>1</td>\n",
       "      <td>1</td>\n",
       "    </tr>\n",
       "    <tr>\n",
       "      <th>3</th>\n",
       "      <td>alguna entradita .. ? [SEP] spot está funciona...</td>\n",
       "      <td>trading</td>\n",
       "      <td>0</td>\n",
       "      <td>1</td>\n",
       "    </tr>\n",
       "    <tr>\n",
       "      <th>4</th>\n",
       "      <td>voy cargando la escopeta pa longuear alguna mo...</td>\n",
       "      <td>trading</td>\n",
       "      <td>1</td>\n",
       "      <td>1</td>\n",
       "    </tr>\n",
       "  </tbody>\n",
       "</table>\n",
       "</div>"
      ]
     },
     "execution_count": 3,
     "metadata": {},
     "output_type": "execute_result"
    }
   ],
   "execution_count": 3
  },
  {
   "metadata": {},
   "cell_type": "markdown",
   "source": "# TASK 2: MULTI CLASSIFICATION",
   "id": "9e50501543cae871"
  },
  {
   "metadata": {
    "ExecuteTime": {
     "end_time": "2025-03-23T03:19:22.314637Z",
     "start_time": "2025-03-23T03:19:22.300639Z"
    }
   },
   "cell_type": "code",
   "source": [
    "x_task2 = dataset['message']\n",
    "y_task2 = dataset['label']"
   ],
   "id": "7713a639d317c6d4",
   "outputs": [],
   "execution_count": 4
  },
  {
   "metadata": {
    "ExecuteTime": {
     "end_time": "2025-03-23T03:19:45.635940Z",
     "start_time": "2025-03-23T03:19:44.494624Z"
    }
   },
   "cell_type": "code",
   "source": [
    "# load model and tokenizer\n",
    "\n",
    "# Longformer\n",
    "model_name = \"PlanTL-GOB-ES/longformer-base-4096-bne-es\"\n",
    "tokenizer = LongformerTokenizer.from_pretrained(model_name)\n",
    "model = LongformerModel.from_pretrained(model_name).to(device)\n",
    "\n",
    "# BETO\n",
    "# model_name = \"dccuchile/bert-base-spanish-wwm-cased\"\n",
    "# tokenizer = AutoTokenizer.from_pretrained(model_name)\n",
    "# model = AutoModel.from_pretrained(model_name).to(device)"
   ],
   "id": "ed352186066d7533",
   "outputs": [
    {
     "name": "stderr",
     "output_type": "stream",
     "text": [
      "The tokenizer class you load from this checkpoint is not the same type as the class this function is called from. It may result in unexpected tokenization. \n",
      "The tokenizer class you load from this checkpoint is 'RobertaTokenizer'. \n",
      "The class this function is called from is 'LongformerTokenizer'.\n",
      "Some weights of LongformerModel were not initialized from the model checkpoint at PlanTL-GOB-ES/longformer-base-4096-bne-es and are newly initialized: ['longformer.pooler.dense.bias', 'longformer.pooler.dense.weight']\n",
      "You should probably TRAIN this model on a down-stream task to be able to use it for predictions and inference.\n"
     ]
    }
   ],
   "execution_count": 5
  },
  {
   "metadata": {
    "ExecuteTime": {
     "end_time": "2025-03-23T03:21:20.264488Z",
     "start_time": "2025-03-23T03:19:53.890013Z"
    }
   },
   "cell_type": "code",
   "source": [
    "def get_longformer_embedding(text):\n",
    "    inputs = tokenizer(\n",
    "        text,\n",
    "        return_tensors=\"pt\",\n",
    "        truncation=True,\n",
    "        padding=\"max_length\",\n",
    "        max_length=4096\n",
    "    )\n",
    "    # Mover los tensores de entrada a GPU\n",
    "    inputs = {k: v.to(device) for k, v in inputs.items()}\n",
    "    with torch.no_grad():\n",
    "        outputs = model(**inputs)\n",
    "    # Convertir los resultados a CPU para trabajar con numpy\n",
    "    return outputs.last_hidden_state.mean(dim=1).squeeze().cpu().numpy()\n",
    "\n",
    "# Aplicamos la función a todos los mensajes\n",
    "x_task2_embeddings = np.array([get_longformer_embedding(text) for text in x_task2])"
   ],
   "id": "988b0b2ee2599394",
   "outputs": [],
   "execution_count": 6
  },
  {
   "metadata": {
    "ExecuteTime": {
     "end_time": "2025-03-23T03:21:27.458493Z",
     "start_time": "2025-03-23T03:21:27.446491Z"
    }
   },
   "cell_type": "code",
   "source": "x_task2_embeddings",
   "id": "7a1eca9924ab5381",
   "outputs": [
    {
     "data": {
      "text/plain": [
       "array([[-0.01389358, -0.20139731, -0.13571012, ...,  0.15468991,\n",
       "        -0.3734635 ,  0.13759978],\n",
       "       [-0.02577653, -0.18896374, -0.08829255, ...,  0.12269702,\n",
       "        -0.3488162 ,  0.12038291],\n",
       "       [-0.03637802, -0.19033602, -0.06889474, ...,  0.11036424,\n",
       "        -0.3143504 ,  0.11575615],\n",
       "       ...,\n",
       "       [ 0.02749947, -0.2446506 , -0.23755276, ...,  0.19614716,\n",
       "        -0.41240108,  0.16012979],\n",
       "       [ 0.02731508, -0.24558362, -0.23764598, ...,  0.19622123,\n",
       "        -0.4123838 ,  0.15980375],\n",
       "       [ 0.02829135, -0.24712177, -0.23836268, ...,  0.19791567,\n",
       "        -0.41369712,  0.16134548]], dtype=float32)"
      ]
     },
     "execution_count": 7,
     "metadata": {},
     "output_type": "execute_result"
    }
   ],
   "execution_count": 7
  },
  {
   "metadata": {
    "ExecuteTime": {
     "end_time": "2025-03-23T03:21:30.601178Z",
     "start_time": "2025-03-23T03:21:30.587180Z"
    }
   },
   "cell_type": "code",
   "source": "print('**Sample train:', sorted(Counter(y_task2).items()))",
   "id": "bd29c562e5ba1fc2",
   "outputs": [
    {
     "name": "stdout",
     "output_type": "stream",
     "text": [
      "**Sample train: [(0, 85), (1, 135), (2, 85), (3, 104)]\n"
     ]
    }
   ],
   "execution_count": 8
  },
  {
   "metadata": {
    "ExecuteTime": {
     "end_time": "2025-03-23T03:21:44.430891Z",
     "start_time": "2025-03-23T03:21:44.409891Z"
    }
   },
   "cell_type": "code",
   "source": [
    "# We create an instance of RandomOverSampler to balance the classes.\n",
    "# - random_state=10000: A seed is set for reproducibility.\n",
    "\n",
    "ros_task2 = RandomOverSampler(random_state=10000)\n",
    "\n",
    "# We apply oversampling to generate new instances of the minority classes to equal the amount of the majority class.\n",
    "x_task2, y_task2 = ros_task2.fit_resample(x_task2_embeddings, y_task2)\n",
    "\n",
    "# We show the distribution of classes after oversampling.\n",
    "print('**OverSample train:', sorted(Counter(y_task2).items()))"
   ],
   "id": "b788adac722ed003",
   "outputs": [
    {
     "name": "stdout",
     "output_type": "stream",
     "text": [
      "**OverSample train: [(0, 135), (1, 135), (2, 135), (3, 135)]\n"
     ]
    }
   ],
   "execution_count": 9
  },
  {
   "metadata": {
    "ExecuteTime": {
     "end_time": "2025-03-23T03:21:46.869529Z",
     "start_time": "2025-03-23T03:21:46.864529Z"
    }
   },
   "cell_type": "code",
   "source": "x_task2",
   "id": "d14b3192e7b6b79",
   "outputs": [
    {
     "data": {
      "text/plain": [
       "array([[-0.01389358, -0.20139731, -0.13571012, ...,  0.15468991,\n",
       "        -0.3734635 ,  0.13759978],\n",
       "       [-0.02577653, -0.18896374, -0.08829255, ...,  0.12269702,\n",
       "        -0.3488162 ,  0.12038291],\n",
       "       [-0.03637802, -0.19033602, -0.06889474, ...,  0.11036424,\n",
       "        -0.3143504 ,  0.11575615],\n",
       "       ...,\n",
       "       [ 0.00207365, -0.21852641, -0.17248565, ...,  0.16326605,\n",
       "        -0.37076032,  0.1395567 ],\n",
       "       [ 0.01279789, -0.23679578, -0.20403495, ...,  0.18715647,\n",
       "        -0.3967473 ,  0.15074924],\n",
       "       [ 0.00780323, -0.22728433, -0.19990763, ...,  0.17739746,\n",
       "        -0.39207745,  0.15115176]], dtype=float32)"
      ]
     },
     "execution_count": 10,
     "metadata": {},
     "output_type": "execute_result"
    }
   ],
   "execution_count": 10
  },
  {
   "metadata": {
    "ExecuteTime": {
     "end_time": "2025-03-23T03:21:55.739026Z",
     "start_time": "2025-03-23T03:21:53.468768Z"
    }
   },
   "cell_type": "code",
   "source": [
    "setup_task2 = setup(\n",
    "    data=x_task2, # Input data set (feature matrix)\n",
    "    target=y_task2, # Target variable (classification labels)\n",
    "    session_id=123, # Random seed to ensure reproducibility\n",
    "    train_size=0.8, # Percentage of data used for training (80%)\n",
    "    log_experiment=True, # Enable experiment logging (mlflow)\n",
    "    experiment_name='Mentalrisk_task2' # Name of experiment for tracking (mlflow)\n",
    ")"
   ],
   "id": "75dc176106b681fd",
   "outputs": [
    {
     "data": {
      "text/plain": [
       "<pandas.io.formats.style.Styler at 0x200000259f0>"
      ],
      "text/html": [
       "<style type=\"text/css\">\n",
       "#T_ff049_row8_col1 {\n",
       "  background-color: lightgreen;\n",
       "}\n",
       "</style>\n",
       "<table id=\"T_ff049\">\n",
       "  <thead>\n",
       "    <tr>\n",
       "      <th class=\"blank level0\" >&nbsp;</th>\n",
       "      <th id=\"T_ff049_level0_col0\" class=\"col_heading level0 col0\" >Description</th>\n",
       "      <th id=\"T_ff049_level0_col1\" class=\"col_heading level0 col1\" >Value</th>\n",
       "    </tr>\n",
       "  </thead>\n",
       "  <tbody>\n",
       "    <tr>\n",
       "      <th id=\"T_ff049_level0_row0\" class=\"row_heading level0 row0\" >0</th>\n",
       "      <td id=\"T_ff049_row0_col0\" class=\"data row0 col0\" >Session id</td>\n",
       "      <td id=\"T_ff049_row0_col1\" class=\"data row0 col1\" >123</td>\n",
       "    </tr>\n",
       "    <tr>\n",
       "      <th id=\"T_ff049_level0_row1\" class=\"row_heading level0 row1\" >1</th>\n",
       "      <td id=\"T_ff049_row1_col0\" class=\"data row1 col0\" >Target</td>\n",
       "      <td id=\"T_ff049_row1_col1\" class=\"data row1 col1\" >label</td>\n",
       "    </tr>\n",
       "    <tr>\n",
       "      <th id=\"T_ff049_level0_row2\" class=\"row_heading level0 row2\" >2</th>\n",
       "      <td id=\"T_ff049_row2_col0\" class=\"data row2 col0\" >Target type</td>\n",
       "      <td id=\"T_ff049_row2_col1\" class=\"data row2 col1\" >Multiclass</td>\n",
       "    </tr>\n",
       "    <tr>\n",
       "      <th id=\"T_ff049_level0_row3\" class=\"row_heading level0 row3\" >3</th>\n",
       "      <td id=\"T_ff049_row3_col0\" class=\"data row3 col0\" >Original data shape</td>\n",
       "      <td id=\"T_ff049_row3_col1\" class=\"data row3 col1\" >(540, 769)</td>\n",
       "    </tr>\n",
       "    <tr>\n",
       "      <th id=\"T_ff049_level0_row4\" class=\"row_heading level0 row4\" >4</th>\n",
       "      <td id=\"T_ff049_row4_col0\" class=\"data row4 col0\" >Transformed data shape</td>\n",
       "      <td id=\"T_ff049_row4_col1\" class=\"data row4 col1\" >(540, 769)</td>\n",
       "    </tr>\n",
       "    <tr>\n",
       "      <th id=\"T_ff049_level0_row5\" class=\"row_heading level0 row5\" >5</th>\n",
       "      <td id=\"T_ff049_row5_col0\" class=\"data row5 col0\" >Transformed train set shape</td>\n",
       "      <td id=\"T_ff049_row5_col1\" class=\"data row5 col1\" >(432, 769)</td>\n",
       "    </tr>\n",
       "    <tr>\n",
       "      <th id=\"T_ff049_level0_row6\" class=\"row_heading level0 row6\" >6</th>\n",
       "      <td id=\"T_ff049_row6_col0\" class=\"data row6 col0\" >Transformed test set shape</td>\n",
       "      <td id=\"T_ff049_row6_col1\" class=\"data row6 col1\" >(108, 769)</td>\n",
       "    </tr>\n",
       "    <tr>\n",
       "      <th id=\"T_ff049_level0_row7\" class=\"row_heading level0 row7\" >7</th>\n",
       "      <td id=\"T_ff049_row7_col0\" class=\"data row7 col0\" >Numeric features</td>\n",
       "      <td id=\"T_ff049_row7_col1\" class=\"data row7 col1\" >768</td>\n",
       "    </tr>\n",
       "    <tr>\n",
       "      <th id=\"T_ff049_level0_row8\" class=\"row_heading level0 row8\" >8</th>\n",
       "      <td id=\"T_ff049_row8_col0\" class=\"data row8 col0\" >Preprocess</td>\n",
       "      <td id=\"T_ff049_row8_col1\" class=\"data row8 col1\" >True</td>\n",
       "    </tr>\n",
       "    <tr>\n",
       "      <th id=\"T_ff049_level0_row9\" class=\"row_heading level0 row9\" >9</th>\n",
       "      <td id=\"T_ff049_row9_col0\" class=\"data row9 col0\" >Imputation type</td>\n",
       "      <td id=\"T_ff049_row9_col1\" class=\"data row9 col1\" >simple</td>\n",
       "    </tr>\n",
       "    <tr>\n",
       "      <th id=\"T_ff049_level0_row10\" class=\"row_heading level0 row10\" >10</th>\n",
       "      <td id=\"T_ff049_row10_col0\" class=\"data row10 col0\" >Numeric imputation</td>\n",
       "      <td id=\"T_ff049_row10_col1\" class=\"data row10 col1\" >mean</td>\n",
       "    </tr>\n",
       "    <tr>\n",
       "      <th id=\"T_ff049_level0_row11\" class=\"row_heading level0 row11\" >11</th>\n",
       "      <td id=\"T_ff049_row11_col0\" class=\"data row11 col0\" >Categorical imputation</td>\n",
       "      <td id=\"T_ff049_row11_col1\" class=\"data row11 col1\" >mode</td>\n",
       "    </tr>\n",
       "    <tr>\n",
       "      <th id=\"T_ff049_level0_row12\" class=\"row_heading level0 row12\" >12</th>\n",
       "      <td id=\"T_ff049_row12_col0\" class=\"data row12 col0\" >Fold Generator</td>\n",
       "      <td id=\"T_ff049_row12_col1\" class=\"data row12 col1\" >StratifiedKFold</td>\n",
       "    </tr>\n",
       "    <tr>\n",
       "      <th id=\"T_ff049_level0_row13\" class=\"row_heading level0 row13\" >13</th>\n",
       "      <td id=\"T_ff049_row13_col0\" class=\"data row13 col0\" >Fold Number</td>\n",
       "      <td id=\"T_ff049_row13_col1\" class=\"data row13 col1\" >10</td>\n",
       "    </tr>\n",
       "    <tr>\n",
       "      <th id=\"T_ff049_level0_row14\" class=\"row_heading level0 row14\" >14</th>\n",
       "      <td id=\"T_ff049_row14_col0\" class=\"data row14 col0\" >CPU Jobs</td>\n",
       "      <td id=\"T_ff049_row14_col1\" class=\"data row14 col1\" >-1</td>\n",
       "    </tr>\n",
       "    <tr>\n",
       "      <th id=\"T_ff049_level0_row15\" class=\"row_heading level0 row15\" >15</th>\n",
       "      <td id=\"T_ff049_row15_col0\" class=\"data row15 col0\" >Use GPU</td>\n",
       "      <td id=\"T_ff049_row15_col1\" class=\"data row15 col1\" >False</td>\n",
       "    </tr>\n",
       "    <tr>\n",
       "      <th id=\"T_ff049_level0_row16\" class=\"row_heading level0 row16\" >16</th>\n",
       "      <td id=\"T_ff049_row16_col0\" class=\"data row16 col0\" >Log Experiment</td>\n",
       "      <td id=\"T_ff049_row16_col1\" class=\"data row16 col1\" >MlflowLogger</td>\n",
       "    </tr>\n",
       "    <tr>\n",
       "      <th id=\"T_ff049_level0_row17\" class=\"row_heading level0 row17\" >17</th>\n",
       "      <td id=\"T_ff049_row17_col0\" class=\"data row17 col0\" >Experiment Name</td>\n",
       "      <td id=\"T_ff049_row17_col1\" class=\"data row17 col1\" >Mentalrisk_task2</td>\n",
       "    </tr>\n",
       "    <tr>\n",
       "      <th id=\"T_ff049_level0_row18\" class=\"row_heading level0 row18\" >18</th>\n",
       "      <td id=\"T_ff049_row18_col0\" class=\"data row18 col0\" >USI</td>\n",
       "      <td id=\"T_ff049_row18_col1\" class=\"data row18 col1\" >9d12</td>\n",
       "    </tr>\n",
       "  </tbody>\n",
       "</table>\n"
      ]
     },
     "metadata": {},
     "output_type": "display_data"
    }
   ],
   "execution_count": 11
  },
  {
   "metadata": {
    "ExecuteTime": {
     "end_time": "2025-03-23T03:22:54.792512Z",
     "start_time": "2025-03-23T03:22:04.549732Z"
    }
   },
   "cell_type": "code",
   "source": [
    "# We compared multiple classification models using cross-validation with 10 folds.\n",
    "model_task2 = compare_models(fold=10)"
   ],
   "id": "37e9ab1d8482eb9f",
   "outputs": [
    {
     "data": {
      "text/plain": [
       "                                                                    \n",
       "                                                                    \n",
       "Initiated  . . . . . . . . . . . . . . . . . .              22:22:04\n",
       "Status     . . . . . . . . . . . . . . . . . .  Loading Dependencies\n",
       "Estimator  . . . . . . . . . . . . . . . . . .     Compiling Library"
      ],
      "text/html": [
       "<div>\n",
       "<style scoped>\n",
       "    .dataframe tbody tr th:only-of-type {\n",
       "        vertical-align: middle;\n",
       "    }\n",
       "\n",
       "    .dataframe tbody tr th {\n",
       "        vertical-align: top;\n",
       "    }\n",
       "\n",
       "    .dataframe thead th {\n",
       "        text-align: right;\n",
       "    }\n",
       "</style>\n",
       "<table border=\"1\" class=\"dataframe\">\n",
       "  <thead>\n",
       "    <tr style=\"text-align: right;\">\n",
       "      <th></th>\n",
       "      <th></th>\n",
       "      <th></th>\n",
       "    </tr>\n",
       "    <tr>\n",
       "      <th></th>\n",
       "      <th></th>\n",
       "      <th></th>\n",
       "    </tr>\n",
       "  </thead>\n",
       "  <tbody>\n",
       "    <tr>\n",
       "      <th>Initiated</th>\n",
       "      <td>. . . . . . . . . . . . . . . . . .</td>\n",
       "      <td>22:22:04</td>\n",
       "    </tr>\n",
       "    <tr>\n",
       "      <th>Status</th>\n",
       "      <td>. . . . . . . . . . . . . . . . . .</td>\n",
       "      <td>Loading Dependencies</td>\n",
       "    </tr>\n",
       "    <tr>\n",
       "      <th>Estimator</th>\n",
       "      <td>. . . . . . . . . . . . . . . . . .</td>\n",
       "      <td>Compiling Library</td>\n",
       "    </tr>\n",
       "  </tbody>\n",
       "</table>\n",
       "</div>"
      ]
     },
     "metadata": {},
     "output_type": "display_data"
    },
    {
     "data": {
      "text/plain": [
       "<IPython.core.display.HTML object>"
      ],
      "text/html": []
     },
     "metadata": {},
     "output_type": "display_data"
    },
    {
     "data": {
      "text/plain": [
       "<pandas.io.formats.style.Styler at 0x2000b586a70>"
      ],
      "text/html": [
       "<style type=\"text/css\">\n",
       "#T_8bcfe th {\n",
       "  text-align: left;\n",
       "}\n",
       "#T_8bcfe_row0_col0, #T_8bcfe_row0_col2, #T_8bcfe_row1_col0, #T_8bcfe_row1_col1, #T_8bcfe_row1_col3, #T_8bcfe_row1_col4, #T_8bcfe_row1_col5, #T_8bcfe_row1_col6, #T_8bcfe_row1_col7, #T_8bcfe_row2_col0, #T_8bcfe_row2_col1, #T_8bcfe_row2_col2, #T_8bcfe_row2_col3, #T_8bcfe_row2_col4, #T_8bcfe_row2_col5, #T_8bcfe_row2_col6, #T_8bcfe_row2_col7, #T_8bcfe_row3_col0, #T_8bcfe_row3_col1, #T_8bcfe_row3_col2, #T_8bcfe_row3_col3, #T_8bcfe_row3_col4, #T_8bcfe_row3_col5, #T_8bcfe_row3_col6, #T_8bcfe_row3_col7, #T_8bcfe_row4_col0, #T_8bcfe_row4_col1, #T_8bcfe_row4_col2, #T_8bcfe_row4_col3, #T_8bcfe_row4_col4, #T_8bcfe_row4_col5, #T_8bcfe_row4_col6, #T_8bcfe_row4_col7, #T_8bcfe_row5_col0, #T_8bcfe_row5_col1, #T_8bcfe_row5_col2, #T_8bcfe_row5_col3, #T_8bcfe_row5_col4, #T_8bcfe_row5_col5, #T_8bcfe_row5_col6, #T_8bcfe_row5_col7, #T_8bcfe_row6_col0, #T_8bcfe_row6_col1, #T_8bcfe_row6_col2, #T_8bcfe_row6_col3, #T_8bcfe_row6_col4, #T_8bcfe_row6_col5, #T_8bcfe_row6_col6, #T_8bcfe_row6_col7, #T_8bcfe_row7_col0, #T_8bcfe_row7_col1, #T_8bcfe_row7_col2, #T_8bcfe_row7_col3, #T_8bcfe_row7_col4, #T_8bcfe_row7_col5, #T_8bcfe_row7_col6, #T_8bcfe_row7_col7, #T_8bcfe_row8_col0, #T_8bcfe_row8_col1, #T_8bcfe_row8_col2, #T_8bcfe_row8_col3, #T_8bcfe_row8_col4, #T_8bcfe_row8_col5, #T_8bcfe_row8_col6, #T_8bcfe_row8_col7, #T_8bcfe_row9_col0, #T_8bcfe_row9_col1, #T_8bcfe_row9_col2, #T_8bcfe_row9_col3, #T_8bcfe_row9_col4, #T_8bcfe_row9_col5, #T_8bcfe_row9_col6, #T_8bcfe_row9_col7, #T_8bcfe_row10_col0, #T_8bcfe_row10_col1, #T_8bcfe_row10_col2, #T_8bcfe_row10_col3, #T_8bcfe_row10_col4, #T_8bcfe_row10_col5, #T_8bcfe_row10_col6, #T_8bcfe_row10_col7, #T_8bcfe_row11_col0, #T_8bcfe_row11_col1, #T_8bcfe_row11_col2, #T_8bcfe_row11_col3, #T_8bcfe_row11_col4, #T_8bcfe_row11_col5, #T_8bcfe_row11_col6, #T_8bcfe_row11_col7, #T_8bcfe_row12_col0, #T_8bcfe_row12_col1, #T_8bcfe_row12_col2, #T_8bcfe_row12_col3, #T_8bcfe_row12_col4, #T_8bcfe_row12_col5, #T_8bcfe_row12_col6, #T_8bcfe_row12_col7, #T_8bcfe_row13_col0, #T_8bcfe_row13_col1, #T_8bcfe_row13_col2, #T_8bcfe_row13_col3, #T_8bcfe_row13_col4, #T_8bcfe_row13_col5, #T_8bcfe_row13_col6, #T_8bcfe_row13_col7 {\n",
       "  text-align: left;\n",
       "}\n",
       "#T_8bcfe_row0_col1, #T_8bcfe_row0_col3, #T_8bcfe_row0_col4, #T_8bcfe_row0_col5, #T_8bcfe_row0_col6, #T_8bcfe_row0_col7, #T_8bcfe_row1_col2 {\n",
       "  text-align: left;\n",
       "  background-color: yellow;\n",
       "}\n",
       "#T_8bcfe_row0_col8, #T_8bcfe_row1_col8, #T_8bcfe_row2_col8, #T_8bcfe_row3_col8, #T_8bcfe_row4_col8, #T_8bcfe_row5_col8, #T_8bcfe_row6_col8, #T_8bcfe_row8_col8, #T_8bcfe_row9_col8, #T_8bcfe_row10_col8, #T_8bcfe_row11_col8, #T_8bcfe_row12_col8, #T_8bcfe_row13_col8 {\n",
       "  text-align: left;\n",
       "  background-color: lightgrey;\n",
       "}\n",
       "#T_8bcfe_row7_col8 {\n",
       "  text-align: left;\n",
       "  background-color: yellow;\n",
       "  background-color: lightgrey;\n",
       "}\n",
       "</style>\n",
       "<table id=\"T_8bcfe\">\n",
       "  <thead>\n",
       "    <tr>\n",
       "      <th class=\"blank level0\" >&nbsp;</th>\n",
       "      <th id=\"T_8bcfe_level0_col0\" class=\"col_heading level0 col0\" >Model</th>\n",
       "      <th id=\"T_8bcfe_level0_col1\" class=\"col_heading level0 col1\" >Accuracy</th>\n",
       "      <th id=\"T_8bcfe_level0_col2\" class=\"col_heading level0 col2\" >AUC</th>\n",
       "      <th id=\"T_8bcfe_level0_col3\" class=\"col_heading level0 col3\" >Recall</th>\n",
       "      <th id=\"T_8bcfe_level0_col4\" class=\"col_heading level0 col4\" >Prec.</th>\n",
       "      <th id=\"T_8bcfe_level0_col5\" class=\"col_heading level0 col5\" >F1</th>\n",
       "      <th id=\"T_8bcfe_level0_col6\" class=\"col_heading level0 col6\" >Kappa</th>\n",
       "      <th id=\"T_8bcfe_level0_col7\" class=\"col_heading level0 col7\" >MCC</th>\n",
       "      <th id=\"T_8bcfe_level0_col8\" class=\"col_heading level0 col8\" >TT (Sec)</th>\n",
       "    </tr>\n",
       "  </thead>\n",
       "  <tbody>\n",
       "    <tr>\n",
       "      <th id=\"T_8bcfe_level0_row0\" class=\"row_heading level0 row0\" >rf</th>\n",
       "      <td id=\"T_8bcfe_row0_col0\" class=\"data row0 col0\" >Random Forest Classifier</td>\n",
       "      <td id=\"T_8bcfe_row0_col1\" class=\"data row0 col1\" >0.9930</td>\n",
       "      <td id=\"T_8bcfe_row0_col2\" class=\"data row0 col2\" >0.9996</td>\n",
       "      <td id=\"T_8bcfe_row0_col3\" class=\"data row0 col3\" >0.9930</td>\n",
       "      <td id=\"T_8bcfe_row0_col4\" class=\"data row0 col4\" >0.9936</td>\n",
       "      <td id=\"T_8bcfe_row0_col5\" class=\"data row0 col5\" >0.9930</td>\n",
       "      <td id=\"T_8bcfe_row0_col6\" class=\"data row0 col6\" >0.9907</td>\n",
       "      <td id=\"T_8bcfe_row0_col7\" class=\"data row0 col7\" >0.9909</td>\n",
       "      <td id=\"T_8bcfe_row0_col8\" class=\"data row0 col8\" >0.0500</td>\n",
       "    </tr>\n",
       "    <tr>\n",
       "      <th id=\"T_8bcfe_level0_row1\" class=\"row_heading level0 row1\" >et</th>\n",
       "      <td id=\"T_8bcfe_row1_col0\" class=\"data row1 col0\" >Extra Trees Classifier</td>\n",
       "      <td id=\"T_8bcfe_row1_col1\" class=\"data row1 col1\" >0.9907</td>\n",
       "      <td id=\"T_8bcfe_row1_col2\" class=\"data row1 col2\" >0.9997</td>\n",
       "      <td id=\"T_8bcfe_row1_col3\" class=\"data row1 col3\" >0.9907</td>\n",
       "      <td id=\"T_8bcfe_row1_col4\" class=\"data row1 col4\" >0.9921</td>\n",
       "      <td id=\"T_8bcfe_row1_col5\" class=\"data row1 col5\" >0.9909</td>\n",
       "      <td id=\"T_8bcfe_row1_col6\" class=\"data row1 col6\" >0.9876</td>\n",
       "      <td id=\"T_8bcfe_row1_col7\" class=\"data row1 col7\" >0.9880</td>\n",
       "      <td id=\"T_8bcfe_row1_col8\" class=\"data row1 col8\" >0.0390</td>\n",
       "    </tr>\n",
       "    <tr>\n",
       "      <th id=\"T_8bcfe_level0_row2\" class=\"row_heading level0 row2\" >lr</th>\n",
       "      <td id=\"T_8bcfe_row2_col0\" class=\"data row2 col0\" >Logistic Regression</td>\n",
       "      <td id=\"T_8bcfe_row2_col1\" class=\"data row2 col1\" >0.9884</td>\n",
       "      <td id=\"T_8bcfe_row2_col2\" class=\"data row2 col2\" >0.0000</td>\n",
       "      <td id=\"T_8bcfe_row2_col3\" class=\"data row2 col3\" >0.9884</td>\n",
       "      <td id=\"T_8bcfe_row2_col4\" class=\"data row2 col4\" >0.9897</td>\n",
       "      <td id=\"T_8bcfe_row2_col5\" class=\"data row2 col5\" >0.9885</td>\n",
       "      <td id=\"T_8bcfe_row2_col6\" class=\"data row2 col6\" >0.9846</td>\n",
       "      <td id=\"T_8bcfe_row2_col7\" class=\"data row2 col7\" >0.9850</td>\n",
       "      <td id=\"T_8bcfe_row2_col8\" class=\"data row2 col8\" >0.2720</td>\n",
       "    </tr>\n",
       "    <tr>\n",
       "      <th id=\"T_8bcfe_level0_row3\" class=\"row_heading level0 row3\" >gbc</th>\n",
       "      <td id=\"T_8bcfe_row3_col0\" class=\"data row3 col0\" >Gradient Boosting Classifier</td>\n",
       "      <td id=\"T_8bcfe_row3_col1\" class=\"data row3 col1\" >0.9884</td>\n",
       "      <td id=\"T_8bcfe_row3_col2\" class=\"data row3 col2\" >0.0000</td>\n",
       "      <td id=\"T_8bcfe_row3_col3\" class=\"data row3 col3\" >0.9884</td>\n",
       "      <td id=\"T_8bcfe_row3_col4\" class=\"data row3 col4\" >0.9894</td>\n",
       "      <td id=\"T_8bcfe_row3_col5\" class=\"data row3 col5\" >0.9884</td>\n",
       "      <td id=\"T_8bcfe_row3_col6\" class=\"data row3 col6\" >0.9846</td>\n",
       "      <td id=\"T_8bcfe_row3_col7\" class=\"data row3 col7\" >0.9849</td>\n",
       "      <td id=\"T_8bcfe_row3_col8\" class=\"data row3 col8\" >2.7390</td>\n",
       "    </tr>\n",
       "    <tr>\n",
       "      <th id=\"T_8bcfe_level0_row4\" class=\"row_heading level0 row4\" >lightgbm</th>\n",
       "      <td id=\"T_8bcfe_row4_col0\" class=\"data row4 col0\" >Light Gradient Boosting Machine</td>\n",
       "      <td id=\"T_8bcfe_row4_col1\" class=\"data row4 col1\" >0.9861</td>\n",
       "      <td id=\"T_8bcfe_row4_col2\" class=\"data row4 col2\" >0.9991</td>\n",
       "      <td id=\"T_8bcfe_row4_col3\" class=\"data row4 col3\" >0.9861</td>\n",
       "      <td id=\"T_8bcfe_row4_col4\" class=\"data row4 col4\" >0.9876</td>\n",
       "      <td id=\"T_8bcfe_row4_col5\" class=\"data row4 col5\" >0.9858</td>\n",
       "      <td id=\"T_8bcfe_row4_col6\" class=\"data row4 col6\" >0.9815</td>\n",
       "      <td id=\"T_8bcfe_row4_col7\" class=\"data row4 col7\" >0.9821</td>\n",
       "      <td id=\"T_8bcfe_row4_col8\" class=\"data row4 col8\" >0.5330</td>\n",
       "    </tr>\n",
       "    <tr>\n",
       "      <th id=\"T_8bcfe_level0_row5\" class=\"row_heading level0 row5\" >dt</th>\n",
       "      <td id=\"T_8bcfe_row5_col0\" class=\"data row5 col0\" >Decision Tree Classifier</td>\n",
       "      <td id=\"T_8bcfe_row5_col1\" class=\"data row5 col1\" >0.9814</td>\n",
       "      <td id=\"T_8bcfe_row5_col2\" class=\"data row5 col2\" >0.9875</td>\n",
       "      <td id=\"T_8bcfe_row5_col3\" class=\"data row5 col3\" >0.9814</td>\n",
       "      <td id=\"T_8bcfe_row5_col4\" class=\"data row5 col4\" >0.9822</td>\n",
       "      <td id=\"T_8bcfe_row5_col5\" class=\"data row5 col5\" >0.9813</td>\n",
       "      <td id=\"T_8bcfe_row5_col6\" class=\"data row5 col6\" >0.9753</td>\n",
       "      <td id=\"T_8bcfe_row5_col7\" class=\"data row5 col7\" >0.9756</td>\n",
       "      <td id=\"T_8bcfe_row5_col8\" class=\"data row5 col8\" >0.0250</td>\n",
       "    </tr>\n",
       "    <tr>\n",
       "      <th id=\"T_8bcfe_level0_row6\" class=\"row_heading level0 row6\" >knn</th>\n",
       "      <td id=\"T_8bcfe_row6_col0\" class=\"data row6 col0\" >K Neighbors Classifier</td>\n",
       "      <td id=\"T_8bcfe_row6_col1\" class=\"data row6 col1\" >0.9628</td>\n",
       "      <td id=\"T_8bcfe_row6_col2\" class=\"data row6 col2\" >0.9964</td>\n",
       "      <td id=\"T_8bcfe_row6_col3\" class=\"data row6 col3\" >0.9628</td>\n",
       "      <td id=\"T_8bcfe_row6_col4\" class=\"data row6 col4\" >0.9672</td>\n",
       "      <td id=\"T_8bcfe_row6_col5\" class=\"data row6 col5\" >0.9624</td>\n",
       "      <td id=\"T_8bcfe_row6_col6\" class=\"data row6 col6\" >0.9504</td>\n",
       "      <td id=\"T_8bcfe_row6_col7\" class=\"data row6 col7\" >0.9521</td>\n",
       "      <td id=\"T_8bcfe_row6_col8\" class=\"data row6 col8\" >0.1940</td>\n",
       "    </tr>\n",
       "    <tr>\n",
       "      <th id=\"T_8bcfe_level0_row7\" class=\"row_heading level0 row7\" >ridge</th>\n",
       "      <td id=\"T_8bcfe_row7_col0\" class=\"data row7 col0\" >Ridge Classifier</td>\n",
       "      <td id=\"T_8bcfe_row7_col1\" class=\"data row7 col1\" >0.9536</td>\n",
       "      <td id=\"T_8bcfe_row7_col2\" class=\"data row7 col2\" >0.0000</td>\n",
       "      <td id=\"T_8bcfe_row7_col3\" class=\"data row7 col3\" >0.9536</td>\n",
       "      <td id=\"T_8bcfe_row7_col4\" class=\"data row7 col4\" >0.9617</td>\n",
       "      <td id=\"T_8bcfe_row7_col5\" class=\"data row7 col5\" >0.9531</td>\n",
       "      <td id=\"T_8bcfe_row7_col6\" class=\"data row7 col6\" >0.9382</td>\n",
       "      <td id=\"T_8bcfe_row7_col7\" class=\"data row7 col7\" >0.9412</td>\n",
       "      <td id=\"T_8bcfe_row7_col8\" class=\"data row7 col8\" >0.0180</td>\n",
       "    </tr>\n",
       "    <tr>\n",
       "      <th id=\"T_8bcfe_level0_row8\" class=\"row_heading level0 row8\" >nb</th>\n",
       "      <td id=\"T_8bcfe_row8_col0\" class=\"data row8 col0\" >Naive Bayes</td>\n",
       "      <td id=\"T_8bcfe_row8_col1\" class=\"data row8 col1\" >0.8540</td>\n",
       "      <td id=\"T_8bcfe_row8_col2\" class=\"data row8 col2\" >0.9561</td>\n",
       "      <td id=\"T_8bcfe_row8_col3\" class=\"data row8 col3\" >0.8540</td>\n",
       "      <td id=\"T_8bcfe_row8_col4\" class=\"data row8 col4\" >0.8603</td>\n",
       "      <td id=\"T_8bcfe_row8_col5\" class=\"data row8 col5\" >0.8534</td>\n",
       "      <td id=\"T_8bcfe_row8_col6\" class=\"data row8 col6\" >0.8052</td>\n",
       "      <td id=\"T_8bcfe_row8_col7\" class=\"data row8 col7\" >0.8079</td>\n",
       "      <td id=\"T_8bcfe_row8_col8\" class=\"data row8 col8\" >0.0190</td>\n",
       "    </tr>\n",
       "    <tr>\n",
       "      <th id=\"T_8bcfe_level0_row9\" class=\"row_heading level0 row9\" >svm</th>\n",
       "      <td id=\"T_8bcfe_row9_col0\" class=\"data row9 col0\" >SVM - Linear Kernel</td>\n",
       "      <td id=\"T_8bcfe_row9_col1\" class=\"data row9 col1\" >0.8353</td>\n",
       "      <td id=\"T_8bcfe_row9_col2\" class=\"data row9 col2\" >0.0000</td>\n",
       "      <td id=\"T_8bcfe_row9_col3\" class=\"data row9 col3\" >0.8353</td>\n",
       "      <td id=\"T_8bcfe_row9_col4\" class=\"data row9 col4\" >0.8345</td>\n",
       "      <td id=\"T_8bcfe_row9_col5\" class=\"data row9 col5\" >0.8093</td>\n",
       "      <td id=\"T_8bcfe_row9_col6\" class=\"data row9 col6\" >0.7804</td>\n",
       "      <td id=\"T_8bcfe_row9_col7\" class=\"data row9 col7\" >0.8098</td>\n",
       "      <td id=\"T_8bcfe_row9_col8\" class=\"data row9 col8\" >0.0220</td>\n",
       "    </tr>\n",
       "    <tr>\n",
       "      <th id=\"T_8bcfe_level0_row10\" class=\"row_heading level0 row10\" >lda</th>\n",
       "      <td id=\"T_8bcfe_row10_col0\" class=\"data row10 col0\" >Linear Discriminant Analysis</td>\n",
       "      <td id=\"T_8bcfe_row10_col1\" class=\"data row10 col1\" >0.7894</td>\n",
       "      <td id=\"T_8bcfe_row10_col2\" class=\"data row10 col2\" >0.0000</td>\n",
       "      <td id=\"T_8bcfe_row10_col3\" class=\"data row10 col3\" >0.7894</td>\n",
       "      <td id=\"T_8bcfe_row10_col4\" class=\"data row10 col4\" >0.8129</td>\n",
       "      <td id=\"T_8bcfe_row10_col5\" class=\"data row10 col5\" >0.7782</td>\n",
       "      <td id=\"T_8bcfe_row10_col6\" class=\"data row10 col6\" >0.7190</td>\n",
       "      <td id=\"T_8bcfe_row10_col7\" class=\"data row10 col7\" >0.7314</td>\n",
       "      <td id=\"T_8bcfe_row10_col8\" class=\"data row10 col8\" >0.0220</td>\n",
       "    </tr>\n",
       "    <tr>\n",
       "      <th id=\"T_8bcfe_level0_row11\" class=\"row_heading level0 row11\" >ada</th>\n",
       "      <td id=\"T_8bcfe_row11_col0\" class=\"data row11 col0\" >Ada Boost Classifier</td>\n",
       "      <td id=\"T_8bcfe_row11_col1\" class=\"data row11 col1\" >0.7560</td>\n",
       "      <td id=\"T_8bcfe_row11_col2\" class=\"data row11 col2\" >0.0000</td>\n",
       "      <td id=\"T_8bcfe_row11_col3\" class=\"data row11 col3\" >0.7560</td>\n",
       "      <td id=\"T_8bcfe_row11_col4\" class=\"data row11 col4\" >0.6578</td>\n",
       "      <td id=\"T_8bcfe_row11_col5\" class=\"data row11 col5\" >0.6891</td>\n",
       "      <td id=\"T_8bcfe_row11_col6\" class=\"data row11 col6\" >0.6767</td>\n",
       "      <td id=\"T_8bcfe_row11_col7\" class=\"data row11 col7\" >0.7075</td>\n",
       "      <td id=\"T_8bcfe_row11_col8\" class=\"data row11 col8\" >0.1430</td>\n",
       "    </tr>\n",
       "    <tr>\n",
       "      <th id=\"T_8bcfe_level0_row12\" class=\"row_heading level0 row12\" >qda</th>\n",
       "      <td id=\"T_8bcfe_row12_col0\" class=\"data row12 col0\" >Quadratic Discriminant Analysis</td>\n",
       "      <td id=\"T_8bcfe_row12_col1\" class=\"data row12 col1\" >0.2500</td>\n",
       "      <td id=\"T_8bcfe_row12_col2\" class=\"data row12 col2\" >0.0000</td>\n",
       "      <td id=\"T_8bcfe_row12_col3\" class=\"data row12 col3\" >0.2500</td>\n",
       "      <td id=\"T_8bcfe_row12_col4\" class=\"data row12 col4\" >0.0626</td>\n",
       "      <td id=\"T_8bcfe_row12_col5\" class=\"data row12 col5\" >0.1001</td>\n",
       "      <td id=\"T_8bcfe_row12_col6\" class=\"data row12 col6\" >0.0000</td>\n",
       "      <td id=\"T_8bcfe_row12_col7\" class=\"data row12 col7\" >0.0000</td>\n",
       "      <td id=\"T_8bcfe_row12_col8\" class=\"data row12 col8\" >0.0260</td>\n",
       "    </tr>\n",
       "    <tr>\n",
       "      <th id=\"T_8bcfe_level0_row13\" class=\"row_heading level0 row13\" >dummy</th>\n",
       "      <td id=\"T_8bcfe_row13_col0\" class=\"data row13 col0\" >Dummy Classifier</td>\n",
       "      <td id=\"T_8bcfe_row13_col1\" class=\"data row13 col1\" >0.2360</td>\n",
       "      <td id=\"T_8bcfe_row13_col2\" class=\"data row13 col2\" >0.5000</td>\n",
       "      <td id=\"T_8bcfe_row13_col3\" class=\"data row13 col3\" >0.2360</td>\n",
       "      <td id=\"T_8bcfe_row13_col4\" class=\"data row13 col4\" >0.0558</td>\n",
       "      <td id=\"T_8bcfe_row13_col5\" class=\"data row13 col5\" >0.0902</td>\n",
       "      <td id=\"T_8bcfe_row13_col6\" class=\"data row13 col6\" >0.0000</td>\n",
       "      <td id=\"T_8bcfe_row13_col7\" class=\"data row13 col7\" >0.0000</td>\n",
       "      <td id=\"T_8bcfe_row13_col8\" class=\"data row13 col8\" >0.0260</td>\n",
       "    </tr>\n",
       "  </tbody>\n",
       "</table>\n"
      ]
     },
     "metadata": {},
     "output_type": "display_data"
    },
    {
     "name": "stderr",
     "output_type": "stream",
     "text": [
      "2025/03/22 22:22:51 WARNING mlflow.models.model: Model logged without a signature and input example. Please set `input_example` parameter when logging the model to auto infer the model signature.\n",
      "2025/03/22 22:22:51 WARNING mlflow.models.model: Model logged without a signature and input example. Please set `input_example` parameter when logging the model to auto infer the model signature.\n",
      "2025/03/22 22:22:51 WARNING mlflow.models.model: Model logged without a signature and input example. Please set `input_example` parameter when logging the model to auto infer the model signature.\n",
      "2025/03/22 22:22:52 WARNING mlflow.models.model: Model logged without a signature and input example. Please set `input_example` parameter when logging the model to auto infer the model signature.\n",
      "2025/03/22 22:22:52 WARNING mlflow.models.model: Model logged without a signature and input example. Please set `input_example` parameter when logging the model to auto infer the model signature.\n",
      "2025/03/22 22:22:52 WARNING mlflow.models.model: Model logged without a signature and input example. Please set `input_example` parameter when logging the model to auto infer the model signature.\n",
      "2025/03/22 22:22:52 WARNING mlflow.models.model: Model logged without a signature and input example. Please set `input_example` parameter when logging the model to auto infer the model signature.\n",
      "2025/03/22 22:22:53 WARNING mlflow.models.model: Model logged without a signature and input example. Please set `input_example` parameter when logging the model to auto infer the model signature.\n",
      "2025/03/22 22:22:53 WARNING mlflow.models.model: Model logged without a signature and input example. Please set `input_example` parameter when logging the model to auto infer the model signature.\n",
      "2025/03/22 22:22:53 WARNING mlflow.models.model: Model logged without a signature and input example. Please set `input_example` parameter when logging the model to auto infer the model signature.\n",
      "2025/03/22 22:22:53 WARNING mlflow.models.model: Model logged without a signature and input example. Please set `input_example` parameter when logging the model to auto infer the model signature.\n",
      "2025/03/22 22:22:54 WARNING mlflow.models.model: Model logged without a signature and input example. Please set `input_example` parameter when logging the model to auto infer the model signature.\n",
      "2025/03/22 22:22:54 WARNING mlflow.models.model: Model logged without a signature and input example. Please set `input_example` parameter when logging the model to auto infer the model signature.\n",
      "2025/03/22 22:22:54 WARNING mlflow.models.model: Model logged without a signature and input example. Please set `input_example` parameter when logging the model to auto infer the model signature.\n"
     ]
    }
   ],
   "execution_count": 12
  },
  {
   "metadata": {
    "ExecuteTime": {
     "end_time": "2025-03-23T03:23:17.930131Z",
     "start_time": "2025-03-23T03:23:16.243972Z"
    }
   },
   "cell_type": "code",
   "source": [
    "# We create a classification model.\n",
    "best_model = create_model('rf')"
   ],
   "id": "60599c3d030cc1cf",
   "outputs": [
    {
     "data": {
      "text/plain": [
       "                                                                    \n",
       "                                                                    \n",
       "Initiated  . . . . . . . . . . . . . . . . . .              22:23:16\n",
       "Status     . . . . . . . . . . . . . . . . . .  Loading Dependencies\n",
       "Estimator  . . . . . . . . . . . . . . . . . .     Compiling Library"
      ],
      "text/html": [
       "<div>\n",
       "<style scoped>\n",
       "    .dataframe tbody tr th:only-of-type {\n",
       "        vertical-align: middle;\n",
       "    }\n",
       "\n",
       "    .dataframe tbody tr th {\n",
       "        vertical-align: top;\n",
       "    }\n",
       "\n",
       "    .dataframe thead th {\n",
       "        text-align: right;\n",
       "    }\n",
       "</style>\n",
       "<table border=\"1\" class=\"dataframe\">\n",
       "  <thead>\n",
       "    <tr style=\"text-align: right;\">\n",
       "      <th></th>\n",
       "      <th></th>\n",
       "      <th></th>\n",
       "    </tr>\n",
       "    <tr>\n",
       "      <th></th>\n",
       "      <th></th>\n",
       "      <th></th>\n",
       "    </tr>\n",
       "  </thead>\n",
       "  <tbody>\n",
       "    <tr>\n",
       "      <th>Initiated</th>\n",
       "      <td>. . . . . . . . . . . . . . . . . .</td>\n",
       "      <td>22:23:16</td>\n",
       "    </tr>\n",
       "    <tr>\n",
       "      <th>Status</th>\n",
       "      <td>. . . . . . . . . . . . . . . . . .</td>\n",
       "      <td>Loading Dependencies</td>\n",
       "    </tr>\n",
       "    <tr>\n",
       "      <th>Estimator</th>\n",
       "      <td>. . . . . . . . . . . . . . . . . .</td>\n",
       "      <td>Compiling Library</td>\n",
       "    </tr>\n",
       "  </tbody>\n",
       "</table>\n",
       "</div>"
      ]
     },
     "metadata": {},
     "output_type": "display_data"
    },
    {
     "data": {
      "text/plain": [
       "<IPython.core.display.HTML object>"
      ],
      "text/html": []
     },
     "metadata": {},
     "output_type": "display_data"
    },
    {
     "data": {
      "text/plain": [
       "<pandas.io.formats.style.Styler at 0x200780c8940>"
      ],
      "text/html": [
       "<style type=\"text/css\">\n",
       "#T_d99e4_row10_col0, #T_d99e4_row10_col1, #T_d99e4_row10_col2, #T_d99e4_row10_col3, #T_d99e4_row10_col4, #T_d99e4_row10_col5, #T_d99e4_row10_col6 {\n",
       "  background: yellow;\n",
       "}\n",
       "</style>\n",
       "<table id=\"T_d99e4\">\n",
       "  <thead>\n",
       "    <tr>\n",
       "      <th class=\"blank level0\" >&nbsp;</th>\n",
       "      <th id=\"T_d99e4_level0_col0\" class=\"col_heading level0 col0\" >Accuracy</th>\n",
       "      <th id=\"T_d99e4_level0_col1\" class=\"col_heading level0 col1\" >AUC</th>\n",
       "      <th id=\"T_d99e4_level0_col2\" class=\"col_heading level0 col2\" >Recall</th>\n",
       "      <th id=\"T_d99e4_level0_col3\" class=\"col_heading level0 col3\" >Prec.</th>\n",
       "      <th id=\"T_d99e4_level0_col4\" class=\"col_heading level0 col4\" >F1</th>\n",
       "      <th id=\"T_d99e4_level0_col5\" class=\"col_heading level0 col5\" >Kappa</th>\n",
       "      <th id=\"T_d99e4_level0_col6\" class=\"col_heading level0 col6\" >MCC</th>\n",
       "    </tr>\n",
       "    <tr>\n",
       "      <th class=\"index_name level0\" >Fold</th>\n",
       "      <th class=\"blank col0\" >&nbsp;</th>\n",
       "      <th class=\"blank col1\" >&nbsp;</th>\n",
       "      <th class=\"blank col2\" >&nbsp;</th>\n",
       "      <th class=\"blank col3\" >&nbsp;</th>\n",
       "      <th class=\"blank col4\" >&nbsp;</th>\n",
       "      <th class=\"blank col5\" >&nbsp;</th>\n",
       "      <th class=\"blank col6\" >&nbsp;</th>\n",
       "    </tr>\n",
       "  </thead>\n",
       "  <tbody>\n",
       "    <tr>\n",
       "      <th id=\"T_d99e4_level0_row0\" class=\"row_heading level0 row0\" >0</th>\n",
       "      <td id=\"T_d99e4_row0_col0\" class=\"data row0 col0\" >1.0000</td>\n",
       "      <td id=\"T_d99e4_row0_col1\" class=\"data row0 col1\" >1.0000</td>\n",
       "      <td id=\"T_d99e4_row0_col2\" class=\"data row0 col2\" >1.0000</td>\n",
       "      <td id=\"T_d99e4_row0_col3\" class=\"data row0 col3\" >1.0000</td>\n",
       "      <td id=\"T_d99e4_row0_col4\" class=\"data row0 col4\" >1.0000</td>\n",
       "      <td id=\"T_d99e4_row0_col5\" class=\"data row0 col5\" >1.0000</td>\n",
       "      <td id=\"T_d99e4_row0_col6\" class=\"data row0 col6\" >1.0000</td>\n",
       "    </tr>\n",
       "    <tr>\n",
       "      <th id=\"T_d99e4_level0_row1\" class=\"row_heading level0 row1\" >1</th>\n",
       "      <td id=\"T_d99e4_row1_col0\" class=\"data row1 col0\" >1.0000</td>\n",
       "      <td id=\"T_d99e4_row1_col1\" class=\"data row1 col1\" >1.0000</td>\n",
       "      <td id=\"T_d99e4_row1_col2\" class=\"data row1 col2\" >1.0000</td>\n",
       "      <td id=\"T_d99e4_row1_col3\" class=\"data row1 col3\" >1.0000</td>\n",
       "      <td id=\"T_d99e4_row1_col4\" class=\"data row1 col4\" >1.0000</td>\n",
       "      <td id=\"T_d99e4_row1_col5\" class=\"data row1 col5\" >1.0000</td>\n",
       "      <td id=\"T_d99e4_row1_col6\" class=\"data row1 col6\" >1.0000</td>\n",
       "    </tr>\n",
       "    <tr>\n",
       "      <th id=\"T_d99e4_level0_row2\" class=\"row_heading level0 row2\" >2</th>\n",
       "      <td id=\"T_d99e4_row2_col0\" class=\"data row2 col0\" >1.0000</td>\n",
       "      <td id=\"T_d99e4_row2_col1\" class=\"data row2 col1\" >1.0000</td>\n",
       "      <td id=\"T_d99e4_row2_col2\" class=\"data row2 col2\" >1.0000</td>\n",
       "      <td id=\"T_d99e4_row2_col3\" class=\"data row2 col3\" >1.0000</td>\n",
       "      <td id=\"T_d99e4_row2_col4\" class=\"data row2 col4\" >1.0000</td>\n",
       "      <td id=\"T_d99e4_row2_col5\" class=\"data row2 col5\" >1.0000</td>\n",
       "      <td id=\"T_d99e4_row2_col6\" class=\"data row2 col6\" >1.0000</td>\n",
       "    </tr>\n",
       "    <tr>\n",
       "      <th id=\"T_d99e4_level0_row3\" class=\"row_heading level0 row3\" >3</th>\n",
       "      <td id=\"T_d99e4_row3_col0\" class=\"data row3 col0\" >0.9767</td>\n",
       "      <td id=\"T_d99e4_row3_col1\" class=\"data row3 col1\" >1.0000</td>\n",
       "      <td id=\"T_d99e4_row3_col2\" class=\"data row3 col2\" >0.9767</td>\n",
       "      <td id=\"T_d99e4_row3_col3\" class=\"data row3 col3\" >0.9787</td>\n",
       "      <td id=\"T_d99e4_row3_col4\" class=\"data row3 col4\" >0.9766</td>\n",
       "      <td id=\"T_d99e4_row3_col5\" class=\"data row3 col5\" >0.9690</td>\n",
       "      <td id=\"T_d99e4_row3_col6\" class=\"data row3 col6\" >0.9697</td>\n",
       "    </tr>\n",
       "    <tr>\n",
       "      <th id=\"T_d99e4_level0_row4\" class=\"row_heading level0 row4\" >4</th>\n",
       "      <td id=\"T_d99e4_row4_col0\" class=\"data row4 col0\" >0.9767</td>\n",
       "      <td id=\"T_d99e4_row4_col1\" class=\"data row4 col1\" >1.0000</td>\n",
       "      <td id=\"T_d99e4_row4_col2\" class=\"data row4 col2\" >0.9767</td>\n",
       "      <td id=\"T_d99e4_row4_col3\" class=\"data row4 col3\" >0.9787</td>\n",
       "      <td id=\"T_d99e4_row4_col4\" class=\"data row4 col4\" >0.9767</td>\n",
       "      <td id=\"T_d99e4_row4_col5\" class=\"data row4 col5\" >0.9690</td>\n",
       "      <td id=\"T_d99e4_row4_col6\" class=\"data row4 col6\" >0.9697</td>\n",
       "    </tr>\n",
       "    <tr>\n",
       "      <th id=\"T_d99e4_level0_row5\" class=\"row_heading level0 row5\" >5</th>\n",
       "      <td id=\"T_d99e4_row5_col0\" class=\"data row5 col0\" >1.0000</td>\n",
       "      <td id=\"T_d99e4_row5_col1\" class=\"data row5 col1\" >1.0000</td>\n",
       "      <td id=\"T_d99e4_row5_col2\" class=\"data row5 col2\" >1.0000</td>\n",
       "      <td id=\"T_d99e4_row5_col3\" class=\"data row5 col3\" >1.0000</td>\n",
       "      <td id=\"T_d99e4_row5_col4\" class=\"data row5 col4\" >1.0000</td>\n",
       "      <td id=\"T_d99e4_row5_col5\" class=\"data row5 col5\" >1.0000</td>\n",
       "      <td id=\"T_d99e4_row5_col6\" class=\"data row5 col6\" >1.0000</td>\n",
       "    </tr>\n",
       "    <tr>\n",
       "      <th id=\"T_d99e4_level0_row6\" class=\"row_heading level0 row6\" >6</th>\n",
       "      <td id=\"T_d99e4_row6_col0\" class=\"data row6 col0\" >1.0000</td>\n",
       "      <td id=\"T_d99e4_row6_col1\" class=\"data row6 col1\" >1.0000</td>\n",
       "      <td id=\"T_d99e4_row6_col2\" class=\"data row6 col2\" >1.0000</td>\n",
       "      <td id=\"T_d99e4_row6_col3\" class=\"data row6 col3\" >1.0000</td>\n",
       "      <td id=\"T_d99e4_row6_col4\" class=\"data row6 col4\" >1.0000</td>\n",
       "      <td id=\"T_d99e4_row6_col5\" class=\"data row6 col5\" >1.0000</td>\n",
       "      <td id=\"T_d99e4_row6_col6\" class=\"data row6 col6\" >1.0000</td>\n",
       "    </tr>\n",
       "    <tr>\n",
       "      <th id=\"T_d99e4_level0_row7\" class=\"row_heading level0 row7\" >7</th>\n",
       "      <td id=\"T_d99e4_row7_col0\" class=\"data row7 col0\" >0.9767</td>\n",
       "      <td id=\"T_d99e4_row7_col1\" class=\"data row7 col1\" >0.9960</td>\n",
       "      <td id=\"T_d99e4_row7_col2\" class=\"data row7 col2\" >0.9767</td>\n",
       "      <td id=\"T_d99e4_row7_col3\" class=\"data row7 col3\" >0.9787</td>\n",
       "      <td id=\"T_d99e4_row7_col4\" class=\"data row7 col4\" >0.9767</td>\n",
       "      <td id=\"T_d99e4_row7_col5\" class=\"data row7 col5\" >0.9690</td>\n",
       "      <td id=\"T_d99e4_row7_col6\" class=\"data row7 col6\" >0.9697</td>\n",
       "    </tr>\n",
       "    <tr>\n",
       "      <th id=\"T_d99e4_level0_row8\" class=\"row_heading level0 row8\" >8</th>\n",
       "      <td id=\"T_d99e4_row8_col0\" class=\"data row8 col0\" >1.0000</td>\n",
       "      <td id=\"T_d99e4_row8_col1\" class=\"data row8 col1\" >1.0000</td>\n",
       "      <td id=\"T_d99e4_row8_col2\" class=\"data row8 col2\" >1.0000</td>\n",
       "      <td id=\"T_d99e4_row8_col3\" class=\"data row8 col3\" >1.0000</td>\n",
       "      <td id=\"T_d99e4_row8_col4\" class=\"data row8 col4\" >1.0000</td>\n",
       "      <td id=\"T_d99e4_row8_col5\" class=\"data row8 col5\" >1.0000</td>\n",
       "      <td id=\"T_d99e4_row8_col6\" class=\"data row8 col6\" >1.0000</td>\n",
       "    </tr>\n",
       "    <tr>\n",
       "      <th id=\"T_d99e4_level0_row9\" class=\"row_heading level0 row9\" >9</th>\n",
       "      <td id=\"T_d99e4_row9_col0\" class=\"data row9 col0\" >1.0000</td>\n",
       "      <td id=\"T_d99e4_row9_col1\" class=\"data row9 col1\" >1.0000</td>\n",
       "      <td id=\"T_d99e4_row9_col2\" class=\"data row9 col2\" >1.0000</td>\n",
       "      <td id=\"T_d99e4_row9_col3\" class=\"data row9 col3\" >1.0000</td>\n",
       "      <td id=\"T_d99e4_row9_col4\" class=\"data row9 col4\" >1.0000</td>\n",
       "      <td id=\"T_d99e4_row9_col5\" class=\"data row9 col5\" >1.0000</td>\n",
       "      <td id=\"T_d99e4_row9_col6\" class=\"data row9 col6\" >1.0000</td>\n",
       "    </tr>\n",
       "    <tr>\n",
       "      <th id=\"T_d99e4_level0_row10\" class=\"row_heading level0 row10\" >Mean</th>\n",
       "      <td id=\"T_d99e4_row10_col0\" class=\"data row10 col0\" >0.9930</td>\n",
       "      <td id=\"T_d99e4_row10_col1\" class=\"data row10 col1\" >0.9996</td>\n",
       "      <td id=\"T_d99e4_row10_col2\" class=\"data row10 col2\" >0.9930</td>\n",
       "      <td id=\"T_d99e4_row10_col3\" class=\"data row10 col3\" >0.9936</td>\n",
       "      <td id=\"T_d99e4_row10_col4\" class=\"data row10 col4\" >0.9930</td>\n",
       "      <td id=\"T_d99e4_row10_col5\" class=\"data row10 col5\" >0.9907</td>\n",
       "      <td id=\"T_d99e4_row10_col6\" class=\"data row10 col6\" >0.9909</td>\n",
       "    </tr>\n",
       "    <tr>\n",
       "      <th id=\"T_d99e4_level0_row11\" class=\"row_heading level0 row11\" >Std</th>\n",
       "      <td id=\"T_d99e4_row11_col0\" class=\"data row11 col0\" >0.0107</td>\n",
       "      <td id=\"T_d99e4_row11_col1\" class=\"data row11 col1\" >0.0012</td>\n",
       "      <td id=\"T_d99e4_row11_col2\" class=\"data row11 col2\" >0.0107</td>\n",
       "      <td id=\"T_d99e4_row11_col3\" class=\"data row11 col3\" >0.0098</td>\n",
       "      <td id=\"T_d99e4_row11_col4\" class=\"data row11 col4\" >0.0107</td>\n",
       "      <td id=\"T_d99e4_row11_col5\" class=\"data row11 col5\" >0.0142</td>\n",
       "      <td id=\"T_d99e4_row11_col6\" class=\"data row11 col6\" >0.0139</td>\n",
       "    </tr>\n",
       "  </tbody>\n",
       "</table>\n"
      ]
     },
     "metadata": {},
     "output_type": "display_data"
    },
    {
     "name": "stderr",
     "output_type": "stream",
     "text": [
      "2025/03/22 22:23:17 WARNING mlflow.models.model: Model logged without a signature and input example. Please set `input_example` parameter when logging the model to auto infer the model signature.\n"
     ]
    }
   ],
   "execution_count": 13
  },
  {
   "metadata": {
    "ExecuteTime": {
     "end_time": "2025-03-23T03:23:21.336315Z",
     "start_time": "2025-03-23T03:23:21.318315Z"
    }
   },
   "cell_type": "code",
   "source": "print(best_model)",
   "id": "5f02e3f80d7cbedf",
   "outputs": [
    {
     "name": "stdout",
     "output_type": "stream",
     "text": [
      "RandomForestClassifier(bootstrap=True, ccp_alpha=0.0, class_weight=None,\n",
      "                       criterion='gini', max_depth=None, max_features='sqrt',\n",
      "                       max_leaf_nodes=None, max_samples=None,\n",
      "                       min_impurity_decrease=0.0, min_samples_leaf=1,\n",
      "                       min_samples_split=2, min_weight_fraction_leaf=0.0,\n",
      "                       monotonic_cst=None, n_estimators=100, n_jobs=-1,\n",
      "                       oob_score=False, random_state=123, verbose=0,\n",
      "                       warm_start=False)\n"
     ]
    }
   ],
   "execution_count": 14
  },
  {
   "metadata": {
    "ExecuteTime": {
     "end_time": "2025-03-23T03:23:24.678644Z",
     "start_time": "2025-03-23T03:23:23.552247Z"
    }
   },
   "cell_type": "code",
   "source": "plot_model(best_model, plot='confusion_matrix')",
   "id": "6fbc3c86eb17d94",
   "outputs": [
    {
     "data": {
      "text/plain": [
       "<IPython.core.display.HTML object>"
      ],
      "text/html": []
     },
     "metadata": {},
     "output_type": "display_data"
    },
    {
     "data": {
      "text/plain": [
       "<Figure size 800x550 with 1 Axes>"
      ],
      "image/png": "[encoded data removed]"
     },
     "metadata": {},
     "output_type": "display_data"
    }
   ],
   "execution_count": 15
  },
  {
   "metadata": {
    "ExecuteTime": {
     "end_time": "2025-03-23T03:23:32.975761Z",
     "start_time": "2025-03-23T03:23:32.582704Z"
    }
   },
   "cell_type": "code",
   "source": "evaluate_model(best_model)",
   "id": "ef4a4a27932e4984",
   "outputs": [
    {
     "data": {
      "text/plain": [
       "interactive(children=(ToggleButtons(description='Plot Type:', icons=('',), options=(('Pipeline Plot', 'pipelin…"
      ],
      "application/vnd.jupyter.widget-view+json": {
       "version_major": 2,
       "version_minor": 0,
       "model_id": "b6de661fc8104110badcae74487a0349"
      }
     },
     "metadata": {},
     "output_type": "display_data"
    }
   ],
   "execution_count": 16
  },
  {
   "metadata": {
    "ExecuteTime": {
     "end_time": "2025-03-23T03:23:38.588279Z",
     "start_time": "2025-03-23T03:23:38.438260Z"
    }
   },
   "cell_type": "code",
   "source": "save_model(best_model, 'rf_task2')",
   "id": "317265488f5adeac",
   "outputs": [
    {
     "name": "stdout",
     "output_type": "stream",
     "text": [
      "Transformation Pipeline and Model Successfully Saved\n"
     ]
    },
    {
     "data": {
      "text/plain": [
       "(Pipeline(memory=Memory(location=None),\n",
       "          steps=[('numerical_imputer',\n",
       "                  TransformerWrapper(exclude=None,\n",
       "                                     include=['feature_1', 'feature_2',\n",
       "                                              'feature_3', 'feature_4',\n",
       "                                              'feature_5', 'feature_6',\n",
       "                                              'feature_7', 'feature_8',\n",
       "                                              'feature_9', 'feature_10',\n",
       "                                              'feature_11', 'feature_12',\n",
       "                                              'feature_13', 'feature_14',\n",
       "                                              'feature_15', 'feature_16',\n",
       "                                              'feature_17', 'feature_18',\n",
       "                                              'feature_19', 'feat...\n",
       "                  RandomForestClassifier(bootstrap=True, ccp_alpha=0.0,\n",
       "                                         class_weight=None, criterion='gini',\n",
       "                                         max_depth=None, max_features='sqrt',\n",
       "                                         max_leaf_nodes=None, max_samples=None,\n",
       "                                         min_impurity_decrease=0.0,\n",
       "                                         min_samples_leaf=1, min_samples_split=2,\n",
       "                                         min_weight_fraction_leaf=0.0,\n",
       "                                         monotonic_cst=None, n_estimators=100,\n",
       "                                         n_jobs=-1, oob_score=False,\n",
       "                                         random_state=123, verbose=0,\n",
       "                                         warm_start=False))],\n",
       "          verbose=False),\n",
       " 'rf_task2.pkl')"
      ]
     },
     "execution_count": 17,
     "metadata": {},
     "output_type": "execute_result"
    }
   ],
   "execution_count": 17
  },
  {
   "metadata": {},
   "cell_type": "markdown",
   "source": "",
   "id": "f7379603beb8ee0"
  }
 ],
 "metadata": {
  "kernelspec": {
   "display_name": "Python 3",
   "language": "python",
   "name": "python3"
  },
  "language_info": {
   "codemirror_mode": {
    "name": "ipython",
    "version": 2
   },
   "file_extension": ".py",
   "mimetype": "text/x-python",
   "name": "python",
   "nbconvert_exporter": "python",
   "pygments_lexer": "ipython2",
   "version": "2.7.6"
  }
 },
 "nbformat": 4,
 "nbformat_minor": 5
}
