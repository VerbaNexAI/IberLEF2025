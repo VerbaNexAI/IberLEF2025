{
 "cells": [
  {
   "metadata": {},
   "cell_type": "markdown",
   "source": "# EDA MentalRiskES - 2025",
   "id": "1b1a5fa3f005bf3f"
  },
  {
   "metadata": {
    "ExecuteTime": {
     "end_time": "2025-04-09T00:51:35.173191Z",
     "start_time": "2025-04-09T00:51:35.158161Z"
    }
   },
   "cell_type": "code",
   "source": [
    "import sys\n",
    "import os\n",
    "\n",
    "# Obtener la ruta absoluta del directorio base usando rutas relativas\n",
    "BASE_DIR = os.path.abspath(os.path.join(os.getcwd(), \"..\", \"src\"))\n",
    "\n",
    "# Agregar `src` a sys.path para que los imports funcionen\n",
    "if BASE_DIR not in sys.path:\n",
    "    sys.path.append(BASE_DIR)\n",
    "\n",
    "print(BASE_DIR)"
   ],
   "id": "5e5c262e9c72b2e8",
   "outputs": [
    {
     "name": "stdout",
     "output_type": "stream",
     "text": [
      "C:\\Users\\jeiso\\Documents\\Maestria\\Semestre #1\\NLP\\IberLEF2025\\MentalRiskES\\src\n"
     ]
    }
   ],
   "execution_count": 1
  },
  {
   "metadata": {
    "collapsed": true,
    "ExecuteTime": {
     "end_time": "2025-04-09T00:51:39.075491Z",
     "start_time": "2025-04-09T00:51:37.215988Z"
    }
   },
   "cell_type": "code",
   "source": [
    "import re\n",
    "import json\n",
    "import nltk\n",
    "import emoji\n",
    "import string\n",
    "import pandas as pd\n",
    "import seaborn as sns\n",
    "from collections import Counter\n",
    "from nltk.corpus import stopwords\n",
    "from data_aug import DataAugmenter\n",
    "from text_preprocessing  import DatasetColumnTransformer\n",
    "import matplotlib.pyplot as plt"
   ],
   "id": "initial_id",
   "outputs": [
    {
     "name": "stderr",
     "output_type": "stream",
     "text": [
      "[nltk_data] Downloading package wordnet to\n",
      "[nltk_data]     C:\\Users\\jeiso\\AppData\\Roaming\\nltk_data...\n",
      "[nltk_data]   Package wordnet is already up-to-date!\n",
      "[nltk_data] Downloading package omw-1.4 to\n",
      "[nltk_data]     C:\\Users\\jeiso\\AppData\\Roaming\\nltk_data...\n",
      "[nltk_data]   Package omw-1.4 is already up-to-date!\n"
     ]
    }
   ],
   "execution_count": 2
  },
  {
   "metadata": {
    "ExecuteTime": {
     "end_time": "2025-04-09T00:51:44.603914Z",
     "start_time": "2025-04-09T00:51:44.595906Z"
    }
   },
   "cell_type": "code",
   "source": [
    "# Get the root directory of the project (assuming the notebook is inside \"notebook/\")\n",
    "notebook_dir = os.getcwd()  # Gets the current working directory\n",
    "project_root = os.path.abspath(os.path.join(notebook_dir, \"..\"))  # Moves one level up\n",
    "project_root"
   ],
   "id": "a6327ab33e1c6fdf",
   "outputs": [
    {
     "data": {
      "text/plain": [
       "'C:\\\\Users\\\\jeiso\\\\Documents\\\\Maestria\\\\Semestre #1\\\\NLP\\\\IberLEF2025\\\\MentalRiskES'"
      ]
     },
     "execution_count": 3,
     "metadata": {},
     "output_type": "execute_result"
    }
   ],
   "execution_count": 3
  },
  {
   "metadata": {},
   "cell_type": "markdown",
   "source": "## Load messages and user tags to create a dataset",
   "id": "4472ec5284047da2"
  },
  {
   "metadata": {
    "ExecuteTime": {
     "end_time": "2025-04-09T00:51:48.752835Z",
     "start_time": "2025-04-09T00:51:46.945078Z"
    }
   },
   "cell_type": "code",
   "source": [
    "# Define paths relative to the project root\n",
    "json_dir = os.path.join(project_root, \"data\", \"train\", \"task2\", \"subjects\")\n",
    "user_categories_file = os.path.join(project_root, \"data\", \"train\", \"task2\", \"gold_task2.txt\")\n",
    "gambling_level_file = os.path.join(project_root, \"data\", \"train\", \"task1\", \"gold_task1.txt\")\n",
    "\n",
    "# Load messages from JSON files\n",
    "data = []\n",
    "for filename in os.listdir(json_dir):\n",
    "    if filename.endswith('.json'):\n",
    "        user = filename.replace('.json', '')  # Extract user ID from filename\n",
    "        with open(os.path.join(json_dir, filename), \"r\", encoding=\"utf-8\") as f:\n",
    "            messages = json.load(f)\n",
    "            if isinstance(messages, list):\n",
    "                # Add each message to the list, keeping the \"User\" field\n",
    "                data.extend({**entry, \"User\": user} for entry in messages if isinstance(entry, dict))\n",
    "            else:\n",
    "                print(f\"Warning: {filename} does not contain a list of messages.\")\n",
    "\n",
    "# Create DataFrame if data exists\n",
    "df = pd.DataFrame(data)\n",
    "if not df.empty:\n",
    "    df = df[['User', 'date', 'message', 'platform']]  # Reorder columns\n",
    "\n",
    "# Function to load and merge category data\n",
    "def merge_category(df, file_path, col_name):\n",
    "    \"\"\"Loads a CSV file and merges it with the DataFrame based on 'User' column.\"\"\"\n",
    "    category_df = pd.read_csv(file_path, dtype={\"Subject\": str})\n",
    "    return df.merge(category_df.rename(columns={'Subject': 'User', col_name: col_name.lower()}), on='User', how='left')\n",
    "\n",
    "# Merge user categories (Type) and gambling risk levels (Risk)\n",
    "df = merge_category(df, user_categories_file, 'Type')\n",
    "df = merge_category(df, gambling_level_file, 'Risk')\n",
    "\n",
    "# Display the first few rows of the final DataFrame\n",
    "df.head()"
   ],
   "id": "1c23e0575553ad0b",
   "outputs": [
    {
     "data": {
      "text/plain": [
       "        User                       date  \\\n",
       "0  user10040  2021-04-27 22:30:20+01:00   \n",
       "1  user10040  2021-04-28 00:12:59+01:00   \n",
       "2  user10040  2021-04-29 01:11:42+01:00   \n",
       "3  user10040  2021-04-29 02:15:10+01:00   \n",
       "4  user10040  2021-04-30 03:13:18+01:00   \n",
       "\n",
       "                                             message  platform     type  risk  \n",
       "0  El canal del amigo se llama loco por el trading ?  Telegram  trading     0  \n",
       "1                                     Hay vivo hoy ?  Telegram  trading     0  \n",
       "2                               Eos alguien lo vio ?  Telegram  trading     0  \n",
       "3                            A que hora es el vivo ?  Telegram  trading     0  \n",
       "4                                     No arranca vet  Telegram  trading     0  "
      ],
      "text/html": [
       "<div>\n",
       "<style scoped>\n",
       "    .dataframe tbody tr th:only-of-type {\n",
       "        vertical-align: middle;\n",
       "    }\n",
       "\n",
       "    .dataframe tbody tr th {\n",
       "        vertical-align: top;\n",
       "    }\n",
       "\n",
       "    .dataframe thead th {\n",
       "        text-align: right;\n",
       "    }\n",
       "</style>\n",
       "<table border=\"1\" class=\"dataframe\">\n",
       "  <thead>\n",
       "    <tr style=\"text-align: right;\">\n",
       "      <th></th>\n",
       "      <th>User</th>\n",
       "      <th>date</th>\n",
       "      <th>message</th>\n",
       "      <th>platform</th>\n",
       "      <th>type</th>\n",
       "      <th>risk</th>\n",
       "    </tr>\n",
       "  </thead>\n",
       "  <tbody>\n",
       "    <tr>\n",
       "      <th>0</th>\n",
       "      <td>user10040</td>\n",
       "      <td>2021-04-27 22:30:20+01:00</td>\n",
       "      <td>El canal del amigo se llama loco por el trading ?</td>\n",
       "      <td>Telegram</td>\n",
       "      <td>trading</td>\n",
       "      <td>0</td>\n",
       "    </tr>\n",
       "    <tr>\n",
       "      <th>1</th>\n",
       "      <td>user10040</td>\n",
       "      <td>2021-04-28 00:12:59+01:00</td>\n",
       "      <td>Hay vivo hoy ?</td>\n",
       "      <td>Telegram</td>\n",
       "      <td>trading</td>\n",
       "      <td>0</td>\n",
       "    </tr>\n",
       "    <tr>\n",
       "      <th>2</th>\n",
       "      <td>user10040</td>\n",
       "      <td>2021-04-29 01:11:42+01:00</td>\n",
       "      <td>Eos alguien lo vio ?</td>\n",
       "      <td>Telegram</td>\n",
       "      <td>trading</td>\n",
       "      <td>0</td>\n",
       "    </tr>\n",
       "    <tr>\n",
       "      <th>3</th>\n",
       "      <td>user10040</td>\n",
       "      <td>2021-04-29 02:15:10+01:00</td>\n",
       "      <td>A que hora es el vivo ?</td>\n",
       "      <td>Telegram</td>\n",
       "      <td>trading</td>\n",
       "      <td>0</td>\n",
       "    </tr>\n",
       "    <tr>\n",
       "      <th>4</th>\n",
       "      <td>user10040</td>\n",
       "      <td>2021-04-30 03:13:18+01:00</td>\n",
       "      <td>No arranca vet</td>\n",
       "      <td>Telegram</td>\n",
       "      <td>trading</td>\n",
       "      <td>0</td>\n",
       "    </tr>\n",
       "  </tbody>\n",
       "</table>\n",
       "</div>"
      ]
     },
     "execution_count": 4,
     "metadata": {},
     "output_type": "execute_result"
    }
   ],
   "execution_count": 4
  },
  {
   "metadata": {},
   "cell_type": "markdown",
   "source": "## Distribution of words per message",
   "id": "75234f112d4e9c42"
  },
  {
   "metadata": {
    "ExecuteTime": {
     "end_time": "2025-04-09T00:51:52.830759Z",
     "start_time": "2025-04-09T00:51:52.570696Z"
    }
   },
   "cell_type": "code",
   "source": [
    "import pandas as pd\n",
    "import matplotlib.pyplot as plt\n",
    "\n",
    "# Make sure all values are strings and handle NaN\n",
    "df['message'] = df['message'].astype(str).fillna('')\n",
    "\n",
    "# Calculate the length of each message (in number of words)\n",
    "df['message_length'] = df['message'].apply(lambda x: len(x.split()))\n",
    "\n",
    "# Display descriptive statistics of message lengths\n",
    "print(\"Estadísticas de la distribución de la longitud de los mensajes:\")\n",
    "print(df['message_length'].describe())\n",
    "\n",
    "# Calculate the mean and median to annotate them on the plot\n",
    "mean_value = df['message_length'].mean()\n",
    "median_value = df['message_length'].median()\n",
    "\n",
    "# Create a histogram to visualize the distribution of message lengths\n",
    "plt.figure(figsize=(10, 6))\n",
    "counts, bins, patches = plt.hist(df['message_length'], bins=50, color='skyblue', edgecolor='black', alpha=0.7, label=\"Frecuencia\")\n",
    "\n",
    "# Add title and axis labels\n",
    "plt.title('Message length distribution (word count)')\n",
    "plt.xlabel('Message length (number of words)')\n",
    "plt.ylabel('Frequency')\n",
    "plt.grid(True)\n",
    "\n",
    "# Draw vertical lines for the mean and median\n",
    "plt.axvline(mean_value, color='red', linestyle='dashed', linewidth=1.5, label=f'Media: {mean_value:.2f}')\n",
    "plt.axvline(median_value, color='green', linestyle='dashed', linewidth=1.5, label=f'Mediana: {median_value:.2f}')\n",
    "\n",
    "# Add legend to the histogram\n",
    "plt.legend()\n",
    "\n",
    "# Display the plot\n",
    "plt.show()"
   ],
   "id": "5a4ef2a271e4084e",
   "outputs": [
    {
     "name": "stdout",
     "output_type": "stream",
     "text": [
      "Estadísticas de la distribución de la longitud de los mensajes:\n",
      "count    22491.000000\n",
      "mean         8.343026\n",
      "std         10.215357\n",
      "min          1.000000\n",
      "25%          3.000000\n",
      "50%          6.000000\n",
      "75%         10.000000\n",
      "max        467.000000\n",
      "Name: message_length, dtype: float64\n"
     ]
    },
    {
     "data": {
      "text/plain": [
       "<Figure size 1000x600 with 1 Axes>"
      ],
      "image/png": "[encoded data removed]"
     },
     "metadata": {},
     "output_type": "display_data"
    }
   ],
   "execution_count": 5
  },
  {
   "metadata": {},
   "cell_type": "markdown",
   "source": "## Distribution of words per gambling category",
   "id": "4b6e7908b7679b9f"
  },
  {
   "metadata": {
    "ExecuteTime": {
     "end_time": "2025-04-09T00:51:56.095229Z",
     "start_time": "2025-04-09T00:51:55.981253Z"
    }
   },
   "cell_type": "code",
   "source": [
    "# Ensure all values are strings and handle NaN\n",
    "df['message'] = df['message'].astype(str).fillna('')\n",
    "\n",
    "# Calculate the length of each message in number of words\n",
    "df['message_length'] = df['message'].apply(lambda x: len(x.split()))\n",
    "\n",
    "# Calculate the average number of words per category in the \"type\" column\n",
    "category_mean = df.groupby('risk')['message_length'].mean()\n",
    "\n",
    "# Print the average word count for each category\n",
    "print(\"Average number of words per category:\")\n",
    "print(category_mean)\n",
    "\n",
    "# Plot the average word count using a bar chart\n",
    "plt.figure(figsize=(10, 6))\n",
    "bars = plt.bar(category_mean.index.astype(str), category_mean.values, color='skyblue', edgecolor='black')\n",
    "plt.xlabel('Category (type)')\n",
    "plt.ylabel('Average number of words')\n",
    "plt.title('Average Number of Words per Category')\n",
    "plt.xticks(rotation=0)\n",
    "plt.grid(axis='y', linestyle='--', alpha=0.7)\n",
    "\n",
    "# Add the numerical value above each bar\n",
    "for bar in bars:\n",
    "    yval = bar.get_height()\n",
    "    plt.text(bar.get_x() + bar.get_width()/2, yval + 0.05 * yval, f'{yval:.2f}', ha='center', va='bottom')\n",
    "\n",
    "plt.show()"
   ],
   "id": "a047e0e93be2d0f5",
   "outputs": [
    {
     "name": "stdout",
     "output_type": "stream",
     "text": [
      "Average number of words per category:\n",
      "risk\n",
      "0    8.563161\n",
      "1    8.115183\n",
      "Name: message_length, dtype: float64\n"
     ]
    },
    {
     "data": {
      "text/plain": [
       "<Figure size 1000x600 with 1 Axes>"
      ],
      "image/png": "[encoded data removed]"
     },
     "metadata": {},
     "output_type": "display_data"
    }
   ],
   "execution_count": 6
  },
  {
   "metadata": {},
   "cell_type": "markdown",
   "source": "## Platform distribution",
   "id": "8686f5c632ba1424"
  },
  {
   "metadata": {
    "ExecuteTime": {
     "end_time": "2025-04-09T00:51:58.824185Z",
     "start_time": "2025-04-09T00:51:58.718049Z"
    }
   },
   "cell_type": "code",
   "source": [
    "platform_counts = df['platform'].value_counts()\n",
    "\n",
    "plt.figure(figsize=(8,5))\n",
    "bars = plt.bar(platform_counts.index, platform_counts.values, color='seagreen')\n",
    "plt.title(\"Platform Distribution\")\n",
    "plt.xlabel(\"Platform\")\n",
    "plt.ylabel(\"Number of Messages\")\n",
    "\n",
    "# Add labels on top of bars\n",
    "for bar in bars:\n",
    "    yval = bar.get_height()\n",
    "    plt.text(bar.get_x() + bar.get_width()/2, yval, int(yval), ha='center', va='bottom', fontsize=10)\n",
    "\n",
    "plt.show()"
   ],
   "id": "b81065c3bd0dd570",
   "outputs": [
    {
     "data": {
      "text/plain": [
       "<Figure size 800x500 with 1 Axes>"
      ],
      "image/png": "[encoded data removed]"
     },
     "metadata": {},
     "output_type": "display_data"
    }
   ],
   "execution_count": 7
  },
  {
   "metadata": {},
   "cell_type": "markdown",
   "source": "## Most Frequent Words in Messages",
   "id": "28911a25ee11e647"
  },
  {
   "metadata": {
    "ExecuteTime": {
     "end_time": "2025-04-09T00:52:01.263125Z",
     "start_time": "2025-04-09T00:52:01.028639Z"
    }
   },
   "cell_type": "code",
   "source": [
    "# Function to preprocess text (remove punctuation and lowercase)\n",
    "def preprocess_text(text):\n",
    "    text = re.sub(r'[^\\w\\s]', '', text)  # Remove punctuation\n",
    "    return text.lower()  # Convert to lowercase\n",
    "\n",
    "# Apply preprocessing and split words\n",
    "words = ' '.join(df['message'].dropna().apply(preprocess_text)).split()\n",
    "\n",
    "# Count word frequencies\n",
    "word_counts = Counter(words)\n",
    "\n",
    "# Get the 10 most common words\n",
    "most_common_words = word_counts.most_common(10)\n",
    "\n",
    "# Convert to DataFrame for plotting\n",
    "word_df = pd.DataFrame(most_common_words, columns=['Word', 'Count'])\n",
    "\n",
    "# Plot\n",
    "plt.figure(figsize=(12, 6))\n",
    "ax = sns.barplot(x='Word', y='Count', data=word_df, palette=\"viridis\")\n",
    "\n",
    "# Add text labels above each bar\n",
    "for i, v in enumerate(word_df['Count']):\n",
    "    ax.text(i, v + 1, str(v), ha='center', va='bottom', fontsize=12)\n",
    "\n",
    "plt.xlabel(\"Word\")\n",
    "plt.ylabel(\"Frequency\")\n",
    "plt.title(\"Top 10 Most Frequent Words in Messages\")\n",
    "plt.xticks(rotation=45)  # Rotate words for better readability\n",
    "plt.show()"
   ],
   "id": "5db22a39aa5d0886",
   "outputs": [
    {
     "name": "stderr",
     "output_type": "stream",
     "text": [
      "C:\\Users\\jeiso\\AppData\\Local\\Temp\\ipykernel_20664\\2429451479.py:20: FutureWarning: \n",
      "\n",
      "Passing `palette` without assigning `hue` is deprecated and will be removed in v0.14.0. Assign the `x` variable to `hue` and set `legend=False` for the same effect.\n",
      "\n",
      "  ax = sns.barplot(x='Word', y='Count', data=word_df, palette=\"viridis\")\n"
     ]
    },
    {
     "data": {
      "text/plain": [
       "<Figure size 1200x600 with 1 Axes>"
      ],
      "image/png": "[encoded data removed]"
     },
     "metadata": {},
     "output_type": "display_data"
    }
   ],
   "execution_count": 8
  },
  {
   "metadata": {},
   "cell_type": "markdown",
   "source": "## Most Frequent Words in Messages (Without Stopwords)",
   "id": "4a013ab06eaae513"
  },
  {
   "metadata": {
    "ExecuteTime": {
     "end_time": "2025-04-09T00:52:04.973690Z",
     "start_time": "2025-04-09T00:52:04.551643Z"
    }
   },
   "cell_type": "code",
   "source": [
    "# Download stopwords if you have not already done so\n",
    "nltk.download('stopwords')\n",
    "\n",
    "# List of stopwords in Spanish\n",
    "stop_words = set(stopwords.words('spanish'))\n",
    "\n",
    "# Function for clearing and tokenizing messages\n",
    "def clean_text(text):\n",
    "    text = str(text).lower()\n",
    "    text = text.translate(str.maketrans('', '', string.punctuation))\n",
    "    words = text.split()\n",
    "    words = [word for word in words if word not in stop_words and len(word) > 2]\n",
    "    return words\n",
    "\n",
    "# Apply cleanup to all rows and word count\n",
    "all_words = df['message'].dropna().apply(clean_text).explode()\n",
    "word_counts = Counter(all_words)\n",
    "\n",
    "# Obtain the 15 most frequent words\n",
    "top_words = word_counts.most_common(25)\n",
    "\n",
    "# Plot\n",
    "plt.figure(figsize=(12,6))\n",
    "bars = plt.bar([word[0] for word in top_words], [word[1] for word in top_words], color='steelblue')\n",
    "plt.title(\"Most Frequently Used Words (Excluding Stopwords)\", fontsize=14)\n",
    "plt.xlabel(\"Words\", fontsize=12)\n",
    "plt.ylabel(\"Frequency\", fontsize=12)\n",
    "\n",
    "# Labels on the bars\n",
    "for bar in bars:\n",
    "    yval = bar.get_height()\n",
    "    plt.text(bar.get_x() + bar.get_width()/2, yval, int(yval), ha='center', va='bottom', fontsize=10)\n",
    "\n",
    "plt.xticks(rotation=45)\n",
    "plt.show()"
   ],
   "id": "40dce7cbfeccfcc7",
   "outputs": [
    {
     "name": "stderr",
     "output_type": "stream",
     "text": [
      "[nltk_data] Downloading package stopwords to\n",
      "[nltk_data]     C:\\Users\\jeiso\\AppData\\Roaming\\nltk_data...\n",
      "[nltk_data]   Package stopwords is already up-to-date!\n"
     ]
    },
    {
     "data": {
      "text/plain": [
       "<Figure size 1200x600 with 1 Axes>"
      ],
      "image/png": "[encoded data removed]"
     },
     "metadata": {},
     "output_type": "display_data"
    }
   ],
   "execution_count": 9
  },
  {
   "metadata": {},
   "cell_type": "markdown",
   "source": "## Message Distribution per User",
   "id": "2abf311daa503c30"
  },
  {
   "metadata": {
    "ExecuteTime": {
     "end_time": "2025-04-09T00:52:09.197303Z",
     "start_time": "2025-04-09T00:52:09.183658Z"
    }
   },
   "cell_type": "code",
   "source": [
    "# Assuming df is your DataFrame and 'user' is the column with usernames\n",
    "message_counts = df['User'].value_counts()\n",
    "\n",
    "# Print the message count per user\n",
    "print(message_counts)"
   ],
   "id": "81ab8d90fcbd23c1",
   "outputs": [
    {
     "name": "stdout",
     "output_type": "stream",
     "text": [
      "User\n",
      "user3387     146\n",
      "user179      145\n",
      "user3926     142\n",
      "user301      142\n",
      "user3488     134\n",
      "            ... \n",
      "user28719      8\n",
      "user28487      8\n",
      "user28486      8\n",
      "user28726      8\n",
      "user28585      8\n",
      "Name: count, Length: 350, dtype: int64\n"
     ]
    }
   ],
   "execution_count": 10
  },
  {
   "metadata": {},
   "cell_type": "markdown",
   "source": "## Emoji Frequency Count",
   "id": "3f0010a5dd8f7cf1"
  },
  {
   "metadata": {
    "ExecuteTime": {
     "end_time": "2025-04-09T00:52:11.753157Z",
     "start_time": "2025-04-09T00:52:11.684395Z"
    }
   },
   "cell_type": "code",
   "source": [
    "# Function to extract emojis from text\n",
    "def extract_emojis(text):\n",
    "    return [char for char in text if char in emoji.EMOJI_DATA]\n",
    "\n",
    "# Apply the extraction function to each message\n",
    "df['emojis'] = df['message'].apply(extract_emojis)\n",
    "\n",
    "# Count the occurrences of each emoji\n",
    "emoji_list = [e for sublist in df['emojis'] for e in sublist]\n",
    "emoji_counts = Counter(emoji_list)\n",
    "\n",
    "# Print the emoji frequency count in a single line\n",
    "emoji_output = \", \".join(f\"{emoji_char}: {count}\" for emoji_char, count in emoji_counts.items())\n",
    "print(emoji_output)"
   ],
   "id": "2d74be47ea140337",
   "outputs": [
    {
     "name": "stdout",
     "output_type": "stream",
     "text": [
      "🤨: 8, 😰: 6, 🤣: 194, 🐻: 1, 👁: 2, 😂: 845, 😔: 22, 🈚: 1, ❤: 4, ☺: 6, 😁: 55, 💵: 1, 🤑: 31, 🙄: 24, 🤪: 8, 😕: 3, 👍: 143, 😅: 102, 👏: 109, 😍: 17, 🙈: 19, 😊: 26, 😎: 27, 🤷: 34, 🏻: 152, ♂: 91, 🚀: 60, 😳: 40, 😡: 11, 😭: 45, 😪: 6, 🐳: 3, 💪: 53, 😬: 19, 💦: 4, 💔: 2, 💲: 3, 😆: 35, 😜: 25, 👌: 50, 😀: 6, 🤭: 8, 😚: 1, 😢: 23, 🥲: 16, 🤦: 60, ✊: 3, 🏼: 45, ☀: 1, 😌: 6, ⬇: 3, 🥰: 6, 🤔: 30, 😒: 7, ✅: 30, 😉: 16, 😐: 6, 😮: 5, 🚨: 28, 😝: 6, 👋: 7, ❗: 5, 💥: 7, 🔹: 2, ✨: 4, 🔰: 1, 💬: 2, 🐬: 1, 🌕: 1, 😱: 32, 🙏: 23, 🏽: 35, 🔮: 5, ⛔: 2, 🔥: 20, 👀: 26, 💰: 1, 🤓: 4, ♀: 8, 🫣: 3, 🫤: 1, 🤘: 3, 🦥: 1, 👆: 5, 🚫: 2, ☹: 1, 🧐: 24, 🥵: 3, 🥶: 5, 🎼: 3, 🤡: 2, 😃: 5, 🤙: 8, 🙆: 1, 😄: 16, 🌖: 3, ✌: 10, ♥: 9, 🙌: 19, 🥴: 6, 🥹: 3, 🫡: 2, 😏: 7, 😹: 11, 🪂: 2, 🌙: 1, 🎄: 2, 😛: 2, 🤞: 16, 💫: 3, 🌝: 3, 🌊: 4, 🥚: 4, 🎶: 1, 🎵: 1, 🍎: 9, 🍏: 21, 🤠: 1, 🥳: 7, 😴: 1, ✈: 1, 🤯: 5, 😶: 5, 🌫: 2, 🙃: 2, 😥: 5, 😠: 3, 🟢: 5, 😇: 2, 💩: 1, 💃: 1, 🕺: 1, 🍻: 1, 😞: 5, 🤩: 1, 🥸: 1, 🙂: 2, 🥱: 1, 💶: 5, 🐷: 3, 🥒: 4, 🗣: 2, ⚓: 1, 🐟: 1, 👉: 3, 👈: 2, 👎: 1, 🎁: 3, 💎: 1, 🎅: 1, 🐁: 3, 🐗: 1, 🍺: 1, 🍀: 2, 🤤: 4, 🔝: 3, 😓: 4, 😘: 16, ❌: 9, 🥺: 3, 💚: 1, ▶: 1, 🔪: 1, 🙋: 5, ⚽: 1, 🔵: 1, ℹ: 1, 🎾: 2, 🐀: 2, 😻: 1, 🦖: 1, 💸: 5, 😑: 1, 😋: 5, 🤗: 3, 👼: 1, 👅: 2, 🌚: 2, ☝: 5, ✋: 1, ✔: 1, 😨: 2, 🙊: 1, 🤌: 1, ❣: 1, 🤧: 1, ‼: 8, 🤝: 2, 🐸: 4, 🌌: 1, 🔴: 8, 🟣: 1, 🌎: 1, ⏺: 1, 📈: 2, 📊: 2, 😯: 1, ❓: 1, 🖐: 2, 🫀: 1, 🎉: 1, 🎢: 1, ⚠: 2, 📨: 1, 🌐: 1, 🛍: 1, 😵: 2, ⚡: 1, 🫵: 1, 💋: 2, 💨: 3, 🔻: 1, 😾: 1, 💯: 1, 🤟: 8, 🌘: 1, 🧘: 1, 🐮: 1, 🎂: 1, 🎈: 1, 🌬: 3, 🚶: 1, 👻: 1, ⚰: 1, 🤮: 1, 🏾: 8, ⬆: 1, 😲: 1, 🐶: 1, 😈: 1\n"
     ]
    }
   ],
   "execution_count": 11
  },
  {
   "metadata": {},
   "cell_type": "markdown",
   "source": "## Message Counting with HTML, Markdown, URLS, Emails and Mentions",
   "id": "b2a346b86f376fd"
  },
  {
   "metadata": {
    "ExecuteTime": {
     "end_time": "2025-04-09T00:52:14.596668Z",
     "start_time": "2025-04-09T00:52:14.505113Z"
    }
   },
   "cell_type": "code",
   "source": [
    "# Regular expressions for different patterns\n",
    "html_pattern = re.compile(r'(<[^>]+>)')  # HTML tags\n",
    "markdown_pattern = re.compile(r'(\\[.*?\\]\\(.*?\\)|\\*\\*.*?\\*\\*|__.*?__|`.*?`|#+\\s)')  # Markdown syntax\n",
    "email_pattern = re.compile(r'([a-zA-Z0-9._%+-]+@[a-zA-Z0-9.-]+\\.[a-zA-Z]{2,})')  # Email addresses\n",
    "mention_pattern = re.compile(r'(@\\w+)')  # Mentions (e.g., @user)\n",
    "url_pattern = re.compile(r'(https?://\\S+|www\\.\\S+)')  # URLs\n",
    "\n",
    "# Function to extract matches\n",
    "def extract_matches(pattern, text):\n",
    "    matches = pattern.findall(text)\n",
    "    return matches if matches else None\n",
    "\n",
    "# Apply functions to extract matches\n",
    "df['html_matches'] = df['message'].apply(lambda x: extract_matches(html_pattern, x))\n",
    "df['markdown_matches'] = df['message'].apply(lambda x: extract_matches(markdown_pattern, x))\n",
    "df['email_matches'] = df['message'].apply(lambda x: extract_matches(email_pattern, x))\n",
    "df['mention_matches'] = df['message'].apply(lambda x: extract_matches(mention_pattern, x))\n",
    "df['url_matches'] = df['message'].apply(lambda x: extract_matches(url_pattern, x))\n",
    "\n",
    "# Count occurrences\n",
    "html_count = df['html_matches'].dropna().count()\n",
    "markdown_count = df['markdown_matches'].dropna().count()\n",
    "email_count = df['email_matches'].dropna().count()\n",
    "mention_count = df['mention_matches'].dropna().count()\n",
    "url_count = df['url_matches'].dropna().count()\n",
    "\n",
    "# Print results\n",
    "print(f\"Messages containing HTML: {html_count}\")\n",
    "print(f\"Messages containing Markdown: {markdown_count}\")\n",
    "print(f\"Messages containing Emails: {email_count}\")\n",
    "print(f\"Messages containing Mentions: {mention_count}\")\n",
    "print(f\"Messages containing URLs: {url_count}\")\n",
    "\n",
    "# Print up to 5 examples for each case\n",
    "print(\"\\nHTML fragments:\")\n",
    "print(\", \".join([match for sublist in df['html_matches'].dropna().head(5) for match in sublist]))\n",
    "\n",
    "print(\"\\nMarkdown fragments:\")\n",
    "print(\", \".join([match for sublist in df['markdown_matches'].dropna().head(5) for match in sublist]))\n",
    "\n",
    "print(\"\\nEmails:\")\n",
    "print(\", \".join([match for sublist in df['email_matches'].dropna().head(5) for match in sublist]))\n",
    "\n",
    "print(\"\\nMentions:\")\n",
    "print(\", \".join([match for sublist in df['mention_matches'].dropna().head(5) for match in sublist]))\n",
    "\n",
    "print(\"\\nURLs:\")\n",
    "print(\", \".join([match for sublist in df['url_matches'].dropna().head(5) for match in sublist]))"
   ],
   "id": "9fa10d099d123ff7",
   "outputs": [
    {
     "name": "stdout",
     "output_type": "stream",
     "text": [
      "Messages containing HTML: 0\n",
      "Messages containing Markdown: 0\n",
      "Messages containing Emails: 1\n",
      "Messages containing Mentions: 318\n",
      "Messages containing URLs: 0\n",
      "\n",
      "HTML fragments:\n",
      "\n",
      "\n",
      "Markdown fragments:\n",
      "\n",
      "\n",
      "Emails:\n",
      "estoesuntimo@USER.com\n",
      "\n",
      "Mentions:\n",
      "@USER, @USER, @USER, @USER, @USER\n",
      "\n",
      "URLs:\n",
      "\n"
     ]
    }
   ],
   "execution_count": 12
  },
  {
   "metadata": {},
   "cell_type": "markdown",
   "source": "## Concatenate user messages using the separate [SEP].",
   "id": "bc68b1490b92e2e5"
  },
  {
   "metadata": {},
   "cell_type": "markdown",
   "source": "## Preprocessing Dataset",
   "id": "59bb5b1bbbe27444"
  },
  {
   "metadata": {
    "ExecuteTime": {
     "end_time": "2025-04-09T00:52:34.472421Z",
     "start_time": "2025-04-09T00:52:34.251767Z"
    }
   },
   "cell_type": "code",
   "source": [
    "# Ensure 'df' contains only the necessary columns\n",
    "df = df[['User', 'date', 'message', 'platform']].copy()\n",
    "df['date'] = pd.to_datetime(df['date'])  # Convert date column to datetime format\n",
    "df = df.sort_values('date')  # Sort messages chronologically\n",
    "\n",
    "# Define separator for concatenating messages\n",
    "separator = \" [SEP] \"\n",
    "\n",
    "# Group messages by user, concatenating them with the defined separator\n",
    "aggregated_df = df.groupby('User', as_index=False).agg({'message': separator.join})\n",
    "\n",
    "# Load user labels and gambling risk level\n",
    "label_files = {\n",
    "    \"label\": r\"C:\\Users\\jeiso\\Documents\\Maestria\\Semestre #1\\Reto\\MentalRiskES-2025\\data\\train\\task2\\gold_task2.txt\",\n",
    "    \"level\": r\"C:\\Users\\jeiso\\Documents\\Maestria\\Semestre #1\\Reto\\MentalRiskES-2025\\data\\train\\task1\\gold_task1.txt\",\n",
    "}\n",
    "\n",
    "for col, file in label_files.items():\n",
    "    # Load only relevant columns to optimize performance\n",
    "    user_data = pd.read_csv(file, usecols=[\"Subject\", \"Type\" if col == \"label\" else \"Risk\"])\n",
    "    user_data.rename(columns={\"Subject\": \"User\", \"Type\": \"label\", \"Risk\": \"level\"}, inplace=True)\n",
    "\n",
    "    # Merge user labels with aggregated messages\n",
    "    aggregated_df = aggregated_df.merge(user_data, on=\"User\", how=\"left\")\n",
    "\n",
    "# Convert categorical columns to optimize memory usage\n",
    "aggregated_df[['label', 'level']] = aggregated_df[['label', 'level']].astype(\"category\")\n",
    "\n",
    "# Display the final DataFrame\n",
    "aggregated_df"
   ],
   "id": "31e3a9b2a91dca4f",
   "outputs": [
    {
     "data": {
      "text/plain": [
       "          User                                            message    label  \\\n",
       "0    user10040  El canal del amigo se llama loco por el tradin...  trading   \n",
       "1    user10048  Ganancia es ganancia chicos [SEP] Si lo conseg...  trading   \n",
       "2    user10290  fijate cuanto es el margen en negativo y le ag...  trading   \n",
       "3    user10317  Alguna entradita .. ? [SEP] Spot está funciona...  trading   \n",
       "4    user10343  Voy cargando la escopeta pa longuear alguna mo...  trading   \n",
       "..         ...                                                ...      ...   \n",
       "345   user9772  Buenas , saben dónde se podrán ver las órdenes...  trading   \n",
       "346   user9774  Eso es bueno o malo ? [SEP] Tarde ? Hasta dond...  trading   \n",
       "347   user9873  que hora es el stream de user 12434 [SEP] Grac...  trading   \n",
       "348   user9893  Hola gente , les hago una consulta : tengo uno...  trading   \n",
       "349   user9984  🔥 se acerca [SEP] 0.190346 [SEP] 😳 wow [SEP] y...  trading   \n",
       "\n",
       "    level  \n",
       "0       0  \n",
       "1       0  \n",
       "2       1  \n",
       "3       0  \n",
       "4       1  \n",
       "..    ...  \n",
       "345     0  \n",
       "346     0  \n",
       "347     0  \n",
       "348     0  \n",
       "349     0  \n",
       "\n",
       "[350 rows x 4 columns]"
      ],
      "text/html": [
       "<div>\n",
       "<style scoped>\n",
       "    .dataframe tbody tr th:only-of-type {\n",
       "        vertical-align: middle;\n",
       "    }\n",
       "\n",
       "    .dataframe tbody tr th {\n",
       "        vertical-align: top;\n",
       "    }\n",
       "\n",
       "    .dataframe thead th {\n",
       "        text-align: right;\n",
       "    }\n",
       "</style>\n",
       "<table border=\"1\" class=\"dataframe\">\n",
       "  <thead>\n",
       "    <tr style=\"text-align: right;\">\n",
       "      <th></th>\n",
       "      <th>User</th>\n",
       "      <th>message</th>\n",
       "      <th>label</th>\n",
       "      <th>level</th>\n",
       "    </tr>\n",
       "  </thead>\n",
       "  <tbody>\n",
       "    <tr>\n",
       "      <th>0</th>\n",
       "      <td>user10040</td>\n",
       "      <td>El canal del amigo se llama loco por el tradin...</td>\n",
       "      <td>trading</td>\n",
       "      <td>0</td>\n",
       "    </tr>\n",
       "    <tr>\n",
       "      <th>1</th>\n",
       "      <td>user10048</td>\n",
       "      <td>Ganancia es ganancia chicos [SEP] Si lo conseg...</td>\n",
       "      <td>trading</td>\n",
       "      <td>0</td>\n",
       "    </tr>\n",
       "    <tr>\n",
       "      <th>2</th>\n",
       "      <td>user10290</td>\n",
       "      <td>fijate cuanto es el margen en negativo y le ag...</td>\n",
       "      <td>trading</td>\n",
       "      <td>1</td>\n",
       "    </tr>\n",
       "    <tr>\n",
       "      <th>3</th>\n",
       "      <td>user10317</td>\n",
       "      <td>Alguna entradita .. ? [SEP] Spot está funciona...</td>\n",
       "      <td>trading</td>\n",
       "      <td>0</td>\n",
       "    </tr>\n",
       "    <tr>\n",
       "      <th>4</th>\n",
       "      <td>user10343</td>\n",
       "      <td>Voy cargando la escopeta pa longuear alguna mo...</td>\n",
       "      <td>trading</td>\n",
       "      <td>1</td>\n",
       "    </tr>\n",
       "    <tr>\n",
       "      <th>...</th>\n",
       "      <td>...</td>\n",
       "      <td>...</td>\n",
       "      <td>...</td>\n",
       "      <td>...</td>\n",
       "    </tr>\n",
       "    <tr>\n",
       "      <th>345</th>\n",
       "      <td>user9772</td>\n",
       "      <td>Buenas , saben dónde se podrán ver las órdenes...</td>\n",
       "      <td>trading</td>\n",
       "      <td>0</td>\n",
       "    </tr>\n",
       "    <tr>\n",
       "      <th>346</th>\n",
       "      <td>user9774</td>\n",
       "      <td>Eso es bueno o malo ? [SEP] Tarde ? Hasta dond...</td>\n",
       "      <td>trading</td>\n",
       "      <td>0</td>\n",
       "    </tr>\n",
       "    <tr>\n",
       "      <th>347</th>\n",
       "      <td>user9873</td>\n",
       "      <td>que hora es el stream de user 12434 [SEP] Grac...</td>\n",
       "      <td>trading</td>\n",
       "      <td>0</td>\n",
       "    </tr>\n",
       "    <tr>\n",
       "      <th>348</th>\n",
       "      <td>user9893</td>\n",
       "      <td>Hola gente , les hago una consulta : tengo uno...</td>\n",
       "      <td>trading</td>\n",
       "      <td>0</td>\n",
       "    </tr>\n",
       "    <tr>\n",
       "      <th>349</th>\n",
       "      <td>user9984</td>\n",
       "      <td>🔥 se acerca [SEP] 0.190346 [SEP] 😳 wow [SEP] y...</td>\n",
       "      <td>trading</td>\n",
       "      <td>0</td>\n",
       "    </tr>\n",
       "  </tbody>\n",
       "</table>\n",
       "<p>350 rows × 4 columns</p>\n",
       "</div>"
      ]
     },
     "execution_count": 13,
     "metadata": {},
     "output_type": "execute_result"
    }
   ],
   "execution_count": 13
  },
  {
   "metadata": {
    "ExecuteTime": {
     "end_time": "2025-04-09T00:54:07.682064Z",
     "start_time": "2025-04-09T00:54:07.405744Z"
    }
   },
   "cell_type": "code",
   "source": "aggregated_df.to_excel('dataset_task1.xlsx', index=False)",
   "id": "5573a9f0c87065a0",
   "outputs": [],
   "execution_count": 14
  },
  {
   "metadata": {
    "ExecuteTime": {
     "end_time": "2025-03-28T15:19:38.084939Z",
     "start_time": "2025-03-28T15:19:35.714606Z"
    }
   },
   "cell_type": "code",
   "outputs": [
    {
     "data": {
      "text/plain": [
       "            User                       date  \\\n",
       "0      user10040  2021-04-27 22:30:20+01:00   \n",
       "1      user10040  2021-04-28 00:12:59+01:00   \n",
       "2      user10040  2021-04-29 01:11:42+01:00   \n",
       "3      user10040  2021-04-29 02:15:10+01:00   \n",
       "4      user10040  2021-04-30 03:13:18+01:00   \n",
       "...          ...                        ...   \n",
       "22486   user9984  2022-10-08 01:33:29+01:00   \n",
       "22487   user9984  2022-10-08 01:52:36+01:00   \n",
       "22488   user9984  2022-10-08 02:16:18+01:00   \n",
       "22489   user9984  2022-10-08 05:57:06+01:00   \n",
       "22490   user9984  2022-11-02 19:55:16+01:00   \n",
       "\n",
       "                                                 message  platform     type  \\\n",
       "0      el canal del amigo se llama loco por el trading ?  Telegram  trading   \n",
       "1                                         hay vivo hoy ?  Telegram  trading   \n",
       "2                                   eos alguien lo vio ?  Telegram  trading   \n",
       "3                                 a que hora e el vivo ?  Telegram  trading   \n",
       "4                                         no arranca vet  Telegram  trading   \n",
       "...                                                  ...       ...      ...   \n",
       "22486                         buenas , hoy hay directo ?  Telegram  trading   \n",
       "22487                         cara_sonriendo_con_cuernos  Telegram  trading   \n",
       "22488                                                sip  Telegram  trading   \n",
       "22489  jaja si e verdad user 7376 la misma con $ 125 ...  Telegram  trading   \n",
       "22490      y en cuánto tiempo se estabiliza el mercado ?  Telegram  trading   \n",
       "\n",
       "       risk  message_length emojis html_matches markdown_matches  \\\n",
       "0         0              11     []         None             None   \n",
       "1         0               4     []         None             None   \n",
       "2         0               5     []         None             None   \n",
       "3         0               7     []         None             None   \n",
       "4         0               3     []         None             None   \n",
       "...     ...             ...    ...          ...              ...   \n",
       "22486     0               6     []         None             None   \n",
       "22487     0               1    [😈]         None             None   \n",
       "22488     0               1     []         None             None   \n",
       "22489     0              17     []         None             None   \n",
       "22490     0               9     []         None             None   \n",
       "\n",
       "      email_matches mention_matches url_matches  \n",
       "0              None            None        None  \n",
       "1              None            None        None  \n",
       "2              None            None        None  \n",
       "3              None            None        None  \n",
       "4              None            None        None  \n",
       "...             ...             ...         ...  \n",
       "22486          None            None        None  \n",
       "22487          None            None        None  \n",
       "22488          None            None        None  \n",
       "22489          None            None        None  \n",
       "22490          None            None        None  \n",
       "\n",
       "[22491 rows x 13 columns]"
      ],
      "text/html": [
       "<div>\n",
       "<style scoped>\n",
       "    .dataframe tbody tr th:only-of-type {\n",
       "        vertical-align: middle;\n",
       "    }\n",
       "\n",
       "    .dataframe tbody tr th {\n",
       "        vertical-align: top;\n",
       "    }\n",
       "\n",
       "    .dataframe thead th {\n",
       "        text-align: right;\n",
       "    }\n",
       "</style>\n",
       "<table border=\"1\" class=\"dataframe\">\n",
       "  <thead>\n",
       "    <tr style=\"text-align: right;\">\n",
       "      <th></th>\n",
       "      <th>User</th>\n",
       "      <th>date</th>\n",
       "      <th>message</th>\n",
       "      <th>platform</th>\n",
       "      <th>type</th>\n",
       "      <th>risk</th>\n",
       "      <th>message_length</th>\n",
       "      <th>emojis</th>\n",
       "      <th>html_matches</th>\n",
       "      <th>markdown_matches</th>\n",
       "      <th>email_matches</th>\n",
       "      <th>mention_matches</th>\n",
       "      <th>url_matches</th>\n",
       "    </tr>\n",
       "  </thead>\n",
       "  <tbody>\n",
       "    <tr>\n",
       "      <th>0</th>\n",
       "      <td>user10040</td>\n",
       "      <td>2021-04-27 22:30:20+01:00</td>\n",
       "      <td>el canal del amigo se llama loco por el trading ?</td>\n",
       "      <td>Telegram</td>\n",
       "      <td>trading</td>\n",
       "      <td>0</td>\n",
       "      <td>11</td>\n",
       "      <td>[]</td>\n",
       "      <td>None</td>\n",
       "      <td>None</td>\n",
       "      <td>None</td>\n",
       "      <td>None</td>\n",
       "      <td>None</td>\n",
       "    </tr>\n",
       "    <tr>\n",
       "      <th>1</th>\n",
       "      <td>user10040</td>\n",
       "      <td>2021-04-28 00:12:59+01:00</td>\n",
       "      <td>hay vivo hoy ?</td>\n",
       "      <td>Telegram</td>\n",
       "      <td>trading</td>\n",
       "      <td>0</td>\n",
       "      <td>4</td>\n",
       "      <td>[]</td>\n",
       "      <td>None</td>\n",
       "      <td>None</td>\n",
       "      <td>None</td>\n",
       "      <td>None</td>\n",
       "      <td>None</td>\n",
       "    </tr>\n",
       "    <tr>\n",
       "      <th>2</th>\n",
       "      <td>user10040</td>\n",
       "      <td>2021-04-29 01:11:42+01:00</td>\n",
       "      <td>eos alguien lo vio ?</td>\n",
       "      <td>Telegram</td>\n",
       "      <td>trading</td>\n",
       "      <td>0</td>\n",
       "      <td>5</td>\n",
       "      <td>[]</td>\n",
       "      <td>None</td>\n",
       "      <td>None</td>\n",
       "      <td>None</td>\n",
       "      <td>None</td>\n",
       "      <td>None</td>\n",
       "    </tr>\n",
       "    <tr>\n",
       "      <th>3</th>\n",
       "      <td>user10040</td>\n",
       "      <td>2021-04-29 02:15:10+01:00</td>\n",
       "      <td>a que hora e el vivo ?</td>\n",
       "      <td>Telegram</td>\n",
       "      <td>trading</td>\n",
       "      <td>0</td>\n",
       "      <td>7</td>\n",
       "      <td>[]</td>\n",
       "      <td>None</td>\n",
       "      <td>None</td>\n",
       "      <td>None</td>\n",
       "      <td>None</td>\n",
       "      <td>None</td>\n",
       "    </tr>\n",
       "    <tr>\n",
       "      <th>4</th>\n",
       "      <td>user10040</td>\n",
       "      <td>2021-04-30 03:13:18+01:00</td>\n",
       "      <td>no arranca vet</td>\n",
       "      <td>Telegram</td>\n",
       "      <td>trading</td>\n",
       "      <td>0</td>\n",
       "      <td>3</td>\n",
       "      <td>[]</td>\n",
       "      <td>None</td>\n",
       "      <td>None</td>\n",
       "      <td>None</td>\n",
       "      <td>None</td>\n",
       "      <td>None</td>\n",
       "    </tr>\n",
       "    <tr>\n",
       "      <th>...</th>\n",
       "      <td>...</td>\n",
       "      <td>...</td>\n",
       "      <td>...</td>\n",
       "      <td>...</td>\n",
       "      <td>...</td>\n",
       "      <td>...</td>\n",
       "      <td>...</td>\n",
       "      <td>...</td>\n",
       "      <td>...</td>\n",
       "      <td>...</td>\n",
       "      <td>...</td>\n",
       "      <td>...</td>\n",
       "      <td>...</td>\n",
       "    </tr>\n",
       "    <tr>\n",
       "      <th>22486</th>\n",
       "      <td>user9984</td>\n",
       "      <td>2022-10-08 01:33:29+01:00</td>\n",
       "      <td>buenas , hoy hay directo ?</td>\n",
       "      <td>Telegram</td>\n",
       "      <td>trading</td>\n",
       "      <td>0</td>\n",
       "      <td>6</td>\n",
       "      <td>[]</td>\n",
       "      <td>None</td>\n",
       "      <td>None</td>\n",
       "      <td>None</td>\n",
       "      <td>None</td>\n",
       "      <td>None</td>\n",
       "    </tr>\n",
       "    <tr>\n",
       "      <th>22487</th>\n",
       "      <td>user9984</td>\n",
       "      <td>2022-10-08 01:52:36+01:00</td>\n",
       "      <td>cara_sonriendo_con_cuernos</td>\n",
       "      <td>Telegram</td>\n",
       "      <td>trading</td>\n",
       "      <td>0</td>\n",
       "      <td>1</td>\n",
       "      <td>[😈]</td>\n",
       "      <td>None</td>\n",
       "      <td>None</td>\n",
       "      <td>None</td>\n",
       "      <td>None</td>\n",
       "      <td>None</td>\n",
       "    </tr>\n",
       "    <tr>\n",
       "      <th>22488</th>\n",
       "      <td>user9984</td>\n",
       "      <td>2022-10-08 02:16:18+01:00</td>\n",
       "      <td>sip</td>\n",
       "      <td>Telegram</td>\n",
       "      <td>trading</td>\n",
       "      <td>0</td>\n",
       "      <td>1</td>\n",
       "      <td>[]</td>\n",
       "      <td>None</td>\n",
       "      <td>None</td>\n",
       "      <td>None</td>\n",
       "      <td>None</td>\n",
       "      <td>None</td>\n",
       "    </tr>\n",
       "    <tr>\n",
       "      <th>22489</th>\n",
       "      <td>user9984</td>\n",
       "      <td>2022-10-08 05:57:06+01:00</td>\n",
       "      <td>jaja si e verdad user 7376 la misma con $ 125 ...</td>\n",
       "      <td>Telegram</td>\n",
       "      <td>trading</td>\n",
       "      <td>0</td>\n",
       "      <td>17</td>\n",
       "      <td>[]</td>\n",
       "      <td>None</td>\n",
       "      <td>None</td>\n",
       "      <td>None</td>\n",
       "      <td>None</td>\n",
       "      <td>None</td>\n",
       "    </tr>\n",
       "    <tr>\n",
       "      <th>22490</th>\n",
       "      <td>user9984</td>\n",
       "      <td>2022-11-02 19:55:16+01:00</td>\n",
       "      <td>y en cuánto tiempo se estabiliza el mercado ?</td>\n",
       "      <td>Telegram</td>\n",
       "      <td>trading</td>\n",
       "      <td>0</td>\n",
       "      <td>9</td>\n",
       "      <td>[]</td>\n",
       "      <td>None</td>\n",
       "      <td>None</td>\n",
       "      <td>None</td>\n",
       "      <td>None</td>\n",
       "      <td>None</td>\n",
       "    </tr>\n",
       "  </tbody>\n",
       "</table>\n",
       "<p>22491 rows × 13 columns</p>\n",
       "</div>"
      ]
     },
     "execution_count": 15,
     "metadata": {},
     "output_type": "execute_result"
    }
   ],
   "execution_count": 15,
   "source": [
    "preprocessor = DatasetColumnTransformer()\n",
    "df = preprocessor.transform_column(df, 'message')\n",
    "df"
   ],
   "id": "643c63e358139da5"
  },
  {
   "metadata": {},
   "cell_type": "markdown",
   "source": "### User distribution by gambling categories",
   "id": "bbd37ca0ffed10ed"
  },
  {
   "metadata": {
    "ExecuteTime": {
     "end_time": "2025-03-28T15:20:00.432279Z",
     "start_time": "2025-03-28T15:20:00.312770Z"
    }
   },
   "cell_type": "code",
   "source": [
    "# Contar la cantidad de usuarios por label\n",
    "user_label_counts = aggregated_df.groupby(\"level\")[\"User\"].nunique()\n",
    "\n",
    "# Create the bar chart\n",
    "plt.figure(figsize=(8, 5))\n",
    "ax = sns.barplot(x=user_label_counts.index, y=user_label_counts.values, palette=\"viridis\")\n",
    "\n",
    "# Add value labels on top of each bar\n",
    "for i, v in enumerate(user_label_counts.values):\n",
    "    ax.text(i, v + 0.5, str(v), ha=\"center\", fontsize=12, fontweight=\"bold\")\n",
    "\n",
    "# Customize the chart\n",
    "plt.xlabel(\"Label\")\n",
    "plt.ylabel(\"Number of Unique Users\")\n",
    "plt.title(\"User Distribution by Label\")\n",
    "plt.xticks(rotation=45)\n",
    "plt.grid(axis=\"y\", linestyle=\"--\", alpha=0.7)\n",
    "\n",
    "# Show the plot\n",
    "plt.show()"
   ],
   "id": "313baa78b7a7e1fa",
   "outputs": [
    {
     "name": "stderr",
     "output_type": "stream",
     "text": [
      "C:\\Users\\jeiso\\AppData\\Local\\Temp\\ipykernel_6496\\3528008352.py:2: FutureWarning: The default of observed=False is deprecated and will be changed to True in a future version of pandas. Pass observed=False to retain current behavior or observed=True to adopt the future default and silence this warning.\n",
      "  user_label_counts = aggregated_df.groupby(\"level\")[\"User\"].nunique()\n",
      "C:\\Users\\jeiso\\AppData\\Local\\Temp\\ipykernel_6496\\3528008352.py:6: FutureWarning: \n",
      "\n",
      "Passing `palette` without assigning `hue` is deprecated and will be removed in v0.14.0. Assign the `x` variable to `hue` and set `legend=False` for the same effect.\n",
      "\n",
      "  ax = sns.barplot(x=user_label_counts.index, y=user_label_counts.values, palette=\"viridis\")\n"
     ]
    },
    {
     "data": {
      "text/plain": [
       "<Figure size 800x500 with 1 Axes>"
      ],
      "image/png": "[encoded data removed]"
     },
     "metadata": {},
     "output_type": "display_data"
    }
   ],
   "execution_count": 17
  },
  {
   "metadata": {},
   "cell_type": "markdown",
   "source": "## Data augmentation",
   "id": "ff590e3efa0192db"
  },
  {
   "metadata": {
    "ExecuteTime": {
     "end_time": "2025-03-28T15:21:59.174681Z",
     "start_time": "2025-03-28T15:21:59.162680Z"
    }
   },
   "cell_type": "code",
   "source": "aggregated_df.drop(columns=['User'], inplace=True)",
   "id": "6f289a055a13052d",
   "outputs": [],
   "execution_count": 18
  },
  {
   "metadata": {
    "ExecuteTime": {
     "end_time": "2025-03-28T15:22:01.006949Z",
     "start_time": "2025-03-28T15:22:00.985953Z"
    }
   },
   "cell_type": "code",
   "source": [
    "df_filtered = aggregated_df.rename(columns={'label': 'label_text'})\n",
    "df_filtered"
   ],
   "id": "fcd6b123ae7b7e73",
   "outputs": [
    {
     "data": {
      "text/plain": [
       "                                               message label_text level\n",
       "0    el canal del amigo se llama loco por el tradin...    trading     0\n",
       "1    ganancia e ganancia chico [SEP] si lo conseguí...    trading     0\n",
       "2    fijate cuanto e el margen en negativo y le agr...    trading     1\n",
       "3    alguna entradita .. ? [SEP] spot está funciona...    trading     0\n",
       "4    voy cargando la escopeta pa longuear alguna mo...    trading     1\n",
       "..                                                 ...        ...   ...\n",
       "345  buenas , saben dónde se podrán ver la órdenes ...    trading     0\n",
       "346  eso e bueno o malo ? [SEP] tarde ? hasta donde...    trading     0\n",
       "347  que hora e el stream de user 12434 [SEP] graci...    trading     0\n",
       "348  hola gente , le hago una consulta : tengo unos...    trading     0\n",
       "349  fuego se acerca [SEP] 0.190346 [SEP] cara_sonr...    trading     0\n",
       "\n",
       "[350 rows x 3 columns]"
      ],
      "text/html": [
       "<div>\n",
       "<style scoped>\n",
       "    .dataframe tbody tr th:only-of-type {\n",
       "        vertical-align: middle;\n",
       "    }\n",
       "\n",
       "    .dataframe tbody tr th {\n",
       "        vertical-align: top;\n",
       "    }\n",
       "\n",
       "    .dataframe thead th {\n",
       "        text-align: right;\n",
       "    }\n",
       "</style>\n",
       "<table border=\"1\" class=\"dataframe\">\n",
       "  <thead>\n",
       "    <tr style=\"text-align: right;\">\n",
       "      <th></th>\n",
       "      <th>message</th>\n",
       "      <th>label_text</th>\n",
       "      <th>level</th>\n",
       "    </tr>\n",
       "  </thead>\n",
       "  <tbody>\n",
       "    <tr>\n",
       "      <th>0</th>\n",
       "      <td>el canal del amigo se llama loco por el tradin...</td>\n",
       "      <td>trading</td>\n",
       "      <td>0</td>\n",
       "    </tr>\n",
       "    <tr>\n",
       "      <th>1</th>\n",
       "      <td>ganancia e ganancia chico [SEP] si lo conseguí...</td>\n",
       "      <td>trading</td>\n",
       "      <td>0</td>\n",
       "    </tr>\n",
       "    <tr>\n",
       "      <th>2</th>\n",
       "      <td>fijate cuanto e el margen en negativo y le agr...</td>\n",
       "      <td>trading</td>\n",
       "      <td>1</td>\n",
       "    </tr>\n",
       "    <tr>\n",
       "      <th>3</th>\n",
       "      <td>alguna entradita .. ? [SEP] spot está funciona...</td>\n",
       "      <td>trading</td>\n",
       "      <td>0</td>\n",
       "    </tr>\n",
       "    <tr>\n",
       "      <th>4</th>\n",
       "      <td>voy cargando la escopeta pa longuear alguna mo...</td>\n",
       "      <td>trading</td>\n",
       "      <td>1</td>\n",
       "    </tr>\n",
       "    <tr>\n",
       "      <th>...</th>\n",
       "      <td>...</td>\n",
       "      <td>...</td>\n",
       "      <td>...</td>\n",
       "    </tr>\n",
       "    <tr>\n",
       "      <th>345</th>\n",
       "      <td>buenas , saben dónde se podrán ver la órdenes ...</td>\n",
       "      <td>trading</td>\n",
       "      <td>0</td>\n",
       "    </tr>\n",
       "    <tr>\n",
       "      <th>346</th>\n",
       "      <td>eso e bueno o malo ? [SEP] tarde ? hasta donde...</td>\n",
       "      <td>trading</td>\n",
       "      <td>0</td>\n",
       "    </tr>\n",
       "    <tr>\n",
       "      <th>347</th>\n",
       "      <td>que hora e el stream de user 12434 [SEP] graci...</td>\n",
       "      <td>trading</td>\n",
       "      <td>0</td>\n",
       "    </tr>\n",
       "    <tr>\n",
       "      <th>348</th>\n",
       "      <td>hola gente , le hago una consulta : tengo unos...</td>\n",
       "      <td>trading</td>\n",
       "      <td>0</td>\n",
       "    </tr>\n",
       "    <tr>\n",
       "      <th>349</th>\n",
       "      <td>fuego se acerca [SEP] 0.190346 [SEP] cara_sonr...</td>\n",
       "      <td>trading</td>\n",
       "      <td>0</td>\n",
       "    </tr>\n",
       "  </tbody>\n",
       "</table>\n",
       "<p>350 rows × 3 columns</p>\n",
       "</div>"
      ]
     },
     "execution_count": 19,
     "metadata": {},
     "output_type": "execute_result"
    }
   ],
   "execution_count": 19
  },
  {
   "metadata": {
    "ExecuteTime": {
     "end_time": "2025-03-28T15:29:07.744837Z",
     "start_time": "2025-03-28T15:29:07.486210Z"
    }
   },
   "cell_type": "code",
   "source": [
    "mapping = {\n",
    "    'betting': 0,\n",
    "    'trading': 1,\n",
    "    'lootboxes': 2,\n",
    "    'onlinegaming': 3\n",
    "}\n",
    "\n",
    "df_filtered['label'] = df_filtered['label_text'].map(mapping)\n",
    "df_filtered.to_excel('dataset_task1.xlsx', index=False)"
   ],
   "id": "ff6c1dd9700a84e9",
   "outputs": [],
   "execution_count": 28
  },
  {
   "metadata": {
    "ExecuteTime": {
     "end_time": "2025-03-28T15:27:18.282316Z",
     "start_time": "2025-03-28T15:27:18.170808Z"
    }
   },
   "cell_type": "code",
   "source": [
    "# Count the number of instances per label\n",
    "label_counts = df_filtered['level'].value_counts()\n",
    "\n",
    "# Plot the data\n",
    "plt.figure(figsize=(10, 6))\n",
    "ax = sns.barplot(x=label_counts.index, y=label_counts.values, palette=\"viridis\")\n",
    "\n",
    "# Add text labels above each bar\n",
    "for i, v in enumerate(label_counts.values):\n",
    "    ax.text(i, v + 1, str(v), ha='center', va='bottom', fontsize=12)\n",
    "\n",
    "plt.xlabel(\"Label\")\n",
    "plt.ylabel(\"Number of Instances\")\n",
    "plt.title(\"Distribution of Instances per Label\")\n",
    "plt.xticks(rotation=45)  # Rotate labels for better visibility if there are many\n",
    "plt.show()"
   ],
   "id": "1573c58b21c970ed",
   "outputs": [
    {
     "name": "stderr",
     "output_type": "stream",
     "text": [
      "C:\\Users\\jeiso\\AppData\\Local\\Temp\\ipykernel_6496\\985504995.py:6: FutureWarning: \n",
      "\n",
      "Passing `palette` without assigning `hue` is deprecated and will be removed in v0.14.0. Assign the `x` variable to `hue` and set `legend=False` for the same effect.\n",
      "\n",
      "  ax = sns.barplot(x=label_counts.index, y=label_counts.values, palette=\"viridis\")\n"
     ]
    },
    {
     "data": {
      "text/plain": [
       "<Figure size 1000x600 with 1 Axes>"
      ],
      "image/png": "[encoded data removed]"
     },
     "metadata": {},
     "output_type": "display_data"
    }
   ],
   "execution_count": 26
  },
  {
   "metadata": {
    "ExecuteTime": {
     "end_time": "2025-03-28T15:27:29.086956Z",
     "start_time": "2025-03-28T15:27:29.065955Z"
    }
   },
   "cell_type": "code",
   "source": "df_filtered",
   "id": "e0901318894f0b4d",
   "outputs": [
    {
     "data": {
      "text/plain": [
       "                                               message label_text level label\n",
       "0    el canal del amigo se llama loco por el tradin...    trading     0     1\n",
       "1    ganancia e ganancia chico [SEP] si lo conseguí...    trading     0     1\n",
       "2    fijate cuanto e el margen en negativo y le agr...    trading     1     1\n",
       "3    alguna entradita .. ? [SEP] spot está funciona...    trading     0     1\n",
       "4    voy cargando la escopeta pa longuear alguna mo...    trading     1     1\n",
       "..                                                 ...        ...   ...   ...\n",
       "345  buenas , saben dónde se podrán ver la órdenes ...    trading     0     1\n",
       "346  eso e bueno o malo ? [SEP] tarde ? hasta donde...    trading     0     1\n",
       "347  que hora e el stream de user 12434 [SEP] graci...    trading     0     1\n",
       "348  hola gente , le hago una consulta : tengo unos...    trading     0     1\n",
       "349  fuego se acerca [SEP] 0.190346 [SEP] cara_sonr...    trading     0     1\n",
       "\n",
       "[350 rows x 4 columns]"
      ],
      "text/html": [
       "<div>\n",
       "<style scoped>\n",
       "    .dataframe tbody tr th:only-of-type {\n",
       "        vertical-align: middle;\n",
       "    }\n",
       "\n",
       "    .dataframe tbody tr th {\n",
       "        vertical-align: top;\n",
       "    }\n",
       "\n",
       "    .dataframe thead th {\n",
       "        text-align: right;\n",
       "    }\n",
       "</style>\n",
       "<table border=\"1\" class=\"dataframe\">\n",
       "  <thead>\n",
       "    <tr style=\"text-align: right;\">\n",
       "      <th></th>\n",
       "      <th>message</th>\n",
       "      <th>label_text</th>\n",
       "      <th>level</th>\n",
       "      <th>label</th>\n",
       "    </tr>\n",
       "  </thead>\n",
       "  <tbody>\n",
       "    <tr>\n",
       "      <th>0</th>\n",
       "      <td>el canal del amigo se llama loco por el tradin...</td>\n",
       "      <td>trading</td>\n",
       "      <td>0</td>\n",
       "      <td>1</td>\n",
       "    </tr>\n",
       "    <tr>\n",
       "      <th>1</th>\n",
       "      <td>ganancia e ganancia chico [SEP] si lo conseguí...</td>\n",
       "      <td>trading</td>\n",
       "      <td>0</td>\n",
       "      <td>1</td>\n",
       "    </tr>\n",
       "    <tr>\n",
       "      <th>2</th>\n",
       "      <td>fijate cuanto e el margen en negativo y le agr...</td>\n",
       "      <td>trading</td>\n",
       "      <td>1</td>\n",
       "      <td>1</td>\n",
       "    </tr>\n",
       "    <tr>\n",
       "      <th>3</th>\n",
       "      <td>alguna entradita .. ? [SEP] spot está funciona...</td>\n",
       "      <td>trading</td>\n",
       "      <td>0</td>\n",
       "      <td>1</td>\n",
       "    </tr>\n",
       "    <tr>\n",
       "      <th>4</th>\n",
       "      <td>voy cargando la escopeta pa longuear alguna mo...</td>\n",
       "      <td>trading</td>\n",
       "      <td>1</td>\n",
       "      <td>1</td>\n",
       "    </tr>\n",
       "    <tr>\n",
       "      <th>...</th>\n",
       "      <td>...</td>\n",
       "      <td>...</td>\n",
       "      <td>...</td>\n",
       "      <td>...</td>\n",
       "    </tr>\n",
       "    <tr>\n",
       "      <th>345</th>\n",
       "      <td>buenas , saben dónde se podrán ver la órdenes ...</td>\n",
       "      <td>trading</td>\n",
       "      <td>0</td>\n",
       "      <td>1</td>\n",
       "    </tr>\n",
       "    <tr>\n",
       "      <th>346</th>\n",
       "      <td>eso e bueno o malo ? [SEP] tarde ? hasta donde...</td>\n",
       "      <td>trading</td>\n",
       "      <td>0</td>\n",
       "      <td>1</td>\n",
       "    </tr>\n",
       "    <tr>\n",
       "      <th>347</th>\n",
       "      <td>que hora e el stream de user 12434 [SEP] graci...</td>\n",
       "      <td>trading</td>\n",
       "      <td>0</td>\n",
       "      <td>1</td>\n",
       "    </tr>\n",
       "    <tr>\n",
       "      <th>348</th>\n",
       "      <td>hola gente , le hago una consulta : tengo unos...</td>\n",
       "      <td>trading</td>\n",
       "      <td>0</td>\n",
       "      <td>1</td>\n",
       "    </tr>\n",
       "    <tr>\n",
       "      <th>349</th>\n",
       "      <td>fuego se acerca [SEP] 0.190346 [SEP] cara_sonr...</td>\n",
       "      <td>trading</td>\n",
       "      <td>0</td>\n",
       "      <td>1</td>\n",
       "    </tr>\n",
       "  </tbody>\n",
       "</table>\n",
       "<p>350 rows × 4 columns</p>\n",
       "</div>"
      ]
     },
     "execution_count": 27,
     "metadata": {},
     "output_type": "execute_result"
    }
   ],
   "execution_count": 27
  }
 ],
 "metadata": {
  "kernelspec": {
   "display_name": "Python 3",
   "language": "python",
   "name": "python3"
  },
  "language_info": {
   "codemirror_mode": {
    "name": "ipython",
    "version": 2
   },
   "file_extension": ".py",
   "mimetype": "text/x-python",
   "name": "python",
   "nbconvert_exporter": "python",
   "pygments_lexer": "ipython2",
   "version": "2.7.6"
  }
 },
 "nbformat": 4,
 "nbformat_minor": 5
}
