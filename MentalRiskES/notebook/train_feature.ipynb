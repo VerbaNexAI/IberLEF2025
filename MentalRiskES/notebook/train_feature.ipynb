{
 "cells": [
  {
   "metadata": {
    "ExecuteTime": {
     "end_time": "2025-04-09T04:58:04.853934Z",
     "start_time": "2025-04-09T04:58:04.842934Z"
    }
   },
   "cell_type": "code",
   "source": [
    "import sys\n",
    "import os\n",
    "\n",
    "# Obtener la ruta absoluta del directorio base usando rutas relativas\n",
    "BASE_DIR = os.path.abspath(os.path.join(os.getcwd(), \"..\", \"src\"))\n",
    "\n",
    "# Agregar `src` a sys.path para que los imports funcionen\n",
    "if BASE_DIR not in sys.path:\n",
    "    sys.path.append(BASE_DIR)\n",
    "\n",
    "print(BASE_DIR)"
   ],
   "id": "640479f7ad33320f",
   "outputs": [
    {
     "name": "stdout",
     "output_type": "stream",
     "text": [
      "C:\\Users\\jeiso\\Documents\\Maestria\\Semestre #1\\NLP\\IberLEF2025\\MentalRiskES\\src\n"
     ]
    }
   ],
   "execution_count": 1
  },
  {
   "metadata": {
    "ExecuteTime": {
     "end_time": "2025-04-09T04:58:26.109847Z",
     "start_time": "2025-04-09T04:58:05.155478Z"
    }
   },
   "cell_type": "code",
   "source": [
    "import os\n",
    "import torch\n",
    "import pandas as pd\n",
    "import numpy as np\n",
    "from collections import Counter\n",
    "from imblearn.over_sampling import RandomOverSampler\n",
    "from transformers import LongformerTokenizer, LongformerModel, AutoTokenizer, AutoModel\n",
    "from text_processing import TextProcessing\n",
    "from feature_extraction import FeatureExtraction\n",
    "from pycaret.classification import *\n",
    "\n",
    "device = torch.device(\"cuda\" if torch.cuda.is_available() else \"cpu\")\n",
    "device"
   ],
   "id": "7b44265e7c7dfb94",
   "outputs": [
    {
     "data": {
      "text/plain": [
       "device(type='cpu')"
      ]
     },
     "execution_count": 2,
     "metadata": {},
     "output_type": "execute_result"
    }
   ],
   "execution_count": 2
  },
  {
   "metadata": {
    "ExecuteTime": {
     "end_time": "2025-04-09T04:58:26.125356Z",
     "start_time": "2025-04-09T04:58:26.118356Z"
    }
   },
   "cell_type": "code",
   "source": [
    "# Get the root directory of the project (assuming the notebook is inside \"notebook/\")\n",
    "notebook_dir = os.getcwd()  # Gets the current working directory\n",
    "project_root = os.path.abspath(os.path.join(notebook_dir, \"..\"))  # Moves one level up\n",
    "project_root"
   ],
   "id": "569bb7562a820805",
   "outputs": [
    {
     "data": {
      "text/plain": [
       "'C:\\\\Users\\\\jeiso\\\\Documents\\\\Maestria\\\\Semestre #1\\\\NLP\\\\IberLEF2025\\\\MentalRiskES'"
      ]
     },
     "execution_count": 3,
     "metadata": {},
     "output_type": "execute_result"
    }
   ],
   "execution_count": 3
  },
  {
   "metadata": {
    "ExecuteTime": {
     "end_time": "2025-04-09T04:58:26.330289Z",
     "start_time": "2025-04-09T04:58:26.142885Z"
    }
   },
   "cell_type": "code",
   "source": [
    "path_dataset = os.path.join(project_root, \"data\", \"dataset_task2.xlsx\")\n",
    "dataset = pd.read_excel(path_dataset)\n",
    "dataset['message'] = dataset['message'].fillna(\"\").astype(str)\n",
    "dataset.head()"
   ],
   "id": "d58c34f03b0a120c",
   "outputs": [
    {
     "data": {
      "text/plain": [
       "                                             message label_text  level  label\n",
       "0  el canal del amigo se llama loco por el tradin...    trading      0      1\n",
       "1  ganancia e ganancia chico [SEP] si lo conseguí...    trading      0      1\n",
       "2  fijate cuanto e el margen en negativo y le agr...    trading      1      1\n",
       "3  alguna entradita .. ? [SEP] spot está funciona...    trading      0      1\n",
       "4  voy cargando la escopeta pa longuear alguna mo...    trading      1      1"
      ],
      "text/html": [
       "<div>\n",
       "<style scoped>\n",
       "    .dataframe tbody tr th:only-of-type {\n",
       "        vertical-align: middle;\n",
       "    }\n",
       "\n",
       "    .dataframe tbody tr th {\n",
       "        vertical-align: top;\n",
       "    }\n",
       "\n",
       "    .dataframe thead th {\n",
       "        text-align: right;\n",
       "    }\n",
       "</style>\n",
       "<table border=\"1\" class=\"dataframe\">\n",
       "  <thead>\n",
       "    <tr style=\"text-align: right;\">\n",
       "      <th></th>\n",
       "      <th>message</th>\n",
       "      <th>label_text</th>\n",
       "      <th>level</th>\n",
       "      <th>label</th>\n",
       "    </tr>\n",
       "  </thead>\n",
       "  <tbody>\n",
       "    <tr>\n",
       "      <th>0</th>\n",
       "      <td>el canal del amigo se llama loco por el tradin...</td>\n",
       "      <td>trading</td>\n",
       "      <td>0</td>\n",
       "      <td>1</td>\n",
       "    </tr>\n",
       "    <tr>\n",
       "      <th>1</th>\n",
       "      <td>ganancia e ganancia chico [SEP] si lo conseguí...</td>\n",
       "      <td>trading</td>\n",
       "      <td>0</td>\n",
       "      <td>1</td>\n",
       "    </tr>\n",
       "    <tr>\n",
       "      <th>2</th>\n",
       "      <td>fijate cuanto e el margen en negativo y le agr...</td>\n",
       "      <td>trading</td>\n",
       "      <td>1</td>\n",
       "      <td>1</td>\n",
       "    </tr>\n",
       "    <tr>\n",
       "      <th>3</th>\n",
       "      <td>alguna entradita .. ? [SEP] spot está funciona...</td>\n",
       "      <td>trading</td>\n",
       "      <td>0</td>\n",
       "      <td>1</td>\n",
       "    </tr>\n",
       "    <tr>\n",
       "      <th>4</th>\n",
       "      <td>voy cargando la escopeta pa longuear alguna mo...</td>\n",
       "      <td>trading</td>\n",
       "      <td>1</td>\n",
       "      <td>1</td>\n",
       "    </tr>\n",
       "  </tbody>\n",
       "</table>\n",
       "</div>"
      ]
     },
     "execution_count": 4,
     "metadata": {},
     "output_type": "execute_result"
    }
   ],
   "execution_count": 4
  },
  {
   "metadata": {
    "ExecuteTime": {
     "end_time": "2025-04-09T04:58:26.393163Z",
     "start_time": "2025-04-09T04:58:26.378921Z"
    }
   },
   "cell_type": "code",
   "source": [
    "x_task1 = dataset['message']\n",
    "y_task1 = dataset['level']"
   ],
   "id": "9411265363ebaf8e",
   "outputs": [],
   "execution_count": 5
  },
  {
   "metadata": {
    "ExecuteTime": {
     "end_time": "2025-04-09T04:58:27.346706Z",
     "start_time": "2025-04-09T04:58:26.440838Z"
    }
   },
   "cell_type": "code",
   "source": [
    "# load model and tokenizer\n",
    "\n",
    "# Longformer\n",
    "#model_name = \"PlanTL-GOB-ES/longformer-base-4096-bne-es\"\n",
    "#tokenizer = LongformerTokenizer.from_pretrained(model_name)\n",
    "#model = LongformerModel.from_pretrained(model_name).to(device)\n",
    "\n",
    "# BETO\n",
    "model_name = \"dccuchile/bert-base-spanish-wwm-cased\"\n",
    "tokenizer = AutoTokenizer.from_pretrained(model_name)\n",
    "model = AutoModel.from_pretrained(model_name).to(device)"
   ],
   "id": "28a3f10229657958",
   "outputs": [
    {
     "name": "stderr",
     "output_type": "stream",
     "text": [
      "Some weights of BertModel were not initialized from the model checkpoint at dccuchile/bert-base-spanish-wwm-cased and are newly initialized: ['bert.pooler.dense.bias', 'bert.pooler.dense.weight']\n",
      "You should probably TRAIN this model on a down-stream task to be able to use it for predictions and inference.\n"
     ]
    }
   ],
   "execution_count": 6
  },
  {
   "metadata": {
    "ExecuteTime": {
     "end_time": "2025-04-09T04:59:53.501134Z",
     "start_time": "2025-04-09T04:58:27.358220Z"
    }
   },
   "cell_type": "code",
   "source": [
    "def get_embedding(text):\n",
    "    inputs = tokenizer(\n",
    "        text,\n",
    "        return_tensors=\"pt\",\n",
    "        truncation=True,\n",
    "        padding=\"max_length\",\n",
    "        max_length=512\n",
    "    )\n",
    "    # Mover los tensores de entrada a GPU\n",
    "    inputs = {k: v.to(device) for k, v in inputs.items()}\n",
    "    with torch.no_grad():\n",
    "        outputs = model(**inputs)\n",
    "    # Convertir los resultados a CPU para trabajar con numpy\n",
    "    return outputs.last_hidden_state.mean(dim=1).squeeze().cpu().numpy()\n",
    "\n",
    "\n",
    "# Aplicamos la función a todos los mensajes\n",
    "x_task1_beto = np.array([get_embedding(text) for text in x_task1])\n",
    "x_task1_beto"
   ],
   "id": "4c05477ed49c3b47",
   "outputs": [
    {
     "data": {
      "text/plain": [
       "array([[-0.09902813, -0.15904334, -0.30138153, ..., -0.33458328,\n",
       "         0.2695182 ,  0.22862685],\n",
       "       [-0.14719549, -0.1112902 , -0.16692387, ..., -0.23385125,\n",
       "         0.05203149,  0.10748015],\n",
       "       [-0.1551729 , -0.03288925, -0.22002526, ..., -0.17964064,\n",
       "         0.0976115 ,  0.19014117],\n",
       "       ...,\n",
       "       [ 0.13345632, -0.08678578, -0.04402681, ..., -0.30821866,\n",
       "         0.23617628, -0.03853274],\n",
       "       [ 0.2602157 ,  0.07340417,  0.06921416, ..., -0.2064684 ,\n",
       "         0.52956724,  0.15044431],\n",
       "       [-0.22404031,  0.09983473, -0.14697447, ..., -0.11260161,\n",
       "         0.27668977,  0.23247115]], dtype=float32)"
      ]
     },
     "execution_count": 7,
     "metadata": {},
     "output_type": "execute_result"
    }
   ],
   "execution_count": 7
  },
  {
   "metadata": {
    "ExecuteTime": {
     "end_time": "2025-04-09T04:59:53.642110Z",
     "start_time": "2025-04-09T04:59:53.580600Z"
    }
   },
   "cell_type": "code",
   "source": [
    "path_dataset_feature = os.path.join(project_root, \"data\", \"dataset_task1.xlsx\")\n",
    "dataset_feature = pd.read_excel(path_dataset)\n",
    "dataset_feature['message'] = dataset_feature['message'].fillna(\"\").astype(str)\n",
    "dataset_feature.head()"
   ],
   "id": "59428497c3994b6c",
   "outputs": [
    {
     "data": {
      "text/plain": [
       "                                                                                                                                                                                                                                                                                                                                                                                                                                                                                                                                                                                                                                                                                                                                                                                                                                                                                                                                                                                                                                                                                                                                                                                                                                                                                                                                                                                                                                                                                                                                                                                                                                                                                                                                                                                                                                                                                                                                                                                                                                                                                                                                                                                                                                                                                                                                                                                                                                                                                                                                                                                                                                                                                                                                                                                                                                                                                                                                                                                                                                                                                                                                                                                                                                                                                                                                                                                                                                                                                                                                                                                                                                                                                                                                                                                                                                                                                                                                                                                                                                                                                                                                                                                                                                                                                                                                                                                                                                                                                                                                                                                                                                                                                                                                                                                                                                                                                                                                                                                                                                                                                                                                                                                                                                                                                                                                                                                                                             message  \\\n",
       "0                                                                                                                                                                                                                                                                                                                                                                                                                                                                                                                                                                                                                                                                                                                                                                                                                                                                                                                                                                                                                                                                                                                                                                                                                                                                                                                                                                                                                                                                                                                                                                                                                                                                                                                                                                                                                                                                                                                                                                                                                                                                                                                                                                                                                                                                                                                                                                                                                                                                                                                                                                                                                                                                                                                                                                                                                                                                                                                                                                                                                                                                                                                                                                                                                                                                                                                                      el canal del amigo se llama loco por el trading ? [SEP] hay vivo hoy ? [SEP] eos alguien lo vio ? [SEP] a que hora e el vivo ? [SEP] no arranca vet [SEP] pense que iba [SEP] puede caer hasta 0.14520 y de ahi subir [SEP] no hay vivo hoy ? [SEP] hay vivo [SEP] yo dot [SEP] yo sigo dot [SEP] soplen [SEP] y hay que ver [SEP] no hay vivo ? [SEP] que onda ? [SEP] ini_hashtag sorteocupoft end_hashtag [SEP] f hombro cabeza hombro ? [SEP] buenaaaa [SEP] q paso avax [SEP] btc [SEP] bnb [SEP] atom precio entrada [SEP] luna tb [SEP] la mande temprano [SEP] short a precio entrada mande temprano [SEP] no hay drama user 14042 estamos para ayudar [SEP] si atom y luna entre ma temprano puse sl en cero [SEP] no ya no la entrada era más arriba [SEP] igual te recomiendo x 5 u primero tratar de estudiar [SEP] yo por hoy nada más esperando que btc salga del rango [SEP] user 7456 está en rango btc en una zona crítica ver para dónde sale [SEP] se dio btc [SEP] naaa e bajista espera retroceso [SEP] luna short [SEP] sin fuerza sigo en short [SEP] luna la que mande hoy [SEP] luna llego tp1 [SEP] por ahora está bajista btc no hay que operar contra tendencia [SEP] un poco más debería caer pero hay que seguir el precio . impulso reteoceso [SEP] yo le di short ya lo mostré más arriba [SEP] yo le mandé short btc y luna [SEP] lo mande más arriba [SEP] buscalo más arriba borja [SEP] va queriendo [SEP] esta para abajo todavia [SEP] luna [SEP] si fíjate en el gráfico e hasta lo verde [SEP] no entendí user 8982 [SEP] no lo miro al de trading latino [SEP] luna [SEP] btc [SEP] btc [SEP] de nada borja [SEP] muy bueno [SEP] espero seguir alguna entrada tuya [SEP] buena user 11422 [SEP] yo me jugaba por short [SEP] porque long en luna ? [SEP] entraste muy abajo [SEP] y cuando para ? [SEP] estaría bueno aprender [SEP] yo [SEP] aislado te opera solo los usdt que tengas en la moneda en cruzado te puede liquidar toda la cuenta [SEP] atom [SEP] long pero ya paso la entrada [SEP] atom [SEP] jaja va a subir amigo [SEP] eth 8 %   \n",
       "1                                                                                                                                                                                                                                                                                                                                                                                                                                                                                                                                                                                                                                                                                                                                                                                                                                                                                                                                                                                                                                                                                                                                                                                                                                                                                                                                                                                                                                                                                                                                                                                                                                                                                                                                                                                                                                                                                                                                                                                                                                                                                                                                                                                                                                                                                                                                                        ganancia e ganancia chico [SEP] si lo conseguís pásalo pls [SEP] alguno sabe porque no me salen los graficos en la pestaña de futuros en binance ? nose si toque algo o que [SEP] hay vivo hoy ? [SEP] cerramos vet ? ? [SEP] amigo nadie te.obliga a entrar [SEP] que dicen de 1inch rompió lo que dijo user 8118 hoy en el vivo [SEP] creo que 1inch está en una buena zona de compra aunque se muy poco todavía [SEP] míralo en tradinview y según la temporalidad te sale el conteo de la vela [SEP] quien más está aguantando vet ? [SEP] si señor jajaj nose hasta donde aguantar [SEP] somos 2 [SEP] cuál e tu tp ? [SEP] okk yo igual [SEP] yo si [SEP] le tengo fe a vet [SEP] ahora mismo está en precio de compra [SEP] cerraste ? ? [SEP] vet vet vet [SEP] tengo la misma duda [SEP] si , a la 21hs [SEP] 0.14600 [SEP] mmm nose q hacer con one ahora [SEP] yo igual en negativo pero la voy a dejar [SEP] limite [SEP] alguna moneda que este para.comprar y hold ? [SEP] que tal sol [SEP] x2 [SEP] sangre sangre quiero más sangre [SEP] alguna que recomienden para spot ? [SEP] te estaremos agradecidos [SEP] se supone que si [SEP] una pregunta medium bruta , binance te.cobra algo por ir moviendo el stop loss en una ? [SEP] está para entrar bat ? [SEP] tp y sl bat pls [SEP] vendieron bat ? [SEP] alguien esperando matic ? [SEP] entraron ? [SEP] recomiendan comprar bake ahora para spot ? [SEP] alguien en etc ? [SEP] que sl y tp pusieron en etc ? [SEP] tp de trx ? [SEP] alguien sigue en trx ? ? [SEP] seguro sube ya que llegó a binance [SEP] ta loco [SEP] sube 1inch ? [SEP] tp de sol ? [SEP] tp 1inch ? [SEP] opa gracias ! [SEP] se fue link ? retesteaaa [SEP] quien entro en el retesteo de link ? tp ? [SEP] en cuanto esperas a cake ? [SEP] eso [SEP] alguien sabe cuando sortea los cursos user 12434 ? [SEP] anoche estaba 164 [SEP] user 7650 a btc ? o cuál será la o la elegidas [SEP] no dijo nunca eso [SEP] uhh no me digas jajaj yo también estoy esperando el sorteo [SEP] que dicen del usdt en p2p en binance , bajara ? alguien compro ? [SEP] estoy pensando si comprar usdt a 173 y comprar btc o esperar , que recomiendan ? [SEP] user 7412 dijo que va a tomar ganancias enntre 47 50 [SEP] si baja e mejor comprar en 35 o puede tocar los 30 devuelta ? [SEP] jajajaja [SEP] que ganas de comprar con los 200 usdt del.curso [SEP] compren en pánico y vendan en euforia lo dijo arielsan [SEP] user 15197 que dice [SEP] igual sigo esperando [SEP] alguien ya pagó el curso ? [SEP] jajajaja [SEP] alguien se metió a matic devuelta ? [SEP] dió entrada btc o falta un toque ? [SEP] ni se movió luna [SEP] en h4 lo veo en un retroceso , para mí rebota en 39 [SEP] a ventas ? [SEP] ya empezaron a comprar en spot ? [SEP] btc están comprando o alguna otra ? [SEP] jajajajjaj [SEP] capaz se mete devuelta a la estructura [SEP] ese user 13300 tambien me hablo ante de que empieze el de junio y lo bloquee [SEP] fuente de agua [SEP] ta loco [SEP] ini_hashtag sorteocupo ft end_hashtag   \n",
       "2                                                                                                                                                                                                                                                                                                                                                                                                                                                                                                                                                                                                                                                                                                                                                                                                                                                                                                                                                                                                                                                                                                                                                                                                                                                                                                                                                                                                                   fijate cuanto e el margen en negativo y le agregas y luego si se cierra [SEP] tambien [SEP] dai [SEP] cara_con_ceja_alzada [SEP] 1.7807 creo [SEP] ya se arreglo [SEP] tradingview [SEP] paper trading en trading view [SEP] en tw se ponen ordenes y demas esta muy bueno , sino bing x [SEP] yo lanus mi casa , desde el 98 vivo en formosa [SEP] granate [SEP] si [SEP] gracias [ USER ] [SEP] feliz navidad [SEP] foto de hno . user 7362 gomez [SEP] apenas bajo y ya se desplomo ? [SEP] scam [SEP] a mi me llgan hasta de exodous y no tengo [SEP] ya paso , pero hay mucha indecision ojota [SEP] seee [SEP] cara_con_ansiedad_y_sudor [SEP] 32.698 aprox . siempre rechaza hace meses osea esa zona [SEP] para donde explotara ? ? ? [SEP] g [SEP] la verdad no me gusta , e muy lento su movimiento . estoy usando un dinero de un bono que me dieron para incentivar a tradear alli pero no me gusta . en cuanto a la comisiones no me he fijado aun [SEP] e piano ... nooo , e eternal ... noooo . e super bitcoin ! ! ! [SEP] 39 amigo 39 [SEP] otla vezl aloz [SEP] que e el traiding ? , ni para escribir ese chanta , el doctor chapatin de la criptos jajaja [SEP] preparen esos shorizos cara_revolviéndose_de_la_risa cara_revolviéndose_de_la_risa cara_revolviéndose_de_la_risa [SEP] el bart diario [SEP] o te va a una cueva blue [SEP] sin trazabilidad [SEP] y asi para retirar tambien , si son montos significativos para los ladrones de afip [SEP] ma de 150 usd [SEP] cuevita [SEP] yo lleve peso y me acreditaron usdt [SEP] con dolares lo mismo e [SEP] pero 0 trazabilidad [SEP] si [SEP] ojo [SEP] nada que tenga data fiscal abajo de la pagina [SEP] eso [SEP] en persona si o si [SEP] face to face [SEP] mi hogar durante muuuchos años [SEP] estimado / a binancian : el 11 de marzo de 2022 , la red polygon ( matic ) comenzó a experimentar problemas en toda la red . como consecuencia , los depósitos y retiros en binance a través de la red polygon ( matic ) se interrumpieron temporalmente . binance está en contacto con la red polygon ( matic ) para ayudar a resolver la situación . binance rehabilitará los depósitos y retiros a través de la red polygon ( matic ) una vez que estime que la red e estable . no se harán nuevos anuncios indicado esto . [SEP] algun fundamental para zrx ? esta que trina [SEP] muchas gracias [SEP] estamos al horno cara_revolviéndose_de_la_risa cara_revolviéndose_de_la_risa cara_revolviéndose_de_la_risa [SEP] cositorto e nakamoto [SEP] ust el nuevo peso argentino ? [SEP] el sol sale para todos , por eso modo avestruz activado [SEP] no e mio xd [SEP] no e mio pero hay de ese muchacho [SEP] aun asi hay ordenes de compra [SEP] por eso ojo [SEP] long al peso argentino cruzado 125x ? [SEP] perdon fue sin querer [SEP] siguen en matic ? [SEP] mi stp 1.008 [SEP] yo [SEP] oso [SEP] mi stp esta 1.008 la liq en 5.85 [SEP] entrada 0.9625 [SEP] por que ? [SEP] diversifica [SEP] la malas decisiones queman cuentas , y esfuman tus ahorros e inversiones . mantener la calma e ir [SEP] listo [SEP] cz los va a mandar al frente a todos [SEP] correcto [SEP] coincido [SEP] otravesopa [SEP] dia del fiboen muchas formas de la naturaleza podemos encontrar la sucesión de fibonacci . el 23 de noviembre se celebra el día mundial de fibonacci en honor al matemático italiano user 8081 de pisa , también conocido con el nombre de fibonacci . además de introducir el sistema decimal en europa , hoy se le recuerda por ser el descubridor de una secuencia numérica que representa la misma belleza : la sucesión de fibonacci.la sucesión de fibonacci e una secuencia de números que resultan al sumar los do anteriores a ese . empezando desde 0 , tenemos la siguiente : 0 , 1 , 1 , 2 , 3 , 5 , 8 , 13 , 21 , 34 , 55 ... y así sucesivamente.se eligió la fecha del 23 de noviembre porque corresponde a los primeros dígitos de la sucesión en escritura anglosajona 11/23 .   \n",
       "3                                                                                                                                                                                                                                                                                                                                                                                                                                                                                                                                                                                                                                                                                                                                                                                                                                                                                                                                                                                                                                                                                                                                                                                                                                                                                                                                                                                                                                                                                                                                                                                                                                                                                                                                                                                                                                                                                                                                                                                                                                                                                                                                                                                                                                                                                                                                                                                                                                                                                                                                                                                                                                                                                                                                                                                                                                                                                                                                                                                                                                                                                                                                                                                                                                                 alguna entradita .. ? [SEP] spot está funcionando ? [SEP] / p dogecoin [SEP] que lo baneen dice ajaj [SEP] yo ? [SEP] y bien rápido .. [SEP] ojo ojo [SEP] buendía sapo pepe aki con un ojo abierto y el otro cerrado cara_llorando_de_risa [SEP] me a pasado cara_llorando_de_risa [SEP] esto no está permitido [SEP] alguna entradita [SEP] cara_desanimada [SEP] banea 3 [SEP] puede llegar a 35 [SEP] también depende de lo que comenten dichos famosos y con demandas ideograma_japonés_para_gratis [SEP] tiene más pinta de bajar que de subir [SEP] corazón_rojo [SEP] wtf me mareo jaaj [SEP] buen planteamiento con sus pro y contra cara_sonriente [SEP] pal cielo cara_radiante_con_ojos_sonrientes [SEP] hay en vivo hoy ? [SEP] matic agarrando buen volumen [SEP] a esperar si baja o se sostiene de los 1.36 [SEP] si matic rompo los 1.40 vamos a los 1.51 billete_de_dólar cara_con_lengua_de_dinero cara_con_lengua_de_dinero [SEP] eso dije cara_con_ojos_en_blanco cara_con_ojos_en_blanco cara_con_ojos_en_blanco hace medium hora [SEP] cara_con_ojos_en_blanco a ki está [SEP] e en usd [SEP] matic no paso los 1.41 posible bajada hasta la 1.34 [SEP] creo que para vender o para enviar a p2p tiene que ser en usd [SEP] serio entonces este año me voy a argentina a ver si consigo trabajo [SEP] con los ojos : v [SEP] y ese velón de btc [SEP] lul [SEP] wtf [SEP] short en ada ? [SEP] no salgas hay volúmen ... [SEP] uff fue fomo crítico men : c [SEP] no amigo aguantaaaaaa a qué va ? [SEP] btc va pa 39 y se lleva algunas [SEP] x4 [SEP] se salió [SEP] si va a topar base para bajar [SEP] 1.5250 [SEP] pero no da bola a btc [SEP] la verdad let me para mí e mejor . pagas con los puntos que te user 15930 por hacer traiding [SEP] va a subir un poco no te asustes cara_de_loco [SEP] cuanto de perdida el tp ? [SEP] perdón el sl [SEP] uff casi 1.5641 puede tocar [SEP] si ahora está con btc ojalá que apolle cara_con_ojos_en_blanco [SEP] me huele a bandera alista btc [SEP] nu me cerró cara_con_ojos_en_blanco cara_de_confusión [SEP] hay entrada en ada ? [SEP] alguien sabe que le pasó a titan ? [SEP] trx short [SEP] x2   \n",
       "4  voy cargando la escopeta pa longuear alguna monedilla [SEP] todavía no [SEP] esto está más aburrido [SEP] falta mucho para que entren los chino ? [SEP] por señales de facu ? [SEP] compartí ahora pulgar_hacia_arriba [SEP] y compartilos ahora . igual te van a banear cuando lean esto cara_llorando_de_risa [SEP] sacate la papa de la boca [SEP] se picó la clande [SEP] cara_llorando_de_risa cara_llorando_de_risa cara_llorando_de_risa [SEP] screenshot ( 6 mar . 2022 20:03 : 38 ) [SEP] la paciencia cara_sonriendo_con_sudor_frío [SEP] divino ! manos_aplaudiendo manos_aplaudiendo [SEP] screenshot ( 6 mar . 2022 20:22 : 39 ) [SEP] cerrada lunitaa cara_sonriendo_con_ojos_de_corazón [SEP] mono_con_los_ojos_tapados [SEP] un short en 38k e lo mismo que ir al casino cara_llorando_de_risa [SEP] recuperar que ? [SEP] si no entra una ballena generosa en los próximos minutos btc se pega un palo [SEP] vamoooo mañana se come cara_sonriendo_con_ojos_de_corazón [SEP] de proyectos no se absolutamente nada cara_feliz_con_ojos_sonrientes solo tradeo cualquier cosa que se mueva cara_llorando_de_risa [SEP] cara_llorando_de_risa cara_llorando_de_risa cara_llorando_de_risa manos_aplaudiendo manos_aplaudiendo [SEP] 4 k en un trade ? mierda ! ! que haces acá hermano [SEP] anoche no estaban meta long todos ? [SEP] yo vi que subian longs a do manos .. pero no recuerdo si era a anoche o el viernes [SEP] el miedo mueve más que el fomo [SEP] seguro . esta semana más tardar [SEP] screenshot ( 7 mar . 2022 0:35 : 57 ) . vamooooo que se comeeeee [SEP] siguiendo a btc [SEP] estaba long , cerré y ahora veremos si hice bien o me largo a llorar [SEP] vamos lunita mí amor [SEP] yes [SEP] dale facu . compra btc así pumpea cara_llorando_de_risa [SEP] espero que suba mucho . quiero platita [SEP] hoy se come cara_sonriendo_con_gafas_de_sol cara_sonriendo_con_gafas_de_sol cara_sonriendo_con_gafas_de_sol [SEP] se comeeeeee cara_sonriendo_con_gafas_de_sol cara_sonriendo_con_gafas_de_sol [SEP] seee . no toco más nada hasta mañana [SEP] apagó la compu para no cagarla cara_llorando_de_risa cara_llorando_de_risa [SEP] cara_llorando_de_risa de una [SEP] y ahora pabajoo cara_sonriendo_con_sudor_frío cara_sonriendo_con_sudor_frío [SEP] siempre sin ... estoy cansado de ella mechazos [SEP] cara_llorando_de_risa cara_llorando_de_risa [SEP] cerrada cara_sonriendo_con_gafas_de_sol cara_sonriendo_con_gafas_de_sol [SEP] hace años que trabajo así . prefiero el stop manual [SEP] en historial [SEP] claro ... son formas . no pongo stop peor estoy con el ojo en la pantalla cuando opero . [SEP] ahhh si el porcentaje creo que no se puede . solo con a operación abierta [SEP] ojalá bro [SEP] acusalo con tu mamá kikooo [SEP] screenshot ( 8 mar . 2022 14:16 : 28 ) te amo biden cara_sonriendo_con_ojos_de_corazón cara_sonriendo_con_ojos_de_corazón cara_sonriendo_con_ojos_de_corazón [SEP] gracia amigo [SEP] yes . argento [SEP] habló biden [SEP] cerrado cara_sonriendo_con_gafas_de_sol cara_sonriendo_con_gafas_de_sol cara_sonriendo_con_gafas_de_sol se come [SEP] el cierre o la entradas ? [SEP] estabab toda en suporte y biden terminó el discurso diciendo que no hará nada con la guerra . regaladas [SEP] gracias bro [SEP] parece que no piensa retroceder hombre_encogido_de_hombros_tono_de_piel_claro habrá que esperar [SEP] todo el día haciendo plata y en esta subía no metí ni un long cara_revolviéndose_de_la_risa cara_revolviéndose_de_la_risa cara_revolviéndose_de_la_risa [SEP] btc mete liquidaciones a la baja y luego cohete cohete cohete [SEP] primero debería buscar los 42600 . si rompe , a los 44000 [SEP] cuál triángulo ? [SEP] lunita se paga el asado cara_sonriendo_con_ojos_de_corazón cara_sonriendo_con_ojos_de_corazón [SEP] si , justo ahí por qué está a próxima a la línea de tendencia que había roto . y no me animé a long [SEP] se comeeeeeeee cara_sonriendo_con_gafas_de_sol cara_sonriendo_con_gafas_de_sol cara_sonriendo_con_gafas_de_sol [SEP] hoy se comió gracias a powel [SEP] user 9092 - london capital group [SEP] se come cara_sonriendo_con_gafas_de_sol [SEP] mañana se come asado [SEP] comparto mí felicidad como el grupo . cómo hacen todos cara_sonrojada [SEP] ya dijo [SEP] justo estaba por cerrar la operaciones cara_cabreada cara_cabreada cara_cabreada [SEP] yo no [SEP] rezar [SEP] depende directamente de la tendencia ... en tendencia bajista te user 15930 más resultados los short y viceversa [SEP] buenas gente . alguien de acá utiliza paxuful ? [SEP] paxful era . jaja [SEP] buenas gente . una pregunta bien de ignorante . alguien de acá utilizó el bono de bienvenida de huobi ? e real eso ? e tan fácil como dicen ? [SEP] ah ... que truchada [SEP] sobrevivir [SEP] claro . depende donde y que tipo de vida . yo con 300 al me muero de angustia [SEP] ni a palos . cunado compraste pan por última vez ? [SEP] acá en mí barrio 300 para arriba [SEP] no sé dónde viven ustedes o que comen . pero yo acá en zona norte de b a . con 300 dolares por me solo me alcanza para comer . y ahí ajustado [SEP] tus hijos no serán compañeros de los míos no ? cara_llorando_de_risa cara_llorando_de_risa cara_llorando_de_risa ami con 300 tampoco llego a pagar el cole [SEP] 20 por días no está mal . pero solo para comer y hasta ahi   \n",
       "\n",
       "  label_text  level  label  \n",
       "0    trading      0      1  \n",
       "1    trading      0      1  \n",
       "2    trading      1      1  \n",
       "3    trading      0      1  \n",
       "4    trading      1      1  "
      ],
      "text/html": [
       "<div>\n",
       "<style scoped>\n",
       "    .dataframe tbody tr th:only-of-type {\n",
       "        vertical-align: middle;\n",
       "    }\n",
       "\n",
       "    .dataframe tbody tr th {\n",
       "        vertical-align: top;\n",
       "    }\n",
       "\n",
       "    .dataframe thead th {\n",
       "        text-align: right;\n",
       "    }\n",
       "</style>\n",
       "<table border=\"1\" class=\"dataframe\">\n",
       "  <thead>\n",
       "    <tr style=\"text-align: right;\">\n",
       "      <th></th>\n",
       "      <th>message</th>\n",
       "      <th>label_text</th>\n",
       "      <th>level</th>\n",
       "      <th>label</th>\n",
       "    </tr>\n",
       "  </thead>\n",
       "  <tbody>\n",
       "    <tr>\n",
       "      <th>0</th>\n",
       "      <td>el canal del amigo se llama loco por el trading ? [SEP] hay vivo hoy ? [SEP] eos alguien lo vio ? [SEP] a que hora e el vivo ? [SEP] no arranca vet [SEP] pense que iba [SEP] puede caer hasta 0.14520 y de ahi subir [SEP] no hay vivo hoy ? [SEP] hay vivo [SEP] yo dot [SEP] yo sigo dot [SEP] soplen [SEP] y hay que ver [SEP] no hay vivo ? [SEP] que onda ? [SEP] ini_hashtag sorteocupoft end_hashtag [SEP] f hombro cabeza hombro ? [SEP] buenaaaa [SEP] q paso avax [SEP] btc [SEP] bnb [SEP] atom precio entrada [SEP] luna tb [SEP] la mande temprano [SEP] short a precio entrada mande temprano [SEP] no hay drama user 14042 estamos para ayudar [SEP] si atom y luna entre ma temprano puse sl en cero [SEP] no ya no la entrada era más arriba [SEP] igual te recomiendo x 5 u primero tratar de estudiar [SEP] yo por hoy nada más esperando que btc salga del rango [SEP] user 7456 está en rango btc en una zona crítica ver para dónde sale [SEP] se dio btc [SEP] naaa e bajista espera retroceso [SEP] luna short [SEP] sin fuerza sigo en short [SEP] luna la que mande hoy [SEP] luna llego tp1 [SEP] por ahora está bajista btc no hay que operar contra tendencia [SEP] un poco más debería caer pero hay que seguir el precio . impulso reteoceso [SEP] yo le di short ya lo mostré más arriba [SEP] yo le mandé short btc y luna [SEP] lo mande más arriba [SEP] buscalo más arriba borja [SEP] va queriendo [SEP] esta para abajo todavia [SEP] luna [SEP] si fíjate en el gráfico e hasta lo verde [SEP] no entendí user 8982 [SEP] no lo miro al de trading latino [SEP] luna [SEP] btc [SEP] btc [SEP] de nada borja [SEP] muy bueno [SEP] espero seguir alguna entrada tuya [SEP] buena user 11422 [SEP] yo me jugaba por short [SEP] porque long en luna ? [SEP] entraste muy abajo [SEP] y cuando para ? [SEP] estaría bueno aprender [SEP] yo [SEP] aislado te opera solo los usdt que tengas en la moneda en cruzado te puede liquidar toda la cuenta [SEP] atom [SEP] long pero ya paso la entrada [SEP] atom [SEP] jaja va a subir amigo [SEP] eth 8 %</td>\n",
       "      <td>trading</td>\n",
       "      <td>0</td>\n",
       "      <td>1</td>\n",
       "    </tr>\n",
       "    <tr>\n",
       "      <th>1</th>\n",
       "      <td>ganancia e ganancia chico [SEP] si lo conseguís pásalo pls [SEP] alguno sabe porque no me salen los graficos en la pestaña de futuros en binance ? nose si toque algo o que [SEP] hay vivo hoy ? [SEP] cerramos vet ? ? [SEP] amigo nadie te.obliga a entrar [SEP] que dicen de 1inch rompió lo que dijo user 8118 hoy en el vivo [SEP] creo que 1inch está en una buena zona de compra aunque se muy poco todavía [SEP] míralo en tradinview y según la temporalidad te sale el conteo de la vela [SEP] quien más está aguantando vet ? [SEP] si señor jajaj nose hasta donde aguantar [SEP] somos 2 [SEP] cuál e tu tp ? [SEP] okk yo igual [SEP] yo si [SEP] le tengo fe a vet [SEP] ahora mismo está en precio de compra [SEP] cerraste ? ? [SEP] vet vet vet [SEP] tengo la misma duda [SEP] si , a la 21hs [SEP] 0.14600 [SEP] mmm nose q hacer con one ahora [SEP] yo igual en negativo pero la voy a dejar [SEP] limite [SEP] alguna moneda que este para.comprar y hold ? [SEP] que tal sol [SEP] x2 [SEP] sangre sangre quiero más sangre [SEP] alguna que recomienden para spot ? [SEP] te estaremos agradecidos [SEP] se supone que si [SEP] una pregunta medium bruta , binance te.cobra algo por ir moviendo el stop loss en una ? [SEP] está para entrar bat ? [SEP] tp y sl bat pls [SEP] vendieron bat ? [SEP] alguien esperando matic ? [SEP] entraron ? [SEP] recomiendan comprar bake ahora para spot ? [SEP] alguien en etc ? [SEP] que sl y tp pusieron en etc ? [SEP] tp de trx ? [SEP] alguien sigue en trx ? ? [SEP] seguro sube ya que llegó a binance [SEP] ta loco [SEP] sube 1inch ? [SEP] tp de sol ? [SEP] tp 1inch ? [SEP] opa gracias ! [SEP] se fue link ? retesteaaa [SEP] quien entro en el retesteo de link ? tp ? [SEP] en cuanto esperas a cake ? [SEP] eso [SEP] alguien sabe cuando sortea los cursos user 12434 ? [SEP] anoche estaba 164 [SEP] user 7650 a btc ? o cuál será la o la elegidas [SEP] no dijo nunca eso [SEP] uhh no me digas jajaj yo también estoy esperando el sorteo [SEP] que dicen del usdt en p2p en binance , bajara ? alguien compro ? [SEP] estoy pensando si comprar usdt a 173 y comprar btc o esperar , que recomiendan ? [SEP] user 7412 dijo que va a tomar ganancias enntre 47 50 [SEP] si baja e mejor comprar en 35 o puede tocar los 30 devuelta ? [SEP] jajajaja [SEP] que ganas de comprar con los 200 usdt del.curso [SEP] compren en pánico y vendan en euforia lo dijo arielsan [SEP] user 15197 que dice [SEP] igual sigo esperando [SEP] alguien ya pagó el curso ? [SEP] jajajaja [SEP] alguien se metió a matic devuelta ? [SEP] dió entrada btc o falta un toque ? [SEP] ni se movió luna [SEP] en h4 lo veo en un retroceso , para mí rebota en 39 [SEP] a ventas ? [SEP] ya empezaron a comprar en spot ? [SEP] btc están comprando o alguna otra ? [SEP] jajajajjaj [SEP] capaz se mete devuelta a la estructura [SEP] ese user 13300 tambien me hablo ante de que empieze el de junio y lo bloquee [SEP] fuente de agua [SEP] ta loco [SEP] ini_hashtag sorteocupo ft end_hashtag</td>\n",
       "      <td>trading</td>\n",
       "      <td>0</td>\n",
       "      <td>1</td>\n",
       "    </tr>\n",
       "    <tr>\n",
       "      <th>2</th>\n",
       "      <td>fijate cuanto e el margen en negativo y le agregas y luego si se cierra [SEP] tambien [SEP] dai [SEP] cara_con_ceja_alzada [SEP] 1.7807 creo [SEP] ya se arreglo [SEP] tradingview [SEP] paper trading en trading view [SEP] en tw se ponen ordenes y demas esta muy bueno , sino bing x [SEP] yo lanus mi casa , desde el 98 vivo en formosa [SEP] granate [SEP] si [SEP] gracias [ USER ] [SEP] feliz navidad [SEP] foto de hno . user 7362 gomez [SEP] apenas bajo y ya se desplomo ? [SEP] scam [SEP] a mi me llgan hasta de exodous y no tengo [SEP] ya paso , pero hay mucha indecision ojota [SEP] seee [SEP] cara_con_ansiedad_y_sudor [SEP] 32.698 aprox . siempre rechaza hace meses osea esa zona [SEP] para donde explotara ? ? ? [SEP] g [SEP] la verdad no me gusta , e muy lento su movimiento . estoy usando un dinero de un bono que me dieron para incentivar a tradear alli pero no me gusta . en cuanto a la comisiones no me he fijado aun [SEP] e piano ... nooo , e eternal ... noooo . e super bitcoin ! ! ! [SEP] 39 amigo 39 [SEP] otla vezl aloz [SEP] que e el traiding ? , ni para escribir ese chanta , el doctor chapatin de la criptos jajaja [SEP] preparen esos shorizos cara_revolviéndose_de_la_risa cara_revolviéndose_de_la_risa cara_revolviéndose_de_la_risa [SEP] el bart diario [SEP] o te va a una cueva blue [SEP] sin trazabilidad [SEP] y asi para retirar tambien , si son montos significativos para los ladrones de afip [SEP] ma de 150 usd [SEP] cuevita [SEP] yo lleve peso y me acreditaron usdt [SEP] con dolares lo mismo e [SEP] pero 0 trazabilidad [SEP] si [SEP] ojo [SEP] nada que tenga data fiscal abajo de la pagina [SEP] eso [SEP] en persona si o si [SEP] face to face [SEP] mi hogar durante muuuchos años [SEP] estimado / a binancian : el 11 de marzo de 2022 , la red polygon ( matic ) comenzó a experimentar problemas en toda la red . como consecuencia , los depósitos y retiros en binance a través de la red polygon ( matic ) se interrumpieron temporalmente . binance está en contacto con la red polygon ( matic ) para ayudar a resolver la situación . binance rehabilitará los depósitos y retiros a través de la red polygon ( matic ) una vez que estime que la red e estable . no se harán nuevos anuncios indicado esto . [SEP] algun fundamental para zrx ? esta que trina [SEP] muchas gracias [SEP] estamos al horno cara_revolviéndose_de_la_risa cara_revolviéndose_de_la_risa cara_revolviéndose_de_la_risa [SEP] cositorto e nakamoto [SEP] ust el nuevo peso argentino ? [SEP] el sol sale para todos , por eso modo avestruz activado [SEP] no e mio xd [SEP] no e mio pero hay de ese muchacho [SEP] aun asi hay ordenes de compra [SEP] por eso ojo [SEP] long al peso argentino cruzado 125x ? [SEP] perdon fue sin querer [SEP] siguen en matic ? [SEP] mi stp 1.008 [SEP] yo [SEP] oso [SEP] mi stp esta 1.008 la liq en 5.85 [SEP] entrada 0.9625 [SEP] por que ? [SEP] diversifica [SEP] la malas decisiones queman cuentas , y esfuman tus ahorros e inversiones . mantener la calma e ir [SEP] listo [SEP] cz los va a mandar al frente a todos [SEP] correcto [SEP] coincido [SEP] otravesopa [SEP] dia del fiboen muchas formas de la naturaleza podemos encontrar la sucesión de fibonacci . el 23 de noviembre se celebra el día mundial de fibonacci en honor al matemático italiano user 8081 de pisa , también conocido con el nombre de fibonacci . además de introducir el sistema decimal en europa , hoy se le recuerda por ser el descubridor de una secuencia numérica que representa la misma belleza : la sucesión de fibonacci.la sucesión de fibonacci e una secuencia de números que resultan al sumar los do anteriores a ese . empezando desde 0 , tenemos la siguiente : 0 , 1 , 1 , 2 , 3 , 5 , 8 , 13 , 21 , 34 , 55 ... y así sucesivamente.se eligió la fecha del 23 de noviembre porque corresponde a los primeros dígitos de la sucesión en escritura anglosajona 11/23 .</td>\n",
       "      <td>trading</td>\n",
       "      <td>1</td>\n",
       "      <td>1</td>\n",
       "    </tr>\n",
       "    <tr>\n",
       "      <th>3</th>\n",
       "      <td>alguna entradita .. ? [SEP] spot está funcionando ? [SEP] / p dogecoin [SEP] que lo baneen dice ajaj [SEP] yo ? [SEP] y bien rápido .. [SEP] ojo ojo [SEP] buendía sapo pepe aki con un ojo abierto y el otro cerrado cara_llorando_de_risa [SEP] me a pasado cara_llorando_de_risa [SEP] esto no está permitido [SEP] alguna entradita [SEP] cara_desanimada [SEP] banea 3 [SEP] puede llegar a 35 [SEP] también depende de lo que comenten dichos famosos y con demandas ideograma_japonés_para_gratis [SEP] tiene más pinta de bajar que de subir [SEP] corazón_rojo [SEP] wtf me mareo jaaj [SEP] buen planteamiento con sus pro y contra cara_sonriente [SEP] pal cielo cara_radiante_con_ojos_sonrientes [SEP] hay en vivo hoy ? [SEP] matic agarrando buen volumen [SEP] a esperar si baja o se sostiene de los 1.36 [SEP] si matic rompo los 1.40 vamos a los 1.51 billete_de_dólar cara_con_lengua_de_dinero cara_con_lengua_de_dinero [SEP] eso dije cara_con_ojos_en_blanco cara_con_ojos_en_blanco cara_con_ojos_en_blanco hace medium hora [SEP] cara_con_ojos_en_blanco a ki está [SEP] e en usd [SEP] matic no paso los 1.41 posible bajada hasta la 1.34 [SEP] creo que para vender o para enviar a p2p tiene que ser en usd [SEP] serio entonces este año me voy a argentina a ver si consigo trabajo [SEP] con los ojos : v [SEP] y ese velón de btc [SEP] lul [SEP] wtf [SEP] short en ada ? [SEP] no salgas hay volúmen ... [SEP] uff fue fomo crítico men : c [SEP] no amigo aguantaaaaaa a qué va ? [SEP] btc va pa 39 y se lleva algunas [SEP] x4 [SEP] se salió [SEP] si va a topar base para bajar [SEP] 1.5250 [SEP] pero no da bola a btc [SEP] la verdad let me para mí e mejor . pagas con los puntos que te user 15930 por hacer traiding [SEP] va a subir un poco no te asustes cara_de_loco [SEP] cuanto de perdida el tp ? [SEP] perdón el sl [SEP] uff casi 1.5641 puede tocar [SEP] si ahora está con btc ojalá que apolle cara_con_ojos_en_blanco [SEP] me huele a bandera alista btc [SEP] nu me cerró cara_con_ojos_en_blanco cara_de_confusión [SEP] hay entrada en ada ? [SEP] alguien sabe que le pasó a titan ? [SEP] trx short [SEP] x2</td>\n",
       "      <td>trading</td>\n",
       "      <td>0</td>\n",
       "      <td>1</td>\n",
       "    </tr>\n",
       "    <tr>\n",
       "      <th>4</th>\n",
       "      <td>voy cargando la escopeta pa longuear alguna monedilla [SEP] todavía no [SEP] esto está más aburrido [SEP] falta mucho para que entren los chino ? [SEP] por señales de facu ? [SEP] compartí ahora pulgar_hacia_arriba [SEP] y compartilos ahora . igual te van a banear cuando lean esto cara_llorando_de_risa [SEP] sacate la papa de la boca [SEP] se picó la clande [SEP] cara_llorando_de_risa cara_llorando_de_risa cara_llorando_de_risa [SEP] screenshot ( 6 mar . 2022 20:03 : 38 ) [SEP] la paciencia cara_sonriendo_con_sudor_frío [SEP] divino ! manos_aplaudiendo manos_aplaudiendo [SEP] screenshot ( 6 mar . 2022 20:22 : 39 ) [SEP] cerrada lunitaa cara_sonriendo_con_ojos_de_corazón [SEP] mono_con_los_ojos_tapados [SEP] un short en 38k e lo mismo que ir al casino cara_llorando_de_risa [SEP] recuperar que ? [SEP] si no entra una ballena generosa en los próximos minutos btc se pega un palo [SEP] vamoooo mañana se come cara_sonriendo_con_ojos_de_corazón [SEP] de proyectos no se absolutamente nada cara_feliz_con_ojos_sonrientes solo tradeo cualquier cosa que se mueva cara_llorando_de_risa [SEP] cara_llorando_de_risa cara_llorando_de_risa cara_llorando_de_risa manos_aplaudiendo manos_aplaudiendo [SEP] 4 k en un trade ? mierda ! ! que haces acá hermano [SEP] anoche no estaban meta long todos ? [SEP] yo vi que subian longs a do manos .. pero no recuerdo si era a anoche o el viernes [SEP] el miedo mueve más que el fomo [SEP] seguro . esta semana más tardar [SEP] screenshot ( 7 mar . 2022 0:35 : 57 ) . vamooooo que se comeeeee [SEP] siguiendo a btc [SEP] estaba long , cerré y ahora veremos si hice bien o me largo a llorar [SEP] vamos lunita mí amor [SEP] yes [SEP] dale facu . compra btc así pumpea cara_llorando_de_risa [SEP] espero que suba mucho . quiero platita [SEP] hoy se come cara_sonriendo_con_gafas_de_sol cara_sonriendo_con_gafas_de_sol cara_sonriendo_con_gafas_de_sol [SEP] se comeeeeee cara_sonriendo_con_gafas_de_sol cara_sonriendo_con_gafas_de_sol [SEP] seee . no toco más nada hasta mañana [SEP] apagó la compu para no cagarla cara_llorando_de_risa cara_llorando_de_risa [SEP] cara_llorando_de_risa de una [SEP] y ahora pabajoo cara_sonriendo_con_sudor_frío cara_sonriendo_con_sudor_frío [SEP] siempre sin ... estoy cansado de ella mechazos [SEP] cara_llorando_de_risa cara_llorando_de_risa [SEP] cerrada cara_sonriendo_con_gafas_de_sol cara_sonriendo_con_gafas_de_sol [SEP] hace años que trabajo así . prefiero el stop manual [SEP] en historial [SEP] claro ... son formas . no pongo stop peor estoy con el ojo en la pantalla cuando opero . [SEP] ahhh si el porcentaje creo que no se puede . solo con a operación abierta [SEP] ojalá bro [SEP] acusalo con tu mamá kikooo [SEP] screenshot ( 8 mar . 2022 14:16 : 28 ) te amo biden cara_sonriendo_con_ojos_de_corazón cara_sonriendo_con_ojos_de_corazón cara_sonriendo_con_ojos_de_corazón [SEP] gracia amigo [SEP] yes . argento [SEP] habló biden [SEP] cerrado cara_sonriendo_con_gafas_de_sol cara_sonriendo_con_gafas_de_sol cara_sonriendo_con_gafas_de_sol se come [SEP] el cierre o la entradas ? [SEP] estabab toda en suporte y biden terminó el discurso diciendo que no hará nada con la guerra . regaladas [SEP] gracias bro [SEP] parece que no piensa retroceder hombre_encogido_de_hombros_tono_de_piel_claro habrá que esperar [SEP] todo el día haciendo plata y en esta subía no metí ni un long cara_revolviéndose_de_la_risa cara_revolviéndose_de_la_risa cara_revolviéndose_de_la_risa [SEP] btc mete liquidaciones a la baja y luego cohete cohete cohete [SEP] primero debería buscar los 42600 . si rompe , a los 44000 [SEP] cuál triángulo ? [SEP] lunita se paga el asado cara_sonriendo_con_ojos_de_corazón cara_sonriendo_con_ojos_de_corazón [SEP] si , justo ahí por qué está a próxima a la línea de tendencia que había roto . y no me animé a long [SEP] se comeeeeeeee cara_sonriendo_con_gafas_de_sol cara_sonriendo_con_gafas_de_sol cara_sonriendo_con_gafas_de_sol [SEP] hoy se comió gracias a powel [SEP] user 9092 - london capital group [SEP] se come cara_sonriendo_con_gafas_de_sol [SEP] mañana se come asado [SEP] comparto mí felicidad como el grupo . cómo hacen todos cara_sonrojada [SEP] ya dijo [SEP] justo estaba por cerrar la operaciones cara_cabreada cara_cabreada cara_cabreada [SEP] yo no [SEP] rezar [SEP] depende directamente de la tendencia ... en tendencia bajista te user 15930 más resultados los short y viceversa [SEP] buenas gente . alguien de acá utiliza paxuful ? [SEP] paxful era . jaja [SEP] buenas gente . una pregunta bien de ignorante . alguien de acá utilizó el bono de bienvenida de huobi ? e real eso ? e tan fácil como dicen ? [SEP] ah ... que truchada [SEP] sobrevivir [SEP] claro . depende donde y que tipo de vida . yo con 300 al me muero de angustia [SEP] ni a palos . cunado compraste pan por última vez ? [SEP] acá en mí barrio 300 para arriba [SEP] no sé dónde viven ustedes o que comen . pero yo acá en zona norte de b a . con 300 dolares por me solo me alcanza para comer . y ahí ajustado [SEP] tus hijos no serán compañeros de los míos no ? cara_llorando_de_risa cara_llorando_de_risa cara_llorando_de_risa ami con 300 tampoco llego a pagar el cole [SEP] 20 por días no está mal . pero solo para comer y hasta ahi</td>\n",
       "      <td>trading</td>\n",
       "      <td>1</td>\n",
       "      <td>1</td>\n",
       "    </tr>\n",
       "  </tbody>\n",
       "</table>\n",
       "</div>"
      ]
     },
     "execution_count": 8,
     "metadata": {},
     "output_type": "execute_result"
    }
   ],
   "execution_count": 8
  },
  {
   "metadata": {
    "ExecuteTime": {
     "end_time": "2025-04-09T04:59:53.705013Z",
     "start_time": "2025-04-09T04:59:53.690503Z"
    }
   },
   "cell_type": "code",
   "source": [
    "x_task1_feature = dataset_feature['message']\n",
    "y_task1_feature = dataset_feature['level']"
   ],
   "id": "c8a885282d3e5189",
   "outputs": [],
   "execution_count": 9
  },
  {
   "metadata": {
    "ExecuteTime": {
     "end_time": "2025-04-09T04:59:54.095894Z",
     "start_time": "2025-04-09T04:59:54.075877Z"
    }
   },
   "cell_type": "code",
   "source": [
    "lang = 'es'\n",
    "\n",
    "ta = TextProcessing(lang=lang)\n",
    "fe = FeatureExtraction(lang=lang)\n",
    "\n",
    "def feature_extraction(message):\n",
    "    try:\n",
    "        # Limpiar y transformar el texto\n",
    "        text_clean = ta.transformer(message)\n",
    "        if text_clean is None or text_clean == '':\n",
    "            return np.zeros(32)  # Ajusta el número según corresponda\n",
    "\n",
    "        # Extraer características\n",
    "        features = fe.get_features_lexical(text_clean)\n",
    "        return features\n",
    "    except Exception as e:\n",
    "        print(f\"Error procesando mensaje: {message[:50]}... - {str(e)}\")\n",
    "        return np.zeros(32)"
   ],
   "id": "89c9a20d778aeed8",
   "outputs": [],
   "execution_count": 10
  },
  {
   "metadata": {
    "ExecuteTime": {
     "end_time": "2025-04-09T04:59:56.409268Z",
     "start_time": "2025-04-09T04:59:54.286830Z"
    }
   },
   "cell_type": "code",
   "source": [
    "feature_vectors = np.array([feature_extraction(text) for text in x_task1_feature])\n",
    "feature_vectors"
   ],
   "id": "df01ba3380847d23",
   "outputs": [
    {
     "data": {
      "text/plain": [
       "array([[ 19.30654588, 101.54933333,   0.        , ...,   0.        ,\n",
       "          2.        ,   0.        ],\n",
       "       [ 29.49604731, 138.95047619,   0.        , ...,   0.        ,\n",
       "          1.        ,   0.        ],\n",
       "       [ 23.89751242, 192.6       ,   0.        , ...,   0.        ,\n",
       "          3.        ,   0.        ],\n",
       "       ...,\n",
       "       [  4.53232422,  12.7       ,   0.        , ...,   0.        ,\n",
       "          0.        ,   0.        ],\n",
       "       [  4.62103268,  12.10344828,   0.        , ...,   0.        ,\n",
       "          0.        ,   0.        ],\n",
       "       [  5.39345238,   6.52173913,   0.        , ...,   0.        ,\n",
       "          0.        ,   0.        ]])"
      ]
     },
     "execution_count": 11,
     "metadata": {},
     "output_type": "execute_result"
    }
   ],
   "execution_count": 11
  },
  {
   "metadata": {
    "ExecuteTime": {
     "end_time": "2025-04-09T04:59:56.455846Z",
     "start_time": "2025-04-09T04:59:56.441329Z"
    }
   },
   "cell_type": "code",
   "source": "feature_vectors",
   "id": "8531fecd826f2194",
   "outputs": [
    {
     "data": {
      "text/plain": [
       "array([[ 19.30654588, 101.54933333,   0.        , ...,   0.        ,\n",
       "          2.        ,   0.        ],\n",
       "       [ 29.49604731, 138.95047619,   0.        , ...,   0.        ,\n",
       "          1.        ,   0.        ],\n",
       "       [ 23.89751242, 192.6       ,   0.        , ...,   0.        ,\n",
       "          3.        ,   0.        ],\n",
       "       ...,\n",
       "       [  4.53232422,  12.7       ,   0.        , ...,   0.        ,\n",
       "          0.        ,   0.        ],\n",
       "       [  4.62103268,  12.10344828,   0.        , ...,   0.        ,\n",
       "          0.        ,   0.        ],\n",
       "       [  5.39345238,   6.52173913,   0.        , ...,   0.        ,\n",
       "          0.        ,   0.        ]])"
      ]
     },
     "execution_count": 12,
     "metadata": {},
     "output_type": "execute_result"
    }
   ],
   "execution_count": 12
  },
  {
   "metadata": {
    "ExecuteTime": {
     "end_time": "2025-04-09T04:59:56.550574Z",
     "start_time": "2025-04-09T04:59:56.535543Z"
    }
   },
   "cell_type": "code",
   "source": [
    "if x_task1_beto.shape[0] != feature_vectors.shape[0]:\n",
    "    raise ValueError(f\"Los arrays tienen diferentes números de muestras: {x_task1_beto.shape[0]} vs {feature_vectors.shape[0]}\")"
   ],
   "id": "a15cf3b957254065",
   "outputs": [],
   "execution_count": 13
  },
  {
   "metadata": {
    "ExecuteTime": {
     "end_time": "2025-04-09T04:59:56.753843Z",
     "start_time": "2025-04-09T04:59:56.739750Z"
    }
   },
   "cell_type": "code",
   "source": "x_combined = np.hstack((x_task1_beto, feature_vectors))",
   "id": "d008392855e2d39b",
   "outputs": [],
   "execution_count": 14
  },
  {
   "metadata": {
    "ExecuteTime": {
     "end_time": "2025-04-09T04:59:56.769875Z",
     "start_time": "2025-04-09T04:59:56.760356Z"
    }
   },
   "cell_type": "code",
   "source": "x_combined",
   "id": "77e08f22ee338780",
   "outputs": [
    {
     "data": {
      "text/plain": [
       "array([[-0.09902813, -0.15904334, -0.30138153, ...,  0.        ,\n",
       "         2.        ,  0.        ],\n",
       "       [-0.14719549, -0.1112902 , -0.16692387, ...,  0.        ,\n",
       "         1.        ,  0.        ],\n",
       "       [-0.1551729 , -0.03288925, -0.22002526, ...,  0.        ,\n",
       "         3.        ,  0.        ],\n",
       "       ...,\n",
       "       [ 0.13345632, -0.08678578, -0.04402681, ...,  0.        ,\n",
       "         0.        ,  0.        ],\n",
       "       [ 0.2602157 ,  0.07340417,  0.06921416, ...,  0.        ,\n",
       "         0.        ,  0.        ],\n",
       "       [-0.22404031,  0.09983473, -0.14697447, ...,  0.        ,\n",
       "         0.        ,  0.        ]])"
      ]
     },
     "execution_count": 15,
     "metadata": {},
     "output_type": "execute_result"
    }
   ],
   "execution_count": 15
  },
  {
   "metadata": {
    "ExecuteTime": {
     "end_time": "2025-04-09T04:59:56.847877Z",
     "start_time": "2025-04-09T04:59:56.832657Z"
    }
   },
   "cell_type": "code",
   "source": "print('**Sample train:', sorted(Counter(y_task1).items()))",
   "id": "c1bf11e1ddf582fd",
   "outputs": [
    {
     "name": "stdout",
     "output_type": "stream",
     "text": [
      "**Sample train: [(0, 178), (1, 231)]\n"
     ]
    }
   ],
   "execution_count": 16
  },
  {
   "metadata": {
    "ExecuteTime": {
     "end_time": "2025-04-09T04:59:56.909707Z",
     "start_time": "2025-04-09T04:59:56.895180Z"
    }
   },
   "cell_type": "code",
   "source": [
    "# We create an instance of RandomOverSampler to balance the classes.\n",
    "# - random_state=10000: A seed is set for reproducibility.\n",
    "\n",
    "ros_task1 = RandomOverSampler(random_state=10000)\n",
    "\n",
    "# We apply oversampling to generate new instances of the minority classes to equal the amount of the majority class.\n",
    "x_combined, y_task1 = ros_task1.fit_resample(x_combined, y_task1)\n",
    "\n",
    "# We show the distribution of classes after oversampling.\n",
    "print('**OverSample train:', sorted(Counter(y_task1).items()))"
   ],
   "id": "d1161f05d6728790",
   "outputs": [
    {
     "name": "stdout",
     "output_type": "stream",
     "text": [
      "**OverSample train: [(0, 231), (1, 231)]\n"
     ]
    }
   ],
   "execution_count": 17
  },
  {
   "metadata": {
    "ExecuteTime": {
     "end_time": "2025-04-09T04:59:57.285827Z",
     "start_time": "2025-04-09T04:59:57.274310Z"
    }
   },
   "cell_type": "code",
   "source": "x_combined",
   "id": "96d84eb6f14a9f7c",
   "outputs": [
    {
     "data": {
      "text/plain": [
       "array([[-0.09902813, -0.15904334, -0.30138153, ...,  0.        ,\n",
       "         2.        ,  0.        ],\n",
       "       [-0.14719549, -0.1112902 , -0.16692387, ...,  0.        ,\n",
       "         1.        ,  0.        ],\n",
       "       [-0.1551729 , -0.03288925, -0.22002526, ...,  0.        ,\n",
       "         3.        ,  0.        ],\n",
       "       ...,\n",
       "       [-0.14719549, -0.1112902 , -0.16692387, ...,  0.        ,\n",
       "         1.        ,  0.        ],\n",
       "       [-0.12730634, -0.09077215, -0.11596057, ...,  0.        ,\n",
       "         0.        ,  0.        ],\n",
       "       [ 0.02016972, -0.36212692, -0.10957462, ...,  0.        ,\n",
       "         0.        ,  0.        ]])"
      ]
     },
     "execution_count": 18,
     "metadata": {},
     "output_type": "execute_result"
    }
   ],
   "execution_count": 18
  },
  {
   "metadata": {
    "ExecuteTime": {
     "end_time": "2025-04-09T04:59:59.375477Z",
     "start_time": "2025-04-09T04:59:57.513784Z"
    }
   },
   "cell_type": "code",
   "source": [
    "setup_task1 = setup(\n",
    "    data=x_combined, # Input data set (feature matrix)\n",
    "    target=y_task1, # Target variable (classification labels)\n",
    "    session_id=123, # Random seed to ensure reproducibility\n",
    "    train_size=0.8, # Percentage of data used for training (80%)\n",
    "    log_experiment=True, # Enable experiment logging (mlflow)\n",
    "    experiment_name='Mentalrisk_task1_feature' # Name of experiment for tracking (mlflow)\n",
    ")"
   ],
   "id": "280a1a61edc8c70e",
   "outputs": [
    {
     "data": {
      "text/plain": [
       "<pandas.io.formats.style.Styler at 0x21fd18ac340>"
      ],
      "text/html": [
       "<style type=\"text/css\">\n",
       "#T_c8f3f_row8_col1 {\n",
       "  background-color: lightgreen;\n",
       "}\n",
       "</style>\n",
       "<table id=\"T_c8f3f\">\n",
       "  <thead>\n",
       "    <tr>\n",
       "      <th class=\"blank level0\" >&nbsp;</th>\n",
       "      <th id=\"T_c8f3f_level0_col0\" class=\"col_heading level0 col0\" >Description</th>\n",
       "      <th id=\"T_c8f3f_level0_col1\" class=\"col_heading level0 col1\" >Value</th>\n",
       "    </tr>\n",
       "  </thead>\n",
       "  <tbody>\n",
       "    <tr>\n",
       "      <th id=\"T_c8f3f_level0_row0\" class=\"row_heading level0 row0\" >0</th>\n",
       "      <td id=\"T_c8f3f_row0_col0\" class=\"data row0 col0\" >Session id</td>\n",
       "      <td id=\"T_c8f3f_row0_col1\" class=\"data row0 col1\" >123</td>\n",
       "    </tr>\n",
       "    <tr>\n",
       "      <th id=\"T_c8f3f_level0_row1\" class=\"row_heading level0 row1\" >1</th>\n",
       "      <td id=\"T_c8f3f_row1_col0\" class=\"data row1 col0\" >Target</td>\n",
       "      <td id=\"T_c8f3f_row1_col1\" class=\"data row1 col1\" >level</td>\n",
       "    </tr>\n",
       "    <tr>\n",
       "      <th id=\"T_c8f3f_level0_row2\" class=\"row_heading level0 row2\" >2</th>\n",
       "      <td id=\"T_c8f3f_row2_col0\" class=\"data row2 col0\" >Target type</td>\n",
       "      <td id=\"T_c8f3f_row2_col1\" class=\"data row2 col1\" >Binary</td>\n",
       "    </tr>\n",
       "    <tr>\n",
       "      <th id=\"T_c8f3f_level0_row3\" class=\"row_heading level0 row3\" >3</th>\n",
       "      <td id=\"T_c8f3f_row3_col0\" class=\"data row3 col0\" >Original data shape</td>\n",
       "      <td id=\"T_c8f3f_row3_col1\" class=\"data row3 col1\" >(462, 798)</td>\n",
       "    </tr>\n",
       "    <tr>\n",
       "      <th id=\"T_c8f3f_level0_row4\" class=\"row_heading level0 row4\" >4</th>\n",
       "      <td id=\"T_c8f3f_row4_col0\" class=\"data row4 col0\" >Transformed data shape</td>\n",
       "      <td id=\"T_c8f3f_row4_col1\" class=\"data row4 col1\" >(462, 798)</td>\n",
       "    </tr>\n",
       "    <tr>\n",
       "      <th id=\"T_c8f3f_level0_row5\" class=\"row_heading level0 row5\" >5</th>\n",
       "      <td id=\"T_c8f3f_row5_col0\" class=\"data row5 col0\" >Transformed train set shape</td>\n",
       "      <td id=\"T_c8f3f_row5_col1\" class=\"data row5 col1\" >(369, 798)</td>\n",
       "    </tr>\n",
       "    <tr>\n",
       "      <th id=\"T_c8f3f_level0_row6\" class=\"row_heading level0 row6\" >6</th>\n",
       "      <td id=\"T_c8f3f_row6_col0\" class=\"data row6 col0\" >Transformed test set shape</td>\n",
       "      <td id=\"T_c8f3f_row6_col1\" class=\"data row6 col1\" >(93, 798)</td>\n",
       "    </tr>\n",
       "    <tr>\n",
       "      <th id=\"T_c8f3f_level0_row7\" class=\"row_heading level0 row7\" >7</th>\n",
       "      <td id=\"T_c8f3f_row7_col0\" class=\"data row7 col0\" >Numeric features</td>\n",
       "      <td id=\"T_c8f3f_row7_col1\" class=\"data row7 col1\" >797</td>\n",
       "    </tr>\n",
       "    <tr>\n",
       "      <th id=\"T_c8f3f_level0_row8\" class=\"row_heading level0 row8\" >8</th>\n",
       "      <td id=\"T_c8f3f_row8_col0\" class=\"data row8 col0\" >Preprocess</td>\n",
       "      <td id=\"T_c8f3f_row8_col1\" class=\"data row8 col1\" >True</td>\n",
       "    </tr>\n",
       "    <tr>\n",
       "      <th id=\"T_c8f3f_level0_row9\" class=\"row_heading level0 row9\" >9</th>\n",
       "      <td id=\"T_c8f3f_row9_col0\" class=\"data row9 col0\" >Imputation type</td>\n",
       "      <td id=\"T_c8f3f_row9_col1\" class=\"data row9 col1\" >simple</td>\n",
       "    </tr>\n",
       "    <tr>\n",
       "      <th id=\"T_c8f3f_level0_row10\" class=\"row_heading level0 row10\" >10</th>\n",
       "      <td id=\"T_c8f3f_row10_col0\" class=\"data row10 col0\" >Numeric imputation</td>\n",
       "      <td id=\"T_c8f3f_row10_col1\" class=\"data row10 col1\" >mean</td>\n",
       "    </tr>\n",
       "    <tr>\n",
       "      <th id=\"T_c8f3f_level0_row11\" class=\"row_heading level0 row11\" >11</th>\n",
       "      <td id=\"T_c8f3f_row11_col0\" class=\"data row11 col0\" >Categorical imputation</td>\n",
       "      <td id=\"T_c8f3f_row11_col1\" class=\"data row11 col1\" >mode</td>\n",
       "    </tr>\n",
       "    <tr>\n",
       "      <th id=\"T_c8f3f_level0_row12\" class=\"row_heading level0 row12\" >12</th>\n",
       "      <td id=\"T_c8f3f_row12_col0\" class=\"data row12 col0\" >Fold Generator</td>\n",
       "      <td id=\"T_c8f3f_row12_col1\" class=\"data row12 col1\" >StratifiedKFold</td>\n",
       "    </tr>\n",
       "    <tr>\n",
       "      <th id=\"T_c8f3f_level0_row13\" class=\"row_heading level0 row13\" >13</th>\n",
       "      <td id=\"T_c8f3f_row13_col0\" class=\"data row13 col0\" >Fold Number</td>\n",
       "      <td id=\"T_c8f3f_row13_col1\" class=\"data row13 col1\" >10</td>\n",
       "    </tr>\n",
       "    <tr>\n",
       "      <th id=\"T_c8f3f_level0_row14\" class=\"row_heading level0 row14\" >14</th>\n",
       "      <td id=\"T_c8f3f_row14_col0\" class=\"data row14 col0\" >CPU Jobs</td>\n",
       "      <td id=\"T_c8f3f_row14_col1\" class=\"data row14 col1\" >-1</td>\n",
       "    </tr>\n",
       "    <tr>\n",
       "      <th id=\"T_c8f3f_level0_row15\" class=\"row_heading level0 row15\" >15</th>\n",
       "      <td id=\"T_c8f3f_row15_col0\" class=\"data row15 col0\" >Use GPU</td>\n",
       "      <td id=\"T_c8f3f_row15_col1\" class=\"data row15 col1\" >False</td>\n",
       "    </tr>\n",
       "    <tr>\n",
       "      <th id=\"T_c8f3f_level0_row16\" class=\"row_heading level0 row16\" >16</th>\n",
       "      <td id=\"T_c8f3f_row16_col0\" class=\"data row16 col0\" >Log Experiment</td>\n",
       "      <td id=\"T_c8f3f_row16_col1\" class=\"data row16 col1\" >MlflowLogger</td>\n",
       "    </tr>\n",
       "    <tr>\n",
       "      <th id=\"T_c8f3f_level0_row17\" class=\"row_heading level0 row17\" >17</th>\n",
       "      <td id=\"T_c8f3f_row17_col0\" class=\"data row17 col0\" >Experiment Name</td>\n",
       "      <td id=\"T_c8f3f_row17_col1\" class=\"data row17 col1\" >Mentalrisk_task1_feature</td>\n",
       "    </tr>\n",
       "    <tr>\n",
       "      <th id=\"T_c8f3f_level0_row18\" class=\"row_heading level0 row18\" >18</th>\n",
       "      <td id=\"T_c8f3f_row18_col0\" class=\"data row18 col0\" >USI</td>\n",
       "      <td id=\"T_c8f3f_row18_col1\" class=\"data row18 col1\" >b82a</td>\n",
       "    </tr>\n",
       "  </tbody>\n",
       "</table>\n"
      ]
     },
     "metadata": {},
     "output_type": "display_data"
    }
   ],
   "execution_count": 19
  },
  {
   "metadata": {
    "ExecuteTime": {
     "end_time": "2025-04-09T05:00:27.989858Z",
     "start_time": "2025-04-09T04:59:59.423124Z"
    }
   },
   "cell_type": "code",
   "source": "model_task1 = compare_models(fold=10)",
   "id": "879b7ae46488414a",
   "outputs": [
    {
     "data": {
      "text/plain": [
       "                                                                    \n",
       "                                                                    \n",
       "Initiated  . . . . . . . . . . . . . . . . . .              23:59:59\n",
       "Status     . . . . . . . . . . . . . . . . . .  Loading Dependencies\n",
       "Estimator  . . . . . . . . . . . . . . . . . .     Compiling Library"
      ],
      "text/html": [
       "<div>\n",
       "<style scoped>\n",
       "    .dataframe tbody tr th:only-of-type {\n",
       "        vertical-align: middle;\n",
       "    }\n",
       "\n",
       "    .dataframe tbody tr th {\n",
       "        vertical-align: top;\n",
       "    }\n",
       "\n",
       "    .dataframe thead th {\n",
       "        text-align: right;\n",
       "    }\n",
       "</style>\n",
       "<table border=\"1\" class=\"dataframe\">\n",
       "  <thead>\n",
       "    <tr style=\"text-align: right;\">\n",
       "      <th></th>\n",
       "      <th></th>\n",
       "      <th></th>\n",
       "    </tr>\n",
       "    <tr>\n",
       "      <th></th>\n",
       "      <th></th>\n",
       "      <th></th>\n",
       "    </tr>\n",
       "  </thead>\n",
       "  <tbody>\n",
       "    <tr>\n",
       "      <th>Initiated</th>\n",
       "      <td>. . . . . . . . . . . . . . . . . .</td>\n",
       "      <td>23:59:59</td>\n",
       "    </tr>\n",
       "    <tr>\n",
       "      <th>Status</th>\n",
       "      <td>. . . . . . . . . . . . . . . . . .</td>\n",
       "      <td>Loading Dependencies</td>\n",
       "    </tr>\n",
       "    <tr>\n",
       "      <th>Estimator</th>\n",
       "      <td>. . . . . . . . . . . . . . . . . .</td>\n",
       "      <td>Compiling Library</td>\n",
       "    </tr>\n",
       "  </tbody>\n",
       "</table>\n",
       "</div>"
      ]
     },
     "metadata": {},
     "output_type": "display_data"
    },
    {
     "data": {
      "text/plain": [
       "<IPython.core.display.HTML object>"
      ],
      "text/html": []
     },
     "metadata": {},
     "output_type": "display_data"
    },
    {
     "data": {
      "text/plain": [
       "<pandas.io.formats.style.Styler at 0x21fd1a18ee0>"
      ],
      "text/html": [
       "<style type=\"text/css\">\n",
       "#T_95472 th {\n",
       "  text-align: left;\n",
       "}\n",
       "#T_95472_row0_col0, #T_95472_row0_col2, #T_95472_row0_col4, #T_95472_row0_col7, #T_95472_row1_col0, #T_95472_row1_col1, #T_95472_row1_col2, #T_95472_row1_col3, #T_95472_row1_col5, #T_95472_row1_col6, #T_95472_row2_col0, #T_95472_row2_col1, #T_95472_row2_col3, #T_95472_row2_col4, #T_95472_row2_col5, #T_95472_row2_col6, #T_95472_row2_col7, #T_95472_row3_col0, #T_95472_row3_col1, #T_95472_row3_col2, #T_95472_row3_col3, #T_95472_row3_col4, #T_95472_row3_col5, #T_95472_row3_col6, #T_95472_row3_col7, #T_95472_row4_col0, #T_95472_row4_col1, #T_95472_row4_col2, #T_95472_row4_col3, #T_95472_row4_col4, #T_95472_row4_col5, #T_95472_row4_col6, #T_95472_row4_col7, #T_95472_row5_col0, #T_95472_row5_col1, #T_95472_row5_col2, #T_95472_row5_col3, #T_95472_row5_col4, #T_95472_row5_col5, #T_95472_row5_col6, #T_95472_row5_col7, #T_95472_row6_col0, #T_95472_row6_col1, #T_95472_row6_col2, #T_95472_row6_col3, #T_95472_row6_col4, #T_95472_row6_col5, #T_95472_row6_col6, #T_95472_row6_col7, #T_95472_row7_col0, #T_95472_row7_col1, #T_95472_row7_col2, #T_95472_row7_col3, #T_95472_row7_col4, #T_95472_row7_col5, #T_95472_row7_col6, #T_95472_row7_col7, #T_95472_row8_col0, #T_95472_row8_col1, #T_95472_row8_col2, #T_95472_row8_col3, #T_95472_row8_col4, #T_95472_row8_col5, #T_95472_row8_col6, #T_95472_row8_col7, #T_95472_row9_col0, #T_95472_row9_col1, #T_95472_row9_col2, #T_95472_row9_col3, #T_95472_row9_col4, #T_95472_row9_col5, #T_95472_row9_col6, #T_95472_row9_col7, #T_95472_row10_col0, #T_95472_row10_col1, #T_95472_row10_col2, #T_95472_row10_col3, #T_95472_row10_col4, #T_95472_row10_col5, #T_95472_row10_col6, #T_95472_row10_col7, #T_95472_row11_col0, #T_95472_row11_col1, #T_95472_row11_col2, #T_95472_row11_col3, #T_95472_row11_col4, #T_95472_row11_col5, #T_95472_row11_col6, #T_95472_row11_col7, #T_95472_row12_col0, #T_95472_row12_col1, #T_95472_row12_col2, #T_95472_row12_col3, #T_95472_row12_col4, #T_95472_row12_col5, #T_95472_row12_col6, #T_95472_row12_col7, #T_95472_row13_col0, #T_95472_row13_col1, #T_95472_row13_col2, #T_95472_row13_col3, #T_95472_row13_col4, #T_95472_row13_col5, #T_95472_row13_col6, #T_95472_row13_col7 {\n",
       "  text-align: left;\n",
       "}\n",
       "#T_95472_row0_col1, #T_95472_row0_col3, #T_95472_row0_col5, #T_95472_row0_col6, #T_95472_row1_col4, #T_95472_row1_col7, #T_95472_row2_col2 {\n",
       "  text-align: left;\n",
       "  background-color: yellow;\n",
       "}\n",
       "#T_95472_row0_col8, #T_95472_row1_col8, #T_95472_row2_col8, #T_95472_row3_col8, #T_95472_row5_col8, #T_95472_row6_col8, #T_95472_row7_col8, #T_95472_row8_col8, #T_95472_row10_col8, #T_95472_row11_col8, #T_95472_row13_col8 {\n",
       "  text-align: left;\n",
       "  background-color: lightgrey;\n",
       "}\n",
       "#T_95472_row4_col8, #T_95472_row9_col8, #T_95472_row12_col8 {\n",
       "  text-align: left;\n",
       "  background-color: yellow;\n",
       "  background-color: lightgrey;\n",
       "}\n",
       "</style>\n",
       "<table id=\"T_95472\">\n",
       "  <thead>\n",
       "    <tr>\n",
       "      <th class=\"blank level0\" >&nbsp;</th>\n",
       "      <th id=\"T_95472_level0_col0\" class=\"col_heading level0 col0\" >Model</th>\n",
       "      <th id=\"T_95472_level0_col1\" class=\"col_heading level0 col1\" >Accuracy</th>\n",
       "      <th id=\"T_95472_level0_col2\" class=\"col_heading level0 col2\" >AUC</th>\n",
       "      <th id=\"T_95472_level0_col3\" class=\"col_heading level0 col3\" >Recall</th>\n",
       "      <th id=\"T_95472_level0_col4\" class=\"col_heading level0 col4\" >Prec.</th>\n",
       "      <th id=\"T_95472_level0_col5\" class=\"col_heading level0 col5\" >F1</th>\n",
       "      <th id=\"T_95472_level0_col6\" class=\"col_heading level0 col6\" >Kappa</th>\n",
       "      <th id=\"T_95472_level0_col7\" class=\"col_heading level0 col7\" >MCC</th>\n",
       "      <th id=\"T_95472_level0_col8\" class=\"col_heading level0 col8\" >TT (Sec)</th>\n",
       "    </tr>\n",
       "  </thead>\n",
       "  <tbody>\n",
       "    <tr>\n",
       "      <th id=\"T_95472_level0_row0\" class=\"row_heading level0 row0\" >lr</th>\n",
       "      <td id=\"T_95472_row0_col0\" class=\"data row0 col0\" >Logistic Regression</td>\n",
       "      <td id=\"T_95472_row0_col1\" class=\"data row0 col1\" >0.7509</td>\n",
       "      <td id=\"T_95472_row0_col2\" class=\"data row0 col2\" >0.8278</td>\n",
       "      <td id=\"T_95472_row0_col3\" class=\"data row0 col3\" >0.7453</td>\n",
       "      <td id=\"T_95472_row0_col4\" class=\"data row0 col4\" >0.7606</td>\n",
       "      <td id=\"T_95472_row0_col5\" class=\"data row0 col5\" >0.7493</td>\n",
       "      <td id=\"T_95472_row0_col6\" class=\"data row0 col6\" >0.5016</td>\n",
       "      <td id=\"T_95472_row0_col7\" class=\"data row0 col7\" >0.5065</td>\n",
       "      <td id=\"T_95472_row0_col8\" class=\"data row0 col8\" >0.3240</td>\n",
       "    </tr>\n",
       "    <tr>\n",
       "      <th id=\"T_95472_level0_row1\" class=\"row_heading level0 row1\" >et</th>\n",
       "      <td id=\"T_95472_row1_col0\" class=\"data row1 col0\" >Extra Trees Classifier</td>\n",
       "      <td id=\"T_95472_row1_col1\" class=\"data row1 col1\" >0.7479</td>\n",
       "      <td id=\"T_95472_row1_col2\" class=\"data row1 col2\" >0.8300</td>\n",
       "      <td id=\"T_95472_row1_col3\" class=\"data row1 col3\" >0.6594</td>\n",
       "      <td id=\"T_95472_row1_col4\" class=\"data row1 col4\" >0.8082</td>\n",
       "      <td id=\"T_95472_row1_col5\" class=\"data row1 col5\" >0.7241</td>\n",
       "      <td id=\"T_95472_row1_col6\" class=\"data row1 col6\" >0.4958</td>\n",
       "      <td id=\"T_95472_row1_col7\" class=\"data row1 col7\" >0.5070</td>\n",
       "      <td id=\"T_95472_row1_col8\" class=\"data row1 col8\" >0.0420</td>\n",
       "    </tr>\n",
       "    <tr>\n",
       "      <th id=\"T_95472_level0_row2\" class=\"row_heading level0 row2\" >lightgbm</th>\n",
       "      <td id=\"T_95472_row2_col0\" class=\"data row2 col0\" >Light Gradient Boosting Machine</td>\n",
       "      <td id=\"T_95472_row2_col1\" class=\"data row2 col1\" >0.7344</td>\n",
       "      <td id=\"T_95472_row2_col2\" class=\"data row2 col2\" >0.8367</td>\n",
       "      <td id=\"T_95472_row2_col3\" class=\"data row2 col3\" >0.7020</td>\n",
       "      <td id=\"T_95472_row2_col4\" class=\"data row2 col4\" >0.7558</td>\n",
       "      <td id=\"T_95472_row2_col5\" class=\"data row2 col5\" >0.7259</td>\n",
       "      <td id=\"T_95472_row2_col6\" class=\"data row2 col6\" >0.4689</td>\n",
       "      <td id=\"T_95472_row2_col7\" class=\"data row2 col7\" >0.4729</td>\n",
       "      <td id=\"T_95472_row2_col8\" class=\"data row2 col8\" >0.1400</td>\n",
       "    </tr>\n",
       "    <tr>\n",
       "      <th id=\"T_95472_level0_row3\" class=\"row_heading level0 row3\" >rf</th>\n",
       "      <td id=\"T_95472_row3_col0\" class=\"data row3 col0\" >Random Forest Classifier</td>\n",
       "      <td id=\"T_95472_row3_col1\" class=\"data row3 col1\" >0.7291</td>\n",
       "      <td id=\"T_95472_row3_col2\" class=\"data row3 col2\" >0.8221</td>\n",
       "      <td id=\"T_95472_row3_col3\" class=\"data row3 col3\" >0.6091</td>\n",
       "      <td id=\"T_95472_row3_col4\" class=\"data row3 col4\" >0.8022</td>\n",
       "      <td id=\"T_95472_row3_col5\" class=\"data row3 col5\" >0.6897</td>\n",
       "      <td id=\"T_95472_row3_col6\" class=\"data row3 col6\" >0.4567</td>\n",
       "      <td id=\"T_95472_row3_col7\" class=\"data row3 col7\" >0.4721</td>\n",
       "      <td id=\"T_95472_row3_col8\" class=\"data row3 col8\" >0.0650</td>\n",
       "    </tr>\n",
       "    <tr>\n",
       "      <th id=\"T_95472_level0_row4\" class=\"row_heading level0 row4\" >ridge</th>\n",
       "      <td id=\"T_95472_row4_col0\" class=\"data row4 col0\" >Ridge Classifier</td>\n",
       "      <td id=\"T_95472_row4_col1\" class=\"data row4 col1\" >0.7209</td>\n",
       "      <td id=\"T_95472_row4_col2\" class=\"data row4 col2\" >0.7545</td>\n",
       "      <td id=\"T_95472_row4_col3\" class=\"data row4 col3\" >0.6968</td>\n",
       "      <td id=\"T_95472_row4_col4\" class=\"data row4 col4\" >0.7363</td>\n",
       "      <td id=\"T_95472_row4_col5\" class=\"data row4 col5\" >0.7128</td>\n",
       "      <td id=\"T_95472_row4_col6\" class=\"data row4 col6\" >0.4417</td>\n",
       "      <td id=\"T_95472_row4_col7\" class=\"data row4 col7\" >0.4459</td>\n",
       "      <td id=\"T_95472_row4_col8\" class=\"data row4 col8\" >0.0230</td>\n",
       "    </tr>\n",
       "    <tr>\n",
       "      <th id=\"T_95472_level0_row5\" class=\"row_heading level0 row5\" >gbc</th>\n",
       "      <td id=\"T_95472_row5_col0\" class=\"data row5 col0\" >Gradient Boosting Classifier</td>\n",
       "      <td id=\"T_95472_row5_col1\" class=\"data row5 col1\" >0.7206</td>\n",
       "      <td id=\"T_95472_row5_col2\" class=\"data row5 col2\" >0.8115</td>\n",
       "      <td id=\"T_95472_row5_col3\" class=\"data row5 col3\" >0.6798</td>\n",
       "      <td id=\"T_95472_row5_col4\" class=\"data row5 col4\" >0.7411</td>\n",
       "      <td id=\"T_95472_row5_col5\" class=\"data row5 col5\" >0.7081</td>\n",
       "      <td id=\"T_95472_row5_col6\" class=\"data row5 col6\" >0.4407</td>\n",
       "      <td id=\"T_95472_row5_col7\" class=\"data row5 col7\" >0.4432</td>\n",
       "      <td id=\"T_95472_row5_col8\" class=\"data row5 col8\" >0.7100</td>\n",
       "    </tr>\n",
       "    <tr>\n",
       "      <th id=\"T_95472_level0_row6\" class=\"row_heading level0 row6\" >lda</th>\n",
       "      <td id=\"T_95472_row6_col0\" class=\"data row6 col0\" >Linear Discriminant Analysis</td>\n",
       "      <td id=\"T_95472_row6_col1\" class=\"data row6 col1\" >0.7074</td>\n",
       "      <td id=\"T_95472_row6_col2\" class=\"data row6 col2\" >0.7194</td>\n",
       "      <td id=\"T_95472_row6_col3\" class=\"data row6 col3\" >0.6690</td>\n",
       "      <td id=\"T_95472_row6_col4\" class=\"data row6 col4\" >0.7332</td>\n",
       "      <td id=\"T_95472_row6_col5\" class=\"data row6 col5\" >0.6916</td>\n",
       "      <td id=\"T_95472_row6_col6\" class=\"data row6 col6\" >0.4143</td>\n",
       "      <td id=\"T_95472_row6_col7\" class=\"data row6 col7\" >0.4227</td>\n",
       "      <td id=\"T_95472_row6_col8\" class=\"data row6 col8\" >0.0270</td>\n",
       "    </tr>\n",
       "    <tr>\n",
       "      <th id=\"T_95472_level0_row7\" class=\"row_heading level0 row7\" >ada</th>\n",
       "      <td id=\"T_95472_row7_col0\" class=\"data row7 col0\" >Ada Boost Classifier</td>\n",
       "      <td id=\"T_95472_row7_col1\" class=\"data row7 col1\" >0.6994</td>\n",
       "      <td id=\"T_95472_row7_col2\" class=\"data row7 col2\" >0.7628</td>\n",
       "      <td id=\"T_95472_row7_col3\" class=\"data row7 col3\" >0.6658</td>\n",
       "      <td id=\"T_95472_row7_col4\" class=\"data row7 col4\" >0.7291</td>\n",
       "      <td id=\"T_95472_row7_col5\" class=\"data row7 col5\" >0.6873</td>\n",
       "      <td id=\"T_95472_row7_col6\" class=\"data row7 col6\" >0.3999</td>\n",
       "      <td id=\"T_95472_row7_col7\" class=\"data row7 col7\" >0.4102</td>\n",
       "      <td id=\"T_95472_row7_col8\" class=\"data row7 col8\" >0.1600</td>\n",
       "    </tr>\n",
       "    <tr>\n",
       "      <th id=\"T_95472_level0_row8\" class=\"row_heading level0 row8\" >dt</th>\n",
       "      <td id=\"T_95472_row8_col0\" class=\"data row8 col0\" >Decision Tree Classifier</td>\n",
       "      <td id=\"T_95472_row8_col1\" class=\"data row8 col1\" >0.6719</td>\n",
       "      <td id=\"T_95472_row8_col2\" class=\"data row8 col2\" >0.6719</td>\n",
       "      <td id=\"T_95472_row8_col3\" class=\"data row8 col3\" >0.6316</td>\n",
       "      <td id=\"T_95472_row8_col4\" class=\"data row8 col4\" >0.6907</td>\n",
       "      <td id=\"T_95472_row8_col5\" class=\"data row8 col5\" >0.6567</td>\n",
       "      <td id=\"T_95472_row8_col6\" class=\"data row8 col6\" >0.3435</td>\n",
       "      <td id=\"T_95472_row8_col7\" class=\"data row8 col7\" >0.3477</td>\n",
       "      <td id=\"T_95472_row8_col8\" class=\"data row8 col8\" >0.0360</td>\n",
       "    </tr>\n",
       "    <tr>\n",
       "      <th id=\"T_95472_level0_row9\" class=\"row_heading level0 row9\" >nb</th>\n",
       "      <td id=\"T_95472_row9_col0\" class=\"data row9 col0\" >Naive Bayes</td>\n",
       "      <td id=\"T_95472_row9_col1\" class=\"data row9 col1\" >0.6505</td>\n",
       "      <td id=\"T_95472_row9_col2\" class=\"data row9 col2\" >0.6554</td>\n",
       "      <td id=\"T_95472_row9_col3\" class=\"data row9 col3\" >0.4360</td>\n",
       "      <td id=\"T_95472_row9_col4\" class=\"data row9 col4\" >0.7510</td>\n",
       "      <td id=\"T_95472_row9_col5\" class=\"data row9 col5\" >0.5453</td>\n",
       "      <td id=\"T_95472_row9_col6\" class=\"data row9 col6\" >0.2998</td>\n",
       "      <td id=\"T_95472_row9_col7\" class=\"data row9 col7\" >0.3280</td>\n",
       "      <td id=\"T_95472_row9_col8\" class=\"data row9 col8\" >0.0230</td>\n",
       "    </tr>\n",
       "    <tr>\n",
       "      <th id=\"T_95472_level0_row10\" class=\"row_heading level0 row10\" >qda</th>\n",
       "      <td id=\"T_95472_row10_col0\" class=\"data row10 col0\" >Quadratic Discriminant Analysis</td>\n",
       "      <td id=\"T_95472_row10_col1\" class=\"data row10 col1\" >0.6450</td>\n",
       "      <td id=\"T_95472_row10_col2\" class=\"data row10 col2\" >0.6913</td>\n",
       "      <td id=\"T_95472_row10_col3\" class=\"data row10 col3\" >0.7178</td>\n",
       "      <td id=\"T_95472_row10_col4\" class=\"data row10 col4\" >0.6658</td>\n",
       "      <td id=\"T_95472_row10_col5\" class=\"data row10 col5\" >0.6433</td>\n",
       "      <td id=\"T_95472_row10_col6\" class=\"data row10 col6\" >0.2874</td>\n",
       "      <td id=\"T_95472_row10_col7\" class=\"data row10 col7\" >0.3534</td>\n",
       "      <td id=\"T_95472_row10_col8\" class=\"data row10 col8\" >0.0350</td>\n",
       "    </tr>\n",
       "    <tr>\n",
       "      <th id=\"T_95472_level0_row11\" class=\"row_heading level0 row11\" >knn</th>\n",
       "      <td id=\"T_95472_row11_col0\" class=\"data row11 col0\" >K Neighbors Classifier</td>\n",
       "      <td id=\"T_95472_row11_col1\" class=\"data row11 col1\" >0.6122</td>\n",
       "      <td id=\"T_95472_row11_col2\" class=\"data row11 col2\" >0.6584</td>\n",
       "      <td id=\"T_95472_row11_col3\" class=\"data row11 col3\" >0.5348</td>\n",
       "      <td id=\"T_95472_row11_col4\" class=\"data row11 col4\" >0.6369</td>\n",
       "      <td id=\"T_95472_row11_col5\" class=\"data row11 col5\" >0.5800</td>\n",
       "      <td id=\"T_95472_row11_col6\" class=\"data row11 col6\" >0.2247</td>\n",
       "      <td id=\"T_95472_row11_col7\" class=\"data row11 col7\" >0.2288</td>\n",
       "      <td id=\"T_95472_row11_col8\" class=\"data row11 col8\" >0.2330</td>\n",
       "    </tr>\n",
       "    <tr>\n",
       "      <th id=\"T_95472_level0_row12\" class=\"row_heading level0 row12\" >svm</th>\n",
       "      <td id=\"T_95472_row12_col0\" class=\"data row12 col0\" >SVM - Linear Kernel</td>\n",
       "      <td id=\"T_95472_row12_col1\" class=\"data row12 col1\" >0.5743</td>\n",
       "      <td id=\"T_95472_row12_col2\" class=\"data row12 col2\" >0.6666</td>\n",
       "      <td id=\"T_95472_row12_col3\" class=\"data row12 col3\" >0.4746</td>\n",
       "      <td id=\"T_95472_row12_col4\" class=\"data row12 col4\" >0.7142</td>\n",
       "      <td id=\"T_95472_row12_col5\" class=\"data row12 col5\" >0.4740</td>\n",
       "      <td id=\"T_95472_row12_col6\" class=\"data row12 col6\" >0.1534</td>\n",
       "      <td id=\"T_95472_row12_col7\" class=\"data row12 col7\" >0.2004</td>\n",
       "      <td id=\"T_95472_row12_col8\" class=\"data row12 col8\" >0.0230</td>\n",
       "    </tr>\n",
       "    <tr>\n",
       "      <th id=\"T_95472_level0_row13\" class=\"row_heading level0 row13\" >dummy</th>\n",
       "      <td id=\"T_95472_row13_col0\" class=\"data row13 col0\" >Dummy Classifier</td>\n",
       "      <td id=\"T_95472_row13_col1\" class=\"data row13 col1\" >0.4878</td>\n",
       "      <td id=\"T_95472_row13_col2\" class=\"data row13 col2\" >0.5000</td>\n",
       "      <td id=\"T_95472_row13_col3\" class=\"data row13 col3\" >0.5000</td>\n",
       "      <td id=\"T_95472_row13_col4\" class=\"data row13 col4\" >0.2446</td>\n",
       "      <td id=\"T_95472_row13_col5\" class=\"data row13 col5\" >0.3285</td>\n",
       "      <td id=\"T_95472_row13_col6\" class=\"data row13 col6\" >0.0000</td>\n",
       "      <td id=\"T_95472_row13_col7\" class=\"data row13 col7\" >0.0000</td>\n",
       "      <td id=\"T_95472_row13_col8\" class=\"data row13 col8\" >0.0300</td>\n",
       "    </tr>\n",
       "  </tbody>\n",
       "</table>\n"
      ]
     },
     "metadata": {},
     "output_type": "display_data"
    },
    {
     "name": "stderr",
     "output_type": "stream",
     "text": [
      "2025/04/09 00:00:23 WARNING mlflow.models.model: Model logged without a signature and input example. Please set `input_example` parameter when logging the model to auto infer the model signature.\n",
      "2025/04/09 00:00:23 WARNING mlflow.models.model: Model logged without a signature and input example. Please set `input_example` parameter when logging the model to auto infer the model signature.\n",
      "2025/04/09 00:00:24 WARNING mlflow.models.model: Model logged without a signature and input example. Please set `input_example` parameter when logging the model to auto infer the model signature.\n",
      "2025/04/09 00:00:24 WARNING mlflow.models.model: Model logged without a signature and input example. Please set `input_example` parameter when logging the model to auto infer the model signature.\n",
      "2025/04/09 00:00:24 WARNING mlflow.models.model: Model logged without a signature and input example. Please set `input_example` parameter when logging the model to auto infer the model signature.\n",
      "2025/04/09 00:00:25 WARNING mlflow.models.model: Model logged without a signature and input example. Please set `input_example` parameter when logging the model to auto infer the model signature.\n",
      "2025/04/09 00:00:25 WARNING mlflow.models.model: Model logged without a signature and input example. Please set `input_example` parameter when logging the model to auto infer the model signature.\n",
      "2025/04/09 00:00:25 WARNING mlflow.models.model: Model logged without a signature and input example. Please set `input_example` parameter when logging the model to auto infer the model signature.\n",
      "2025/04/09 00:00:26 WARNING mlflow.models.model: Model logged without a signature and input example. Please set `input_example` parameter when logging the model to auto infer the model signature.\n",
      "2025/04/09 00:00:26 WARNING mlflow.models.model: Model logged without a signature and input example. Please set `input_example` parameter when logging the model to auto infer the model signature.\n",
      "2025/04/09 00:00:26 WARNING mlflow.models.model: Model logged without a signature and input example. Please set `input_example` parameter when logging the model to auto infer the model signature.\n",
      "2025/04/09 00:00:27 WARNING mlflow.models.model: Model logged without a signature and input example. Please set `input_example` parameter when logging the model to auto infer the model signature.\n",
      "2025/04/09 00:00:27 WARNING mlflow.models.model: Model logged without a signature and input example. Please set `input_example` parameter when logging the model to auto infer the model signature.\n",
      "2025/04/09 00:00:27 WARNING mlflow.models.model: Model logged without a signature and input example. Please set `input_example` parameter when logging the model to auto infer the model signature.\n"
     ]
    }
   ],
   "execution_count": 20
  },
  {
   "metadata": {
    "ExecuteTime": {
     "end_time": "2025-04-09T05:01:16.260828Z",
     "start_time": "2025-04-09T05:01:14.285481Z"
    }
   },
   "cell_type": "code",
   "source": "best_model = create_model('lr')",
   "id": "51010e775125589d",
   "outputs": [
    {
     "data": {
      "text/plain": [
       "                                                                    \n",
       "                                                                    \n",
       "Initiated  . . . . . . . . . . . . . . . . . .              00:01:14\n",
       "Status     . . . . . . . . . . . . . . . . . .  Loading Dependencies\n",
       "Estimator  . . . . . . . . . . . . . . . . . .     Compiling Library"
      ],
      "text/html": [
       "<div>\n",
       "<style scoped>\n",
       "    .dataframe tbody tr th:only-of-type {\n",
       "        vertical-align: middle;\n",
       "    }\n",
       "\n",
       "    .dataframe tbody tr th {\n",
       "        vertical-align: top;\n",
       "    }\n",
       "\n",
       "    .dataframe thead th {\n",
       "        text-align: right;\n",
       "    }\n",
       "</style>\n",
       "<table border=\"1\" class=\"dataframe\">\n",
       "  <thead>\n",
       "    <tr style=\"text-align: right;\">\n",
       "      <th></th>\n",
       "      <th></th>\n",
       "      <th></th>\n",
       "    </tr>\n",
       "    <tr>\n",
       "      <th></th>\n",
       "      <th></th>\n",
       "      <th></th>\n",
       "    </tr>\n",
       "  </thead>\n",
       "  <tbody>\n",
       "    <tr>\n",
       "      <th>Initiated</th>\n",
       "      <td>. . . . . . . . . . . . . . . . . .</td>\n",
       "      <td>00:01:14</td>\n",
       "    </tr>\n",
       "    <tr>\n",
       "      <th>Status</th>\n",
       "      <td>. . . . . . . . . . . . . . . . . .</td>\n",
       "      <td>Loading Dependencies</td>\n",
       "    </tr>\n",
       "    <tr>\n",
       "      <th>Estimator</th>\n",
       "      <td>. . . . . . . . . . . . . . . . . .</td>\n",
       "      <td>Compiling Library</td>\n",
       "    </tr>\n",
       "  </tbody>\n",
       "</table>\n",
       "</div>"
      ]
     },
     "metadata": {},
     "output_type": "display_data"
    },
    {
     "data": {
      "text/plain": [
       "<IPython.core.display.HTML object>"
      ],
      "text/html": []
     },
     "metadata": {},
     "output_type": "display_data"
    },
    {
     "data": {
      "text/plain": [
       "<pandas.io.formats.style.Styler at 0x21fd238c0d0>"
      ],
      "text/html": [
       "<style type=\"text/css\">\n",
       "#T_b24a9_row10_col0, #T_b24a9_row10_col1, #T_b24a9_row10_col2, #T_b24a9_row10_col3, #T_b24a9_row10_col4, #T_b24a9_row10_col5, #T_b24a9_row10_col6 {\n",
       "  background: yellow;\n",
       "}\n",
       "</style>\n",
       "<table id=\"T_b24a9\">\n",
       "  <thead>\n",
       "    <tr>\n",
       "      <th class=\"blank level0\" >&nbsp;</th>\n",
       "      <th id=\"T_b24a9_level0_col0\" class=\"col_heading level0 col0\" >Accuracy</th>\n",
       "      <th id=\"T_b24a9_level0_col1\" class=\"col_heading level0 col1\" >AUC</th>\n",
       "      <th id=\"T_b24a9_level0_col2\" class=\"col_heading level0 col2\" >Recall</th>\n",
       "      <th id=\"T_b24a9_level0_col3\" class=\"col_heading level0 col3\" >Prec.</th>\n",
       "      <th id=\"T_b24a9_level0_col4\" class=\"col_heading level0 col4\" >F1</th>\n",
       "      <th id=\"T_b24a9_level0_col5\" class=\"col_heading level0 col5\" >Kappa</th>\n",
       "      <th id=\"T_b24a9_level0_col6\" class=\"col_heading level0 col6\" >MCC</th>\n",
       "    </tr>\n",
       "    <tr>\n",
       "      <th class=\"index_name level0\" >Fold</th>\n",
       "      <th class=\"blank col0\" >&nbsp;</th>\n",
       "      <th class=\"blank col1\" >&nbsp;</th>\n",
       "      <th class=\"blank col2\" >&nbsp;</th>\n",
       "      <th class=\"blank col3\" >&nbsp;</th>\n",
       "      <th class=\"blank col4\" >&nbsp;</th>\n",
       "      <th class=\"blank col5\" >&nbsp;</th>\n",
       "      <th class=\"blank col6\" >&nbsp;</th>\n",
       "    </tr>\n",
       "  </thead>\n",
       "  <tbody>\n",
       "    <tr>\n",
       "      <th id=\"T_b24a9_level0_row0\" class=\"row_heading level0 row0\" >0</th>\n",
       "      <td id=\"T_b24a9_row0_col0\" class=\"data row0 col0\" >0.8378</td>\n",
       "      <td id=\"T_b24a9_row0_col1\" class=\"data row0 col1\" >0.8480</td>\n",
       "      <td id=\"T_b24a9_row0_col2\" class=\"data row0 col2\" >0.7368</td>\n",
       "      <td id=\"T_b24a9_row0_col3\" class=\"data row0 col3\" >0.9333</td>\n",
       "      <td id=\"T_b24a9_row0_col4\" class=\"data row0 col4\" >0.8235</td>\n",
       "      <td id=\"T_b24a9_row0_col5\" class=\"data row0 col5\" >0.6773</td>\n",
       "      <td id=\"T_b24a9_row0_col6\" class=\"data row0 col6\" >0.6936</td>\n",
       "    </tr>\n",
       "    <tr>\n",
       "      <th id=\"T_b24a9_level0_row1\" class=\"row_heading level0 row1\" >1</th>\n",
       "      <td id=\"T_b24a9_row1_col0\" class=\"data row1 col0\" >0.7027</td>\n",
       "      <td id=\"T_b24a9_row1_col1\" class=\"data row1 col1\" >0.8158</td>\n",
       "      <td id=\"T_b24a9_row1_col2\" class=\"data row1 col2\" >0.6842</td>\n",
       "      <td id=\"T_b24a9_row1_col3\" class=\"data row1 col3\" >0.7222</td>\n",
       "      <td id=\"T_b24a9_row1_col4\" class=\"data row1 col4\" >0.7027</td>\n",
       "      <td id=\"T_b24a9_row1_col5\" class=\"data row1 col5\" >0.4058</td>\n",
       "      <td id=\"T_b24a9_row1_col6\" class=\"data row1 col6\" >0.4064</td>\n",
       "    </tr>\n",
       "    <tr>\n",
       "      <th id=\"T_b24a9_level0_row2\" class=\"row_heading level0 row2\" >2</th>\n",
       "      <td id=\"T_b24a9_row2_col0\" class=\"data row2 col0\" >0.7838</td>\n",
       "      <td id=\"T_b24a9_row2_col1\" class=\"data row2 col1\" >0.8129</td>\n",
       "      <td id=\"T_b24a9_row2_col2\" class=\"data row2 col2\" >0.7895</td>\n",
       "      <td id=\"T_b24a9_row2_col3\" class=\"data row2 col3\" >0.7895</td>\n",
       "      <td id=\"T_b24a9_row2_col4\" class=\"data row2 col4\" >0.7895</td>\n",
       "      <td id=\"T_b24a9_row2_col5\" class=\"data row2 col5\" >0.5673</td>\n",
       "      <td id=\"T_b24a9_row2_col6\" class=\"data row2 col6\" >0.5673</td>\n",
       "    </tr>\n",
       "    <tr>\n",
       "      <th id=\"T_b24a9_level0_row3\" class=\"row_heading level0 row3\" >3</th>\n",
       "      <td id=\"T_b24a9_row3_col0\" class=\"data row3 col0\" >0.7838</td>\n",
       "      <td id=\"T_b24a9_row3_col1\" class=\"data row3 col1\" >0.9240</td>\n",
       "      <td id=\"T_b24a9_row3_col2\" class=\"data row3 col2\" >0.7895</td>\n",
       "      <td id=\"T_b24a9_row3_col3\" class=\"data row3 col3\" >0.7895</td>\n",
       "      <td id=\"T_b24a9_row3_col4\" class=\"data row3 col4\" >0.7895</td>\n",
       "      <td id=\"T_b24a9_row3_col5\" class=\"data row3 col5\" >0.5673</td>\n",
       "      <td id=\"T_b24a9_row3_col6\" class=\"data row3 col6\" >0.5673</td>\n",
       "    </tr>\n",
       "    <tr>\n",
       "      <th id=\"T_b24a9_level0_row4\" class=\"row_heading level0 row4\" >4</th>\n",
       "      <td id=\"T_b24a9_row4_col0\" class=\"data row4 col0\" >0.7568</td>\n",
       "      <td id=\"T_b24a9_row4_col1\" class=\"data row4 col1\" >0.8684</td>\n",
       "      <td id=\"T_b24a9_row4_col2\" class=\"data row4 col2\" >0.8421</td>\n",
       "      <td id=\"T_b24a9_row4_col3\" class=\"data row4 col3\" >0.7273</td>\n",
       "      <td id=\"T_b24a9_row4_col4\" class=\"data row4 col4\" >0.7805</td>\n",
       "      <td id=\"T_b24a9_row4_col5\" class=\"data row4 col5\" >0.5110</td>\n",
       "      <td id=\"T_b24a9_row4_col6\" class=\"data row4 col6\" >0.5179</td>\n",
       "    </tr>\n",
       "    <tr>\n",
       "      <th id=\"T_b24a9_level0_row5\" class=\"row_heading level0 row5\" >5</th>\n",
       "      <td id=\"T_b24a9_row5_col0\" class=\"data row5 col0\" >0.6216</td>\n",
       "      <td id=\"T_b24a9_row5_col1\" class=\"data row5 col1\" >0.7047</td>\n",
       "      <td id=\"T_b24a9_row5_col2\" class=\"data row5 col2\" >0.5556</td>\n",
       "      <td id=\"T_b24a9_row5_col3\" class=\"data row5 col3\" >0.6250</td>\n",
       "      <td id=\"T_b24a9_row5_col4\" class=\"data row5 col4\" >0.5882</td>\n",
       "      <td id=\"T_b24a9_row5_col5\" class=\"data row5 col5\" >0.2405</td>\n",
       "      <td id=\"T_b24a9_row5_col6\" class=\"data row5 col6\" >0.2419</td>\n",
       "    </tr>\n",
       "    <tr>\n",
       "      <th id=\"T_b24a9_level0_row6\" class=\"row_heading level0 row6\" >6</th>\n",
       "      <td id=\"T_b24a9_row6_col0\" class=\"data row6 col0\" >0.7027</td>\n",
       "      <td id=\"T_b24a9_row6_col1\" class=\"data row6 col1\" >0.8333</td>\n",
       "      <td id=\"T_b24a9_row6_col2\" class=\"data row6 col2\" >0.8333</td>\n",
       "      <td id=\"T_b24a9_row6_col3\" class=\"data row6 col3\" >0.6522</td>\n",
       "      <td id=\"T_b24a9_row6_col4\" class=\"data row6 col4\" >0.7317</td>\n",
       "      <td id=\"T_b24a9_row6_col5\" class=\"data row6 col5\" >0.4093</td>\n",
       "      <td id=\"T_b24a9_row6_col6\" class=\"data row6 col6\" >0.4249</td>\n",
       "    </tr>\n",
       "    <tr>\n",
       "      <th id=\"T_b24a9_level0_row7\" class=\"row_heading level0 row7\" >7</th>\n",
       "      <td id=\"T_b24a9_row7_col0\" class=\"data row7 col0\" >0.8108</td>\n",
       "      <td id=\"T_b24a9_row7_col1\" class=\"data row7 col1\" >0.8655</td>\n",
       "      <td id=\"T_b24a9_row7_col2\" class=\"data row7 col2\" >0.7222</td>\n",
       "      <td id=\"T_b24a9_row7_col3\" class=\"data row7 col3\" >0.8667</td>\n",
       "      <td id=\"T_b24a9_row7_col4\" class=\"data row7 col4\" >0.7879</td>\n",
       "      <td id=\"T_b24a9_row7_col5\" class=\"data row7 col5\" >0.6197</td>\n",
       "      <td id=\"T_b24a9_row7_col6\" class=\"data row7 col6\" >0.6281</td>\n",
       "    </tr>\n",
       "    <tr>\n",
       "      <th id=\"T_b24a9_level0_row8\" class=\"row_heading level0 row8\" >8</th>\n",
       "      <td id=\"T_b24a9_row8_col0\" class=\"data row8 col0\" >0.6757</td>\n",
       "      <td id=\"T_b24a9_row8_col1\" class=\"data row8 col1\" >0.7193</td>\n",
       "      <td id=\"T_b24a9_row8_col2\" class=\"data row8 col2\" >0.6667</td>\n",
       "      <td id=\"T_b24a9_row8_col3\" class=\"data row8 col3\" >0.6667</td>\n",
       "      <td id=\"T_b24a9_row8_col4\" class=\"data row8 col4\" >0.6667</td>\n",
       "      <td id=\"T_b24a9_row8_col5\" class=\"data row8 col5\" >0.3509</td>\n",
       "      <td id=\"T_b24a9_row8_col6\" class=\"data row8 col6\" >0.3509</td>\n",
       "    </tr>\n",
       "    <tr>\n",
       "      <th id=\"T_b24a9_level0_row9\" class=\"row_heading level0 row9\" >9</th>\n",
       "      <td id=\"T_b24a9_row9_col0\" class=\"data row9 col0\" >0.8333</td>\n",
       "      <td id=\"T_b24a9_row9_col1\" class=\"data row9 col1\" >0.8858</td>\n",
       "      <td id=\"T_b24a9_row9_col2\" class=\"data row9 col2\" >0.8333</td>\n",
       "      <td id=\"T_b24a9_row9_col3\" class=\"data row9 col3\" >0.8333</td>\n",
       "      <td id=\"T_b24a9_row9_col4\" class=\"data row9 col4\" >0.8333</td>\n",
       "      <td id=\"T_b24a9_row9_col5\" class=\"data row9 col5\" >0.6667</td>\n",
       "      <td id=\"T_b24a9_row9_col6\" class=\"data row9 col6\" >0.6667</td>\n",
       "    </tr>\n",
       "    <tr>\n",
       "      <th id=\"T_b24a9_level0_row10\" class=\"row_heading level0 row10\" >Mean</th>\n",
       "      <td id=\"T_b24a9_row10_col0\" class=\"data row10 col0\" >0.7509</td>\n",
       "      <td id=\"T_b24a9_row10_col1\" class=\"data row10 col1\" >0.8278</td>\n",
       "      <td id=\"T_b24a9_row10_col2\" class=\"data row10 col2\" >0.7453</td>\n",
       "      <td id=\"T_b24a9_row10_col3\" class=\"data row10 col3\" >0.7606</td>\n",
       "      <td id=\"T_b24a9_row10_col4\" class=\"data row10 col4\" >0.7493</td>\n",
       "      <td id=\"T_b24a9_row10_col5\" class=\"data row10 col5\" >0.5016</td>\n",
       "      <td id=\"T_b24a9_row10_col6\" class=\"data row10 col6\" >0.5065</td>\n",
       "    </tr>\n",
       "    <tr>\n",
       "      <th id=\"T_b24a9_level0_row11\" class=\"row_heading level0 row11\" >Std</th>\n",
       "      <td id=\"T_b24a9_row11_col0\" class=\"data row11 col0\" >0.0687</td>\n",
       "      <td id=\"T_b24a9_row11_col1\" class=\"data row11 col1\" >0.0659</td>\n",
       "      <td id=\"T_b24a9_row11_col2\" class=\"data row11 col2\" >0.0868</td>\n",
       "      <td id=\"T_b24a9_row11_col3\" class=\"data row11 col3\" >0.0947</td>\n",
       "      <td id=\"T_b24a9_row11_col4\" class=\"data row11 col4\" >0.0732</td>\n",
       "      <td id=\"T_b24a9_row11_col5\" class=\"data row11 col5\" >0.1376</td>\n",
       "      <td id=\"T_b24a9_row11_col6\" class=\"data row11 col6\" >0.1392</td>\n",
       "    </tr>\n",
       "  </tbody>\n",
       "</table>\n"
      ]
     },
     "metadata": {},
     "output_type": "display_data"
    },
    {
     "name": "stderr",
     "output_type": "stream",
     "text": [
      "2025/04/09 00:01:15 WARNING mlflow.models.model: Model logged without a signature and input example. Please set `input_example` parameter when logging the model to auto infer the model signature.\n"
     ]
    }
   ],
   "execution_count": 23
  },
  {
   "metadata": {
    "ExecuteTime": {
     "end_time": "2025-04-09T05:01:23.958635Z",
     "start_time": "2025-04-09T05:01:23.303799Z"
    }
   },
   "cell_type": "code",
   "source": "plot_model(best_model, plot='confusion_matrix')",
   "id": "ba2400e650184b3c",
   "outputs": [
    {
     "data": {
      "text/plain": [
       "<IPython.core.display.HTML object>"
      ],
      "text/html": []
     },
     "metadata": {},
     "output_type": "display_data"
    },
    {
     "data": {
      "text/plain": [
       "<Figure size 800x550 with 1 Axes>"
      ],
      "image/png": "[encoded data removed]"
     },
     "metadata": {},
     "output_type": "display_data"
    }
   ],
   "execution_count": 24
  }
 ],
 "metadata": {
  "kernelspec": {
   "display_name": "Python 3",
   "language": "python",
   "name": "python3"
  },
  "language_info": {
   "codemirror_mode": {
    "name": "ipython",
    "version": 2
   },
   "file_extension": ".py",
   "mimetype": "text/x-python",
   "name": "python",
   "nbconvert_exporter": "python",
   "pygments_lexer": "ipython2",
   "version": "2.7.6"
  }
 },
 "nbformat": 4,
 "nbformat_minor": 5
}
