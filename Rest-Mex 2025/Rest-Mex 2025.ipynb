{
  "nbformat": 4,
  "nbformat_minor": 0,
  "metadata": {
    "colab": {
      "provenance": []
    },
    "kernelspec": {
      "name": "python3",
      "display_name": "Python 3"
    },
    "language_info": {
      "name": "python"
    }
  },
  "cells": [
    {
      "cell_type": "code",
      "execution_count": null,
      "metadata": {
        "colab": {
          "base_uri": "https://localhost:8080/"
        },
        "id": "HopLls-FUlIk",
        "outputId": "62e533c5-35df-48b5-fb6e-79e36324b97a"
      },
      "outputs": [
        {
          "output_type": "stream",
          "name": "stdout",
          "text": [
            "Drive already mounted at /content/drive; to attempt to forcibly remount, call drive.mount(\"/content/drive\", force_remount=True).\n"
          ]
        }
      ],
      "source": [
        "# prompt: importa una carpeta de google drive de mi cuenta, llamada reto_life_clef\n",
        "from google.colab import drive\n",
        "drive.mount('/content/drive')"
      ]
    },
    {
      "cell_type": "code",
      "source": [
        "!ls /content/drive/MyDrive/clef/"
      ],
      "metadata": {
        "id": "5HtlWBNLVL7B",
        "outputId": "7e0d039d-bca2-4195-e0e3-df4b7611b597",
        "colab": {
          "base_uri": "https://localhost:8080/"
        }
      },
      "execution_count": null,
      "outputs": [
        {
          "output_type": "stream",
          "name": "stdout",
          "text": [
            "'Colab Notebooks'\t  Rest-Mex_2025_test.xlsx    test.csv\n",
            " combined_data.xlsx\t  Rest-Mex_2025_train.xlsx   validation.csv\n",
            " Iberlef_v4_final.ipynb   SemEval_v8.ipynb\n"
          ]
        }
      ]
    },
    {
      "cell_type": "code",
      "source": [
        "# spaCy y modelo en español\n",
        "!pip install -U spacy\n",
        "!python -m spacy download es_core_news_sm\n",
        "\n",
        "# imbalanced-learn (para SMOTE, RandomOverSampler, etc.)\n",
        "!pip install -U imbalanced-learn\n",
        "\n",
        "# transformers (Hugging Face)\n",
        "!pip install -U transformers\n"
      ],
      "metadata": {
        "colab": {
          "base_uri": "https://localhost:8080/"
        },
        "id": "4HjLY2JJ800S",
        "outputId": "6edb9b5b-1887-4edf-8c68-703f6cb60557"
      },
      "execution_count": null,
      "outputs": [
        {
          "output_type": "stream",
          "name": "stdout",
          "text": [
            "Requirement already satisfied: spacy in /usr/local/lib/python3.11/dist-packages (3.8.5)\n",
            "Requirement already satisfied: spacy-legacy<3.1.0,>=3.0.11 in /usr/local/lib/python3.11/dist-packages (from spacy) (3.0.12)\n",
            "Requirement already satisfied: spacy-loggers<2.0.0,>=1.0.0 in /usr/local/lib/python3.11/dist-packages (from spacy) (1.0.5)\n",
            "Requirement already satisfied: murmurhash<1.1.0,>=0.28.0 in /usr/local/lib/python3.11/dist-packages (from spacy) (1.0.12)\n",
            "Requirement already satisfied: cymem<2.1.0,>=2.0.2 in /usr/local/lib/python3.11/dist-packages (from spacy) (2.0.11)\n",
            "Requirement already satisfied: preshed<3.1.0,>=3.0.2 in /usr/local/lib/python3.11/dist-packages (from spacy) (3.0.9)\n",
            "Requirement already satisfied: thinc<8.4.0,>=8.3.4 in /usr/local/lib/python3.11/dist-packages (from spacy) (8.3.6)\n",
            "Requirement already satisfied: wasabi<1.2.0,>=0.9.1 in /usr/local/lib/python3.11/dist-packages (from spacy) (1.1.3)\n",
            "Requirement already satisfied: srsly<3.0.0,>=2.4.3 in /usr/local/lib/python3.11/dist-packages (from spacy) (2.5.1)\n",
            "Requirement already satisfied: catalogue<2.1.0,>=2.0.6 in /usr/local/lib/python3.11/dist-packages (from spacy) (2.0.10)\n",
            "Requirement already satisfied: weasel<0.5.0,>=0.1.0 in /usr/local/lib/python3.11/dist-packages (from spacy) (0.4.1)\n",
            "Requirement already satisfied: typer<1.0.0,>=0.3.0 in /usr/local/lib/python3.11/dist-packages (from spacy) (0.15.3)\n",
            "Requirement already satisfied: tqdm<5.0.0,>=4.38.0 in /usr/local/lib/python3.11/dist-packages (from spacy) (4.67.1)\n",
            "Requirement already satisfied: numpy>=1.19.0 in /usr/local/lib/python3.11/dist-packages (from spacy) (2.0.2)\n",
            "Requirement already satisfied: requests<3.0.0,>=2.13.0 in /usr/local/lib/python3.11/dist-packages (from spacy) (2.32.3)\n",
            "Requirement already satisfied: pydantic!=1.8,!=1.8.1,<3.0.0,>=1.7.4 in /usr/local/lib/python3.11/dist-packages (from spacy) (2.11.4)\n",
            "Requirement already satisfied: jinja2 in /usr/local/lib/python3.11/dist-packages (from spacy) (3.1.6)\n",
            "Requirement already satisfied: setuptools in /usr/local/lib/python3.11/dist-packages (from spacy) (75.2.0)\n",
            "Requirement already satisfied: packaging>=20.0 in /usr/local/lib/python3.11/dist-packages (from spacy) (24.2)\n",
            "Requirement already satisfied: langcodes<4.0.0,>=3.2.0 in /usr/local/lib/python3.11/dist-packages (from spacy) (3.5.0)\n",
            "Requirement already satisfied: language-data>=1.2 in /usr/local/lib/python3.11/dist-packages (from langcodes<4.0.0,>=3.2.0->spacy) (1.3.0)\n",
            "Requirement already satisfied: annotated-types>=0.6.0 in /usr/local/lib/python3.11/dist-packages (from pydantic!=1.8,!=1.8.1,<3.0.0,>=1.7.4->spacy) (0.7.0)\n",
            "Requirement already satisfied: pydantic-core==2.33.2 in /usr/local/lib/python3.11/dist-packages (from pydantic!=1.8,!=1.8.1,<3.0.0,>=1.7.4->spacy) (2.33.2)\n",
            "Requirement already satisfied: typing-extensions>=4.12.2 in /usr/local/lib/python3.11/dist-packages (from pydantic!=1.8,!=1.8.1,<3.0.0,>=1.7.4->spacy) (4.13.2)\n",
            "Requirement already satisfied: typing-inspection>=0.4.0 in /usr/local/lib/python3.11/dist-packages (from pydantic!=1.8,!=1.8.1,<3.0.0,>=1.7.4->spacy) (0.4.0)\n",
            "Requirement already satisfied: charset-normalizer<4,>=2 in /usr/local/lib/python3.11/dist-packages (from requests<3.0.0,>=2.13.0->spacy) (3.4.1)\n",
            "Requirement already satisfied: idna<4,>=2.5 in /usr/local/lib/python3.11/dist-packages (from requests<3.0.0,>=2.13.0->spacy) (3.10)\n",
            "Requirement already satisfied: urllib3<3,>=1.21.1 in /usr/local/lib/python3.11/dist-packages (from requests<3.0.0,>=2.13.0->spacy) (2.4.0)\n",
            "Requirement already satisfied: certifi>=2017.4.17 in /usr/local/lib/python3.11/dist-packages (from requests<3.0.0,>=2.13.0->spacy) (2025.4.26)\n",
            "Requirement already satisfied: blis<1.4.0,>=1.3.0 in /usr/local/lib/python3.11/dist-packages (from thinc<8.4.0,>=8.3.4->spacy) (1.3.0)\n",
            "Requirement already satisfied: confection<1.0.0,>=0.0.1 in /usr/local/lib/python3.11/dist-packages (from thinc<8.4.0,>=8.3.4->spacy) (0.1.5)\n",
            "Requirement already satisfied: click>=8.0.0 in /usr/local/lib/python3.11/dist-packages (from typer<1.0.0,>=0.3.0->spacy) (8.1.8)\n",
            "Requirement already satisfied: shellingham>=1.3.0 in /usr/local/lib/python3.11/dist-packages (from typer<1.0.0,>=0.3.0->spacy) (1.5.4)\n",
            "Requirement already satisfied: rich>=10.11.0 in /usr/local/lib/python3.11/dist-packages (from typer<1.0.0,>=0.3.0->spacy) (13.9.4)\n",
            "Requirement already satisfied: cloudpathlib<1.0.0,>=0.7.0 in /usr/local/lib/python3.11/dist-packages (from weasel<0.5.0,>=0.1.0->spacy) (0.21.0)\n",
            "Requirement already satisfied: smart-open<8.0.0,>=5.2.1 in /usr/local/lib/python3.11/dist-packages (from weasel<0.5.0,>=0.1.0->spacy) (7.1.0)\n",
            "Requirement already satisfied: MarkupSafe>=2.0 in /usr/local/lib/python3.11/dist-packages (from jinja2->spacy) (3.0.2)\n",
            "Requirement already satisfied: marisa-trie>=1.1.0 in /usr/local/lib/python3.11/dist-packages (from language-data>=1.2->langcodes<4.0.0,>=3.2.0->spacy) (1.2.1)\n",
            "Requirement already satisfied: markdown-it-py>=2.2.0 in /usr/local/lib/python3.11/dist-packages (from rich>=10.11.0->typer<1.0.0,>=0.3.0->spacy) (3.0.0)\n",
            "Requirement already satisfied: pygments<3.0.0,>=2.13.0 in /usr/local/lib/python3.11/dist-packages (from rich>=10.11.0->typer<1.0.0,>=0.3.0->spacy) (2.19.1)\n",
            "Requirement already satisfied: wrapt in /usr/local/lib/python3.11/dist-packages (from smart-open<8.0.0,>=5.2.1->weasel<0.5.0,>=0.1.0->spacy) (1.17.2)\n",
            "Requirement already satisfied: mdurl~=0.1 in /usr/local/lib/python3.11/dist-packages (from markdown-it-py>=2.2.0->rich>=10.11.0->typer<1.0.0,>=0.3.0->spacy) (0.1.2)\n",
            "Collecting es-core-news-sm==3.8.0\n",
            "  Downloading https://github.com/explosion/spacy-models/releases/download/es_core_news_sm-3.8.0/es_core_news_sm-3.8.0-py3-none-any.whl (12.9 MB)\n",
            "\u001b[2K     \u001b[90m━━━━━━━━━━━━━━━━━━━━━━━━━━━━━━━━━━━━━━━━\u001b[0m \u001b[32m12.9/12.9 MB\u001b[0m \u001b[31m46.4 MB/s\u001b[0m eta \u001b[36m0:00:00\u001b[0m\n",
            "\u001b[?25h\u001b[38;5;2m✔ Download and installation successful\u001b[0m\n",
            "You can now load the package via spacy.load('es_core_news_sm')\n",
            "\u001b[38;5;3m⚠ Restart to reload dependencies\u001b[0m\n",
            "If you are in a Jupyter or Colab notebook, you may need to restart Python in\n",
            "order to load all the package's dependencies. You can do this by selecting the\n",
            "'Restart kernel' or 'Restart runtime' option.\n",
            "Requirement already satisfied: imbalanced-learn in /usr/local/lib/python3.11/dist-packages (0.13.0)\n",
            "Requirement already satisfied: numpy<3,>=1.24.3 in /usr/local/lib/python3.11/dist-packages (from imbalanced-learn) (2.0.2)\n",
            "Requirement already satisfied: scipy<2,>=1.10.1 in /usr/local/lib/python3.11/dist-packages (from imbalanced-learn) (1.15.2)\n",
            "Requirement already satisfied: scikit-learn<2,>=1.3.2 in /usr/local/lib/python3.11/dist-packages (from imbalanced-learn) (1.6.1)\n",
            "Requirement already satisfied: sklearn-compat<1,>=0.1 in /usr/local/lib/python3.11/dist-packages (from imbalanced-learn) (0.1.3)\n",
            "Requirement already satisfied: joblib<2,>=1.1.1 in /usr/local/lib/python3.11/dist-packages (from imbalanced-learn) (1.4.2)\n",
            "Requirement already satisfied: threadpoolctl<4,>=2.0.0 in /usr/local/lib/python3.11/dist-packages (from imbalanced-learn) (3.6.0)\n",
            "Requirement already satisfied: transformers in /usr/local/lib/python3.11/dist-packages (4.51.3)\n",
            "Requirement already satisfied: filelock in /usr/local/lib/python3.11/dist-packages (from transformers) (3.18.0)\n",
            "Requirement already satisfied: huggingface-hub<1.0,>=0.30.0 in /usr/local/lib/python3.11/dist-packages (from transformers) (0.30.2)\n",
            "Requirement already satisfied: numpy>=1.17 in /usr/local/lib/python3.11/dist-packages (from transformers) (2.0.2)\n",
            "Requirement already satisfied: packaging>=20.0 in /usr/local/lib/python3.11/dist-packages (from transformers) (24.2)\n",
            "Requirement already satisfied: pyyaml>=5.1 in /usr/local/lib/python3.11/dist-packages (from transformers) (6.0.2)\n",
            "Requirement already satisfied: regex!=2019.12.17 in /usr/local/lib/python3.11/dist-packages (from transformers) (2024.11.6)\n",
            "Requirement already satisfied: requests in /usr/local/lib/python3.11/dist-packages (from transformers) (2.32.3)\n",
            "Requirement already satisfied: tokenizers<0.22,>=0.21 in /usr/local/lib/python3.11/dist-packages (from transformers) (0.21.1)\n",
            "Requirement already satisfied: safetensors>=0.4.3 in /usr/local/lib/python3.11/dist-packages (from transformers) (0.5.3)\n",
            "Requirement already satisfied: tqdm>=4.27 in /usr/local/lib/python3.11/dist-packages (from transformers) (4.67.1)\n",
            "Requirement already satisfied: fsspec>=2023.5.0 in /usr/local/lib/python3.11/dist-packages (from huggingface-hub<1.0,>=0.30.0->transformers) (2025.3.2)\n",
            "Requirement already satisfied: typing-extensions>=3.7.4.3 in /usr/local/lib/python3.11/dist-packages (from huggingface-hub<1.0,>=0.30.0->transformers) (4.13.2)\n",
            "Requirement already satisfied: charset-normalizer<4,>=2 in /usr/local/lib/python3.11/dist-packages (from requests->transformers) (3.4.1)\n",
            "Requirement already satisfied: idna<4,>=2.5 in /usr/local/lib/python3.11/dist-packages (from requests->transformers) (3.10)\n",
            "Requirement already satisfied: urllib3<3,>=1.21.1 in /usr/local/lib/python3.11/dist-packages (from requests->transformers) (2.4.0)\n",
            "Requirement already satisfied: certifi>=2017.4.17 in /usr/local/lib/python3.11/dist-packages (from requests->transformers) (2025.4.26)\n"
          ]
        }
      ]
    },
    {
      "cell_type": "code",
      "source": [
        "# Procesamiento de datos y visualización\n",
        "import pandas as pd\n",
        "import numpy as np\n",
        "import matplotlib.pyplot as plt\n",
        "\n",
        "# NLP\n",
        "import re\n",
        "import unicodedata\n",
        "import spacy\n",
        "import nltk\n",
        "from nltk import TweetTokenizer\n",
        "from nltk.util import ngrams\n",
        "nlp = spacy.load(\"es_core_news_sm\")\n",
        "\n",
        "# Balanceo de clases\n",
        "from imblearn.over_sampling import SMOTE\n",
        "from imblearn.over_sampling import RandomOverSampler\n",
        "from imblearn.under_sampling import CondensedNearestNeighbour\n",
        "from imblearn.under_sampling import RandomUnderSampler\n",
        "\n",
        "# Modelado y preprocesamiento\n",
        "from sklearn.model_selection import train_test_split\n",
        "from sklearn.feature_extraction.text import TfidfVectorizer\n",
        "from sklearn.pipeline import Pipeline as SklearnPipeline\n",
        "from sklearn.base import BaseEstimator, ClassifierMixin\n",
        "from sklearn.preprocessing import LabelEncoder\n",
        "from sklearn.ensemble import RandomForestClassifier\n",
        "\n",
        "# Deep Learning y Transformers\n",
        "import torch\n",
        "import torch.nn as nn\n",
        "from torch.utils.data import DataLoader\n",
        "\n",
        "from transformers import BertTokenizerFast\n",
        "from transformers import BertForTokenClassification\n",
        "from transformers import BertConfig\n",
        "from transformers import AutoTokenizer\n",
        "from transformers import AutoModelForSequenceClassification\n",
        "\n",
        "# Progreso\n",
        "from tqdm import tqdm"
      ],
      "metadata": {
        "id": "0qRLHzfW81Hw"
      },
      "execution_count": null,
      "outputs": []
    },
    {
      "cell_type": "code",
      "source": [
        "\n",
        "# [IMPORTS Y CONFIGURACIONES]\n",
        "import pandas as pd\n",
        "import numpy as np\n",
        "import matplotlib.pyplot as plt\n",
        "import re\n",
        "import unicodedata\n",
        "import spacy\n",
        "import nltk\n",
        "from nltk import TweetTokenizer\n",
        "from nltk.util import ngrams\n",
        "\n",
        "import torch\n",
        "import torch.nn as nn\n",
        "from torch.utils.data import DataLoader\n",
        "from tqdm import tqdm\n",
        "\n",
        "# Balanceo de clases\n",
        "from imblearn.over_sampling import SMOTE, RandomOverSampler\n",
        "from imblearn.under_sampling import CondensedNearestNeighbour, RandomUnderSampler\n",
        "\n",
        "# Modelado y preprocesamiento\n",
        "from sklearn.model_selection import train_test_split\n",
        "from sklearn.pipeline import Pipeline as SklearnPipeline\n",
        "from sklearn.base import BaseEstimator, ClassifierMixin\n",
        "from sklearn.preprocessing import LabelEncoder\n",
        "from sklearn.metrics import precision_score, recall_score, f1_score\n",
        "# Deep Learning y Transformers\n",
        "from transformers import AutoConfig\n",
        "\n",
        "# Deep Learning y Transformers\n",
        "from transformers import BertTokenizerFast, BertForTokenClassification, BertConfig, AutoTokenizer, AutoModelForSequenceClassification\n",
        "\n",
        "# Cargar el modelo de spaCy (asegúrate de tener instalado \"es_core_news_sm\")\n",
        "nlp = spacy.load(\"es_core_news_sm\")\n",
        "\n",
        "# %% [CLASE DE PREPROCESAMIENTO]\n",
        "class TextProcessing(object):\n",
        "    name = 'Text Processing'\n",
        "    lang = 'es'\n",
        "\n",
        "    def __init__(self, lang: str = 'es'):\n",
        "        self.lang = lang\n",
        "\n",
        "    @staticmethod\n",
        "    def load_spacy(lang: str) -> object:\n",
        "        try:\n",
        "            spacy_model = {'es': 'es_core_web_sm'}\n",
        "            if not spacy.util.is_package(spacy_model[lang]):\n",
        "                spacy.cli.download(spacy_model[lang])\n",
        "            component = spacy.load(spacy_model[lang])\n",
        "            return component\n",
        "        except Exception as e:\n",
        "            print('Error load spacy: {0}'.format(e))\n",
        "\n",
        "    @staticmethod\n",
        "    def proper_encoding(text: str) -> str:\n",
        "        if not isinstance(text, str):\n",
        "            return ''  # Return an empty string or handle it as needed\n",
        "        try:\n",
        "            text = unicodedata.normalize('NFD', text)\n",
        "            text = text.encode('ascii', 'ignore')\n",
        "            return text.decode(\"utf-8\")\n",
        "        except Exception as e:\n",
        "            print('Error proper_encoding: {0}'.format(e))\n",
        "            return text  # Return the original text in case of error\n",
        "\n",
        "    @staticmethod\n",
        "    def remove_patterns(text: str) -> str:\n",
        "        if not isinstance(text, str):\n",
        "            return ''  # Return an empty string or handle it as needed\n",
        "        try:\n",
        "            text = re.sub(r'\\©|\\×|\\⇔|\\_|\\»|\\«|\\~|\\#|\\$|\\€|\\Â|\\�|\\¬', '', text)\n",
        "            text = re.sub(r'\\,|\\;|\\:|\\!|\\¡|\\’|\\‘|\\”|\\“|\\\"|\\'|\\`', '', text)\n",
        "            text = re.sub(r'\\}|\\{|\\[|\\]|\\(|\\)|\\<|\\>|\\?|\\¿|\\°|\\|', '', text)\n",
        "            text = re.sub(r'\\/|\\-|\\+|\\*|\\=|\\^|\\%|\\&|\\$', '', text)\n",
        "            text = re.sub(r'\\b\\d+(?:\\.\\d+)?\\s+', '', text)\n",
        "            return text.lower()\n",
        "        except Exception as e:\n",
        "            print('Error remove_patterns: {0}'.format(e))\n",
        "            return text  # Return the original text in case of error\n",
        "\n",
        "    @staticmethod\n",
        "    def transformer(text: str, stopwords: bool = False) -> str:\n",
        "        if not isinstance(text, str):\n",
        "            return ''  # Return an empty string or handle it as needed\n",
        "        try:\n",
        "            text_out = TextProcessing.proper_encoding(text)\n",
        "            text_out = text_out.lower()\n",
        "            text_out = re.sub(\"[\\U0001f000-\\U000e007f]\", '[EMOJI]', text_out)\n",
        "            text_out = re.sub(\n",
        "                r'(?i)\\b((?:https?://|www\\d{0,3}[.]|[a-z0-9.\\-]+[.][a-z]{2,4}/)'\n",
        "                r'(?:[^\\s()<>]+|\\(([^\\s()<>]+|(\\([^\\s()<>]+\\)))*\\))+'\n",
        "                r'(?:\\(([^\\s()<>]+|(\\([^\\s()<>]+\\)))*\\)|[^\\s`!()\\[\\]{};:\\'\".,<>?«»“”‘’]))',\n",
        "                '[URL]', text_out)\n",
        "            text_out = re.sub(\"@([A-Za-z0-9_]{1,40})\", '[MENTION]', text_out)\n",
        "            text_out = re.sub(\"#([A-Za-z0-9_]{1,40})\", '[HASTAG]', text_out)\n",
        "            text_out = TextProcessing.remove_patterns(text_out)\n",
        "            text_out = TextProcessing.stopwords(text_out) if stopwords else text_out\n",
        "            text_out = re.sub(r'\\s+', ' ', text_out).strip()\n",
        "            return text_out if text_out != ' ' else None\n",
        "        except Exception as e:\n",
        "            print('Error transformer: {0}'.format(e))\n",
        "            return text  # Return the original text in case of error\n",
        "\n"
      ],
      "metadata": {
        "id": "C2ZseN049CiS"
      },
      "execution_count": null,
      "outputs": []
    },
    {
      "cell_type": "code",
      "source": [
        "\n",
        "# [CLASES Y FUNCIONES ORIGINALES]\n",
        "\n",
        "# --- Dataset y Dataloader para Polarity ---\n",
        "class SentimentDataset(torch.utils.data.Dataset):\n",
        "    def __init__(self, texts, targets, tokenizer, max_length):\n",
        "        self.texts = texts\n",
        "        self.targets = targets\n",
        "        self.tokenizer = tokenizer\n",
        "        self.max_length = max_length\n",
        "\n",
        "    def __len__(self):\n",
        "        return len(self.texts)\n",
        "\n",
        "    def __getitem__(self, idx):\n",
        "        text = str(self.texts.iloc[idx]) if isinstance(self.texts, pd.Series) else str(self.texts[idx])\n",
        "        encoding = self.tokenizer(\n",
        "            text,\n",
        "            truncation=True,\n",
        "            padding='max_length',\n",
        "            max_length=self.max_length,\n",
        "            return_tensors='pt'\n",
        "        )\n",
        "        item = {key: val.squeeze(0) for key, val in encoding.items()}\n",
        "        target = self.targets.iloc[idx] if hasattr(self.targets, 'iloc') else self.targets[idx]\n",
        "        item['target'] = torch.tensor(target, dtype=torch.long)\n",
        "        return item\n",
        "\n",
        "def create_dataloader_sentiment(texts, targets, tokenizer, batch_size, max_length, shuffle=True):\n",
        "    dataset = SentimentDataset(texts, targets, tokenizer, max_length)\n",
        "    return DataLoader(dataset, batch_size=batch_size, shuffle=shuffle)\n",
        "\n",
        "\n",
        "# --- Estimador personalizado para Polarity (BetoEstimator) con atención ---\n",
        "class BetoEstimator(BaseEstimator, ClassifierMixin):\n",
        "    def __init__(self, model_name=\"dccuchile/bert-base-spanish-wwm-uncased\", device=None,\n",
        "                 lr=2e-5, wd=0.01, num_epochs=2, batch_size=8, sentence_max_length=500):\n",
        "        self.model_name = model_name\n",
        "        self.device = device if device is not None else (\"cuda\" if torch.cuda.is_available() else \"cpu\")\n",
        "        self.lr = lr\n",
        "        self.wd = wd\n",
        "        self.num_epochs = num_epochs\n",
        "        self.batch_size = batch_size\n",
        "        self.sentence_max_length = sentence_max_length\n",
        "\n",
        "    def fit(self, X, y):\n",
        "        # --- activar salida de atenciones ---\n",
        "        cfg = AutoConfig.from_pretrained(self.model_name, output_attentions=True)\n",
        "        cfg.num_labels = 5\n",
        "        self.tokenizer = AutoTokenizer.from_pretrained(self.model_name)\n",
        "        self.model = AutoModelForSequenceClassification.from_pretrained(\n",
        "            self.model_name, config=cfg, ignore_mismatched_sizes=True\n",
        "        ).to(self.device)\n",
        "\n",
        "        train_loader = create_dataloader_sentiment(\n",
        "            X, y, self.tokenizer, self.batch_size, self.sentence_max_length, shuffle=True\n",
        "        )\n",
        "\n",
        "        optimizer = torch.optim.AdamW(self.model.parameters(), lr=self.lr, weight_decay=self.wd)\n",
        "        loss_fn = nn.CrossEntropyLoss()\n",
        "\n",
        "        self.model.train()\n",
        "        for epoch in range(self.num_epochs):\n",
        "            epoch_loss = 0\n",
        "            for batch in tqdm(train_loader, desc=f\"Polarity - Epoch {epoch+1}/{self.num_epochs}\"):\n",
        "                input_ids = batch['input_ids'].to(self.device)\n",
        "                attention_mask = batch['attention_mask'].to(self.device)\n",
        "                targets = batch['target'].to(self.device)\n",
        "                optimizer.zero_grad()\n",
        "                outputs = self.model(\n",
        "                    input_ids=input_ids,\n",
        "                    attention_mask=attention_mask\n",
        "                )\n",
        "                # capturar atenciones si las necesitas:\n",
        "                attentions = outputs.attentions\n",
        "                logits = outputs.logits\n",
        "                loss = loss_fn(logits, targets)\n",
        "                loss.backward()\n",
        "                optimizer.step()\n",
        "                epoch_loss += loss.item()\n",
        "            avg_loss = epoch_loss / len(train_loader)\n",
        "            print(f\"Polarity - Epoch {epoch+1}/{self.num_epochs} - Loss: {avg_loss:.4f}\")\n",
        "        return self\n",
        "\n",
        "    def predict(self, X):\n",
        "        self.model.eval()\n",
        "        loader = create_dataloader_sentiment(\n",
        "            X, [0]*len(X), self.tokenizer, self.batch_size, self.sentence_max_length, shuffle=False\n",
        "        )\n",
        "        preds = []\n",
        "        with torch.no_grad():\n",
        "            for batch in tqdm(loader, desc=\"Polarity - Predicting\"):\n",
        "                input_ids = batch['input_ids'].to(self.device)\n",
        "                attention_mask = batch['attention_mask'].to(self.device)\n",
        "                outputs = self.model(input_ids=input_ids, attention_mask=attention_mask)\n",
        "                attentions = outputs.attentions\n",
        "                logits = outputs.logits\n",
        "                batch_preds = torch.argmax(logits, dim=1).cpu().numpy()\n",
        "                preds.extend(batch_preds)\n",
        "        return np.array(preds)\n",
        "\n",
        "\n",
        "# --- Dataset y Dataloader para Type y Town ---\n",
        "class TextDataset(torch.utils.data.Dataset):\n",
        "    def __init__(self, texts, targets, tokenizer, max_length):\n",
        "        \"\"\"\n",
        "        texts: DataFrame con múltiples columnas. Se usa la columna \"Combined\" para tokenizar.\n",
        "        targets: etiquetas numéricas.\n",
        "        \"\"\"\n",
        "        self.texts = texts\n",
        "        self.targets = targets\n",
        "        self.tokenizer = tokenizer\n",
        "        self.max_length = max_length\n",
        "\n",
        "    def __len__(self):\n",
        "        return len(self.targets)\n",
        "\n",
        "    def __getitem__(self, idx):\n",
        "        text = str(self.texts.iloc[idx]['Combined'])\n",
        "        encoding = self.tokenizer(\n",
        "            text,\n",
        "            truncation=True,\n",
        "            padding='max_length',\n",
        "            max_length=self.max_length,\n",
        "            return_tensors='pt'\n",
        "        )\n",
        "        item = {key: val.squeeze(0) for key, val in encoding.items()}\n",
        "        target = self.targets.iloc[idx] if hasattr(self.targets, 'iloc') else self.targets[idx]\n",
        "        item['target'] = torch.tensor(target, dtype=torch.long)\n",
        "        return item\n",
        "\n",
        "def create_dataloader_text(texts, targets, tokenizer, batch_size, max_length, shuffle=True):\n",
        "    dataset = TextDataset(texts, targets, tokenizer, max_length)\n",
        "    return DataLoader(dataset, batch_size=batch_size, shuffle=shuffle)\n",
        "\n",
        "\n",
        "# --- Estimador personalizado para Type y Town (BERT con atención) ---\n",
        "class BertTokenClassifier(BaseEstimator, ClassifierMixin):\n",
        "    def __init__(self, model_name=\"dccuchile/bert-base-spanish-wwm-uncased\", device=None,\n",
        "                 lr=2e-5, wd=0.01, num_epochs=2, batch_size=8, sentence_max_length=500):\n",
        "        self.model_name = model_name\n",
        "        self.device = device if device is not None else (\"cuda\" if torch.cuda.is_available() else \"cpu\")\n",
        "        self.lr = lr\n",
        "        self.wd = wd\n",
        "        self.num_epochs = num_epochs\n",
        "        self.batch_size = batch_size\n",
        "        self.sentence_max_length = sentence_max_length\n",
        "\n",
        "    def fit(self, X, y):\n",
        "        num_labels = len(np.unique(y))\n",
        "        print(\"Número de etiquetas:\", num_labels)\n",
        "\n",
        "        # --- activar salida de atenciones y estados ocultos ---\n",
        "        config = BertConfig.from_pretrained(\n",
        "            self.model_name,\n",
        "            output_attentions=True,\n",
        "            output_hidden_states=True\n",
        "        )\n",
        "        config.num_labels = num_labels\n",
        "        self.tokenizer = BertTokenizerFast.from_pretrained(self.model_name)\n",
        "        self.model = BertForTokenClassification.from_pretrained(\n",
        "            self.model_name,\n",
        "            config=config,\n",
        "            ignore_mismatched_sizes=True\n",
        "        ).to(self.device)\n",
        "\n",
        "        train_loader = create_dataloader_text(\n",
        "            X, y, self.tokenizer, self.batch_size, self.sentence_max_length, shuffle=True\n",
        "        )\n",
        "\n",
        "        optimizer = torch.optim.AdamW(self.model.parameters(), lr=self.lr, weight_decay=self.wd)\n",
        "        loss_fn = nn.CrossEntropyLoss()\n",
        "\n",
        "        self.model.train()\n",
        "        for epoch in range(self.num_epochs):\n",
        "            epoch_loss = 0\n",
        "            for batch in tqdm(train_loader, desc=f\"{self.model_name} - Epoch {epoch+1}/{self.num_epochs}\"):\n",
        "                input_ids = batch['input_ids'].to(self.device)\n",
        "                attention_mask = batch['attention_mask'].to(self.device)\n",
        "                targets = batch['target'].to(self.device)\n",
        "                optimizer.zero_grad()\n",
        "                outputs = self.model(input_ids=input_ids, attention_mask=attention_mask)\n",
        "                attentions = outputs.attentions\n",
        "                logits = outputs.logits[:, 0, :]\n",
        "                loss = loss_fn(logits, targets)\n",
        "                loss.backward()\n",
        "                optimizer.step()\n",
        "                epoch_loss += loss.item()\n",
        "            avg_loss = epoch_loss / len(train_loader)\n",
        "            print(f\"{self.model_name} - Epoch {epoch+1}/{self.num_epochs} - Loss: {avg_loss:.4f}\")\n",
        "        return self\n",
        "\n",
        "    def predict(self, X):\n",
        "        self.model.eval()\n",
        "        loader = create_dataloader_text(\n",
        "            X, [0]*len(X), self.tokenizer, self.batch_size, self.sentence_max_length, shuffle=False\n",
        "        )\n",
        "        preds = []\n",
        "        with torch.no_grad():\n",
        "            for batch in tqdm(loader, desc=f\"{self.model_name} - Predicting\"):\n",
        "                input_ids = batch['input_ids'].to(self.device)\n",
        "                attention_mask = batch['attention_mask'].to(self.device)\n",
        "                outputs = self.model(input_ids=input_ids, attention_mask=attention_mask)\n",
        "                attentions = outputs.attentions\n",
        "                logits = outputs.logits[:, 0, :]\n",
        "                batch_preds = torch.argmax(logits, dim=1).cpu().numpy()\n",
        "                preds.extend(batch_preds)\n",
        "        return np.array(preds)\n",
        "\n",
        "\n",
        "# [MULTITASK PIPELINE: FUTURE UNION DE LAS TAREAS]\n",
        "class MultiTaskPipeline(BaseEstimator):\n",
        "    \"\"\"\n",
        "    Esta clase agrupa en paralelo las tres tareas:\n",
        "      - Polarity: utilizando BetoEstimator con balanceo (con oversampling y undersampling)\n",
        "      - Type: utilizando BertTokenClassifier y mapeo de etiquetas\n",
        "      - Town: utilizando BertTokenClassifier con balanceo (mediante CondensedNearestNeighbour y SMOTE)\n",
        "    \"\"\"\n",
        "    def __init__(self, polarity_estimator, type_estimator, town_estimator, type_mapping=None):\n",
        "        self.polarity_estimator = polarity_estimator\n",
        "        self.type_estimator = type_estimator\n",
        "        self.town_estimator = town_estimator\n",
        "        if type_mapping is None:\n",
        "            self.type_mapping = {0: \"Restaurant\", 1: \"Attractive\", 2: \"Hotel\"}\n",
        "        else:\n",
        "            self.type_mapping = type_mapping\n",
        "\n",
        "    def fit(self, X, y=None):\n",
        "        # --- Pipeline para Polarity (balanceo idéntico) ---\n",
        "        df_polarity = X[['Title', 'Review', 'Polarity']].copy()\n",
        "        df_polarity['Combined'] = df_polarity['Title'].fillna('') + ' ' + df_polarity['Review'].fillna('')\n",
        "        df_polarity['Polarity'] = df_polarity['Polarity'].replace([1,2,3,4,5], [0,1,2,3,4])\n",
        "        X_pol = df_polarity['Combined']\n",
        "        y_pol = df_polarity['Polarity']\n",
        "        X_pol_arr = X_pol.values.reshape(-1, 1)\n",
        "        ros = RandomOverSampler(sampling_strategy='not majority', random_state=42)\n",
        "        X_pol_ros, y_pol_ros = ros.fit_resample(X_pol_arr, y_pol)\n",
        "        rus = RandomUnderSampler(sampling_strategy='not minority', random_state=42)\n",
        "        X_pol_bal, y_pol_bal = rus.fit_resample(X_pol_ros, y_pol_ros)\n",
        "        X_pol_bal = pd.Series(X_pol_bal.ravel())\n",
        "\n",
        "        print(\"Entrenando Polarity...\")\n",
        "        self.polarity_estimator.fit(X_pol_bal, y_pol_bal)\n",
        "\n",
        "        # --- Pipeline para Type (igual que original) ---\n",
        "        df_type = X[['Title', 'Review', 'Town', 'Region', 'Type']].copy()\n",
        "        df_type['Combined'] = df_type['Title'].fillna('') + ' ' + df_type['Review'].fillna('')\n",
        "        label2id = {\"Restaurant\": 0, \"Attractive\": 1, \"Hotel\": 2}\n",
        "        df_type['label'] = df_type['Type'].map(label2id)\n",
        "        X_type = df_type[['Combined', 'Town', 'Region']]\n",
        "        y_type = df_type['label']\n",
        "\n",
        "        print(\"Entrenando Type...\")\n",
        "        self.type_estimator.fit(X_type, y_type)\n",
        "\n",
        "        # --- Pipeline para Town (balanceo idéntico) ---\n",
        "        df_town = X[['Title', 'Review', 'Town', 'Region', 'Type']].copy()\n",
        "        df_town['Combined'] = df_town['Title'].fillna('') + ' ' + df_town['Review'].fillna('')\n",
        "        y_town = df_town['Town']\n",
        "        le_town = LabelEncoder()\n",
        "        y_town_encoded = le_town.fit_transform(y_town)\n",
        "        X_town = df_town[['Combined', 'Town', 'Region']]\n",
        "\n",
        "        data_training = X_town.copy()\n",
        "        data_training['Town'] = df_town['Town']\n",
        "        le_town_bal = LabelEncoder()\n",
        "        le_region = LabelEncoder()\n",
        "        data_training['Town_encoded'] = le_town_bal.fit_transform(data_training['Town'])\n",
        "        data_training['Region_encoded'] = le_region.fit_transform(data_training['Region'])\n",
        "        data_training['Town_target'] = data_training['Town_encoded']\n",
        "        X_numeric = data_training[['Town_encoded', 'Region_encoded']].values\n",
        "        y_numeric = data_training['Town_target'].values\n",
        "        undersampler = CondensedNearestNeighbour(n_neighbors=3, random_state=42)\n",
        "        X_undersampled, y_undersampled = undersampler.fit_resample(X_numeric, y_numeric)\n",
        "        oversampler = SMOTE(random_state=42, sampling_strategy=\"minority\", k_neighbors=1)\n",
        "        X_resampled, y_resampled = oversampler.fit_resample(X_undersampled, y_undersampled)\n",
        "        decoded_towns = le_town_bal.inverse_transform(np.concatenate((y_undersampled, y_resampled)))\n",
        "        unique_towns, counts = np.unique(decoded_towns, return_counts=True)\n",
        "        plt.figure(figsize=(10,6))\n",
        "        plt.bar(unique_towns, counts)\n",
        "        plt.xlabel('Town')\n",
        "        plt.ylabel('Número de Muestras')\n",
        "        plt.title('Distribución en espacio numérico después del balanceo')\n",
        "        plt.xticks(rotation=45, ha='right')\n",
        "        plt.tight_layout()\n",
        "        plt.show()\n",
        "\n",
        "        print(\"Entrenando Town...\")\n",
        "        self.town_estimator.fit(X_town, y_town_encoded)\n",
        "        self.le_town = le_town_bal\n",
        "\n",
        "        return self\n",
        "\n",
        "    def predict(self, X):\n",
        "        # --- Predicción para Polarity ---\n",
        "        df_polarity = X[['Title', 'Review', 'Polarity']].copy()\n",
        "        df_polarity['Combined'] = df_polarity['Title'].fillna('') + ' ' + df_polarity['Review'].fillna('')\n",
        "        X_pol = df_polarity['Combined']\n",
        "        polarity_pred = self.polarity_estimator.predict(X_pol)\n",
        "\n",
        "        # --- Predicción para Type ---\n",
        "        df_type = X[['Title', 'Review', 'Town', 'Region', 'Type']].copy()\n",
        "        df_type['Combined'] = df_type['Title'].fillna('') + ' ' + df_type['Review'].fillna('')\n",
        "        X_type = df_type[['Combined', 'Town', 'Region']]\n",
        "        type_pred = self.type_estimator.predict(X_type)\n",
        "        type_pred_decoded = [self.type_mapping.get(pred, pred) for pred in type_pred]\n",
        "\n",
        "        # --- Predicción para Town ---\n",
        "        df_town = X[['Title', 'Review', 'Town', 'Region', 'Type']].copy()\n",
        "        df_town['Combined'] = df_town['Title'].fillna('') + ' ' + df_town['Review'].fillna('')\n",
        "        X_town = df_town[['Combined', 'Town', 'Region']]\n",
        "        town_pred = self.town_estimator.predict(X_town)\n",
        "        town_pred_decoded = self.le_town.inverse_transform(town_pred)\n",
        "\n",
        "        predictions_df = pd.DataFrame({\n",
        "            'Polarity': polarity_pred,\n",
        "            'Type': type_pred_decoded,\n",
        "            'Town': town_pred_decoded\n",
        "        })\n",
        "        return predictions_df\n",
        "\n",
        "\n",
        "#  [ENTRENAMIENTO, PREDICCIÓN Y EXPORTACIÓN DE RESULTADOS]\n",
        "\n",
        "# Cargar los datos (ajusta la ruta a tus datos)\n",
        "data_path = '/content/drive/MyDrive/clef/Rest-Mex_2025_train.xlsx'\n",
        "df_data = pd.read_excel(data_path)\n",
        "\n",
        "# Muestreo (por ejemplo, 5000 registros)\n",
        "df_muestra = df_data.sample(n=10000, random_state=42)\n",
        "df = df_muestra.copy()\n",
        "\n",
        "# Aplicar preprocesamiento a las columnas 'Review' y 'Title'\n",
        "tp_en = TextProcessing(lang='en')\n",
        "df['Review'] = df['Review'].apply(lambda x: tp_en.transformer(x))\n",
        "df['Title'] = df['Title'].apply(lambda x: tp_en.transformer(x))\n",
        "\n",
        "# Dividir en conjunto de entrenamiento (70%) y prueba (30%)\n",
        "train_df, test_df = train_test_split(df, test_size=0.3, random_state=42)\n",
        "\n",
        "# Instanciar cada estimador con los mismos parámetros de tu código original\n",
        "polarity_estimator = BetoEstimator(\n",
        "    model_name=\"dccuchile/bert-base-spanish-wwm-uncased\",\n",
        "    device=(\"cuda\" if torch.cuda.is_available() else \"cpu\"),\n",
        "    lr=2e-5,\n",
        "    wd=0.01,\n",
        "    num_epochs=4,\n",
        "    batch_size=8,\n",
        "    sentence_max_length=500\n",
        ")\n",
        "\n",
        "type_estimator = BertTokenClassifier(\n",
        "    model_name=\"dccuchile/bert-base-spanish-wwm-uncased\",\n",
        "    device=(\"cuda\" if torch.cuda.is_available() else \"cpu\"),\n",
        "    lr=2e-5,\n",
        "    wd=0.01,\n",
        "    num_epochs=4,\n",
        "    batch_size=8,\n",
        "    sentence_max_length=500\n",
        ")\n",
        "\n",
        "town_estimator = BertTokenClassifier(\n",
        "    model_name=\"dccuchile/bert-base-spanish-wwm-uncased\",\n",
        "    device=(\"cuda\" if torch.cuda.is_available() else \"cpu\"),\n",
        "    lr=2e-5,\n",
        "    wd=0.01,\n",
        "    num_epochs=4,\n",
        "    batch_size=8,\n",
        "    sentence_max_length=500\n",
        ")\n",
        "\n",
        "# Crear el pipeline multi-tarea\n",
        "multi_pipeline = MultiTaskPipeline(\n",
        "    polarity_estimator=polarity_estimator,\n",
        "    type_estimator=type_estimator,\n",
        "    town_estimator=town_estimator\n",
        ")\n",
        "\n",
        "# Entrenar el pipeline con el conjunto de entrenamiento\n",
        "multi_pipeline.fit(train_df)\n",
        "\n",
        "# Realizar predicciones en el conjunto de prueba\n",
        "predictions_df = multi_pipeline.predict(test_df)\n",
        "print(\"Predicciones en el conjunto de prueba:\")\n",
        "print(predictions_df.head())\n",
        "\n",
        "# Exportar las predicciones a un archivo Excel\n",
        "predictions_df.to_excel(\"predictions.xlsx\", index=False)\n",
        "print(\"Archivo Excel 'predictions.xlsx' generado.\")\n",
        "\n",
        "#  [CÁLCULO DE MÉTRICAS]\n",
        "\n",
        "# Métricas para Polarity: convertir las etiquetas verdaderas de 1-5 a 0-4\n",
        "y_true_polarity = test_df['Polarity'].replace({1:0, 2:1, 3:2, 4:3, 5:4}).values\n",
        "y_pred_polarity = predictions_df['Polarity'].values\n",
        "precision_polarity = precision_score(y_true_polarity, y_pred_polarity, average='macro')\n",
        "recall_polarity = recall_score(y_true_polarity, y_pred_polarity, average='macro')\n",
        "f1_polarity = f1_score(y_true_polarity, y_pred_polarity, average='macro')\n",
        "\n",
        "# Métricas para Type (comparando etiquetas de texto)\n",
        "y_true_type = test_df['Type'].values\n",
        "y_pred_type = predictions_df['Type'].values\n",
        "precision_type = precision_score(y_true_type, y_pred_type, average='macro', zero_division=0)\n",
        "recall_type = recall_score(y_true_type, y_pred_type, average='macro', zero_division=0)\n",
        "f1_type = f1_score(y_true_type, y_pred_type, average='macro', zero_division=0)\n",
        "\n",
        "# Métricas para Town\n",
        "y_true_town = test_df['Town'].values\n",
        "y_pred_town = predictions_df['Town'].values\n",
        "precision_town = precision_score(y_true_town, y_pred_town, average='macro', zero_division=0)\n",
        "recall_town = recall_score(y_true_town, y_pred_town, average='macro', zero_division=0)\n",
        "f1_town = f1_score(y_true_town, y_pred_town, average='macro', zero_division=0)\n",
        "\n",
        "# Métricas generales (promedio de las tres tareas)\n",
        "precision_overall = np.mean([precision_polarity, precision_type, precision_town])\n",
        "recall_overall = np.mean([recall_polarity, recall_type, recall_town])\n",
        "f1_overall = np.mean([f1_polarity, f1_type, f1_town])\n",
        "\n",
        "print(\"\\nMétricas de Polarity:\")\n",
        "print(f\"Precisión (macro): {precision_polarity:.4f}\")\n",
        "print(f\"Recall (macro): {recall_polarity:.4f}\")\n",
        "print(f\"F1-score (macro): {f1_polarity:.4f}\")\n",
        "\n",
        "print(\"\\nMétricas de Type:\")\n",
        "print(f\"Precisión (macro): {precision_type:.4f}\")\n",
        "print(f\"Recall (macro): {recall_type:.4f}\")\n",
        "print(f\"F1-score (macro): {f1_type:.4f}\")\n",
        "\n",
        "print(\"\\nMétricas de Town:\")\n",
        "print(f\"Precisión (macro): {precision_town:.4f}\")\n",
        "print(f\"Recall (macro): {recall_town:.4f}\")\n",
        "print(f\"F1-score (macro): {f1_town:.4f}\")\n",
        "\n",
        "print(\"\\nMétricas generales (promedio de las tareas):\")\n",
        "print(f\"Precisión general: {precision_overall:.4f}\")\n",
        "print(f\"Recall general: {recall_overall:.4f}\")\n",
        "print(f\"F1-score general: {f1_overall:.4f}\")"
      ],
      "metadata": {
        "colab": {
          "base_uri": "https://localhost:8080/",
          "height": 1000
        },
        "id": "moef2VtgLnBB",
        "outputId": "858d2b28-2802-4650-c400-884eceaf86a2"
      },
      "execution_count": null,
      "outputs": [
        {
          "metadata": {
            "tags": null
          },
          "name": "stdout",
          "output_type": "stream",
          "text": [
            "Entrenando Polarity...\n"
          ]
        },
        {
          "metadata": {
            "tags": null
          },
          "name": "stderr",
          "output_type": "stream",
          "text": [
            "/usr/local/lib/python3.11/dist-packages/huggingface_hub/utils/_auth.py:94: UserWarning: \n",
            "The secret `HF_TOKEN` does not exist in your Colab secrets.\n",
            "To authenticate with the Hugging Face Hub, create a token in your settings tab (https://huggingface.co/settings/tokens), set it as secret in your Google Colab and restart your session.\n",
            "You will be able to reuse this secret in all of your notebooks.\n",
            "Please note that authentication is recommended but still optional to access public models or datasets.\n",
            "  warnings.warn(\n",
            "Some weights of BertForSequenceClassification were not initialized from the model checkpoint at dccuchile/bert-base-spanish-wwm-uncased and are newly initialized: ['bert.pooler.dense.bias', 'bert.pooler.dense.weight', 'classifier.bias', 'classifier.weight']\n",
            "You should probably TRAIN this model on a down-stream task to be able to use it for predictions and inference.\n",
            "Polarity - Epoch 1/4:   0%|          | 0/2858 [00:00<?, ?it/s]BertSdpaSelfAttention is used but `torch.nn.functional.scaled_dot_product_attention` does not support non-absolute `position_embedding_type` or `output_attentions=True` or `head_mask`. Falling back to the manual attention implementation, but specifying the manual implementation will be required from Transformers version v5.0.0 onwards. This warning can be removed using the argument `attn_implementation=\"eager\"` when loading the model.\n",
            "Polarity - Epoch 1/4: 100%|██████████| 2858/2858 [34:24<00:00,  1.38it/s]\n"
          ]
        },
        {
          "metadata": {
            "tags": null
          },
          "name": "stdout",
          "output_type": "stream",
          "text": [
            "Polarity - Epoch 1/4 - Loss: 0.4469\n"
          ]
        },
        {
          "metadata": {
            "tags": null
          },
          "name": "stderr",
          "output_type": "stream",
          "text": [
            "Polarity - Epoch 2/4: 100%|██████████| 2858/2858 [34:24<00:00,  1.38it/s]\n"
          ]
        },
        {
          "metadata": {
            "tags": null
          },
          "name": "stdout",
          "output_type": "stream",
          "text": [
            "Polarity - Epoch 2/4 - Loss: 0.1736\n"
          ]
        },
        {
          "metadata": {
            "tags": null
          },
          "name": "stderr",
          "output_type": "stream",
          "text": [
            "Polarity - Epoch 3/4: 100%|██████████| 2858/2858 [34:24<00:00,  1.38it/s]\n"
          ]
        },
        {
          "metadata": {
            "tags": null
          },
          "name": "stdout",
          "output_type": "stream",
          "text": [
            "Polarity - Epoch 3/4 - Loss: 0.0971\n"
          ]
        },
        {
          "metadata": {
            "tags": null
          },
          "name": "stderr",
          "output_type": "stream",
          "text": [
            "Polarity - Epoch 4/4: 100%|██████████| 2858/2858 [34:24<00:00,  1.38it/s]\n"
          ]
        },
        {
          "metadata": {
            "tags": null
          },
          "name": "stdout",
          "output_type": "stream",
          "text": [
            "Polarity - Epoch 4/4 - Loss: 0.0562\n",
            "Entrenando Type...\n",
            "Número de etiquetas: 3\n"
          ]
        },
        {
          "metadata": {
            "tags": null
          },
          "name": "stderr",
          "output_type": "stream",
          "text": [
            "Some weights of BertForTokenClassification were not initialized from the model checkpoint at dccuchile/bert-base-spanish-wwm-uncased and are newly initialized: ['classifier.bias', 'classifier.weight']\n",
            "You should probably TRAIN this model on a down-stream task to be able to use it for predictions and inference.\n",
            "dccuchile/bert-base-spanish-wwm-uncased - Epoch 1/4: 100%|██████████| 875/875 [10:31<00:00,  1.39it/s]\n"
          ]
        },
        {
          "metadata": {
            "tags": null
          },
          "name": "stdout",
          "output_type": "stream",
          "text": [
            "dccuchile/bert-base-spanish-wwm-uncased - Epoch 1/4 - Loss: 0.1872\n"
          ]
        },
        {
          "metadata": {
            "tags": null
          },
          "name": "stderr",
          "output_type": "stream",
          "text": [
            "dccuchile/bert-base-spanish-wwm-uncased - Epoch 2/4: 100%|██████████| 875/875 [10:30<00:00,  1.39it/s]\n"
          ]
        },
        {
          "metadata": {
            "tags": null
          },
          "name": "stdout",
          "output_type": "stream",
          "text": [
            "dccuchile/bert-base-spanish-wwm-uncased - Epoch 2/4 - Loss: 0.0751\n"
          ]
        },
        {
          "metadata": {
            "tags": null
          },
          "name": "stderr",
          "output_type": "stream",
          "text": [
            "dccuchile/bert-base-spanish-wwm-uncased - Epoch 3/4: 100%|██████████| 875/875 [10:30<00:00,  1.39it/s]\n"
          ]
        },
        {
          "metadata": {
            "tags": null
          },
          "name": "stdout",
          "output_type": "stream",
          "text": [
            "dccuchile/bert-base-spanish-wwm-uncased - Epoch 3/4 - Loss: 0.0398\n"
          ]
        },
        {
          "metadata": {
            "tags": null
          },
          "name": "stderr",
          "output_type": "stream",
          "text": [
            "dccuchile/bert-base-spanish-wwm-uncased - Epoch 4/4: 100%|██████████| 875/875 [10:30<00:00,  1.39it/s]\n"
          ]
        },
        {
          "metadata": {
            "tags": null
          },
          "name": "stdout",
          "output_type": "stream",
          "text": [
            "dccuchile/bert-base-spanish-wwm-uncased - Epoch 4/4 - Loss: 0.0306\n"
          ]
        },
        {
          "data": {
            "image/png": "[encoded data removed]",
            "text/plain": [
              "<Figure size 1000x600 with 1 Axes>"
            ]
          },
          "metadata": {},
          "output_type": "display_data"
        },
        {
          "metadata": {
            "tags": null
          },
          "name": "stdout",
          "output_type": "stream",
          "text": [
            "Entrenando Town...\n",
            "Número de etiquetas: 40\n"
          ]
        },
        {
          "metadata": {
            "tags": null
          },
          "name": "stderr",
          "output_type": "stream",
          "text": [
            "Some weights of BertForTokenClassification were not initialized from the model checkpoint at dccuchile/bert-base-spanish-wwm-uncased and are newly initialized: ['classifier.bias', 'classifier.weight']\n",
            "You should probably TRAIN this model on a down-stream task to be able to use it for predictions and inference.\n",
            "dccuchile/bert-base-spanish-wwm-uncased - Epoch 1/4: 100%|██████████| 875/875 [10:31<00:00,  1.39it/s]\n"
          ]
        },
        {
          "metadata": {
            "tags": null
          },
          "name": "stdout",
          "output_type": "stream",
          "text": [
            "dccuchile/bert-base-spanish-wwm-uncased - Epoch 1/4 - Loss: 2.1411\n"
          ]
        },
        {
          "metadata": {
            "tags": null
          },
          "name": "stderr",
          "output_type": "stream",
          "text": [
            "dccuchile/bert-base-spanish-wwm-uncased - Epoch 2/4: 100%|██████████| 875/875 [10:31<00:00,  1.39it/s]\n"
          ]
        },
        {
          "metadata": {
            "tags": null
          },
          "name": "stdout",
          "output_type": "stream",
          "text": [
            "dccuchile/bert-base-spanish-wwm-uncased - Epoch 2/4 - Loss: 1.4050\n"
          ]
        },
        {
          "output_type": "stream",
          "name": "stderr",
          "text": [
            "dccuchile/bert-base-spanish-wwm-uncased - Epoch 3/4: 100%|██████████| 875/875 [10:31<00:00,  1.38it/s]\n"
          ]
        },
        {
          "output_type": "stream",
          "name": "stdout",
          "text": [
            "dccuchile/bert-base-spanish-wwm-uncased - Epoch 3/4 - Loss: 0.9377\n"
          ]
        },
        {
          "output_type": "stream",
          "name": "stderr",
          "text": [
            "dccuchile/bert-base-spanish-wwm-uncased - Epoch 4/4: 100%|██████████| 875/875 [10:32<00:00,  1.38it/s]\n"
          ]
        },
        {
          "output_type": "stream",
          "name": "stdout",
          "text": [
            "dccuchile/bert-base-spanish-wwm-uncased - Epoch 4/4 - Loss: 0.5331\n"
          ]
        },
        {
          "output_type": "stream",
          "name": "stderr",
          "text": [
            "Polarity - Predicting: 100%|██████████| 375/375 [01:38<00:00,  3.80it/s]\n",
            "dccuchile/bert-base-spanish-wwm-uncased - Predicting: 100%|██████████| 375/375 [01:38<00:00,  3.80it/s]\n",
            "dccuchile/bert-base-spanish-wwm-uncased - Predicting: 100%|██████████| 375/375 [01:38<00:00,  3.80it/s]\n"
          ]
        },
        {
          "output_type": "stream",
          "name": "stdout",
          "text": [
            "Predicciones en el conjunto de prueba:\n",
            "   Polarity        Type          Town\n",
            "0         4  Attractive  Isla_Mujeres\n",
            "1         3       Hotel      Palenque\n",
            "2         4       Hotel        Loreto\n",
            "3         3  Attractive         Tulum\n",
            "4         3       Hotel        Bernal\n",
            "Archivo Excel 'predictions.xlsx' generado.\n",
            "\n",
            "Métricas de Polarity:\n",
            "Precisión (macro): 0.5826\n",
            "Recall (macro): 0.5474\n",
            "F1-score (macro): 0.5600\n",
            "\n",
            "Métricas de Type:\n",
            "Precisión (macro): 0.9604\n",
            "Recall (macro): 0.9624\n",
            "F1-score (macro): 0.9611\n",
            "\n",
            "Métricas de Town:\n",
            "Precisión (macro): 0.6019\n",
            "Recall (macro): 0.4494\n",
            "F1-score (macro): 0.4910\n",
            "\n",
            "Métricas generales (promedio de las tareas):\n",
            "Precisión general: 0.7149\n",
            "Recall general: 0.6531\n",
            "F1-score general: 0.6707\n"
          ]
        }
      ]
    },
    {
      "cell_type": "code",
      "source": [
        "# ─── CÁLCULO DE LA MÉTRICA MACRO‐AVERAGE GLOBAL ───\n",
        "from sklearn.preprocessing import LabelEncoder\n",
        "\n",
        "# 1) Polarity ya está en 0–4:\n",
        "y_true_pol = y_true_polarity\n",
        "y_pred_pol = y_pred_polarity\n",
        "\n",
        "# 2) Encoder para los textos de Type\n",
        "le_type = LabelEncoder().fit(\n",
        "    np.concatenate([y_true_type, y_pred_type])\n",
        ")\n",
        "y_true_type_enc = le_type.transform(y_true_type)\n",
        "y_pred_type_enc = le_type.transform(y_pred_type)\n",
        "\n",
        "# 3) Encoder para los textos de Town\n",
        "le_town_glob = LabelEncoder().fit(\n",
        "    np.concatenate([y_true_town, y_pred_town])\n",
        ")\n",
        "y_true_town_enc = le_town_glob.transform(y_true_town)\n",
        "y_pred_town_enc = le_town_glob.transform(y_pred_town)\n",
        "\n",
        "# 4) Concatenar todas las verdaderas y predichas\n",
        "y_true_all = np.concatenate([y_true_pol, y_true_type_enc, y_true_town_enc])\n",
        "y_pred_all = np.concatenate([y_pred_pol, y_pred_type_enc, y_pred_town_enc])\n",
        "\n",
        "# 5) Calcular macro‐average global\n",
        "precision_global = precision_score(y_true_all, y_pred_all, average='macro', zero_division=0)\n",
        "recall_global    = recall_score  (y_true_all, y_pred_all, average='macro', zero_division=0)\n",
        "f1_global        = f1_score      (y_true_all, y_pred_all, average='macro', zero_division=0)\n",
        "\n",
        "print(\"\\nMétricas globales (macro-average):\")\n",
        "print(f\"Precisión macro: {precision_global:.4f}\")\n",
        "print(f\"Recall    macro: {recall_global:.4f}\")\n",
        "print(f\"F1-score  macro: {f1_global:.4f}\")"
      ],
      "metadata": {
        "id": "Y1f_IqKJ12SN",
        "colab": {
          "base_uri": "https://localhost:8080/"
        },
        "outputId": "97a2357b-10ad-4013-c099-c6a4075467f7"
      },
      "execution_count": null,
      "outputs": [
        {
          "output_type": "stream",
          "name": "stdout",
          "text": [
            "\n",
            "Métricas globales (macro-average):\n",
            "Precisión macro: 0.6323\n",
            "Recall    macro: 0.4921\n",
            "F1-score  macro: 0.5301\n"
          ]
        }
      ]
    },
    {
      "cell_type": "code",
      "source": [
        "# ===============================\n",
        "# GUARDAR MODELO ENTRENADO .PKL\n",
        "# ===============================\n",
        "import joblib\n",
        "\n",
        "joblib.dump(multi_pipeline, '/content/drive/MyDrive/clef/modelo_entrenado_multitarea.pkl')\n",
        "print(\"Modelo guardado exitosamente en la carpeta)\n",
        "\n",
        "\n"
      ],
      "metadata": {
        "colab": {
          "base_uri": "https://localhost:8080/"
        },
        "id": "ESj3Q8IlU_kc",
        "outputId": "5ff38b84-51e7-4f54-9e25-618fdd6223d4"
      },
      "execution_count": null,
      "outputs": [
        {
          "output_type": "stream",
          "name": "stdout",
          "text": [
            "Modelo guardado exitosamente en la carpeta 'clef'\n"
          ]
        }
      ]
    }
  ]
}